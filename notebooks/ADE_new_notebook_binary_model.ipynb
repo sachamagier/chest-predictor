{
 "cells": [
  {
   "cell_type": "markdown",
   "id": "0ed774de",
   "metadata": {},
   "source": [
    "# Chest-prediction - Creation of Binary model to predict DISEASE / NO DISEASE - using MobileNetV2"
   ]
  },
  {
   "cell_type": "code",
   "execution_count": 1,
   "id": "b934c79f",
   "metadata": {
    "ExecuteTime": {
     "end_time": "2024-06-10T10:27:49.079488Z",
     "start_time": "2024-06-10T10:27:47.039993Z"
    }
   },
   "outputs": [
    {
     "data": {
      "text/plain": [
       "'2.15.0'"
      ]
     },
     "execution_count": 1,
     "metadata": {},
     "output_type": "execute_result"
    }
   ],
   "source": [
    "import tensorflow as tf\n",
    "\n",
    "tf.__version__"
   ]
  },
  {
   "cell_type": "code",
   "execution_count": 2,
   "id": "1f926dd5",
   "metadata": {
    "ExecuteTime": {
     "end_time": "2024-06-10T10:27:49.081787Z",
     "start_time": "2024-06-10T10:27:49.080441Z"
    }
   },
   "outputs": [],
   "source": [
    "AUTOTUNE = tf.data.AUTOTUNE"
   ]
  },
  {
   "cell_type": "code",
   "execution_count": 3,
   "id": "b5a53116",
   "metadata": {
    "ExecuteTime": {
     "end_time": "2024-06-10T10:27:49.473047Z",
     "start_time": "2024-06-10T10:27:49.083330Z"
    }
   },
   "outputs": [],
   "source": [
    "import os\n",
    "from pathlib import Path\n",
    "\n",
    "project_name = \"chest-predictor\"\n",
    "username = os.environ.get('USER')\n",
    "\n",
    "#Set variables (origin url, destination folder, folder name)\n",
    "data_dir = f\"/Users/{username}/code/sachamagier/{project_name}/raw_data\"\n",
    "data_fname = 'resized_dataset.zip'\n",
    "\n",
    "data_root = Path(os.path.join(data_dir, 'resized_dataset'))\n",
    "\n",
    "all_image_paths = [str(path) for path in (data_root/\"images\"/\"set_full\").iterdir()]"
   ]
  },
  {
   "cell_type": "code",
   "execution_count": 4,
   "id": "80131419",
   "metadata": {
    "ExecuteTime": {
     "end_time": "2024-06-10T10:27:49.542784Z",
     "start_time": "2024-06-10T10:27:49.473988Z"
    }
   },
   "outputs": [],
   "source": [
    "import pandas as pd\n",
    "# Load labels\n",
    "labels_df = pd.read_csv(data_root/\"Data_Entry_2017.csv\")\n",
    "labels_df.set_index('Image Index', inplace=True)"
   ]
  },
  {
   "cell_type": "code",
   "execution_count": 5,
   "id": "4cc7c121",
   "metadata": {
    "ExecuteTime": {
     "end_time": "2024-06-10T10:27:49.549136Z",
     "start_time": "2024-06-10T10:27:49.543658Z"
    }
   },
   "outputs": [
    {
     "data": {
      "text/html": [
       "<div>\n",
       "<style scoped>\n",
       "    .dataframe tbody tr th:only-of-type {\n",
       "        vertical-align: middle;\n",
       "    }\n",
       "\n",
       "    .dataframe tbody tr th {\n",
       "        vertical-align: top;\n",
       "    }\n",
       "\n",
       "    .dataframe thead th {\n",
       "        text-align: right;\n",
       "    }\n",
       "</style>\n",
       "<table border=\"1\" class=\"dataframe\">\n",
       "  <thead>\n",
       "    <tr style=\"text-align: right;\">\n",
       "      <th></th>\n",
       "      <th>Finding Labels</th>\n",
       "      <th>Follow-up #</th>\n",
       "      <th>Patient ID</th>\n",
       "      <th>Patient Age</th>\n",
       "      <th>Patient Gender</th>\n",
       "      <th>View Position</th>\n",
       "      <th>OriginalImage[Width</th>\n",
       "      <th>Height]</th>\n",
       "      <th>OriginalImagePixelSpacing[x</th>\n",
       "      <th>y]</th>\n",
       "      <th>Unnamed: 11</th>\n",
       "    </tr>\n",
       "    <tr>\n",
       "      <th>Image Index</th>\n",
       "      <th></th>\n",
       "      <th></th>\n",
       "      <th></th>\n",
       "      <th></th>\n",
       "      <th></th>\n",
       "      <th></th>\n",
       "      <th></th>\n",
       "      <th></th>\n",
       "      <th></th>\n",
       "      <th></th>\n",
       "      <th></th>\n",
       "    </tr>\n",
       "  </thead>\n",
       "  <tbody>\n",
       "    <tr>\n",
       "      <th>00000001_000.png</th>\n",
       "      <td>Cardiomegaly</td>\n",
       "      <td>0</td>\n",
       "      <td>1</td>\n",
       "      <td>58</td>\n",
       "      <td>M</td>\n",
       "      <td>PA</td>\n",
       "      <td>2682</td>\n",
       "      <td>2749</td>\n",
       "      <td>0.143</td>\n",
       "      <td>0.143</td>\n",
       "      <td>NaN</td>\n",
       "    </tr>\n",
       "    <tr>\n",
       "      <th>00000001_001.png</th>\n",
       "      <td>Cardiomegaly|Emphysema</td>\n",
       "      <td>1</td>\n",
       "      <td>1</td>\n",
       "      <td>58</td>\n",
       "      <td>M</td>\n",
       "      <td>PA</td>\n",
       "      <td>2894</td>\n",
       "      <td>2729</td>\n",
       "      <td>0.143</td>\n",
       "      <td>0.143</td>\n",
       "      <td>NaN</td>\n",
       "    </tr>\n",
       "    <tr>\n",
       "      <th>00000001_002.png</th>\n",
       "      <td>Cardiomegaly|Effusion</td>\n",
       "      <td>2</td>\n",
       "      <td>1</td>\n",
       "      <td>58</td>\n",
       "      <td>M</td>\n",
       "      <td>PA</td>\n",
       "      <td>2500</td>\n",
       "      <td>2048</td>\n",
       "      <td>0.168</td>\n",
       "      <td>0.168</td>\n",
       "      <td>NaN</td>\n",
       "    </tr>\n",
       "    <tr>\n",
       "      <th>00000002_000.png</th>\n",
       "      <td>No Finding</td>\n",
       "      <td>0</td>\n",
       "      <td>2</td>\n",
       "      <td>81</td>\n",
       "      <td>M</td>\n",
       "      <td>PA</td>\n",
       "      <td>2500</td>\n",
       "      <td>2048</td>\n",
       "      <td>0.171</td>\n",
       "      <td>0.171</td>\n",
       "      <td>NaN</td>\n",
       "    </tr>\n",
       "    <tr>\n",
       "      <th>00000003_000.png</th>\n",
       "      <td>Hernia</td>\n",
       "      <td>0</td>\n",
       "      <td>3</td>\n",
       "      <td>81</td>\n",
       "      <td>F</td>\n",
       "      <td>PA</td>\n",
       "      <td>2582</td>\n",
       "      <td>2991</td>\n",
       "      <td>0.143</td>\n",
       "      <td>0.143</td>\n",
       "      <td>NaN</td>\n",
       "    </tr>\n",
       "  </tbody>\n",
       "</table>\n",
       "</div>"
      ],
      "text/plain": [
       "                          Finding Labels  Follow-up #  Patient ID  \\\n",
       "Image Index                                                         \n",
       "00000001_000.png            Cardiomegaly            0           1   \n",
       "00000001_001.png  Cardiomegaly|Emphysema            1           1   \n",
       "00000001_002.png   Cardiomegaly|Effusion            2           1   \n",
       "00000002_000.png              No Finding            0           2   \n",
       "00000003_000.png                  Hernia            0           3   \n",
       "\n",
       "                  Patient Age Patient Gender View Position  \\\n",
       "Image Index                                                  \n",
       "00000001_000.png           58              M            PA   \n",
       "00000001_001.png           58              M            PA   \n",
       "00000001_002.png           58              M            PA   \n",
       "00000002_000.png           81              M            PA   \n",
       "00000003_000.png           81              F            PA   \n",
       "\n",
       "                  OriginalImage[Width  Height]  OriginalImagePixelSpacing[x  \\\n",
       "Image Index                                                                   \n",
       "00000001_000.png                 2682     2749                        0.143   \n",
       "00000001_001.png                 2894     2729                        0.143   \n",
       "00000001_002.png                 2500     2048                        0.168   \n",
       "00000002_000.png                 2500     2048                        0.171   \n",
       "00000003_000.png                 2582     2991                        0.143   \n",
       "\n",
       "                     y]  Unnamed: 11  \n",
       "Image Index                           \n",
       "00000001_000.png  0.143          NaN  \n",
       "00000001_001.png  0.143          NaN  \n",
       "00000001_002.png  0.168          NaN  \n",
       "00000002_000.png  0.171          NaN  \n",
       "00000003_000.png  0.143          NaN  "
      ]
     },
     "execution_count": 5,
     "metadata": {},
     "output_type": "execute_result"
    }
   ],
   "source": [
    "labels_df.head(5)"
   ]
  },
  {
   "cell_type": "code",
   "execution_count": 6,
   "id": "f234e70b",
   "metadata": {
    "ExecuteTime": {
     "end_time": "2024-06-10T10:27:49.617013Z",
     "start_time": "2024-06-10T10:27:49.549921Z"
    }
   },
   "outputs": [],
   "source": [
    "# Create list of all image labels\n",
    "all_image_labels = labels_df.loc[[os.path.basename(path) for path in all_image_paths], 'Finding Labels'].values"
   ]
  },
  {
   "cell_type": "code",
   "execution_count": 7,
   "id": "1877e6da",
   "metadata": {
    "ExecuteTime": {
     "end_time": "2024-06-10T10:27:49.620076Z",
     "start_time": "2024-06-10T10:27:49.617860Z"
    }
   },
   "outputs": [
    {
     "data": {
      "text/plain": [
       "array(['No Finding', 'No Finding', 'No Finding', 'Pneumonia',\n",
       "       'No Finding', 'Pneumonia', 'No Finding', 'No Finding',\n",
       "       'No Finding', 'No Finding', 'No Finding',\n",
       "       'Atelectasis|Infiltration', 'Fibrosis', 'Infiltration',\n",
       "       'No Finding', 'No Finding', 'No Finding', 'No Finding',\n",
       "       'No Finding', 'Atelectasis', 'Cardiomegaly', 'Infiltration',\n",
       "       'Consolidation', 'No Finding', 'No Finding', 'No Finding', 'Mass',\n",
       "       'No Finding', 'Nodule', 'Edema|Infiltration|Nodule',\n",
       "       'Consolidation', 'No Finding', 'No Finding', 'No Finding',\n",
       "       'Effusion|Infiltration|Pneumothorax',\n",
       "       'Infiltration|Pleural_Thickening', 'Consolidation|Infiltration',\n",
       "       'Effusion', 'Infiltration', 'No Finding', 'No Finding',\n",
       "       'No Finding', 'Nodule', 'Pneumothorax',\n",
       "       'Effusion|Pleural_Thickening|Pneumothorax', 'No Finding',\n",
       "       'Atelectasis|Infiltration', 'No Finding', 'Mass', 'No Finding'],\n",
       "      dtype=object)"
      ]
     },
     "execution_count": 7,
     "metadata": {},
     "output_type": "execute_result"
    }
   ],
   "source": [
    "all_image_labels[:50]"
   ]
  },
  {
   "cell_type": "code",
   "execution_count": 8,
   "id": "5e791153",
   "metadata": {
    "ExecuteTime": {
     "end_time": "2024-06-10T10:27:49.629709Z",
     "start_time": "2024-06-10T10:27:49.620803Z"
    }
   },
   "outputs": [
    {
     "name": "stdout",
     "output_type": "stream",
     "text": [
      "[0, 0, 0, 1, 0, 1, 0, 0, 0, 0, 0, 1, 1, 1, 0, 0, 0, 0, 0, 1, 1, 1, 1, 0, 0, 0, 1, 0, 1, 1, 1, 0, 0, 0, 1, 1, 1, 1, 1, 0, 0, 0, 1, 1, 1, 0, 1, 0, 1, 0]\n"
     ]
    }
   ],
   "source": [
    "new_labels = []\n",
    "for label in all_image_labels:\n",
    "    if label == 'No Finding':\n",
    "        new_labels.append(0)\n",
    "    else:\n",
    "        new_labels.append(1)\n",
    "\n",
    "print(new_labels[:50])"
   ]
  },
  {
   "cell_type": "code",
   "execution_count": 9,
   "id": "65cf4046",
   "metadata": {
    "ExecuteTime": {
     "end_time": "2024-06-10T10:27:49.632607Z",
     "start_time": "2024-06-10T10:27:49.630498Z"
    }
   },
   "outputs": [
    {
     "data": {
      "text/plain": [
       "111601"
      ]
     },
     "execution_count": 9,
     "metadata": {},
     "output_type": "execute_result"
    }
   ],
   "source": [
    "len(new_labels)"
   ]
  },
  {
   "cell_type": "code",
   "execution_count": 10,
   "id": "992d0104",
   "metadata": {
    "ExecuteTime": {
     "end_time": "2024-06-10T10:27:49.634613Z",
     "start_time": "2024-06-10T10:27:49.633322Z"
    }
   },
   "outputs": [],
   "source": [
    "#labels_df = pd.DataFrame(new_labels)"
   ]
  },
  {
   "cell_type": "code",
   "execution_count": 11,
   "id": "f1a7eb5a",
   "metadata": {
    "ExecuteTime": {
     "end_time": "2024-06-10T10:27:49.636614Z",
     "start_time": "2024-06-10T10:27:49.635381Z"
    }
   },
   "outputs": [],
   "source": [
    "#labels_df.to_csv(\"../raw_data/encoded_labels_binary.csv\",index=False)"
   ]
  },
  {
   "cell_type": "code",
   "execution_count": 12,
   "id": "9468b9f4",
   "metadata": {
    "ExecuteTime": {
     "end_time": "2024-06-10T10:27:49.641268Z",
     "start_time": "2024-06-10T10:27:49.640012Z"
    }
   },
   "outputs": [],
   "source": [
    "#df_labels = pd.read_csv(\"../raw_data/encoded_labels_binary.csv\")"
   ]
  },
  {
   "cell_type": "code",
   "execution_count": 13,
   "id": "0f6a52ad",
   "metadata": {
    "ExecuteTime": {
     "end_time": "2024-06-10T10:27:49.658746Z",
     "start_time": "2024-06-10T10:27:49.642076Z"
    }
   },
   "outputs": [],
   "source": [
    "new_encoded_values = tf.convert_to_tensor(new_labels, dtype=tf.float32)"
   ]
  },
  {
   "cell_type": "code",
   "execution_count": 14,
   "id": "21217a8d",
   "metadata": {
    "ExecuteTime": {
     "end_time": "2024-06-10T10:27:49.661903Z",
     "start_time": "2024-06-10T10:27:49.659610Z"
    }
   },
   "outputs": [],
   "source": [
    "encoded_values = new_encoded_values"
   ]
  },
  {
   "cell_type": "code",
   "execution_count": 15,
   "id": "7964fb30",
   "metadata": {
    "ExecuteTime": {
     "end_time": "2024-06-10T10:27:49.665352Z",
     "start_time": "2024-06-10T10:27:49.662708Z"
    }
   },
   "outputs": [],
   "source": [
    "label_ds = tf.data.Dataset.from_tensor_slices(encoded_values)"
   ]
  },
  {
   "cell_type": "code",
   "execution_count": 16,
   "id": "e83b0d7c",
   "metadata": {
    "ExecuteTime": {
     "end_time": "2024-06-10T10:27:49.668571Z",
     "start_time": "2024-06-10T10:27:49.666099Z"
    }
   },
   "outputs": [
    {
     "data": {
      "text/plain": [
       "<_TensorSliceDataset element_spec=TensorSpec(shape=(), dtype=tf.float32, name=None)>"
      ]
     },
     "execution_count": 16,
     "metadata": {},
     "output_type": "execute_result"
    }
   ],
   "source": [
    "label_ds"
   ]
  },
  {
   "cell_type": "code",
   "execution_count": 17,
   "id": "795a113b",
   "metadata": {
    "ExecuteTime": {
     "end_time": "2024-06-10T10:27:49.671064Z",
     "start_time": "2024-06-10T10:27:49.669408Z"
    }
   },
   "outputs": [
    {
     "data": {
      "text/plain": [
       "'/Users/arnodebelle/code/sachamagier/chest-predictor/raw_data/resized_dataset/images/set_full/00018805_001.png'"
      ]
     },
     "execution_count": 17,
     "metadata": {},
     "output_type": "execute_result"
    }
   ],
   "source": [
    "img_path = all_image_paths[0]\n",
    "img_path"
   ]
  },
  {
   "cell_type": "code",
   "execution_count": 18,
   "id": "d9c6b6ee",
   "metadata": {
    "ExecuteTime": {
     "end_time": "2024-06-10T10:27:49.673453Z",
     "start_time": "2024-06-10T10:27:49.671725Z"
    }
   },
   "outputs": [],
   "source": [
    "def preprocess_image(image):\n",
    "    # convert it to rgb => VGG16 takes RGB image only\n",
    "    image = tf.image.grayscale_to_rgb(image)\n",
    "\n",
    "    # Resize the image to a width and a height of 256 pixels\n",
    "    image = tf.image.resize(image, [224, 224], method='nearest')\n",
    "    # Normalize the pixel values of the image to the range of [0, 1] => WE DON'T NEED FOR VGG16 (but we finally use another one...)\n",
    "    image /= 255\n",
    "\n",
    "    return image"
   ]
  },
  {
   "cell_type": "code",
   "execution_count": 19,
   "id": "91e3b623",
   "metadata": {
    "ExecuteTime": {
     "end_time": "2024-06-10T10:27:49.675847Z",
     "start_time": "2024-06-10T10:27:49.674180Z"
    }
   },
   "outputs": [],
   "source": [
    "def load_and_preprocess_image(path):\n",
    "    image = tf.io.read_file(path)\n",
    "    # Decode the image contents\n",
    "    img_tensor = tf.image.decode_png(image)[:,:,0:1]\n",
    "    # return img_tensor\n",
    "    return preprocess_image(img_tensor)"
   ]
  },
  {
   "cell_type": "code",
   "execution_count": 20,
   "id": "4448ba43",
   "metadata": {
    "ExecuteTime": {
     "end_time": "2024-06-10T10:27:49.781641Z",
     "start_time": "2024-06-10T10:27:49.676495Z"
    }
   },
   "outputs": [],
   "source": [
    "path_ds = tf.data.Dataset.from_tensor_slices(all_image_paths)"
   ]
  },
  {
   "cell_type": "code",
   "execution_count": 21,
   "id": "2edb1880",
   "metadata": {
    "ExecuteTime": {
     "end_time": "2024-06-10T10:27:49.828789Z",
     "start_time": "2024-06-10T10:27:49.782734Z"
    }
   },
   "outputs": [],
   "source": [
    "image_ds = path_ds.map(load_and_preprocess_image, num_parallel_calls=AUTOTUNE)"
   ]
  },
  {
   "cell_type": "code",
   "execution_count": 22,
   "id": "7211a0fe",
   "metadata": {
    "ExecuteTime": {
     "end_time": "2024-06-10T10:27:49.955396Z",
     "start_time": "2024-06-10T10:27:49.829641Z"
    }
   },
   "outputs": [
    {
     "data": {
      "text/plain": [
       "<_MapDataset element_spec=(TensorSpec(shape=(224, 224, 3), dtype=tf.float32, name=None), TensorSpec(shape=(), dtype=tf.float32, name=None))>"
      ]
     },
     "execution_count": 22,
     "metadata": {},
     "output_type": "execute_result"
    }
   ],
   "source": [
    "path_label_ds = tf.data.Dataset.from_tensor_slices((all_image_paths, encoded_values))\n",
    "\n",
    "# The tuples are unpacked into the positional arguments of the mapped function\n",
    "def load_and_preprocess_from_path_label(path, label):\n",
    "    return load_and_preprocess_image(path), label\n",
    "\n",
    "image_label_ds = path_label_ds.map(load_and_preprocess_from_path_label)\n",
    "image_label_ds"
   ]
  },
  {
   "cell_type": "code",
   "execution_count": 23,
   "id": "e615655b",
   "metadata": {
    "ExecuteTime": {
     "end_time": "2024-06-10T10:27:49.957908Z",
     "start_time": "2024-06-10T10:27:49.956279Z"
    }
   },
   "outputs": [],
   "source": [
    "train_size = int(0.6 * len(all_image_paths))\n",
    "val_size = int(0.2 * len(all_image_paths))\n",
    "test_size = int(0.2 * len(all_image_paths))"
   ]
  },
  {
   "cell_type": "code",
   "execution_count": 24,
   "id": "1e166a27",
   "metadata": {
    "ExecuteTime": {
     "end_time": "2024-06-10T10:27:49.960815Z",
     "start_time": "2024-06-10T10:27:49.958636Z"
    }
   },
   "outputs": [],
   "source": [
    "train_ds = image_label_ds.take(train_size)"
   ]
  },
  {
   "cell_type": "code",
   "execution_count": 25,
   "id": "1f9d200f",
   "metadata": {
    "ExecuteTime": {
     "end_time": "2024-06-10T10:27:49.963939Z",
     "start_time": "2024-06-10T10:27:49.961569Z"
    }
   },
   "outputs": [],
   "source": [
    "val_ds = image_label_ds.skip(train_size).take(val_size)"
   ]
  },
  {
   "cell_type": "code",
   "execution_count": 26,
   "id": "d27854d3",
   "metadata": {
    "ExecuteTime": {
     "end_time": "2024-06-10T10:27:49.966646Z",
     "start_time": "2024-06-10T10:27:49.964682Z"
    }
   },
   "outputs": [],
   "source": [
    "test_ds = image_label_ds.skip(train_size + val_size).take(test_size)"
   ]
  },
  {
   "cell_type": "code",
   "execution_count": 27,
   "id": "66a472b6",
   "metadata": {
    "ExecuteTime": {
     "end_time": "2024-06-10T10:27:49.968894Z",
     "start_time": "2024-06-10T10:27:49.967269Z"
    }
   },
   "outputs": [],
   "source": [
    "BATCH_SIZE = 32\n",
    "\n",
    "def creating_batch_dataset(dataset, BATCH_SIZE, AUTOTUNE):\n",
    "    ds = dataset.repeat()\n",
    "    ds = ds.batch(BATCH_SIZE)\n",
    "    ds = ds.prefetch(buffer_size=AUTOTUNE)\n",
    "    return ds"
   ]
  },
  {
   "cell_type": "code",
   "execution_count": 28,
   "id": "a378b67c",
   "metadata": {
    "ExecuteTime": {
     "end_time": "2024-06-10T10:27:49.975819Z",
     "start_time": "2024-06-10T10:27:49.969641Z"
    }
   },
   "outputs": [],
   "source": [
    "ds = creating_batch_dataset(image_label_ds, BATCH_SIZE, AUTOTUNE)\n",
    "train_ds = creating_batch_dataset(train_ds, BATCH_SIZE, AUTOTUNE)\n",
    "val_ds = creating_batch_dataset(val_ds, BATCH_SIZE, AUTOTUNE)\n",
    "test_ds = creating_batch_dataset(test_ds, BATCH_SIZE, AUTOTUNE)"
   ]
  },
  {
   "cell_type": "code",
   "execution_count": 29,
   "id": "e0438b13",
   "metadata": {
    "ExecuteTime": {
     "end_time": "2024-06-10T10:27:49.991138Z",
     "start_time": "2024-06-10T10:27:49.976628Z"
    }
   },
   "outputs": [],
   "source": [
    "# rearrange to -1 to 1\n",
    "def change_range(image,label):\n",
    "  return 2*image-1, label\n",
    "\n",
    "keras_ds = ds.map(change_range)"
   ]
  },
  {
   "cell_type": "code",
   "execution_count": 30,
   "id": "fb4c1e74",
   "metadata": {
    "ExecuteTime": {
     "end_time": "2024-06-10T10:27:50.023415Z",
     "start_time": "2024-06-10T10:27:49.991985Z"
    }
   },
   "outputs": [],
   "source": [
    "image_batch, label_batch = next(iter(keras_ds))"
   ]
  },
  {
   "cell_type": "code",
   "execution_count": 31,
   "id": "5f5d5f86",
   "metadata": {
    "ExecuteTime": {
     "end_time": "2024-06-10T10:27:50.036181Z",
     "start_time": "2024-06-10T10:27:50.024229Z"
    }
   },
   "outputs": [],
   "source": [
    "full_ds = ds.map(change_range)\n",
    "train_converted_ds = train_ds.map(change_range)\n",
    "val_converted_ds = val_ds.map(change_range)\n",
    "test_converted_ds = test_ds.map(change_range)"
   ]
  },
  {
   "cell_type": "code",
   "execution_count": 32,
   "id": "c718b405",
   "metadata": {
    "ExecuteTime": {
     "end_time": "2024-06-10T10:27:50.451327Z",
     "start_time": "2024-06-10T10:27:50.036960Z"
    }
   },
   "outputs": [],
   "source": [
    "mobile_net = tf.keras.applications.MobileNetV2(input_shape=(224, 224, 3), include_top=False)\n",
    "mobile_net.trainable=False"
   ]
  },
  {
   "cell_type": "code",
   "execution_count": 33,
   "id": "f7232ea8",
   "metadata": {
    "ExecuteTime": {
     "end_time": "2024-06-10T10:27:50.566715Z",
     "start_time": "2024-06-10T10:27:50.452209Z"
    }
   },
   "outputs": [],
   "source": [
    "model = tf.keras.Sequential([\n",
    "  mobile_net,\n",
    "  tf.keras.layers.GlobalAveragePooling2D(),\n",
    "  tf.keras.layers.Dense(1, activation = 'sigmoid')])"
   ]
  },
  {
   "cell_type": "code",
   "execution_count": 34,
   "id": "0699dcb4",
   "metadata": {
    "ExecuteTime": {
     "end_time": "2024-06-10T10:27:50.574274Z",
     "start_time": "2024-06-10T10:27:50.567607Z"
    }
   },
   "outputs": [],
   "source": [
    "from tensorflow.keras import optimizers\n",
    "model.compile(optimizer=optimizers.legacy.Adam(),\n",
    "              loss='binary_crossentropy',\n",
    "              metrics=[\"accuracy\"])"
   ]
  },
  {
   "cell_type": "code",
   "execution_count": 35,
   "id": "3a148eb0",
   "metadata": {
    "ExecuteTime": {
     "end_time": "2024-06-10T10:27:50.577375Z",
     "start_time": "2024-06-10T10:27:50.575139Z"
    }
   },
   "outputs": [
    {
     "data": {
      "text/plain": [
       "2093.0"
      ]
     },
     "execution_count": 35,
     "metadata": {},
     "output_type": "execute_result"
    }
   ],
   "source": [
    "STEPS_PER_EPOCH=tf.math.ceil(train_size/BATCH_SIZE).numpy() #alternative = len(all_image_paths)\n",
    "STEPS_PER_EPOCH"
   ]
  },
  {
   "cell_type": "code",
   "execution_count": 36,
   "id": "a6032e40",
   "metadata": {
    "ExecuteTime": {
     "end_time": "2024-06-10T10:27:50.579961Z",
     "start_time": "2024-06-10T10:27:50.578117Z"
    },
    "scrolled": true
   },
   "outputs": [
    {
     "data": {
      "text/plain": [
       "698.0"
      ]
     },
     "execution_count": 36,
     "metadata": {},
     "output_type": "execute_result"
    }
   ],
   "source": [
    "STEPS_PER_EPOCH_VAL=tf.math.ceil(val_size/BATCH_SIZE).numpy() #alternative = len(all_image_paths)\n",
    "STEPS_PER_EPOCH_VAL"
   ]
  },
  {
   "cell_type": "code",
   "execution_count": 37,
   "id": "fcbc6087",
   "metadata": {
    "ExecuteTime": {
     "end_time": "2024-06-10T10:27:50.582621Z",
     "start_time": "2024-06-10T10:27:50.580576Z"
    }
   },
   "outputs": [],
   "source": [
    "from tensorflow.keras.callbacks import EarlyStopping, ModelCheckpoint\n",
    "\n",
    "es = EarlyStopping(monitor='accuracy', #'val_multilabel_f1_score',  # the name of the metric will be its prefix + '_' + its function name\n",
    "                   mode='max',\n",
    "                   patience=2,\n",
    "                   verbose=1,\n",
    "                   restore_best_weights=True)\n",
    "\n",
    "model_checkpoint = ModelCheckpoint(filepath= os.path.join(data_dir, 'best_binary_model.keras'),\n",
    "                                   save_best_only=True,\n",
    "                                   monitor='accuracy')"
   ]
  },
  {
   "cell_type": "code",
   "execution_count": 38,
   "id": "3262dd19",
   "metadata": {
    "ExecuteTime": {
     "end_time": "2024-06-10T12:16:25.255225Z",
     "start_time": "2024-06-10T10:27:50.583348Z"
    }
   },
   "outputs": [
    {
     "name": "stdout",
     "output_type": "stream",
     "text": [
      "Epoch 1/30\n",
      "2093/2093 [==============================] - 510s 243ms/step - loss: 0.6300 - accuracy: 0.6584 - val_loss: 0.6249 - val_accuracy: 0.6623\n",
      "Epoch 2/30\n",
      "2093/2093 [==============================] - 511s 244ms/step - loss: 0.6188 - accuracy: 0.6697 - val_loss: 0.6240 - val_accuracy: 0.6645\n",
      "Epoch 3/30\n",
      "2093/2093 [==============================] - 529s 253ms/step - loss: 0.6153 - accuracy: 0.6731 - val_loss: 0.6269 - val_accuracy: 0.6633\n",
      "Epoch 4/30\n",
      "2093/2093 [==============================] - 541s 258ms/step - loss: 0.6137 - accuracy: 0.6743 - val_loss: 0.6255 - val_accuracy: 0.6648\n",
      "Epoch 5/30\n",
      "2093/2093 [==============================] - 544s 260ms/step - loss: 0.6126 - accuracy: 0.6753 - val_loss: 0.6274 - val_accuracy: 0.6629\n",
      "Epoch 6/30\n",
      "2093/2093 [==============================] - 549s 262ms/step - loss: 0.6122 - accuracy: 0.6756 - val_loss: 0.6226 - val_accuracy: 0.6671\n",
      "Epoch 7/30\n",
      "2093/2093 [==============================] - 546s 261ms/step - loss: 0.6116 - accuracy: 0.6762 - val_loss: 0.6225 - val_accuracy: 0.6668\n",
      "Epoch 8/30\n",
      "2093/2093 [==============================] - 550s 263ms/step - loss: 0.6115 - accuracy: 0.6762 - val_loss: 0.6190 - val_accuracy: 0.6688\n",
      "Epoch 9/30\n",
      "2093/2093 [==============================] - 554s 265ms/step - loss: 0.6112 - accuracy: 0.6761 - val_loss: 0.6200 - val_accuracy: 0.6683\n",
      "Epoch 10/30\n",
      "2093/2093 [==============================] - 565s 270ms/step - loss: 0.6112 - accuracy: 0.6767 - val_loss: 0.6175 - val_accuracy: 0.6708\n",
      "Epoch 11/30\n",
      "2093/2093 [==============================] - 561s 268ms/step - loss: 0.6110 - accuracy: 0.6763 - val_loss: 0.6172 - val_accuracy: 0.6714\n",
      "Epoch 12/30\n",
      "2093/2093 [==============================] - ETA: 0s - loss: 0.6111 - accuracy: 0.6761Restoring model weights from the end of the best epoch: 10.\n",
      "2093/2093 [==============================] - 555s 265ms/step - loss: 0.6111 - accuracy: 0.6761 - val_loss: 0.6158 - val_accuracy: 0.6736\n",
      "Epoch 12: early stopping\n"
     ]
    }
   ],
   "source": [
    "EPOCHS = 30\n",
    "\n",
    "history = model.fit(train_converted_ds, \n",
    "                    validation_data=val_converted_ds, \n",
    "                    epochs=EPOCHS, \n",
    "                    steps_per_epoch=STEPS_PER_EPOCH, \n",
    "                    validation_steps=STEPS_PER_EPOCH_VAL,\n",
    "                    callbacks=[es, model_checkpoint])"
   ]
  },
  {
   "cell_type": "code",
   "execution_count": 40,
   "id": "7d584878",
   "metadata": {
    "ExecuteTime": {
     "end_time": "2024-06-10T12:16:37.263445Z",
     "start_time": "2024-06-10T12:16:37.018874Z"
    }
   },
   "outputs": [],
   "source": [
    "from tensorflow.keras.models import save_model\n",
    "\n",
    "models_dir = '../models'\n",
    "\n",
    "# Ensure that the models directory exists\n",
    "os.makedirs(data_dir, exist_ok=True)\n",
    "\n",
    "\n",
    "# Save the trained model to the models directory\n",
    "save_model(model, os.path.join(data_dir, 'ADE_final_binary_model.keras'))"
   ]
  },
  {
   "cell_type": "code",
   "execution_count": 41,
   "id": "2e73738c",
   "metadata": {
    "ExecuteTime": {
     "end_time": "2024-06-10T12:17:55.538261Z",
     "start_time": "2024-06-10T12:17:55.530138Z"
    }
   },
   "outputs": [
    {
     "data": {
      "text/plain": [
       "698.0"
      ]
     },
     "execution_count": 41,
     "metadata": {},
     "output_type": "execute_result"
    }
   ],
   "source": [
    "STEPS_PER_EPOCH_TEST=tf.math.ceil(test_size/BATCH_SIZE).numpy() #alternative = len(all_image_paths)\n",
    "STEPS_PER_EPOCH_TEST"
   ]
  },
  {
   "cell_type": "code",
   "execution_count": 42,
   "id": "074f12c5",
   "metadata": {
    "ExecuteTime": {
     "end_time": "2024-06-10T12:20:59.316392Z",
     "start_time": "2024-06-10T12:18:05.012246Z"
    },
    "scrolled": true
   },
   "outputs": [
    {
     "name": "stdout",
     "output_type": "stream",
     "text": [
      "Test Accuracy: 0.6568540930747986\n"
     ]
    }
   ],
   "source": [
    "results = model.evaluate(test_ds, steps=STEPS_PER_EPOCH_TEST, verbose=0)\n",
    "print(f\"Test Accuracy: {results[0]}\")"
   ]
  },
  {
   "cell_type": "code",
   "execution_count": 43,
   "id": "a886fe1c",
   "metadata": {
    "ExecuteTime": {
     "end_time": "2024-06-10T12:20:59.513108Z",
     "start_time": "2024-06-10T12:20:59.511083Z"
    }
   },
   "outputs": [
    {
     "data": {
      "text/plain": [
       "[0.6568540930747986, 0.6355658769607544]"
      ]
     },
     "execution_count": 43,
     "metadata": {},
     "output_type": "execute_result"
    }
   ],
   "source": [
    "results"
   ]
  },
  {
   "cell_type": "code",
   "execution_count": null,
   "id": "58c09e12",
   "metadata": {},
   "outputs": [],
   "source": []
  }
 ],
 "metadata": {
  "kernelspec": {
   "display_name": "Python 3 (ipykernel)",
   "language": "python",
   "name": "python3"
  },
  "language_info": {
   "codemirror_mode": {
    "name": "ipython",
    "version": 3
   },
   "file_extension": ".py",
   "mimetype": "text/x-python",
   "name": "python",
   "nbconvert_exporter": "python",
   "pygments_lexer": "ipython3",
   "version": "3.10.6"
  },
  "toc": {
   "base_numbering": 1,
   "nav_menu": {},
   "number_sections": true,
   "sideBar": true,
   "skip_h1_title": false,
   "title_cell": "Table of Contents",
   "title_sidebar": "Contents",
   "toc_cell": false,
   "toc_position": {},
   "toc_section_display": true,
   "toc_window_display": false
  },
  "varInspector": {
   "cols": {
    "lenName": 16,
    "lenType": 16,
    "lenVar": 40
   },
   "kernels_config": {
    "python": {
     "delete_cmd_postfix": "",
     "delete_cmd_prefix": "del ",
     "library": "var_list.py",
     "varRefreshCmd": "print(var_dic_list())"
    },
    "r": {
     "delete_cmd_postfix": ") ",
     "delete_cmd_prefix": "rm(",
     "library": "var_list.r",
     "varRefreshCmd": "cat(var_dic_list()) "
    }
   },
   "types_to_exclude": [
    "module",
    "function",
    "builtin_function_or_method",
    "instance",
    "_Feature"
   ],
   "window_display": false
  }
 },
 "nbformat": 4,
 "nbformat_minor": 5
}
