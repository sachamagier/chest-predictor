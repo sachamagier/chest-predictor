{
 "cells": [
  {
   "cell_type": "markdown",
   "id": "cd2a6b9e",
   "metadata": {},
   "source": [
    "# Chest-prediction - V2\n"
   ]
  },
  {
   "cell_type": "markdown",
   "id": "b8e18f67",
   "metadata": {},
   "source": [
    "## Setup"
   ]
  },
  {
   "cell_type": "code",
   "execution_count": 1,
   "id": "1cfc0f0f",
   "metadata": {
    "ExecuteTime": {
     "end_time": "2024-06-06T14:48:30.844241Z",
     "start_time": "2024-06-06T14:48:29.269624Z"
    }
   },
   "outputs": [
    {
     "data": {
      "text/plain": [
       "'2.15.0'"
      ]
     },
     "execution_count": 1,
     "metadata": {},
     "output_type": "execute_result"
    }
   ],
   "source": [
    "import tensorflow as tf\n",
    "\n",
    "tf.__version__"
   ]
  },
  {
   "cell_type": "code",
   "execution_count": 2,
   "id": "0c0d11ca",
   "metadata": {
    "ExecuteTime": {
     "end_time": "2024-06-06T14:48:30.851896Z",
     "start_time": "2024-06-06T14:48:30.850460Z"
    }
   },
   "outputs": [],
   "source": [
    "AUTOTUNE = tf.data.AUTOTUNE"
   ]
  },
  {
   "cell_type": "markdown",
   "id": "0c221a69",
   "metadata": {},
   "source": [
    "## Download and inspect the dataset"
   ]
  },
  {
   "cell_type": "markdown",
   "id": "7736323a",
   "metadata": {},
   "source": [
    "### Retrieve the images\n",
    "\n",
    "Before you start any training, you'll need to download the dataset. I already resized the original dataset of the images to pass from 45GB to 3GB."
   ]
  },
  {
   "cell_type": "code",
   "execution_count": 3,
   "id": "c236a574",
   "metadata": {
    "ExecuteTime": {
     "end_time": "2024-06-06T14:48:47.012822Z",
     "start_time": "2024-06-06T14:48:46.988135Z"
    }
   },
   "outputs": [],
   "source": [
    "import os\n",
    "from pathlib import Path\n",
    "\n",
    "project_name = \"chest-predictor\"\n",
    "username = os.environ.get('USER')\n",
    "\n",
    "#Set variables (origin url, destination folder, folder name)\n",
    "data_url = 'https://storage.googleapis.com/chest-predictor-data/resized_dataset.zip' \n",
    "data_dir = f\"/Users/{username}/code/sachamagier/{project_name}/raw_data\"\n",
    "data_fname = 'resized_dataset.zip'\n",
    "\n",
    "\n",
    "#Downloading the dataset\n",
    "data_root_orig = tf.keras.utils.get_file(\n",
    "    fname=os.path.join(data_dir, data_fname),\n",
    "    origin=data_url\n",
    ")"
   ]
  },
  {
   "cell_type": "markdown",
   "id": "d68fea74",
   "metadata": {},
   "source": [
    "Unzip the dataset download from GCS"
   ]
  },
  {
   "cell_type": "code",
   "execution_count": null,
   "id": "8c68de49",
   "metadata": {
    "ExecuteTime": {
     "end_time": "2024-06-05T16:03:10.728029Z",
     "start_time": "2024-06-05T16:02:56.363594Z"
    }
   },
   "outputs": [],
   "source": [
    "import zipfile\n",
    "\n",
    "#Extract the dataset\n",
    "with zipfile.ZipFile(data_root_orig, 'r') as zip_ref:\n",
    "    zip_ref.extractall(data_dir)"
   ]
  },
  {
   "cell_type": "code",
   "execution_count": 4,
   "id": "98c4b71c",
   "metadata": {
    "ExecuteTime": {
     "end_time": "2024-06-06T14:48:55.696712Z",
     "start_time": "2024-06-06T14:48:55.690293Z"
    }
   },
   "outputs": [
    {
     "name": "stdout",
     "output_type": "stream",
     "text": [
      "/Users/arnodebelle/code/sachamagier/chest-predictor/raw_data/resized_dataset\n"
     ]
    }
   ],
   "source": [
    "#Set the new data_root\n",
    "data_root = Path(os.path.join(data_dir, 'resized_dataset'))\n",
    "print(data_root)"
   ]
  },
  {
   "cell_type": "code",
   "execution_count": null,
   "id": "19fd7ad8",
   "metadata": {
    "ExecuteTime": {
     "end_time": "2024-06-06T13:01:27.845125Z",
     "start_time": "2024-06-06T13:01:27.838479Z"
    }
   },
   "outputs": [],
   "source": [
    "#This remove the '__MACOSX' file that is created on Mac Laptops\n",
    "import shutil\n",
    "\n",
    "if Path(os.path.join(data_dir, \"__MACOSX\")).is_dir():\n",
    "    # remove the __MACOSX folder if it exists\n",
    "    shutil.rmtree(\"../raw_data/__MACOSX\")"
   ]
  },
  {
   "cell_type": "code",
   "execution_count": 5,
   "id": "db3ca27f",
   "metadata": {
    "ExecuteTime": {
     "end_time": "2024-06-06T14:49:13.229688Z",
     "start_time": "2024-06-06T14:49:13.027187Z"
    }
   },
   "outputs": [],
   "source": [
    "#Get all image paths\n",
    "all_image_paths = [str(path) for path in (data_root/\"images\"/\"set_full\").iterdir()]"
   ]
  },
  {
   "cell_type": "code",
   "execution_count": 6,
   "id": "6ba8035e",
   "metadata": {
    "ExecuteTime": {
     "end_time": "2024-06-06T14:49:23.060639Z",
     "start_time": "2024-06-06T14:49:23.053330Z"
    }
   },
   "outputs": [
    {
     "data": {
      "text/plain": [
       "112120"
      ]
     },
     "execution_count": 6,
     "metadata": {},
     "output_type": "execute_result"
    }
   ],
   "source": [
    "image_count = len(all_image_paths)\n",
    "image_count"
   ]
  },
  {
   "cell_type": "code",
   "execution_count": 7,
   "id": "88016e77",
   "metadata": {
    "ExecuteTime": {
     "end_time": "2024-06-06T14:49:27.911344Z",
     "start_time": "2024-06-06T14:49:27.902454Z"
    }
   },
   "outputs": [
    {
     "data": {
      "text/plain": [
       "['/Users/arnodebelle/code/sachamagier/chest-predictor/raw_data/resized_dataset/images/set_full/00018805_001.png',\n",
       " '/Users/arnodebelle/code/sachamagier/chest-predictor/raw_data/resized_dataset/images/set_full/00005868_002.png',\n",
       " '/Users/arnodebelle/code/sachamagier/chest-predictor/raw_data/resized_dataset/images/set_full/00009663_000.png',\n",
       " '/Users/arnodebelle/code/sachamagier/chest-predictor/raw_data/resized_dataset/images/set_full/00022156_007.png',\n",
       " '/Users/arnodebelle/code/sachamagier/chest-predictor/raw_data/resized_dataset/images/set_full/00005395_004.png',\n",
       " '/Users/arnodebelle/code/sachamagier/chest-predictor/raw_data/resized_dataset/images/set_full/00006966_004.png',\n",
       " '/Users/arnodebelle/code/sachamagier/chest-predictor/raw_data/resized_dataset/images/set_full/00000324_013.png',\n",
       " '/Users/arnodebelle/code/sachamagier/chest-predictor/raw_data/resized_dataset/images/set_full/00007442_018.png',\n",
       " '/Users/arnodebelle/code/sachamagier/chest-predictor/raw_data/resized_dataset/images/set_full/00003923_012.png',\n",
       " '/Users/arnodebelle/code/sachamagier/chest-predictor/raw_data/resized_dataset/images/set_full/00028483_007.png']"
      ]
     },
     "execution_count": 7,
     "metadata": {},
     "output_type": "execute_result"
    }
   ],
   "source": [
    "all_image_paths[:10]"
   ]
  },
  {
   "cell_type": "markdown",
   "id": "bdb27361",
   "metadata": {},
   "source": [
    "### Inspect the images\n",
    "Now let's have a quick look at a couple of the images, so you know what you're dealing with:"
   ]
  },
  {
   "cell_type": "code",
   "execution_count": 8,
   "id": "7f496da1",
   "metadata": {
    "ExecuteTime": {
     "end_time": "2024-06-06T14:49:37.171116Z",
     "start_time": "2024-06-06T14:49:37.144565Z"
    }
   },
   "outputs": [
    {
     "data": {
      "image/png": "[encoded data removed]",
      "text/plain": [
       "<IPython.core.display.Image object>"
      ]
     },
     "metadata": {},
     "output_type": "display_data"
    },
    {
     "name": "stdout",
     "output_type": "stream",
     "text": [
      "00006699_015.png\n",
      "\n"
     ]
    },
    {
     "data": {
      "image/png": "[encoded data removed]",
      "text/plain": [
       "<IPython.core.display.Image object>"
      ]
     },
     "metadata": {},
     "output_type": "display_data"
    },
    {
     "name": "stdout",
     "output_type": "stream",
     "text": [
      "00029115_002.png\n",
      "\n"
     ]
    },
    {
     "data": {
      "image/png": "[encoded data removed]",
      "text/plain": [
       "<IPython.core.display.Image object>"
      ]
     },
     "metadata": {},
     "output_type": "display_data"
    },
    {
     "name": "stdout",
     "output_type": "stream",
     "text": [
      "00016705_007.png\n",
      "\n"
     ]
    }
   ],
   "source": [
    "import IPython.display as display\n",
    "import random\n",
    "\n",
    "for n in range(3):\n",
    "    image_path = random.choice(all_image_paths)\n",
    "    display.display(display.Image(image_path))\n",
    "    print(os.path.basename(image_path))\n",
    "    print()"
   ]
  },
  {
   "cell_type": "markdown",
   "id": "9571b258",
   "metadata": {},
   "source": [
    "### Determine the label for each image"
   ]
  },
  {
   "cell_type": "markdown",
   "id": "fc1d8287",
   "metadata": {},
   "source": [
    "Extracting the labels from the CSV"
   ]
  },
  {
   "cell_type": "code",
   "execution_count": 9,
   "id": "ca0ffdf9",
   "metadata": {
    "ExecuteTime": {
     "end_time": "2024-06-06T14:49:58.836597Z",
     "start_time": "2024-06-06T14:49:58.729208Z"
    }
   },
   "outputs": [],
   "source": [
    "import pandas as pd\n",
    "\n",
    "labels_df = pd.read_csv(data_root/\"Data_Entry_2017.csv\")"
   ]
  },
  {
   "cell_type": "code",
   "execution_count": 10,
   "id": "c6d9678a",
   "metadata": {
    "ExecuteTime": {
     "end_time": "2024-06-06T14:50:04.064458Z",
     "start_time": "2024-06-06T14:50:04.057203Z"
    }
   },
   "outputs": [],
   "source": [
    "#Setting the image index as index of the DF\n",
    "labels_df.set_index('Image Index', inplace=True)"
   ]
  },
  {
   "cell_type": "code",
   "execution_count": 11,
   "id": "083f55e9",
   "metadata": {
    "ExecuteTime": {
     "end_time": "2024-06-06T14:50:08.136908Z",
     "start_time": "2024-06-06T14:50:08.117744Z"
    },
    "scrolled": false
   },
   "outputs": [
    {
     "data": {
      "text/html": [
       "<div>\n",
       "<style scoped>\n",
       "    .dataframe tbody tr th:only-of-type {\n",
       "        vertical-align: middle;\n",
       "    }\n",
       "\n",
       "    .dataframe tbody tr th {\n",
       "        vertical-align: top;\n",
       "    }\n",
       "\n",
       "    .dataframe thead th {\n",
       "        text-align: right;\n",
       "    }\n",
       "</style>\n",
       "<table border=\"1\" class=\"dataframe\">\n",
       "  <thead>\n",
       "    <tr style=\"text-align: right;\">\n",
       "      <th></th>\n",
       "      <th>Finding Labels</th>\n",
       "      <th>Follow-up #</th>\n",
       "      <th>Patient ID</th>\n",
       "      <th>Patient Age</th>\n",
       "      <th>Patient Gender</th>\n",
       "      <th>View Position</th>\n",
       "      <th>OriginalImage[Width</th>\n",
       "      <th>Height]</th>\n",
       "      <th>OriginalImagePixelSpacing[x</th>\n",
       "      <th>y]</th>\n",
       "      <th>Unnamed: 11</th>\n",
       "    </tr>\n",
       "    <tr>\n",
       "      <th>Image Index</th>\n",
       "      <th></th>\n",
       "      <th></th>\n",
       "      <th></th>\n",
       "      <th></th>\n",
       "      <th></th>\n",
       "      <th></th>\n",
       "      <th></th>\n",
       "      <th></th>\n",
       "      <th></th>\n",
       "      <th></th>\n",
       "      <th></th>\n",
       "    </tr>\n",
       "  </thead>\n",
       "  <tbody>\n",
       "    <tr>\n",
       "      <th>00000001_000.png</th>\n",
       "      <td>Cardiomegaly</td>\n",
       "      <td>0</td>\n",
       "      <td>1</td>\n",
       "      <td>58</td>\n",
       "      <td>M</td>\n",
       "      <td>PA</td>\n",
       "      <td>2682</td>\n",
       "      <td>2749</td>\n",
       "      <td>0.143</td>\n",
       "      <td>0.143</td>\n",
       "      <td>NaN</td>\n",
       "    </tr>\n",
       "    <tr>\n",
       "      <th>00000001_001.png</th>\n",
       "      <td>Cardiomegaly|Emphysema</td>\n",
       "      <td>1</td>\n",
       "      <td>1</td>\n",
       "      <td>58</td>\n",
       "      <td>M</td>\n",
       "      <td>PA</td>\n",
       "      <td>2894</td>\n",
       "      <td>2729</td>\n",
       "      <td>0.143</td>\n",
       "      <td>0.143</td>\n",
       "      <td>NaN</td>\n",
       "    </tr>\n",
       "    <tr>\n",
       "      <th>00000001_002.png</th>\n",
       "      <td>Cardiomegaly|Effusion</td>\n",
       "      <td>2</td>\n",
       "      <td>1</td>\n",
       "      <td>58</td>\n",
       "      <td>M</td>\n",
       "      <td>PA</td>\n",
       "      <td>2500</td>\n",
       "      <td>2048</td>\n",
       "      <td>0.168</td>\n",
       "      <td>0.168</td>\n",
       "      <td>NaN</td>\n",
       "    </tr>\n",
       "    <tr>\n",
       "      <th>00000002_000.png</th>\n",
       "      <td>No Finding</td>\n",
       "      <td>0</td>\n",
       "      <td>2</td>\n",
       "      <td>81</td>\n",
       "      <td>M</td>\n",
       "      <td>PA</td>\n",
       "      <td>2500</td>\n",
       "      <td>2048</td>\n",
       "      <td>0.171</td>\n",
       "      <td>0.171</td>\n",
       "      <td>NaN</td>\n",
       "    </tr>\n",
       "    <tr>\n",
       "      <th>00000003_000.png</th>\n",
       "      <td>Hernia</td>\n",
       "      <td>0</td>\n",
       "      <td>3</td>\n",
       "      <td>81</td>\n",
       "      <td>F</td>\n",
       "      <td>PA</td>\n",
       "      <td>2582</td>\n",
       "      <td>2991</td>\n",
       "      <td>0.143</td>\n",
       "      <td>0.143</td>\n",
       "      <td>NaN</td>\n",
       "    </tr>\n",
       "  </tbody>\n",
       "</table>\n",
       "</div>"
      ],
      "text/plain": [
       "                          Finding Labels  Follow-up #  Patient ID  \\\n",
       "Image Index                                                         \n",
       "00000001_000.png            Cardiomegaly            0           1   \n",
       "00000001_001.png  Cardiomegaly|Emphysema            1           1   \n",
       "00000001_002.png   Cardiomegaly|Effusion            2           1   \n",
       "00000002_000.png              No Finding            0           2   \n",
       "00000003_000.png                  Hernia            0           3   \n",
       "\n",
       "                  Patient Age Patient Gender View Position  \\\n",
       "Image Index                                                  \n",
       "00000001_000.png           58              M            PA   \n",
       "00000001_001.png           58              M            PA   \n",
       "00000001_002.png           58              M            PA   \n",
       "00000002_000.png           81              M            PA   \n",
       "00000003_000.png           81              F            PA   \n",
       "\n",
       "                  OriginalImage[Width  Height]  OriginalImagePixelSpacing[x  \\\n",
       "Image Index                                                                   \n",
       "00000001_000.png                 2682     2749                        0.143   \n",
       "00000001_001.png                 2894     2729                        0.143   \n",
       "00000001_002.png                 2500     2048                        0.168   \n",
       "00000002_000.png                 2500     2048                        0.171   \n",
       "00000003_000.png                 2582     2991                        0.143   \n",
       "\n",
       "                     y]  Unnamed: 11  \n",
       "Image Index                           \n",
       "00000001_000.png  0.143          NaN  \n",
       "00000001_001.png  0.143          NaN  \n",
       "00000001_002.png  0.168          NaN  \n",
       "00000002_000.png  0.171          NaN  \n",
       "00000003_000.png  0.143          NaN  "
      ]
     },
     "execution_count": 11,
     "metadata": {},
     "output_type": "execute_result"
    }
   ],
   "source": [
    "labels_df.head(5)"
   ]
  },
  {
   "cell_type": "markdown",
   "id": "2e1f9087",
   "metadata": {},
   "source": [
    "Creating a list of all the labels for each image"
   ]
  },
  {
   "cell_type": "code",
   "execution_count": 12,
   "id": "2f0d120e",
   "metadata": {
    "ExecuteTime": {
     "end_time": "2024-06-06T14:50:50.708051Z",
     "start_time": "2024-06-06T14:50:50.155077Z"
    },
    "scrolled": true
   },
   "outputs": [
    {
     "name": "stdout",
     "output_type": "stream",
     "text": [
      "First 25 image labels:  ['No Finding', 'No Finding', 'No Finding', 'Pneumonia', 'No Finding', 'Pneumonia', 'No Finding', 'No Finding', 'No Finding', 'No Finding', 'No Finding', 'Atelectasis|Infiltration', 'Fibrosis', 'Infiltration', 'No Finding', 'No Finding', 'No Finding', 'No Finding', 'No Finding', 'Atelectasis', 'Infiltration|Pneumonia', 'Cardiomegaly', 'Infiltration', 'Consolidation', 'No Finding']\n"
     ]
    }
   ],
   "source": [
    "# Create a list of all image labels\n",
    "all_image_labels = []\n",
    "for image_path in all_image_paths:\n",
    "    # Get the image name from its file path\n",
    "    image_name = os.path.basename(image_path)\n",
    "    # Get the image label from the DataFrame\n",
    "    image_label = labels_df.loc[image_name, 'Finding Labels']\n",
    "    \n",
    "    all_image_labels.append(image_label)\n",
    "\n",
    "# Print the first 100 image labels\n",
    "print(\"First 25 image labels: \", all_image_labels[:25])"
   ]
  },
  {
   "cell_type": "code",
   "execution_count": 13,
   "id": "b157d9a9",
   "metadata": {
    "ExecuteTime": {
     "end_time": "2024-06-06T14:51:08.956023Z",
     "start_time": "2024-06-06T14:51:08.949889Z"
    }
   },
   "outputs": [
    {
     "data": {
      "text/plain": [
       "112120"
      ]
     },
     "execution_count": 13,
     "metadata": {},
     "output_type": "execute_result"
    }
   ],
   "source": [
    "len(all_image_labels)"
   ]
  },
  {
   "cell_type": "markdown",
   "id": "35caabd2",
   "metadata": {},
   "source": [
    "#### Encoding the labels"
   ]
  },
  {
   "cell_type": "code",
   "execution_count": 14,
   "id": "4efd1137",
   "metadata": {
    "ExecuteTime": {
     "end_time": "2024-06-06T14:51:26.894524Z",
     "start_time": "2024-06-06T14:51:26.887929Z"
    }
   },
   "outputs": [],
   "source": [
    "#Creating a list of the 15 different labels\n",
    "label_names = ['Atelectasis', 'Consolidation', 'Infiltration', 'Pneumothorax', 'Edema', 'Emphysema', 'Fibrosis', 'Effusion', 'Pneumonia', 'Pleural_Thickening', 'Cardiomegaly', 'Nodule', 'Mass', 'Hernia', 'No Finding']"
   ]
  },
  {
   "cell_type": "markdown",
   "id": "76868981",
   "metadata": {},
   "source": [
    "Encoding the labels using *StringLookup*"
   ]
  },
  {
   "cell_type": "code",
   "execution_count": 15,
   "id": "4e21616f",
   "metadata": {
    "ExecuteTime": {
     "end_time": "2024-06-06T14:51:48.397421Z",
     "start_time": "2024-06-06T14:51:48.360143Z"
    }
   },
   "outputs": [],
   "source": [
    "string_lookup = tf.keras.layers.StringLookup(vocabulary=label_names, num_oov_indices=0)"
   ]
  },
  {
   "cell_type": "code",
   "execution_count": 16,
   "id": "e4ffe4dd",
   "metadata": {
    "ExecuteTime": {
     "end_time": "2024-06-06T14:52:09.808876Z",
     "start_time": "2024-06-06T14:52:09.805581Z"
    }
   },
   "outputs": [],
   "source": [
    "#Encoding the individual labels\n",
    "def encode_value(labels):\n",
    "    parts = labels.split('|')\n",
    "    encoded_parts = string_lookup(parts)\n",
    "    return tf.reduce_sum(tf.one_hot(encoded_parts, depth=len(label_names)), axis=0)"
   ]
  },
  {
   "cell_type": "code",
   "execution_count": 17,
   "id": "9a55e4f9",
   "metadata": {
    "ExecuteTime": {
     "end_time": "2024-06-06T14:52:36.936613Z",
     "start_time": "2024-06-06T14:52:12.525818Z"
    }
   },
   "outputs": [],
   "source": [
    "#Encoding all values\n",
    "encoded_values = [encode_value(labels) for labels in all_image_labels]"
   ]
  },
  {
   "cell_type": "code",
   "execution_count": null,
   "id": "23def6cc",
   "metadata": {
    "ExecuteTime": {
     "end_time": "2024-06-06T10:08:20.575396Z",
     "start_time": "2024-06-06T10:08:17.541842Z"
    }
   },
   "outputs": [],
   "source": [
    "#Converting to numpy array for printing\n",
    "encoded_values_np = tf.stack(encoded_values).numpy()"
   ]
  },
  {
   "cell_type": "code",
   "execution_count": null,
   "id": "d693e72d",
   "metadata": {
    "ExecuteTime": {
     "end_time": "2024-06-06T10:09:18.115020Z",
     "start_time": "2024-06-06T10:09:18.112584Z"
    }
   },
   "outputs": [],
   "source": [
    "print(\"Encoded values:\")\n",
    "print(encoded_values_np[:25])"
   ]
  },
  {
   "cell_type": "code",
   "execution_count": null,
   "id": "af692006",
   "metadata": {
    "ExecuteTime": {
     "end_time": "2024-06-06T10:10:15.546520Z",
     "start_time": "2024-06-06T10:10:15.544561Z"
    }
   },
   "outputs": [],
   "source": [
    "#Checking the lenght\n",
    "len(encoded_values_np)"
   ]
  },
  {
   "cell_type": "markdown",
   "id": "772ebfcd",
   "metadata": {},
   "source": [
    "If we need to find back the labels, here is the dictionnary of labels"
   ]
  },
  {
   "cell_type": "code",
   "execution_count": 18,
   "id": "755b4a7a",
   "metadata": {
    "ExecuteTime": {
     "end_time": "2024-06-06T14:52:51.153223Z",
     "start_time": "2024-06-06T14:52:51.143405Z"
    }
   },
   "outputs": [
    {
     "name": "stdout",
     "output_type": "stream",
     "text": [
      "Index 0: Atelectasis\n",
      "Index 1: Consolidation\n",
      "Index 2: Infiltration\n",
      "Index 3: Pneumothorax\n",
      "Index 4: Edema\n",
      "Index 5: Emphysema\n",
      "Index 6: Fibrosis\n",
      "Index 7: Effusion\n",
      "Index 8: Pneumonia\n",
      "Index 9: Pleural_Thickening\n",
      "Index 10: Cardiomegaly\n",
      "Index 11: Nodule\n",
      "Index 12: Mass\n",
      "Index 13: Hernia\n",
      "Index 14: No Finding\n"
     ]
    }
   ],
   "source": [
    "vocab = string_lookup.get_vocabulary()\n",
    "\n",
    "# Display the vocabulary and their corresponding indices\n",
    "for i, label in enumerate(vocab):\n",
    "    print(f\"Index {i}: {label}\")"
   ]
  },
  {
   "cell_type": "markdown",
   "id": "0c7bae37",
   "metadata": {},
   "source": [
    "### Load and format the images"
   ]
  },
  {
   "cell_type": "code",
   "execution_count": 19,
   "id": "37014ed2",
   "metadata": {
    "ExecuteTime": {
     "end_time": "2024-06-06T14:53:10.642233Z",
     "start_time": "2024-06-06T14:53:10.634639Z"
    }
   },
   "outputs": [
    {
     "data": {
      "text/plain": [
       "'/Users/arnodebelle/code/sachamagier/chest-predictor/raw_data/resized_dataset/images/set_full/00018805_001.png'"
      ]
     },
     "execution_count": 19,
     "metadata": {},
     "output_type": "execute_result"
    }
   ],
   "source": [
    "img_path = all_image_paths[0]\n",
    "img_path"
   ]
  },
  {
   "cell_type": "markdown",
   "id": "7e6a383c",
   "metadata": {},
   "source": [
    "here is the raw data:"
   ]
  },
  {
   "cell_type": "code",
   "execution_count": 20,
   "id": "b8c540b1",
   "metadata": {
    "ExecuteTime": {
     "end_time": "2024-06-06T14:53:21.816855Z",
     "start_time": "2024-06-06T14:53:21.813677Z"
    }
   },
   "outputs": [
    {
     "name": "stdout",
     "output_type": "stream",
     "text": [
      "<tf.Tensor: shape=(), dtype=string, numpy=b'\\x89PNG\\r\\n\\x1a\\n\\x00\\x00\\x00\\rIHDR\\x00\\x00\\x01\\x00\\x00\\...\n"
     ]
    }
   ],
   "source": [
    "img_raw = tf.io.read_file(img_path)\n",
    "print(repr(img_raw)[:100]+\"...\")"
   ]
  },
  {
   "cell_type": "markdown",
   "id": "0c5d38d8",
   "metadata": {},
   "source": [
    "Decode it into an image tensor:"
   ]
  },
  {
   "cell_type": "code",
   "execution_count": 46,
   "id": "f5dc3c41",
   "metadata": {
    "ExecuteTime": {
     "end_time": "2024-06-06T15:18:36.273410Z",
     "start_time": "2024-06-06T15:18:36.260156Z"
    }
   },
   "outputs": [
    {
     "name": "stdout",
     "output_type": "stream",
     "text": [
      "(256, 256, 1)\n",
      "<dtype: 'uint8'>\n",
      "tf.Tensor(\n",
      "[[ 34]\n",
      " [ 14]\n",
      " [  4]\n",
      " [  1]\n",
      " [  0]\n",
      " [  0]\n",
      " [  0]\n",
      " [  0]\n",
      " [  0]\n",
      " [  0]\n",
      " [  0]\n",
      " [  1]\n",
      " [  1]\n",
      " [  1]\n",
      " [  1]\n",
      " [  1]\n",
      " [  1]\n",
      " [  1]\n",
      " [  1]\n",
      " [  1]\n",
      " [  1]\n",
      " [  1]\n",
      " [  1]\n",
      " [  1]\n",
      " [  1]\n",
      " [  1]\n",
      " [  1]\n",
      " [  1]\n",
      " [  1]\n",
      " [  1]\n",
      " [  1]\n",
      " [  1]\n",
      " [  1]\n",
      " [  1]\n",
      " [  1]\n",
      " [  1]\n",
      " [  1]\n",
      " [  1]\n",
      " [  1]\n",
      " [  1]\n",
      " [  1]\n",
      " [  1]\n",
      " [  1]\n",
      " [  1]\n",
      " [  1]\n",
      " [  1]\n",
      " [  1]\n",
      " [  1]\n",
      " [  1]\n",
      " [  1]\n",
      " [  1]\n",
      " [  1]\n",
      " [  1]\n",
      " [  1]\n",
      " [  1]\n",
      " [  1]\n",
      " [  1]\n",
      " [  1]\n",
      " [  1]\n",
      " [  1]\n",
      " [  1]\n",
      " [  1]\n",
      " [  1]\n",
      " [  1]\n",
      " [  1]\n",
      " [  1]\n",
      " [  1]\n",
      " [  1]\n",
      " [  1]\n",
      " [  1]\n",
      " [  1]\n",
      " [  1]\n",
      " [  1]\n",
      " [  1]\n",
      " [  1]\n",
      " [  1]\n",
      " [  1]\n",
      " [  1]\n",
      " [  1]\n",
      " [  1]\n",
      " [  1]\n",
      " [  1]\n",
      " [  1]\n",
      " [  1]\n",
      " [  1]\n",
      " [  1]\n",
      " [  1]\n",
      " [  1]\n",
      " [  0]\n",
      " [  0]\n",
      " [  0]\n",
      " [  0]\n",
      " [  0]\n",
      " [  0]\n",
      " [  0]\n",
      " [  0]\n",
      " [  0]\n",
      " [  1]\n",
      " [  9]\n",
      " [ 21]\n",
      " [ 27]\n",
      " [ 35]\n",
      " [ 50]\n",
      " [ 73]\n",
      " [ 90]\n",
      " [104]\n",
      " [115]\n",
      " [124]\n",
      " [144]\n",
      " [166]\n",
      " [180]\n",
      " [192]\n",
      " [202]\n",
      " [200]\n",
      " [198]\n",
      " [199]\n",
      " [199]\n",
      " [200]\n",
      " [197]\n",
      " [190]\n",
      " [195]\n",
      " [195]\n",
      " [190]\n",
      " [190]\n",
      " [193]\n",
      " [199]\n",
      " [196]\n",
      " [197]\n",
      " [198]\n",
      " [199]\n",
      " [197]\n",
      " [191]\n",
      " [188]\n",
      " [189]\n",
      " [185]\n",
      " [183]\n",
      " [184]\n",
      " [185]\n",
      " [190]\n",
      " [197]\n",
      " [205]\n",
      " [207]\n",
      " [204]\n",
      " [191]\n",
      " [186]\n",
      " [179]\n",
      " [177]\n",
      " [171]\n",
      " [170]\n",
      " [166]\n",
      " [150]\n",
      " [121]\n",
      " [101]\n",
      " [ 96]\n",
      " [ 87]\n",
      " [ 73]\n",
      " [ 58]\n",
      " [ 35]\n",
      " [ 12]\n",
      " [  0]\n",
      " [  0]\n",
      " [  0]\n",
      " [  0]\n",
      " [  0]\n",
      " [  0]\n",
      " [  0]\n",
      " [  0]\n",
      " [  0]\n",
      " [  0]\n",
      " [  1]\n",
      " [  1]\n",
      " [  1]\n",
      " [  1]\n",
      " [  1]\n",
      " [  1]\n",
      " [  1]\n",
      " [  1]\n",
      " [  2]\n",
      " [  2]\n",
      " [  2]\n",
      " [  2]\n",
      " [  2]\n",
      " [  1]\n",
      " [  1]\n",
      " [  1]\n",
      " [  1]\n",
      " [  1]\n",
      " [  1]\n",
      " [  1]\n",
      " [  1]\n",
      " [  1]\n",
      " [  1]\n",
      " [  1]\n",
      " [  1]\n",
      " [  1]\n",
      " [  1]\n",
      " [  1]\n",
      " [  1]\n",
      " [  1]\n",
      " [  1]\n",
      " [  1]\n",
      " [  1]\n",
      " [  1]\n",
      " [  1]\n",
      " [  1]\n",
      " [  1]\n",
      " [  1]\n",
      " [  1]\n",
      " [  1]\n",
      " [  1]\n",
      " [  1]\n",
      " [  1]\n",
      " [  1]\n",
      " [  1]\n",
      " [  1]\n",
      " [  1]\n",
      " [  1]\n",
      " [  1]\n",
      " [  1]\n",
      " [  1]\n",
      " [  1]\n",
      " [  1]\n",
      " [  1]\n",
      " [  1]\n",
      " [  1]\n",
      " [  1]\n",
      " [  1]\n",
      " [  1]\n",
      " [  1]\n",
      " [  1]\n",
      " [  1]\n",
      " [  1]\n",
      " [  1]\n",
      " [  1]\n",
      " [  1]\n",
      " [  1]\n",
      " [  1]\n",
      " [  1]\n",
      " [  1]\n",
      " [  1]\n",
      " [  1]\n",
      " [  1]\n",
      " [  1]\n",
      " [  1]\n",
      " [  1]\n",
      " [  1]\n",
      " [  1]\n",
      " [  1]\n",
      " [  1]\n",
      " [  1]\n",
      " [  1]\n",
      " [  1]\n",
      " [  1]\n",
      " [  1]\n",
      " [  2]\n",
      " [  2]], shape=(256, 1), dtype=uint8)\n"
     ]
    }
   ],
   "source": [
    "img_tensor = tf.image.decode_image(img_raw)\n",
    "\n",
    "print(img_tensor.shape)\n",
    "print(img_tensor.dtype)\n",
    "print(img_tensor[0])"
   ]
  },
  {
   "cell_type": "code",
   "execution_count": null,
   "id": "de320fd5",
   "metadata": {
    "ExecuteTime": {
     "end_time": "2024-06-06T11:00:23.432545Z",
     "start_time": "2024-06-06T11:00:23.421861Z"
    }
   },
   "outputs": [],
   "source": [
    "img_final = tf.image.resize(img_tensor, [256, 256])\n",
    "print(img_final.dtype)\n",
    "img_final = img_final/255.0\n",
    "print(img_final.shape)\n",
    "print(img_final.numpy().min())\n",
    "print(img_final.numpy().max())"
   ]
  },
  {
   "cell_type": "markdown",
   "id": "821980e8",
   "metadata": {},
   "source": [
    "Let's wrap up these up in simple functions for later."
   ]
  },
  {
   "cell_type": "code",
   "execution_count": 49,
   "id": "cfdb2d35",
   "metadata": {
    "ExecuteTime": {
     "end_time": "2024-06-06T15:20:20.758335Z",
     "start_time": "2024-06-06T15:20:20.752655Z"
    }
   },
   "outputs": [],
   "source": [
    "def preprocess_image(image):\n",
    "    # If the image has 4 color channels (including an alpha channel),\n",
    "    # convert it to rgb\n",
    "    image = tf.image.grayscale_to_rgb(image)\n",
    "\n",
    "    # Resize the image to a width and a height of 256 pixels\n",
    "    image = tf.image.resize(image, [256, 256], method='nearest')\n",
    "    # Normalize the pixel values of the image to the range of [0, 1]\n",
    "    #image /= 255.0\n",
    "\n",
    "    return image"
   ]
  },
  {
   "cell_type": "code",
   "execution_count": 50,
   "id": "a74acf5c",
   "metadata": {
    "ExecuteTime": {
     "end_time": "2024-06-06T15:20:32.191006Z",
     "start_time": "2024-06-06T15:20:32.189261Z"
    }
   },
   "outputs": [],
   "source": [
    "def load_and_preprocess_image(path):\n",
    "    image = tf.io.read_file(path)\n",
    "    # Decode the image contents\n",
    "    img_tensor = tf.image.decode_png(image)[:,:,0:1]\n",
    "    return preprocess_image(img_tensor)"
   ]
  },
  {
   "cell_type": "code",
   "execution_count": 51,
   "id": "662dd0c3",
   "metadata": {
    "ExecuteTime": {
     "end_time": "2024-06-06T15:20:43.937403Z",
     "start_time": "2024-06-06T15:20:43.849860Z"
    }
   },
   "outputs": [
    {
     "name": "stdout",
     "output_type": "stream",
     "text": [
      "\n"
     ]
    },
    {
     "data": {
      "image/png": "[encoded data removed]",
      "text/plain": [
       "<Figure size 640x480 with 1 Axes>"
      ]
     },
     "metadata": {},
     "output_type": "display_data"
    }
   ],
   "source": [
    "import matplotlib.pyplot as plt\n",
    "\n",
    "img_path = all_image_paths[0]\n",
    "label = all_image_labels[0]\n",
    "encoded_lab = encoded_values[0]\n",
    "\n",
    "plt.imshow(load_and_preprocess_image(img_path), cmap=\"gray\")\n",
    "plt.grid(False)\n",
    "plt.xlabel(os.path.basename(img_path))\n",
    "plt.title(label.title())\n",
    "print()"
   ]
  },
  {
   "cell_type": "markdown",
   "id": "45b4addb",
   "metadata": {},
   "source": [
    "## Build a `tf.data.Dataset`"
   ]
  },
  {
   "cell_type": "markdown",
   "id": "732def84",
   "metadata": {},
   "source": [
    "### A dataset of images"
   ]
  },
  {
   "cell_type": "markdown",
   "id": "b1aea53b",
   "metadata": {},
   "source": [
    "The easiest way to build a tf.data.Dataset is using the from_tensor_slices method.\n",
    "\n",
    "Slicing the array of strings results in a dataset of strings:"
   ]
  },
  {
   "cell_type": "code",
   "execution_count": 25,
   "id": "96b513a8",
   "metadata": {
    "ExecuteTime": {
     "end_time": "2024-06-06T14:56:29.971109Z",
     "start_time": "2024-06-06T14:56:29.825213Z"
    }
   },
   "outputs": [],
   "source": [
    "path_ds = tf.data.Dataset.from_tensor_slices(all_image_paths)"
   ]
  },
  {
   "cell_type": "code",
   "execution_count": 26,
   "id": "d530f5d1",
   "metadata": {
    "ExecuteTime": {
     "end_time": "2024-06-06T14:56:41.251268Z",
     "start_time": "2024-06-06T14:56:41.249217Z"
    }
   },
   "outputs": [
    {
     "data": {
      "text/plain": [
       "<_TensorSliceDataset element_spec=TensorSpec(shape=(), dtype=tf.string, name=None)>"
      ]
     },
     "execution_count": 26,
     "metadata": {},
     "output_type": "execute_result"
    }
   ],
   "source": [
    "path_ds"
   ]
  },
  {
   "cell_type": "code",
   "execution_count": null,
   "id": "862719b6",
   "metadata": {
    "ExecuteTime": {
     "end_time": "2024-06-06T12:57:40.136885Z",
     "start_time": "2024-06-06T12:57:40.132719Z"
    }
   },
   "outputs": [],
   "source": [
    "for p in path_ds.take(6):\n",
    "    print(p)"
   ]
  },
  {
   "cell_type": "markdown",
   "id": "d5a61fad",
   "metadata": {},
   "source": [
    "Now create a new dataset that loads and formats images on the fly by mapping `preprocess_image` over the dataset of paths."
   ]
  },
  {
   "cell_type": "code",
   "execution_count": 27,
   "id": "d0593784",
   "metadata": {
    "ExecuteTime": {
     "end_time": "2024-06-06T14:56:53.654208Z",
     "start_time": "2024-06-06T14:56:53.571226Z"
    }
   },
   "outputs": [],
   "source": [
    "image_ds = path_ds.map(load_and_preprocess_image, num_parallel_calls=AUTOTUNE)"
   ]
  },
  {
   "cell_type": "code",
   "execution_count": 28,
   "id": "35df64b7",
   "metadata": {
    "ExecuteTime": {
     "end_time": "2024-06-06T14:57:15.154496Z",
     "start_time": "2024-06-06T14:57:15.110098Z"
    },
    "collapsed": true
   },
   "outputs": [
    {
     "name": "stdout",
     "output_type": "stream",
     "text": [
      "tf.Tensor(\n",
      "[[[ 34.  34.  34.]\n",
      "  [ 14.  14.  14.]\n",
      "  [  4.   4.   4.]\n",
      "  ...\n",
      "  [  1.   1.   1.]\n",
      "  [  2.   2.   2.]\n",
      "  [  2.   2.   2.]]\n",
      "\n",
      " [[ 34.  34.  34.]\n",
      "  [ 14.  14.  14.]\n",
      "  [  4.   4.   4.]\n",
      "  ...\n",
      "  [  1.   1.   1.]\n",
      "  [  2.   2.   2.]\n",
      "  [  2.   2.   2.]]\n",
      "\n",
      " [[ 33.  33.  33.]\n",
      "  [ 13.  13.  13.]\n",
      "  [  4.   4.   4.]\n",
      "  ...\n",
      "  [  1.   1.   1.]\n",
      "  [  2.   2.   2.]\n",
      "  [  2.   2.   2.]]\n",
      "\n",
      " ...\n",
      "\n",
      " [[ 53.  53.  53.]\n",
      "  [ 42.  42.  42.]\n",
      "  [ 42.  42.  42.]\n",
      "  ...\n",
      "  [ 13.  13.  13.]\n",
      "  [ 22.  22.  22.]\n",
      "  [ 31.  31.  31.]]\n",
      "\n",
      " [[ 81.  81.  81.]\n",
      "  [ 72.  72.  72.]\n",
      "  [ 74.  74.  74.]\n",
      "  ...\n",
      "  [ 24.  24.  24.]\n",
      "  [ 33.  33.  33.]\n",
      "  [ 44.  44.  44.]]\n",
      "\n",
      " [[118. 118. 118.]\n",
      "  [112. 112. 112.]\n",
      "  [114. 114. 114.]\n",
      "  ...\n",
      "  [ 39.  39.  39.]\n",
      "  [ 48.  48.  48.]\n",
      "  [ 60.  60.  60.]]], shape=(256, 256, 3), dtype=float32)\n",
      "tf.Tensor(\n",
      "[[[248. 248. 248.]\n",
      "  [221. 221. 221.]\n",
      "  [163. 163. 163.]\n",
      "  ...\n",
      "  [  9.   9.   9.]\n",
      "  [ 10.  10.  10.]\n",
      "  [  7.   7.   7.]]\n",
      "\n",
      " [[220. 220. 220.]\n",
      "  [164. 164. 164.]\n",
      "  [103. 103. 103.]\n",
      "  ...\n",
      "  [  9.   9.   9.]\n",
      "  [  9.   9.   9.]\n",
      "  [  7.   7.   7.]]\n",
      "\n",
      " [[202. 202. 202.]\n",
      "  [147. 147. 147.]\n",
      "  [ 91.  91.  91.]\n",
      "  ...\n",
      "  [  9.   9.   9.]\n",
      "  [  9.   9.   9.]\n",
      "  [  7.   7.   7.]]\n",
      "\n",
      " ...\n",
      "\n",
      " [[211. 211. 211.]\n",
      "  [142. 142. 142.]\n",
      "  [ 81.  81.  81.]\n",
      "  ...\n",
      "  [ 15.  15.  15.]\n",
      "  [ 16.  16.  16.]\n",
      "  [ 12.  12.  12.]]\n",
      "\n",
      " [[213. 213. 213.]\n",
      "  [143. 143. 143.]\n",
      "  [ 86.  86.  86.]\n",
      "  ...\n",
      "  [ 21.  21.  21.]\n",
      "  [ 22.  22.  22.]\n",
      "  [ 18.  18.  18.]]\n",
      "\n",
      " [[216. 216. 216.]\n",
      "  [147. 147. 147.]\n",
      "  [ 95.  95.  95.]\n",
      "  ...\n",
      "  [ 30.  30.  30.]\n",
      "  [ 32.  32.  32.]\n",
      "  [ 28.  28.  28.]]], shape=(256, 256, 3), dtype=float32)\n",
      "tf.Tensor(\n",
      "[[[  7.   7.   7.]\n",
      "  [  8.   8.   8.]\n",
      "  [  9.   9.   9.]\n",
      "  ...\n",
      "  [ 35.  35.  35.]\n",
      "  [ 61.  61.  61.]\n",
      "  [ 89.  89.  89.]]\n",
      "\n",
      " [[  8.   8.   8.]\n",
      "  [  9.   9.   9.]\n",
      "  [  9.   9.   9.]\n",
      "  ...\n",
      "  [ 38.  38.  38.]\n",
      "  [ 66.  66.  66.]\n",
      "  [ 97.  97.  97.]]\n",
      "\n",
      " [[  8.   8.   8.]\n",
      "  [  9.   9.   9.]\n",
      "  [  9.   9.   9.]\n",
      "  ...\n",
      "  [ 35.  35.  35.]\n",
      "  [ 63.  63.  63.]\n",
      "  [ 93.  93.  93.]]\n",
      "\n",
      " ...\n",
      "\n",
      " [[111. 111. 111.]\n",
      "  [126. 126. 126.]\n",
      "  [152. 152. 152.]\n",
      "  ...\n",
      "  [238. 238. 238.]\n",
      "  [240. 240. 240.]\n",
      "  [221. 221. 221.]]\n",
      "\n",
      " [[152. 152. 152.]\n",
      "  [167. 167. 167.]\n",
      "  [181. 181. 181.]\n",
      "  ...\n",
      "  [241. 241. 241.]\n",
      "  [242. 242. 242.]\n",
      "  [223. 223. 223.]]\n",
      "\n",
      " [[156. 156. 156.]\n",
      "  [171. 171. 171.]\n",
      "  [178. 178. 178.]\n",
      "  ...\n",
      "  [218. 218. 218.]\n",
      "  [219. 219. 219.]\n",
      "  [203. 203. 203.]]], shape=(256, 256, 3), dtype=float32)\n"
     ]
    }
   ],
   "source": [
    "image1 = image_ds.take(3)\n",
    "for i in image1:\n",
    "    print(i)"
   ]
  },
  {
   "cell_type": "code",
   "execution_count": 29,
   "id": "fdd974ea",
   "metadata": {
    "ExecuteTime": {
     "end_time": "2024-06-06T14:57:26.605259Z",
     "start_time": "2024-06-06T14:57:26.482896Z"
    }
   },
   "outputs": [
    {
     "name": "stderr",
     "output_type": "stream",
     "text": [
      "Clipping input data to the valid range for imshow with RGB data ([0..1] for floats or [0..255] for integers). Got range [0.0..252.0].\n",
      "Clipping input data to the valid range for imshow with RGB data ([0..1] for floats or [0..255] for integers). Got range [0.0..255.0].\n",
      "Clipping input data to the valid range for imshow with RGB data ([0..1] for floats or [0..255] for integers). Got range [4.0..251.0].\n",
      "Clipping input data to the valid range for imshow with RGB data ([0..1] for floats or [0..255] for integers). Got range [0.0..255.0].\n",
      "Clipping input data to the valid range for imshow with RGB data ([0..1] for floats or [0..255] for integers). Got range [0.0..253.0].\n",
      "Clipping input data to the valid range for imshow with RGB data ([0..1] for floats or [0..255] for integers). Got range [0.0..241.0].\n"
     ]
    },
    {
     "data": {
      "image/png": "[encoded data removed]",
      "text/plain": [
       "<Figure size 1000x1000 with 6 Axes>"
      ]
     },
     "metadata": {},
     "output_type": "display_data"
    }
   ],
   "source": [
    "import matplotlib.pyplot as plt\n",
    "\n",
    "plt.figure(figsize=(10,10))\n",
    "for n,image in enumerate(image_ds.take(6)):\n",
    "    ax = plt.subplot(3,3,n+1)\n",
    "    plt.imshow(image, cmap='gray')\n",
    "    plt.grid(False)\n",
    "    plt.xticks([])\n",
    "    plt.yticks([])\n",
    "    plt.xlabel(os.path.basename(all_image_paths[n]))\n",
    "    plt.title(all_image_labels[n].title())\n",
    "\n",
    "plt.show()"
   ]
  },
  {
   "cell_type": "markdown",
   "id": "93a21be9",
   "metadata": {},
   "source": [
    "### A dataset of `(image, label)` pairs\n"
   ]
  },
  {
   "cell_type": "markdown",
   "id": "66c1abeb",
   "metadata": {},
   "source": [
    "Using the same `from_tensor_slices` method you can build a dataset of labels"
   ]
  },
  {
   "cell_type": "code",
   "execution_count": 30,
   "id": "cb7d1ef5",
   "metadata": {
    "ExecuteTime": {
     "end_time": "2024-06-06T14:58:50.594198Z",
     "start_time": "2024-06-06T14:58:47.513519Z"
    }
   },
   "outputs": [],
   "source": [
    "label_ds = tf.data.Dataset.from_tensor_slices(tf.cast(encoded_values, tf.int32))"
   ]
  },
  {
   "cell_type": "code",
   "execution_count": 31,
   "id": "3851c834",
   "metadata": {
    "ExecuteTime": {
     "end_time": "2024-06-06T14:59:01.856196Z",
     "start_time": "2024-06-06T14:59:01.850263Z"
    }
   },
   "outputs": [
    {
     "name": "stdout",
     "output_type": "stream",
     "text": [
      "tf.Tensor([0 0 0 0 0 0 0 0 0 0 0 0 0 0 1], shape=(15,), dtype=int32)\n",
      "tf.Tensor([0 0 0 0 0 0 0 0 0 0 0 0 0 0 1], shape=(15,), dtype=int32)\n",
      "tf.Tensor([0 0 0 0 0 0 0 0 0 0 0 0 0 0 1], shape=(15,), dtype=int32)\n",
      "tf.Tensor([0 0 0 0 0 0 0 0 1 0 0 0 0 0 0], shape=(15,), dtype=int32)\n",
      "tf.Tensor([0 0 0 0 0 0 0 0 0 0 0 0 0 0 1], shape=(15,), dtype=int32)\n",
      "tf.Tensor([0 0 0 0 0 0 0 0 1 0 0 0 0 0 0], shape=(15,), dtype=int32)\n",
      "tf.Tensor([0 0 0 0 0 0 0 0 0 0 0 0 0 0 1], shape=(15,), dtype=int32)\n",
      "tf.Tensor([0 0 0 0 0 0 0 0 0 0 0 0 0 0 1], shape=(15,), dtype=int32)\n",
      "tf.Tensor([0 0 0 0 0 0 0 0 0 0 0 0 0 0 1], shape=(15,), dtype=int32)\n",
      "tf.Tensor([0 0 0 0 0 0 0 0 0 0 0 0 0 0 1], shape=(15,), dtype=int32)\n",
      "tf.Tensor([0 0 0 0 0 0 0 0 0 0 0 0 0 0 1], shape=(15,), dtype=int32)\n",
      "tf.Tensor([1 0 1 0 0 0 0 0 0 0 0 0 0 0 0], shape=(15,), dtype=int32)\n",
      "tf.Tensor([0 0 0 0 0 0 1 0 0 0 0 0 0 0 0], shape=(15,), dtype=int32)\n",
      "tf.Tensor([0 0 1 0 0 0 0 0 0 0 0 0 0 0 0], shape=(15,), dtype=int32)\n",
      "tf.Tensor([0 0 0 0 0 0 0 0 0 0 0 0 0 0 1], shape=(15,), dtype=int32)\n",
      "tf.Tensor([0 0 0 0 0 0 0 0 0 0 0 0 0 0 1], shape=(15,), dtype=int32)\n",
      "tf.Tensor([0 0 0 0 0 0 0 0 0 0 0 0 0 0 1], shape=(15,), dtype=int32)\n",
      "tf.Tensor([0 0 0 0 0 0 0 0 0 0 0 0 0 0 1], shape=(15,), dtype=int32)\n",
      "tf.Tensor([0 0 0 0 0 0 0 0 0 0 0 0 0 0 1], shape=(15,), dtype=int32)\n",
      "tf.Tensor([1 0 0 0 0 0 0 0 0 0 0 0 0 0 0], shape=(15,), dtype=int32)\n",
      "tf.Tensor([0 0 1 0 0 0 0 0 1 0 0 0 0 0 0], shape=(15,), dtype=int32)\n",
      "tf.Tensor([0 0 0 0 0 0 0 0 0 0 1 0 0 0 0], shape=(15,), dtype=int32)\n",
      "tf.Tensor([0 0 1 0 0 0 0 0 0 0 0 0 0 0 0], shape=(15,), dtype=int32)\n",
      "tf.Tensor([0 1 0 0 0 0 0 0 0 0 0 0 0 0 0], shape=(15,), dtype=int32)\n",
      "tf.Tensor([0 0 0 0 0 0 0 0 0 0 0 0 0 0 1], shape=(15,), dtype=int32)\n"
     ]
    }
   ],
   "source": [
    "for label in label_ds.take(25):\n",
    "  print(label)"
   ]
  },
  {
   "cell_type": "markdown",
   "id": "f3f6c5fd",
   "metadata": {},
   "source": [
    "We have arrays `all_image_labels` and `all_image_paths` so We can use `tf.data.dataset.Dataset.zip` to slicing the pair of arrays."
   ]
  },
  {
   "cell_type": "code",
   "execution_count": 32,
   "id": "51255507",
   "metadata": {
    "ExecuteTime": {
     "end_time": "2024-06-06T14:59:37.140254Z",
     "start_time": "2024-06-06T14:59:35.990246Z"
    }
   },
   "outputs": [
    {
     "data": {
      "text/plain": [
       "<_MapDataset element_spec=(TensorSpec(shape=(256, 256, 3), dtype=tf.float32, name=None), TensorSpec(shape=(15,), dtype=tf.float32, name=None))>"
      ]
     },
     "execution_count": 32,
     "metadata": {},
     "output_type": "execute_result"
    }
   ],
   "source": [
    "ds = tf.data.Dataset.from_tensor_slices((all_image_paths, encoded_values))\n",
    "\n",
    "# The tuples are unpacked into the positional arguments of the mapped function\n",
    "def load_and_preprocess_from_path_label(path, label):\n",
    "  return load_and_preprocess_image(path), label\n",
    "\n",
    "image_label_ds = ds.map(load_and_preprocess_from_path_label)\n",
    "image_label_ds"
   ]
  },
  {
   "cell_type": "markdown",
   "id": "83f3544d",
   "metadata": {
    "ExecuteTime": {
     "end_time": "2024-06-06T12:11:38.796283Z",
     "start_time": "2024-06-06T12:11:38.789576Z"
    }
   },
   "source": [
    "### Basic methods for training\n"
   ]
  },
  {
   "cell_type": "markdown",
   "id": "2657824d",
   "metadata": {},
   "source": [
    "To train a model with this dataset we want the data:\n",
    "\n",
    "* To be well shuffled.\n",
    "* To be batched.\n",
    "* To repeat forever.\n",
    "* To have batches available as soon as possible.\n",
    "\n",
    "These features can be easily added using the `tf.data` api."
   ]
  },
  {
   "cell_type": "code",
   "execution_count": 33,
   "id": "b3d93c09",
   "metadata": {
    "ExecuteTime": {
     "end_time": "2024-06-06T15:00:18.855301Z",
     "start_time": "2024-06-06T15:00:18.837109Z"
    }
   },
   "outputs": [
    {
     "data": {
      "text/plain": [
       "<_PrefetchDataset element_spec=(TensorSpec(shape=(None, 256, 256, 3), dtype=tf.float32, name=None), TensorSpec(shape=(None, 15), dtype=tf.float32, name=None))>"
      ]
     },
     "execution_count": 33,
     "metadata": {},
     "output_type": "execute_result"
    }
   ],
   "source": [
    "BATCH_SIZE = 32\n",
    "\n",
    "# Setting a shuffle buffer size as large as the dataset ensures that the data is\n",
    "# completely shuffled.\n",
    "ds = image_label_ds.shuffle(buffer_size=image_count)\n",
    "ds = ds.repeat()\n",
    "ds = ds.batch(BATCH_SIZE)\n",
    "# `prefetch` lets the dataset fetch batches, in the background while the model is training.\n",
    "ds = ds.prefetch(buffer_size=AUTOTUNE)\n",
    "ds"
   ]
  },
  {
   "cell_type": "code",
   "execution_count": 34,
   "id": "8d83bd80",
   "metadata": {
    "ExecuteTime": {
     "end_time": "2024-06-06T15:00:30.310028Z",
     "start_time": "2024-06-06T15:00:30.307431Z"
    },
    "scrolled": true
   },
   "outputs": [
    {
     "data": {
      "text/plain": [
       "<_TakeDataset element_spec=(TensorSpec(shape=(None, 256, 256, 3), dtype=tf.float32, name=None), TensorSpec(shape=(None, 15), dtype=tf.float32, name=None))>"
      ]
     },
     "execution_count": 34,
     "metadata": {},
     "output_type": "execute_result"
    }
   ],
   "source": [
    "ds.take(6)"
   ]
  },
  {
   "cell_type": "markdown",
   "id": "b2f55ad4",
   "metadata": {},
   "source": [
    "### Pipe the dataset to a model\n"
   ]
  },
  {
   "cell_type": "code",
   "execution_count": null,
   "id": "b66b383d",
   "metadata": {
    "ExecuteTime": {
     "end_time": "2024-06-06T13:33:08.227177Z",
     "start_time": "2024-06-06T13:32:32.486163Z"
    }
   },
   "outputs": [],
   "source": [
    "for image, label in ds.take(6):\n",
    "    print(image.numpy().shape)"
   ]
  },
  {
   "cell_type": "code",
   "execution_count": 35,
   "id": "3b2633fa",
   "metadata": {
    "ExecuteTime": {
     "end_time": "2024-06-06T15:00:44.869658Z",
     "start_time": "2024-06-06T15:00:44.861369Z"
    }
   },
   "outputs": [],
   "source": [
    "from tensorflow.keras.applications.vgg16 import VGG16\n",
    "\n",
    "def load_model():\n",
    "\n",
    "    model = VGG16(weights=\"imagenet\", include_top=False, input_shape=(256, 256, 3))\n",
    "\n",
    "    return model"
   ]
  },
  {
   "cell_type": "code",
   "execution_count": 36,
   "id": "fabf2850",
   "metadata": {
    "ExecuteTime": {
     "end_time": "2024-06-06T15:01:12.878631Z",
     "start_time": "2024-06-06T15:01:12.652106Z"
    }
   },
   "outputs": [
    {
     "name": "stdout",
     "output_type": "stream",
     "text": [
      "Model: \"vgg16\"\n",
      "_________________________________________________________________\n",
      " Layer (type)                Output Shape              Param #   \n",
      "=================================================================\n",
      " input_1 (InputLayer)        [(None, 256, 256, 3)]     0         \n",
      "                                                                 \n",
      " block1_conv1 (Conv2D)       (None, 256, 256, 64)      1792      \n",
      "                                                                 \n",
      " block1_conv2 (Conv2D)       (None, 256, 256, 64)      36928     \n",
      "                                                                 \n",
      " block1_pool (MaxPooling2D)  (None, 128, 128, 64)      0         \n",
      "                                                                 \n",
      " block2_conv1 (Conv2D)       (None, 128, 128, 128)     73856     \n",
      "                                                                 \n",
      " block2_conv2 (Conv2D)       (None, 128, 128, 128)     147584    \n",
      "                                                                 \n",
      " block2_pool (MaxPooling2D)  (None, 64, 64, 128)       0         \n",
      "                                                                 \n",
      " block3_conv1 (Conv2D)       (None, 64, 64, 256)       295168    \n",
      "                                                                 \n",
      " block3_conv2 (Conv2D)       (None, 64, 64, 256)       590080    \n",
      "                                                                 \n",
      " block3_conv3 (Conv2D)       (None, 64, 64, 256)       590080    \n",
      "                                                                 \n",
      " block3_pool (MaxPooling2D)  (None, 32, 32, 256)       0         \n",
      "                                                                 \n",
      " block4_conv1 (Conv2D)       (None, 32, 32, 512)       1180160   \n",
      "                                                                 \n",
      " block4_conv2 (Conv2D)       (None, 32, 32, 512)       2359808   \n",
      "                                                                 \n",
      " block4_conv3 (Conv2D)       (None, 32, 32, 512)       2359808   \n",
      "                                                                 \n",
      " block4_pool (MaxPooling2D)  (None, 16, 16, 512)       0         \n",
      "                                                                 \n",
      " block5_conv1 (Conv2D)       (None, 16, 16, 512)       2359808   \n",
      "                                                                 \n",
      " block5_conv2 (Conv2D)       (None, 16, 16, 512)       2359808   \n",
      "                                                                 \n",
      " block5_conv3 (Conv2D)       (None, 16, 16, 512)       2359808   \n",
      "                                                                 \n",
      " block5_pool (MaxPooling2D)  (None, 8, 8, 512)         0         \n",
      "                                                                 \n",
      "=================================================================\n",
      "Total params: 14714688 (56.13 MB)\n",
      "Trainable params: 14714688 (56.13 MB)\n",
      "Non-trainable params: 0 (0.00 Byte)\n",
      "_________________________________________________________________\n"
     ]
    }
   ],
   "source": [
    "model = load_model()\n",
    "model.summary()"
   ]
  },
  {
   "cell_type": "code",
   "execution_count": 37,
   "id": "8c8156d9",
   "metadata": {
    "ExecuteTime": {
     "end_time": "2024-06-06T15:01:28.474187Z",
     "start_time": "2024-06-06T15:01:28.468498Z"
    }
   },
   "outputs": [],
   "source": [
    "def set_nontrainable_layers(model):\n",
    "\n",
    "    # Set the first layers to be untrainable\n",
    "    model.trainable = False\n",
    "\n",
    "    return model"
   ]
  },
  {
   "cell_type": "code",
   "execution_count": 38,
   "id": "3d0a42f5",
   "metadata": {
    "ExecuteTime": {
     "end_time": "2024-06-06T15:02:01.158804Z",
     "start_time": "2024-06-06T15:02:01.148637Z"
    }
   },
   "outputs": [],
   "source": [
    "from tensorflow.keras import layers, models\n",
    "\n",
    "def add_last_layers(model):\n",
    "    '''Take a pre-trained model, set its parameters as non-trainable, and add additional trainable layers on top'''\n",
    "    base_model = set_nontrainable_layers(model)\n",
    "    flatten_layer = layers.Flatten()\n",
    "    dense_layer = layers.Dense(500, activation='relu')\n",
    "    prediction_layer = layers.Dense(15, activation='sigmoid')\n",
    "\n",
    "\n",
    "    model = models.Sequential([\n",
    "        base_model,\n",
    "        flatten_layer,\n",
    "        dense_layer,\n",
    "        prediction_layer\n",
    "    ])\n",
    "    return model"
   ]
  },
  {
   "cell_type": "code",
   "execution_count": null,
   "id": "35b60b59",
   "metadata": {
    "ExecuteTime": {
     "end_time": "2024-06-06T14:14:19.541807Z",
     "start_time": "2024-06-06T14:14:19.535139Z"
    }
   },
   "outputs": [],
   "source": [
    "from sklearn.metrics import f1_score\n",
    "\n",
    "def multilabel_f1_score(y_true, y_pred):\n",
    "    y_pred = tf.cast(tf.greater(y_pred, 0.5), tf.float32)  # thresholding the predictions\n",
    "\n",
    "    # Wrap the f1_score function from scikit-learn with tf.py_function\n",
    "    f1, _ = tf.py_function(f1_score, [y_true, y_pred], [tf.float32, tf.float32])\n",
    "\n",
    "    # The output of tf.py_function is a list of tensors, so we need to extract the first tensor\n",
    "    f1 = f1[0]\n",
    "\n",
    "    # The f1_score function from scikit-learn returns the average f1_score across all labels,\n",
    "    # so we need to divide the f1_score by the number of labels to get the f1_score per label\n",
    "    batch_size = tf.cast(tf.shape(y_true)[0], tf.float32)\n",
    "    f1 /= batch_size\n",
    "\n",
    "    return f1"
   ]
  },
  {
   "cell_type": "code",
   "execution_count": 39,
   "id": "fa854059",
   "metadata": {
    "ExecuteTime": {
     "end_time": "2024-06-06T15:02:22.046968Z",
     "start_time": "2024-06-06T15:02:22.038817Z"
    }
   },
   "outputs": [],
   "source": [
    "from tensorflow.keras import optimizers\n",
    "\n",
    "def build_model():\n",
    "    model = load_model()\n",
    "    model = add_last_layers(model)\n",
    "\n",
    "    opt = optimizers.legacy.Adam(learning_rate=1e-4)\n",
    "    model.compile(loss='binary_crossentropy',\n",
    "                  optimizer=opt,\n",
    "                  metrics=['accuracy'])#[multilabel_f1_score])\n",
    "    return model"
   ]
  },
  {
   "cell_type": "code",
   "execution_count": 40,
   "id": "4c23c220",
   "metadata": {
    "ExecuteTime": {
     "end_time": "2024-06-06T15:02:33.760441Z",
     "start_time": "2024-06-06T15:02:33.546802Z"
    }
   },
   "outputs": [],
   "source": [
    "from tensorflow.keras.callbacks import EarlyStopping\n",
    "\n",
    "model = build_model()\n",
    "\n",
    "es = EarlyStopping(monitor='val_accuracy', #'val_multilabel_f1_score',  # the name of the metric will be its prefix + '_' + its function name\n",
    "                   mode='max',\n",
    "                   patience=5,\n",
    "                   verbose=1,\n",
    "                   restore_best_weights=True)"
   ]
  },
  {
   "cell_type": "code",
   "execution_count": 41,
   "id": "b025adf1",
   "metadata": {
    "ExecuteTime": {
     "end_time": "2024-06-06T15:02:45.108257Z",
     "start_time": "2024-06-06T15:02:45.105562Z"
    }
   },
   "outputs": [
    {
     "data": {
      "text/plain": [
       "3504.0"
      ]
     },
     "execution_count": 41,
     "metadata": {},
     "output_type": "execute_result"
    }
   ],
   "source": [
    "steps_per_epoch=tf.math.ceil(len(all_image_paths)/BATCH_SIZE).numpy()\n",
    "steps_per_epoch"
   ]
  },
  {
   "cell_type": "code",
   "execution_count": 42,
   "id": "2eff6fe7",
   "metadata": {
    "ExecuteTime": {
     "end_time": "2024-06-06T15:03:04.747648Z",
     "start_time": "2024-06-06T15:03:04.738788Z"
    }
   },
   "outputs": [],
   "source": [
    "train_ds = ds.take(int(0.8 * len(all_image_paths)))\n",
    "val_ds = ds.skip(int(0.8 * len(all_image_paths)))"
   ]
  },
  {
   "cell_type": "code",
   "execution_count": 43,
   "id": "c465eb8c",
   "metadata": {
    "ExecuteTime": {
     "end_time": "2024-06-06T15:09:18.284240Z",
     "start_time": "2024-06-06T15:03:16.074157Z"
    }
   },
   "outputs": [
    {
     "name": "stderr",
     "output_type": "stream",
     "text": [
      "2024-06-06 17:03:24.381109: W tensorflow/core/lib/png/png_io.cc:88] PNG warning: iCCP: profile 'ICC Profile': 'GRAY': Gray color space not permitted on RGB PNG\n",
      "2024-06-06 17:03:26.288354: I tensorflow/core/kernels/data/shuffle_dataset_op.cc:422] fused(ShuffleDatasetV3:11,RepeatDataset:12): Filling up shuffle buffer (this may take a while): 43355 of 112120\n",
      "2024-06-06 17:03:30.038895: W tensorflow/core/lib/png/png_io.cc:88] PNG warning: iCCP: profile 'ICC Profile': 'GRAY': Gray color space not permitted on RGB PNG\n",
      "2024-06-06 17:03:46.285508: I tensorflow/core/kernels/data/shuffle_dataset_op.cc:422] fused(ShuffleDatasetV3:11,RepeatDataset:12): Filling up shuffle buffer (this may take a while): 101002 of 112120\n",
      "2024-06-06 17:03:49.428803: I tensorflow/core/kernels/data/shuffle_dataset_op.cc:452] Shuffle buffer filled.\n"
     ]
    },
    {
     "name": "stdout",
     "output_type": "stream",
     "text": [
      "   80/89696 [..............................] - ETA: 100:28:54 - loss: 0.7222 - accuracy: 0.3957"
     ]
    },
    {
     "ename": "KeyboardInterrupt",
     "evalue": "",
     "output_type": "error",
     "traceback": [
      "\u001b[0;31m---------------------------------------------------------------------------\u001b[0m",
      "\u001b[0;31mKeyboardInterrupt\u001b[0m                         Traceback (most recent call last)",
      "Cell \u001b[0;32mIn[43], line 3\u001b[0m\n\u001b[1;32m      1\u001b[0m EPOCHS \u001b[38;5;241m=\u001b[39m \u001b[38;5;241m1\u001b[39m\n\u001b[0;32m----> 3\u001b[0m history \u001b[38;5;241m=\u001b[39m \u001b[43mmodel\u001b[49m\u001b[38;5;241;43m.\u001b[39;49m\u001b[43mfit\u001b[49m\u001b[43m(\u001b[49m\u001b[43mtrain_ds\u001b[49m\u001b[43m,\u001b[49m\n\u001b[1;32m      4\u001b[0m \u001b[43m                    \u001b[49m\u001b[43mepochs\u001b[49m\u001b[38;5;241;43m=\u001b[39;49m\u001b[43mEPOCHS\u001b[49m\u001b[43m,\u001b[49m\n\u001b[1;32m      5\u001b[0m \u001b[43m                    \u001b[49m\u001b[43mvalidation_data\u001b[49m\u001b[38;5;241;43m=\u001b[39;49m\u001b[43mval_ds\u001b[49m\u001b[43m,\u001b[49m\n\u001b[1;32m      6\u001b[0m \u001b[43m                    \u001b[49m\u001b[43mcallbacks\u001b[49m\u001b[38;5;241;43m=\u001b[39;49m\u001b[43m[\u001b[49m\u001b[43mes\u001b[49m\u001b[43m]\u001b[49m\u001b[43m)\u001b[49m\n",
      "File \u001b[0;32m~/.pyenv/versions/3.10.6/envs/chest_predictor/lib/python3.10/site-packages/keras/src/utils/traceback_utils.py:65\u001b[0m, in \u001b[0;36mfilter_traceback.<locals>.error_handler\u001b[0;34m(*args, **kwargs)\u001b[0m\n\u001b[1;32m     63\u001b[0m filtered_tb \u001b[38;5;241m=\u001b[39m \u001b[38;5;28;01mNone\u001b[39;00m\n\u001b[1;32m     64\u001b[0m \u001b[38;5;28;01mtry\u001b[39;00m:\n\u001b[0;32m---> 65\u001b[0m     \u001b[38;5;28;01mreturn\u001b[39;00m \u001b[43mfn\u001b[49m\u001b[43m(\u001b[49m\u001b[38;5;241;43m*\u001b[39;49m\u001b[43margs\u001b[49m\u001b[43m,\u001b[49m\u001b[43m \u001b[49m\u001b[38;5;241;43m*\u001b[39;49m\u001b[38;5;241;43m*\u001b[39;49m\u001b[43mkwargs\u001b[49m\u001b[43m)\u001b[49m\n\u001b[1;32m     66\u001b[0m \u001b[38;5;28;01mexcept\u001b[39;00m \u001b[38;5;167;01mException\u001b[39;00m \u001b[38;5;28;01mas\u001b[39;00m e:\n\u001b[1;32m     67\u001b[0m     filtered_tb \u001b[38;5;241m=\u001b[39m _process_traceback_frames(e\u001b[38;5;241m.\u001b[39m__traceback__)\n",
      "File \u001b[0;32m~/.pyenv/versions/3.10.6/envs/chest_predictor/lib/python3.10/site-packages/keras/src/engine/training.py:1807\u001b[0m, in \u001b[0;36mModel.fit\u001b[0;34m(self, x, y, batch_size, epochs, verbose, callbacks, validation_split, validation_data, shuffle, class_weight, sample_weight, initial_epoch, steps_per_epoch, validation_steps, validation_batch_size, validation_freq, max_queue_size, workers, use_multiprocessing)\u001b[0m\n\u001b[1;32m   1799\u001b[0m \u001b[38;5;28;01mwith\u001b[39;00m tf\u001b[38;5;241m.\u001b[39mprofiler\u001b[38;5;241m.\u001b[39mexperimental\u001b[38;5;241m.\u001b[39mTrace(\n\u001b[1;32m   1800\u001b[0m     \u001b[38;5;124m\"\u001b[39m\u001b[38;5;124mtrain\u001b[39m\u001b[38;5;124m\"\u001b[39m,\n\u001b[1;32m   1801\u001b[0m     epoch_num\u001b[38;5;241m=\u001b[39mepoch,\n\u001b[0;32m   (...)\u001b[0m\n\u001b[1;32m   1804\u001b[0m     _r\u001b[38;5;241m=\u001b[39m\u001b[38;5;241m1\u001b[39m,\n\u001b[1;32m   1805\u001b[0m ):\n\u001b[1;32m   1806\u001b[0m     callbacks\u001b[38;5;241m.\u001b[39mon_train_batch_begin(step)\n\u001b[0;32m-> 1807\u001b[0m     tmp_logs \u001b[38;5;241m=\u001b[39m \u001b[38;5;28;43mself\u001b[39;49m\u001b[38;5;241;43m.\u001b[39;49m\u001b[43mtrain_function\u001b[49m\u001b[43m(\u001b[49m\u001b[43miterator\u001b[49m\u001b[43m)\u001b[49m\n\u001b[1;32m   1808\u001b[0m     \u001b[38;5;28;01mif\u001b[39;00m data_handler\u001b[38;5;241m.\u001b[39mshould_sync:\n\u001b[1;32m   1809\u001b[0m         context\u001b[38;5;241m.\u001b[39masync_wait()\n",
      "File \u001b[0;32m~/.pyenv/versions/3.10.6/envs/chest_predictor/lib/python3.10/site-packages/tensorflow/python/util/traceback_utils.py:150\u001b[0m, in \u001b[0;36mfilter_traceback.<locals>.error_handler\u001b[0;34m(*args, **kwargs)\u001b[0m\n\u001b[1;32m    148\u001b[0m filtered_tb \u001b[38;5;241m=\u001b[39m \u001b[38;5;28;01mNone\u001b[39;00m\n\u001b[1;32m    149\u001b[0m \u001b[38;5;28;01mtry\u001b[39;00m:\n\u001b[0;32m--> 150\u001b[0m   \u001b[38;5;28;01mreturn\u001b[39;00m \u001b[43mfn\u001b[49m\u001b[43m(\u001b[49m\u001b[38;5;241;43m*\u001b[39;49m\u001b[43margs\u001b[49m\u001b[43m,\u001b[49m\u001b[43m \u001b[49m\u001b[38;5;241;43m*\u001b[39;49m\u001b[38;5;241;43m*\u001b[39;49m\u001b[43mkwargs\u001b[49m\u001b[43m)\u001b[49m\n\u001b[1;32m    151\u001b[0m \u001b[38;5;28;01mexcept\u001b[39;00m \u001b[38;5;167;01mException\u001b[39;00m \u001b[38;5;28;01mas\u001b[39;00m e:\n\u001b[1;32m    152\u001b[0m   filtered_tb \u001b[38;5;241m=\u001b[39m _process_traceback_frames(e\u001b[38;5;241m.\u001b[39m__traceback__)\n",
      "File \u001b[0;32m~/.pyenv/versions/3.10.6/envs/chest_predictor/lib/python3.10/site-packages/tensorflow/python/eager/polymorphic_function/polymorphic_function.py:832\u001b[0m, in \u001b[0;36mFunction.__call__\u001b[0;34m(self, *args, **kwds)\u001b[0m\n\u001b[1;32m    829\u001b[0m compiler \u001b[38;5;241m=\u001b[39m \u001b[38;5;124m\"\u001b[39m\u001b[38;5;124mxla\u001b[39m\u001b[38;5;124m\"\u001b[39m \u001b[38;5;28;01mif\u001b[39;00m \u001b[38;5;28mself\u001b[39m\u001b[38;5;241m.\u001b[39m_jit_compile \u001b[38;5;28;01melse\u001b[39;00m \u001b[38;5;124m\"\u001b[39m\u001b[38;5;124mnonXla\u001b[39m\u001b[38;5;124m\"\u001b[39m\n\u001b[1;32m    831\u001b[0m \u001b[38;5;28;01mwith\u001b[39;00m OptionalXlaContext(\u001b[38;5;28mself\u001b[39m\u001b[38;5;241m.\u001b[39m_jit_compile):\n\u001b[0;32m--> 832\u001b[0m   result \u001b[38;5;241m=\u001b[39m \u001b[38;5;28;43mself\u001b[39;49m\u001b[38;5;241;43m.\u001b[39;49m\u001b[43m_call\u001b[49m\u001b[43m(\u001b[49m\u001b[38;5;241;43m*\u001b[39;49m\u001b[43margs\u001b[49m\u001b[43m,\u001b[49m\u001b[43m \u001b[49m\u001b[38;5;241;43m*\u001b[39;49m\u001b[38;5;241;43m*\u001b[39;49m\u001b[43mkwds\u001b[49m\u001b[43m)\u001b[49m\n\u001b[1;32m    834\u001b[0m new_tracing_count \u001b[38;5;241m=\u001b[39m \u001b[38;5;28mself\u001b[39m\u001b[38;5;241m.\u001b[39mexperimental_get_tracing_count()\n\u001b[1;32m    835\u001b[0m without_tracing \u001b[38;5;241m=\u001b[39m (tracing_count \u001b[38;5;241m==\u001b[39m new_tracing_count)\n",
      "File \u001b[0;32m~/.pyenv/versions/3.10.6/envs/chest_predictor/lib/python3.10/site-packages/tensorflow/python/eager/polymorphic_function/polymorphic_function.py:868\u001b[0m, in \u001b[0;36mFunction._call\u001b[0;34m(self, *args, **kwds)\u001b[0m\n\u001b[1;32m    865\u001b[0m   \u001b[38;5;28mself\u001b[39m\u001b[38;5;241m.\u001b[39m_lock\u001b[38;5;241m.\u001b[39mrelease()\n\u001b[1;32m    866\u001b[0m   \u001b[38;5;66;03m# In this case we have created variables on the first call, so we run the\u001b[39;00m\n\u001b[1;32m    867\u001b[0m   \u001b[38;5;66;03m# defunned version which is guaranteed to never create variables.\u001b[39;00m\n\u001b[0;32m--> 868\u001b[0m   \u001b[38;5;28;01mreturn\u001b[39;00m \u001b[43mtracing_compilation\u001b[49m\u001b[38;5;241;43m.\u001b[39;49m\u001b[43mcall_function\u001b[49m\u001b[43m(\u001b[49m\n\u001b[1;32m    869\u001b[0m \u001b[43m      \u001b[49m\u001b[43margs\u001b[49m\u001b[43m,\u001b[49m\u001b[43m \u001b[49m\u001b[43mkwds\u001b[49m\u001b[43m,\u001b[49m\u001b[43m \u001b[49m\u001b[38;5;28;43mself\u001b[39;49m\u001b[38;5;241;43m.\u001b[39;49m\u001b[43m_no_variable_creation_config\u001b[49m\n\u001b[1;32m    870\u001b[0m \u001b[43m  \u001b[49m\u001b[43m)\u001b[49m\n\u001b[1;32m    871\u001b[0m \u001b[38;5;28;01melif\u001b[39;00m \u001b[38;5;28mself\u001b[39m\u001b[38;5;241m.\u001b[39m_variable_creation_config \u001b[38;5;129;01mis\u001b[39;00m \u001b[38;5;129;01mnot\u001b[39;00m \u001b[38;5;28;01mNone\u001b[39;00m:\n\u001b[1;32m    872\u001b[0m   \u001b[38;5;66;03m# Release the lock early so that multiple threads can perform the call\u001b[39;00m\n\u001b[1;32m    873\u001b[0m   \u001b[38;5;66;03m# in parallel.\u001b[39;00m\n\u001b[1;32m    874\u001b[0m   \u001b[38;5;28mself\u001b[39m\u001b[38;5;241m.\u001b[39m_lock\u001b[38;5;241m.\u001b[39mrelease()\n",
      "File \u001b[0;32m~/.pyenv/versions/3.10.6/envs/chest_predictor/lib/python3.10/site-packages/tensorflow/python/eager/polymorphic_function/tracing_compilation.py:139\u001b[0m, in \u001b[0;36mcall_function\u001b[0;34m(args, kwargs, tracing_options)\u001b[0m\n\u001b[1;32m    137\u001b[0m bound_args \u001b[38;5;241m=\u001b[39m function\u001b[38;5;241m.\u001b[39mfunction_type\u001b[38;5;241m.\u001b[39mbind(\u001b[38;5;241m*\u001b[39margs, \u001b[38;5;241m*\u001b[39m\u001b[38;5;241m*\u001b[39mkwargs)\n\u001b[1;32m    138\u001b[0m flat_inputs \u001b[38;5;241m=\u001b[39m function\u001b[38;5;241m.\u001b[39mfunction_type\u001b[38;5;241m.\u001b[39munpack_inputs(bound_args)\n\u001b[0;32m--> 139\u001b[0m \u001b[38;5;28;01mreturn\u001b[39;00m \u001b[43mfunction\u001b[49m\u001b[38;5;241;43m.\u001b[39;49m\u001b[43m_call_flat\u001b[49m\u001b[43m(\u001b[49m\u001b[43m  \u001b[49m\u001b[38;5;66;43;03m# pylint: disable=protected-access\u001b[39;49;00m\n\u001b[1;32m    140\u001b[0m \u001b[43m    \u001b[49m\u001b[43mflat_inputs\u001b[49m\u001b[43m,\u001b[49m\u001b[43m \u001b[49m\u001b[43mcaptured_inputs\u001b[49m\u001b[38;5;241;43m=\u001b[39;49m\u001b[43mfunction\u001b[49m\u001b[38;5;241;43m.\u001b[39;49m\u001b[43mcaptured_inputs\u001b[49m\n\u001b[1;32m    141\u001b[0m \u001b[43m\u001b[49m\u001b[43m)\u001b[49m\n",
      "File \u001b[0;32m~/.pyenv/versions/3.10.6/envs/chest_predictor/lib/python3.10/site-packages/tensorflow/python/eager/polymorphic_function/concrete_function.py:1323\u001b[0m, in \u001b[0;36mConcreteFunction._call_flat\u001b[0;34m(self, tensor_inputs, captured_inputs)\u001b[0m\n\u001b[1;32m   1319\u001b[0m possible_gradient_type \u001b[38;5;241m=\u001b[39m gradients_util\u001b[38;5;241m.\u001b[39mPossibleTapeGradientTypes(args)\n\u001b[1;32m   1320\u001b[0m \u001b[38;5;28;01mif\u001b[39;00m (possible_gradient_type \u001b[38;5;241m==\u001b[39m gradients_util\u001b[38;5;241m.\u001b[39mPOSSIBLE_GRADIENT_TYPES_NONE\n\u001b[1;32m   1321\u001b[0m     \u001b[38;5;129;01mand\u001b[39;00m executing_eagerly):\n\u001b[1;32m   1322\u001b[0m   \u001b[38;5;66;03m# No tape is watching; skip to running the function.\u001b[39;00m\n\u001b[0;32m-> 1323\u001b[0m   \u001b[38;5;28;01mreturn\u001b[39;00m \u001b[38;5;28;43mself\u001b[39;49m\u001b[38;5;241;43m.\u001b[39;49m\u001b[43m_inference_function\u001b[49m\u001b[38;5;241;43m.\u001b[39;49m\u001b[43mcall_preflattened\u001b[49m\u001b[43m(\u001b[49m\u001b[43margs\u001b[49m\u001b[43m)\u001b[49m\n\u001b[1;32m   1324\u001b[0m forward_backward \u001b[38;5;241m=\u001b[39m \u001b[38;5;28mself\u001b[39m\u001b[38;5;241m.\u001b[39m_select_forward_and_backward_functions(\n\u001b[1;32m   1325\u001b[0m     args,\n\u001b[1;32m   1326\u001b[0m     possible_gradient_type,\n\u001b[1;32m   1327\u001b[0m     executing_eagerly)\n\u001b[1;32m   1328\u001b[0m forward_function, args_with_tangents \u001b[38;5;241m=\u001b[39m forward_backward\u001b[38;5;241m.\u001b[39mforward()\n",
      "File \u001b[0;32m~/.pyenv/versions/3.10.6/envs/chest_predictor/lib/python3.10/site-packages/tensorflow/python/eager/polymorphic_function/atomic_function.py:216\u001b[0m, in \u001b[0;36mAtomicFunction.call_preflattened\u001b[0;34m(self, args)\u001b[0m\n\u001b[1;32m    214\u001b[0m \u001b[38;5;28;01mdef\u001b[39;00m \u001b[38;5;21mcall_preflattened\u001b[39m(\u001b[38;5;28mself\u001b[39m, args: Sequence[core\u001b[38;5;241m.\u001b[39mTensor]) \u001b[38;5;241m-\u001b[39m\u001b[38;5;241m>\u001b[39m Any:\n\u001b[1;32m    215\u001b[0m \u001b[38;5;250m  \u001b[39m\u001b[38;5;124;03m\"\"\"Calls with flattened tensor inputs and returns the structured output.\"\"\"\u001b[39;00m\n\u001b[0;32m--> 216\u001b[0m   flat_outputs \u001b[38;5;241m=\u001b[39m \u001b[38;5;28;43mself\u001b[39;49m\u001b[38;5;241;43m.\u001b[39;49m\u001b[43mcall_flat\u001b[49m\u001b[43m(\u001b[49m\u001b[38;5;241;43m*\u001b[39;49m\u001b[43margs\u001b[49m\u001b[43m)\u001b[49m\n\u001b[1;32m    217\u001b[0m   \u001b[38;5;28;01mreturn\u001b[39;00m \u001b[38;5;28mself\u001b[39m\u001b[38;5;241m.\u001b[39mfunction_type\u001b[38;5;241m.\u001b[39mpack_output(flat_outputs)\n",
      "File \u001b[0;32m~/.pyenv/versions/3.10.6/envs/chest_predictor/lib/python3.10/site-packages/tensorflow/python/eager/polymorphic_function/atomic_function.py:251\u001b[0m, in \u001b[0;36mAtomicFunction.call_flat\u001b[0;34m(self, *args)\u001b[0m\n\u001b[1;32m    249\u001b[0m \u001b[38;5;28;01mwith\u001b[39;00m record\u001b[38;5;241m.\u001b[39mstop_recording():\n\u001b[1;32m    250\u001b[0m   \u001b[38;5;28;01mif\u001b[39;00m \u001b[38;5;28mself\u001b[39m\u001b[38;5;241m.\u001b[39m_bound_context\u001b[38;5;241m.\u001b[39mexecuting_eagerly():\n\u001b[0;32m--> 251\u001b[0m     outputs \u001b[38;5;241m=\u001b[39m \u001b[38;5;28;43mself\u001b[39;49m\u001b[38;5;241;43m.\u001b[39;49m\u001b[43m_bound_context\u001b[49m\u001b[38;5;241;43m.\u001b[39;49m\u001b[43mcall_function\u001b[49m\u001b[43m(\u001b[49m\n\u001b[1;32m    252\u001b[0m \u001b[43m        \u001b[49m\u001b[38;5;28;43mself\u001b[39;49m\u001b[38;5;241;43m.\u001b[39;49m\u001b[43mname\u001b[49m\u001b[43m,\u001b[49m\n\u001b[1;32m    253\u001b[0m \u001b[43m        \u001b[49m\u001b[38;5;28;43mlist\u001b[39;49m\u001b[43m(\u001b[49m\u001b[43margs\u001b[49m\u001b[43m)\u001b[49m\u001b[43m,\u001b[49m\n\u001b[1;32m    254\u001b[0m \u001b[43m        \u001b[49m\u001b[38;5;28;43mlen\u001b[39;49m\u001b[43m(\u001b[49m\u001b[38;5;28;43mself\u001b[39;49m\u001b[38;5;241;43m.\u001b[39;49m\u001b[43mfunction_type\u001b[49m\u001b[38;5;241;43m.\u001b[39;49m\u001b[43mflat_outputs\u001b[49m\u001b[43m)\u001b[49m\u001b[43m,\u001b[49m\n\u001b[1;32m    255\u001b[0m \u001b[43m    \u001b[49m\u001b[43m)\u001b[49m\n\u001b[1;32m    256\u001b[0m   \u001b[38;5;28;01melse\u001b[39;00m:\n\u001b[1;32m    257\u001b[0m     outputs \u001b[38;5;241m=\u001b[39m make_call_op_in_graph(\n\u001b[1;32m    258\u001b[0m         \u001b[38;5;28mself\u001b[39m,\n\u001b[1;32m    259\u001b[0m         \u001b[38;5;28mlist\u001b[39m(args),\n\u001b[1;32m    260\u001b[0m         \u001b[38;5;28mself\u001b[39m\u001b[38;5;241m.\u001b[39m_bound_context\u001b[38;5;241m.\u001b[39mfunction_call_options\u001b[38;5;241m.\u001b[39mas_attrs(),\n\u001b[1;32m    261\u001b[0m     )\n",
      "File \u001b[0;32m~/.pyenv/versions/3.10.6/envs/chest_predictor/lib/python3.10/site-packages/tensorflow/python/eager/context.py:1486\u001b[0m, in \u001b[0;36mContext.call_function\u001b[0;34m(self, name, tensor_inputs, num_outputs)\u001b[0m\n\u001b[1;32m   1484\u001b[0m cancellation_context \u001b[38;5;241m=\u001b[39m cancellation\u001b[38;5;241m.\u001b[39mcontext()\n\u001b[1;32m   1485\u001b[0m \u001b[38;5;28;01mif\u001b[39;00m cancellation_context \u001b[38;5;129;01mis\u001b[39;00m \u001b[38;5;28;01mNone\u001b[39;00m:\n\u001b[0;32m-> 1486\u001b[0m   outputs \u001b[38;5;241m=\u001b[39m \u001b[43mexecute\u001b[49m\u001b[38;5;241;43m.\u001b[39;49m\u001b[43mexecute\u001b[49m\u001b[43m(\u001b[49m\n\u001b[1;32m   1487\u001b[0m \u001b[43m      \u001b[49m\u001b[43mname\u001b[49m\u001b[38;5;241;43m.\u001b[39;49m\u001b[43mdecode\u001b[49m\u001b[43m(\u001b[49m\u001b[38;5;124;43m\"\u001b[39;49m\u001b[38;5;124;43mutf-8\u001b[39;49m\u001b[38;5;124;43m\"\u001b[39;49m\u001b[43m)\u001b[49m\u001b[43m,\u001b[49m\n\u001b[1;32m   1488\u001b[0m \u001b[43m      \u001b[49m\u001b[43mnum_outputs\u001b[49m\u001b[38;5;241;43m=\u001b[39;49m\u001b[43mnum_outputs\u001b[49m\u001b[43m,\u001b[49m\n\u001b[1;32m   1489\u001b[0m \u001b[43m      \u001b[49m\u001b[43minputs\u001b[49m\u001b[38;5;241;43m=\u001b[39;49m\u001b[43mtensor_inputs\u001b[49m\u001b[43m,\u001b[49m\n\u001b[1;32m   1490\u001b[0m \u001b[43m      \u001b[49m\u001b[43mattrs\u001b[49m\u001b[38;5;241;43m=\u001b[39;49m\u001b[43mattrs\u001b[49m\u001b[43m,\u001b[49m\n\u001b[1;32m   1491\u001b[0m \u001b[43m      \u001b[49m\u001b[43mctx\u001b[49m\u001b[38;5;241;43m=\u001b[39;49m\u001b[38;5;28;43mself\u001b[39;49m\u001b[43m,\u001b[49m\n\u001b[1;32m   1492\u001b[0m \u001b[43m  \u001b[49m\u001b[43m)\u001b[49m\n\u001b[1;32m   1493\u001b[0m \u001b[38;5;28;01melse\u001b[39;00m:\n\u001b[1;32m   1494\u001b[0m   outputs \u001b[38;5;241m=\u001b[39m execute\u001b[38;5;241m.\u001b[39mexecute_with_cancellation(\n\u001b[1;32m   1495\u001b[0m       name\u001b[38;5;241m.\u001b[39mdecode(\u001b[38;5;124m\"\u001b[39m\u001b[38;5;124mutf-8\u001b[39m\u001b[38;5;124m\"\u001b[39m),\n\u001b[1;32m   1496\u001b[0m       num_outputs\u001b[38;5;241m=\u001b[39mnum_outputs,\n\u001b[0;32m   (...)\u001b[0m\n\u001b[1;32m   1500\u001b[0m       cancellation_manager\u001b[38;5;241m=\u001b[39mcancellation_context,\n\u001b[1;32m   1501\u001b[0m   )\n",
      "File \u001b[0;32m~/.pyenv/versions/3.10.6/envs/chest_predictor/lib/python3.10/site-packages/tensorflow/python/eager/execute.py:53\u001b[0m, in \u001b[0;36mquick_execute\u001b[0;34m(op_name, num_outputs, inputs, attrs, ctx, name)\u001b[0m\n\u001b[1;32m     51\u001b[0m \u001b[38;5;28;01mtry\u001b[39;00m:\n\u001b[1;32m     52\u001b[0m   ctx\u001b[38;5;241m.\u001b[39mensure_initialized()\n\u001b[0;32m---> 53\u001b[0m   tensors \u001b[38;5;241m=\u001b[39m \u001b[43mpywrap_tfe\u001b[49m\u001b[38;5;241;43m.\u001b[39;49m\u001b[43mTFE_Py_Execute\u001b[49m\u001b[43m(\u001b[49m\u001b[43mctx\u001b[49m\u001b[38;5;241;43m.\u001b[39;49m\u001b[43m_handle\u001b[49m\u001b[43m,\u001b[49m\u001b[43m \u001b[49m\u001b[43mdevice_name\u001b[49m\u001b[43m,\u001b[49m\u001b[43m \u001b[49m\u001b[43mop_name\u001b[49m\u001b[43m,\u001b[49m\n\u001b[1;32m     54\u001b[0m \u001b[43m                                      \u001b[49m\u001b[43minputs\u001b[49m\u001b[43m,\u001b[49m\u001b[43m \u001b[49m\u001b[43mattrs\u001b[49m\u001b[43m,\u001b[49m\u001b[43m \u001b[49m\u001b[43mnum_outputs\u001b[49m\u001b[43m)\u001b[49m\n\u001b[1;32m     55\u001b[0m \u001b[38;5;28;01mexcept\u001b[39;00m core\u001b[38;5;241m.\u001b[39m_NotOkStatusException \u001b[38;5;28;01mas\u001b[39;00m e:\n\u001b[1;32m     56\u001b[0m   \u001b[38;5;28;01mif\u001b[39;00m name \u001b[38;5;129;01mis\u001b[39;00m \u001b[38;5;129;01mnot\u001b[39;00m \u001b[38;5;28;01mNone\u001b[39;00m:\n",
      "\u001b[0;31mKeyboardInterrupt\u001b[0m: "
     ]
    }
   ],
   "source": [
    "EPOCHS = 1\n",
    "\n",
    "history = model.fit(train_ds,\n",
    "                    epochs=EPOCHS,\n",
    "                    validation_data=val_ds,\n",
    "                    callbacks=[es])"
   ]
  },
  {
   "cell_type": "code",
   "execution_count": null,
   "id": "71fe7a00",
   "metadata": {},
   "outputs": [],
   "source": []
  }
 ],
 "metadata": {
  "kernelspec": {
   "display_name": "Python 3 (ipykernel)",
   "language": "python",
   "name": "python3"
  },
  "language_info": {
   "codemirror_mode": {
    "name": "ipython",
    "version": 3
   },
   "file_extension": ".py",
   "mimetype": "text/x-python",
   "name": "python",
   "nbconvert_exporter": "python",
   "pygments_lexer": "ipython3",
   "version": "3.10.6"
  },
  "toc": {
   "base_numbering": 1,
   "nav_menu": {},
   "number_sections": true,
   "sideBar": true,
   "skip_h1_title": false,
   "title_cell": "Table of Contents",
   "title_sidebar": "Contents",
   "toc_cell": false,
   "toc_position": {
    "height": "calc(100% - 180px)",
    "left": "10px",
    "top": "150px",
    "width": "165px"
   },
   "toc_section_display": true,
   "toc_window_display": false
  },
  "varInspector": {
   "cols": {
    "lenName": 16,
    "lenType": 16,
    "lenVar": 40
   },
   "kernels_config": {
    "python": {
     "delete_cmd_postfix": "",
     "delete_cmd_prefix": "del ",
     "library": "var_list.py",
     "varRefreshCmd": "print(var_dic_list())"
    },
    "r": {
     "delete_cmd_postfix": ") ",
     "delete_cmd_prefix": "rm(",
     "library": "var_list.r",
     "varRefreshCmd": "cat(var_dic_list()) "
    }
   },
   "types_to_exclude": [
    "module",
    "function",
    "builtin_function_or_method",
    "instance",
    "_Feature"
   ],
   "window_display": false
  }
 },
 "nbformat": 4,
 "nbformat_minor": 5
}
