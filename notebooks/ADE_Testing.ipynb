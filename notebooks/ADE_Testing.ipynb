{
 "cells": [
  {
   "cell_type": "code",
   "execution_count": 1,
   "id": "d64c2724",
   "metadata": {
    "ExecuteTime": {
     "end_time": "2024-06-10T08:53:25.219558Z",
     "start_time": "2024-06-10T08:53:23.672385Z"
    }
   },
   "outputs": [],
   "source": [
    "import tensorflow as tf\n",
    "from keras.models import load_model\n",
    "from keras.preprocessing import image\n",
    "import numpy as np\n"
   ]
  },
  {
   "cell_type": "markdown",
   "id": "73135efa",
   "metadata": {},
   "source": [
    "Index 0: Atelectasis\n",
    "Index 1: Consolidation\n",
    "Index 2: Infiltration\n",
    "Index 3: Pneumothorax\n",
    "Index 4: Edema\n",
    "Index 5: Emphysema\n",
    "Index 6: Fibrosis\n",
    "Index 7: Effusion\n",
    "Index 8: Pneumonia\n",
    "Index 9: Pleural_Thickening\n",
    "Index 10: Cardiomegaly\n",
    "Index 11: Nodule\n",
    "Index 12: Mass\n",
    "Index 13: Hernia\n",
    "Index 14: No Finding"
   ]
  },
  {
   "cell_type": "code",
   "execution_count": 9,
   "id": "d766bc93",
   "metadata": {
    "ExecuteTime": {
     "end_time": "2024-06-10T08:56:35.357315Z",
     "start_time": "2024-06-10T08:56:35.349725Z"
    }
   },
   "outputs": [],
   "source": [
    "def preprocess_image(image):\n",
    "    # convert it to rgb => VGG16 takes RGB image only\n",
    "    image = tf.image.grayscale_to_rgb(image)\n",
    "\n",
    "    # Resize the image to a width and a height of 256 pixels\n",
    "    image = tf.image.resize(image, [224, 224], method='nearest')\n",
    "    # Normalize the pixel values of the image to the range of [0, 1] => WE DON'T NEED FOR VGG16 (but we finally use another one...)\n",
    "    image /= 255\n",
    "\n",
    "    return image"
   ]
  },
  {
   "cell_type": "code",
   "execution_count": 10,
   "id": "f5b51878",
   "metadata": {
    "ExecuteTime": {
     "end_time": "2024-06-10T08:56:35.626583Z",
     "start_time": "2024-06-10T08:56:35.621057Z"
    }
   },
   "outputs": [],
   "source": [
    "def load_and_preprocess_image(path):\n",
    "    image = tf.io.read_file(path)\n",
    "    # Decode the image contents\n",
    "    img_tensor = tf.image.decode_png(image)[:,:,0:1]\n",
    "    # return img_tensor\n",
    "    return preprocess_image(img_tensor)"
   ]
  },
  {
   "cell_type": "code",
   "execution_count": 17,
   "id": "effdec16",
   "metadata": {
    "ExecuteTime": {
     "end_time": "2024-06-10T08:59:38.389115Z",
     "start_time": "2024-06-10T08:59:37.637460Z"
    }
   },
   "outputs": [],
   "source": [
    "# Load the model\n",
    "model = load_model('/Users/arnodebelle/code/sachamagier/chest-predictor/raw_data/best_model.keras')"
   ]
  },
  {
   "cell_type": "code",
   "execution_count": 27,
   "id": "fcd4e9f7",
   "metadata": {
    "ExecuteTime": {
     "end_time": "2024-06-10T09:05:21.307028Z",
     "start_time": "2024-06-10T09:05:21.302545Z"
    }
   },
   "outputs": [],
   "source": [
    "img_path = '/Users/arnodebelle/code/sachamagier/chest-predictor/raw_data/raw_dataset/images_001/images/00000008_000.png'  # replace with your image path\n"
   ]
  },
  {
   "cell_type": "code",
   "execution_count": 28,
   "id": "490df670",
   "metadata": {
    "ExecuteTime": {
     "end_time": "2024-06-10T09:05:21.965738Z",
     "start_time": "2024-06-10T09:05:21.938135Z"
    }
   },
   "outputs": [
    {
     "data": {
      "text/plain": [
       "<tf.Tensor: shape=(224, 224, 3), dtype=float32, numpy=\n",
       "array([[[0.23529412, 0.23529412, 0.23529412],\n",
       "        [0.2       , 0.2       , 0.2       ],\n",
       "        [0.19215687, 0.19215687, 0.19215687],\n",
       "        ...,\n",
       "        [0.15294118, 0.15294118, 0.15294118],\n",
       "        [0.16862746, 0.16862746, 0.16862746],\n",
       "        [0.20784314, 0.20784314, 0.20784314]],\n",
       "\n",
       "       [[0.20392157, 0.20392157, 0.20392157],\n",
       "        [0.2       , 0.2       , 0.2       ],\n",
       "        [0.18431373, 0.18431373, 0.18431373],\n",
       "        ...,\n",
       "        [0.14509805, 0.14509805, 0.14509805],\n",
       "        [0.16078432, 0.16078432, 0.16078432],\n",
       "        [0.18039216, 0.18039216, 0.18039216]],\n",
       "\n",
       "       [[0.19607843, 0.19607843, 0.19607843],\n",
       "        [0.19607843, 0.19607843, 0.19607843],\n",
       "        [0.1882353 , 0.1882353 , 0.1882353 ],\n",
       "        ...,\n",
       "        [0.14901961, 0.14901961, 0.14901961],\n",
       "        [0.15686275, 0.15686275, 0.15686275],\n",
       "        [0.18431373, 0.18431373, 0.18431373]],\n",
       "\n",
       "       ...,\n",
       "\n",
       "       [[0.21568628, 0.21568628, 0.21568628],\n",
       "        [0.29803923, 0.29803923, 0.29803923],\n",
       "        [0.1882353 , 0.1882353 , 0.1882353 ],\n",
       "        ...,\n",
       "        [0.38039216, 0.38039216, 0.38039216],\n",
       "        [0.654902  , 0.654902  , 0.654902  ],\n",
       "        [0.7882353 , 0.7882353 , 0.7882353 ]],\n",
       "\n",
       "       [[0.28627452, 0.28627452, 0.28627452],\n",
       "        [0.23137255, 0.23137255, 0.23137255],\n",
       "        [0.18039216, 0.18039216, 0.18039216],\n",
       "        ...,\n",
       "        [0.38431373, 0.38431373, 0.38431373],\n",
       "        [0.6627451 , 0.6627451 , 0.6627451 ],\n",
       "        [0.8       , 0.8       , 0.8       ]],\n",
       "\n",
       "       [[0.33333334, 0.33333334, 0.33333334],\n",
       "        [0.21176471, 0.21176471, 0.21176471],\n",
       "        [0.1764706 , 0.1764706 , 0.1764706 ],\n",
       "        ...,\n",
       "        [0.39607844, 0.39607844, 0.39607844],\n",
       "        [0.6745098 , 0.6745098 , 0.6745098 ],\n",
       "        [0.8235294 , 0.8235294 , 0.8235294 ]]], dtype=float32)>"
      ]
     },
     "execution_count": 28,
     "metadata": {},
     "output_type": "execute_result"
    }
   ],
   "source": [
    "# Load the image\n",
    "image1 = load_and_preprocess_image(img_path)\n",
    "image1"
   ]
  },
  {
   "cell_type": "code",
   "execution_count": 29,
   "id": "f8eca9b9",
   "metadata": {
    "ExecuteTime": {
     "end_time": "2024-06-10T09:05:22.425050Z",
     "start_time": "2024-06-10T09:05:22.418355Z"
    },
    "scrolled": true
   },
   "outputs": [
    {
     "data": {
      "text/plain": [
       "TensorShape([224, 224, 3])"
      ]
     },
     "execution_count": 29,
     "metadata": {},
     "output_type": "execute_result"
    }
   ],
   "source": [
    "image1.shape"
   ]
  },
  {
   "cell_type": "code",
   "execution_count": 30,
   "id": "7d80836b",
   "metadata": {
    "ExecuteTime": {
     "end_time": "2024-06-10T09:05:23.711602Z",
     "start_time": "2024-06-10T09:05:23.639466Z"
    }
   },
   "outputs": [
    {
     "name": "stdout",
     "output_type": "stream",
     "text": [
      "1/1 [==============================] - 0s 25ms/step\n"
     ]
    }
   ],
   "source": [
    "# Expand dimensions since the model expects batches of data\n",
    "image1 = np.expand_dims(image1, axis=0)\n",
    "\n",
    "# Make a prediction\n",
    "predictions = model.predict(image1)\n",
    "\n",
    "# Now you have the predictions, you can process them as needed"
   ]
  },
  {
   "cell_type": "code",
   "execution_count": 31,
   "id": "c399716c",
   "metadata": {
    "ExecuteTime": {
     "end_time": "2024-06-10T09:05:24.451312Z",
     "start_time": "2024-06-10T09:05:24.444046Z"
    }
   },
   "outputs": [
    {
     "data": {
      "text/plain": [
       "{'Atelectasis': 0.02,\n",
       " 'Consolidation': 0.01,\n",
       " 'Infiltration': 0.05,\n",
       " 'Pneumothorax': 0.03,\n",
       " 'Edema': 0.0,\n",
       " 'Emphysema': 0.02,\n",
       " 'Fibrosis': 0.01,\n",
       " 'Effusion': 0.02,\n",
       " 'Pneumonia': 0.01,\n",
       " 'Pleural_Thickening': 0.02,\n",
       " 'Cardiomegaly': 0.15,\n",
       " 'Nodule': 0.03,\n",
       " 'Mass': 0.06,\n",
       " 'Hernia': 0.0,\n",
       " 'No Finding': 0.72}"
      ]
     },
     "execution_count": 31,
     "metadata": {},
     "output_type": "execute_result"
    }
   ],
   "source": [
    "# Define the labels\n",
    "labels = ['Atelectasis', 'Consolidation', 'Infiltration', 'Pneumothorax', 'Edema', 'Emphysema', 'Fibrosis', 'Effusion',\n",
    "          'Pneumonia', 'Pleural_Thickening', 'Cardiomegaly', 'Nodule', 'Mass', 'Hernia', 'No Finding']\n",
    "\n",
    "# Round the predictions to 2 decimal places\n",
    "predictions_rounded = np.round(predictions, 2)\n",
    "\n",
    "# Convert the predictions to a dictionary with the labels\n",
    "predictions_dict = dict(zip(labels, predictions_rounded[0]))\n",
    "\n",
    "# Print the dictionary\n",
    "predictions_dict"
   ]
  },
  {
   "cell_type": "code",
   "execution_count": null,
   "id": "d5617455",
   "metadata": {},
   "outputs": [],
   "source": []
  }
 ],
 "metadata": {
  "kernelspec": {
   "display_name": "Python 3 (ipykernel)",
   "language": "python",
   "name": "python3"
  },
  "language_info": {
   "codemirror_mode": {
    "name": "ipython",
    "version": 3
   },
   "file_extension": ".py",
   "mimetype": "text/x-python",
   "name": "python",
   "nbconvert_exporter": "python",
   "pygments_lexer": "ipython3",
   "version": "3.10.6"
  },
  "toc": {
   "base_numbering": 1,
   "nav_menu": {},
   "number_sections": true,
   "sideBar": true,
   "skip_h1_title": false,
   "title_cell": "Table of Contents",
   "title_sidebar": "Contents",
   "toc_cell": false,
   "toc_position": {},
   "toc_section_display": true,
   "toc_window_display": false
  },
  "varInspector": {
   "cols": {
    "lenName": 16,
    "lenType": 16,
    "lenVar": 40
   },
   "kernels_config": {
    "python": {
     "delete_cmd_postfix": "",
     "delete_cmd_prefix": "del ",
     "library": "var_list.py",
     "varRefreshCmd": "print(var_dic_list())"
    },
    "r": {
     "delete_cmd_postfix": ") ",
     "delete_cmd_prefix": "rm(",
     "library": "var_list.r",
     "varRefreshCmd": "cat(var_dic_list()) "
    }
   },
   "types_to_exclude": [
    "module",
    "function",
    "builtin_function_or_method",
    "instance",
    "_Feature"
   ],
   "window_display": false
  }
 },
 "nbformat": 4,
 "nbformat_minor": 5
}
