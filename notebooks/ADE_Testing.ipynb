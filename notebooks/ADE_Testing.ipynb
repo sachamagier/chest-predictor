{
 "cells": [
  {
   "cell_type": "markdown",
   "id": "ad72b19d",
   "metadata": {},
   "source": [
    "## TESTING - This Notebook is used by Arno to test the model"
   ]
  },
  {
   "cell_type": "code",
   "execution_count": 1,
   "id": "d64c2724",
   "metadata": {
    "ExecuteTime": {
     "end_time": "2024-06-10T14:40:04.232808Z",
     "start_time": "2024-06-10T14:40:02.228644Z"
    }
   },
   "outputs": [],
   "source": [
    "import tensorflow as tf\n",
    "from keras.models import load_model\n",
    "from keras.preprocessing import image\n",
    "import numpy as np\n"
   ]
  },
  {
   "cell_type": "markdown",
   "id": "73135efa",
   "metadata": {},
   "source": [
    "Index 0: Atelectasis\n",
    "Index 1: Consolidation\n",
    "Index 2: Infiltration\n",
    "Index 3: Pneumothorax\n",
    "Index 4: Edema\n",
    "Index 5: Emphysema\n",
    "Index 6: Fibrosis\n",
    "Index 7: Effusion\n",
    "Index 8: Pneumonia\n",
    "Index 9: Pleural_Thickening\n",
    "Index 10: Cardiomegaly\n",
    "Index 11: Nodule\n",
    "Index 12: Mass\n",
    "Index 13: Hernia\n",
    "Index 14: No Finding"
   ]
  },
  {
   "cell_type": "code",
   "execution_count": 2,
   "id": "d766bc93",
   "metadata": {
    "ExecuteTime": {
     "end_time": "2024-06-10T14:40:04.240560Z",
     "start_time": "2024-06-10T14:40:04.238832Z"
    }
   },
   "outputs": [],
   "source": [
    "def preprocess_image(image):\n",
    "    # convert it to rgb => VGG16 takes RGB image only\n",
    "    image = tf.image.grayscale_to_rgb(image)\n",
    "\n",
    "    # Resize the image to a width and a height of 256 pixels\n",
    "    image = tf.image.resize(image, [224, 224], method='nearest')\n",
    "    # Normalize the pixel values of the image to the range of [0, 1] => WE DON'T NEED FOR VGG16 (but we finally use another one...)\n",
    "    image = tf.cast(image, tf.float32)\n",
    "    image /= 127.5\n",
    "    image -= 1.0\n",
    "\n",
    "    return image"
   ]
  },
  {
   "cell_type": "code",
   "execution_count": 3,
   "id": "f5b51878",
   "metadata": {
    "ExecuteTime": {
     "end_time": "2024-06-10T14:40:04.247679Z",
     "start_time": "2024-06-10T14:40:04.245816Z"
    }
   },
   "outputs": [],
   "source": [
    "def load_and_preprocess_image(path):\n",
    "    image = tf.io.read_file(path)\n",
    "    # Decode the image contents\n",
    "    img_tensor = tf.image.decode_png(image)[:,:,0:1]\n",
    "    # return img_tensor\n",
    "    return preprocess_image(img_tensor)"
   ]
  },
  {
   "cell_type": "code",
   "execution_count": 4,
   "id": "effdec16",
   "metadata": {
    "ExecuteTime": {
     "end_time": "2024-06-10T14:40:05.054059Z",
     "start_time": "2024-06-10T14:40:04.253950Z"
    }
   },
   "outputs": [],
   "source": [
    "# Load the model\n",
    "model = load_model('/Users/arnodebelle/code/sachamagier/chest-predictor/raw_data/ADE_final_binary_model.keras')"
   ]
  },
  {
   "cell_type": "code",
   "execution_count": 5,
   "id": "fcd4e9f7",
   "metadata": {
    "ExecuteTime": {
     "end_time": "2024-06-10T14:40:05.061228Z",
     "start_time": "2024-06-10T14:40:05.059837Z"
    }
   },
   "outputs": [],
   "source": [
    "img_path = '/Users/arnodebelle/code/sachamagier/chest-predictor/raw_data/raw_dataset/images_001/images/00000007_000.png'  # replace with your image path\n"
   ]
  },
  {
   "cell_type": "code",
   "execution_count": 6,
   "id": "490df670",
   "metadata": {
    "ExecuteTime": {
     "end_time": "2024-06-10T14:40:05.083536Z",
     "start_time": "2024-06-10T14:40:05.067030Z"
    }
   },
   "outputs": [
    {
     "data": {
      "text/plain": [
       "<tf.Tensor: shape=(224, 224, 3), dtype=float32, numpy=\n",
       "array([[[-0.79607844, -0.79607844, -0.79607844],\n",
       "        [-0.7647059 , -0.7647059 , -0.7647059 ],\n",
       "        [-0.85882354, -0.85882354, -0.85882354],\n",
       "        ...,\n",
       "        [-0.8509804 , -0.8509804 , -0.8509804 ],\n",
       "        [-0.8509804 , -0.8509804 , -0.8509804 ],\n",
       "        [-0.84313726, -0.84313726, -0.84313726]],\n",
       "\n",
       "       [[-0.8039216 , -0.8039216 , -0.8039216 ],\n",
       "        [-0.78039217, -0.78039217, -0.78039217],\n",
       "        [-0.8666667 , -0.8666667 , -0.8666667 ],\n",
       "        ...,\n",
       "        [-0.8509804 , -0.8509804 , -0.8509804 ],\n",
       "        [-0.8509804 , -0.8509804 , -0.8509804 ],\n",
       "        [-0.8509804 , -0.8509804 , -0.8509804 ]],\n",
       "\n",
       "       [[-0.8117647 , -0.8117647 , -0.8117647 ],\n",
       "        [-0.78039217, -0.78039217, -0.78039217],\n",
       "        [-0.85882354, -0.85882354, -0.85882354],\n",
       "        ...,\n",
       "        [-0.8509804 , -0.8509804 , -0.8509804 ],\n",
       "        [-0.8509804 , -0.8509804 , -0.8509804 ],\n",
       "        [-0.8509804 , -0.8509804 , -0.8509804 ]],\n",
       "\n",
       "       ...,\n",
       "\n",
       "       [[-0.32549018, -0.32549018, -0.32549018],\n",
       "        [ 0.04313731,  0.04313731,  0.04313731],\n",
       "        [-0.17647058, -0.17647058, -0.17647058],\n",
       "        ...,\n",
       "        [-0.5529412 , -0.5529412 , -0.5529412 ],\n",
       "        [-0.5372549 , -0.5372549 , -0.5372549 ],\n",
       "        [-0.5058824 , -0.5058824 , -0.5058824 ]],\n",
       "\n",
       "       [[-0.1372549 , -0.1372549 , -0.1372549 ],\n",
       "        [ 0.4431373 ,  0.4431373 ,  0.4431373 ],\n",
       "        [ 0.32549024,  0.32549024,  0.32549024],\n",
       "        ...,\n",
       "        [-0.21568626, -0.21568626, -0.21568626],\n",
       "        [-0.18431371, -0.18431371, -0.18431371],\n",
       "        [-0.17647058, -0.17647058, -0.17647058]],\n",
       "\n",
       "       [[ 0.01176476,  0.01176476,  0.01176476],\n",
       "        [ 0.827451  ,  0.827451  ,  0.827451  ],\n",
       "        [ 0.7647059 ,  0.7647059 ,  0.7647059 ],\n",
       "        ...,\n",
       "        [ 0.26274514,  0.26274514,  0.26274514],\n",
       "        [ 0.27843142,  0.27843142,  0.27843142],\n",
       "        [ 0.3176471 ,  0.3176471 ,  0.3176471 ]]], dtype=float32)>"
      ]
     },
     "execution_count": 6,
     "metadata": {},
     "output_type": "execute_result"
    }
   ],
   "source": [
    "# Load the image\n",
    "image1 = load_and_preprocess_image(img_path)\n",
    "image1"
   ]
  },
  {
   "cell_type": "code",
   "execution_count": 7,
   "id": "f8eca9b9",
   "metadata": {
    "ExecuteTime": {
     "end_time": "2024-06-10T14:40:05.245045Z",
     "start_time": "2024-06-10T14:40:05.241083Z"
    },
    "scrolled": true
   },
   "outputs": [
    {
     "data": {
      "text/plain": [
       "TensorShape([224, 224, 3])"
      ]
     },
     "execution_count": 7,
     "metadata": {},
     "output_type": "execute_result"
    }
   ],
   "source": [
    "image1.shape"
   ]
  },
  {
   "cell_type": "code",
   "execution_count": 8,
   "id": "7d80836b",
   "metadata": {
    "ExecuteTime": {
     "end_time": "2024-06-10T14:40:06.859548Z",
     "start_time": "2024-06-10T14:40:06.516201Z"
    }
   },
   "outputs": [
    {
     "name": "stdout",
     "output_type": "stream",
     "text": [
      "1/1 [==============================] - 0s 284ms/step\n"
     ]
    }
   ],
   "source": [
    "# Expand dimensions since the model expects batches of data\n",
    "image1 = np.expand_dims(image1, axis=0)\n",
    "\n",
    "# Make a prediction\n",
    "predictions = model.predict(image1)\n",
    "\n",
    "# Now you have the predictions, you can process them as needed"
   ]
  },
  {
   "cell_type": "code",
   "execution_count": 9,
   "id": "c399716c",
   "metadata": {
    "ExecuteTime": {
     "end_time": "2024-06-10T14:40:07.924942Z",
     "start_time": "2024-06-10T14:40:07.917271Z"
    }
   },
   "outputs": [
    {
     "data": {
      "text/plain": [
       "{'Atelectasis': 0.51}"
      ]
     },
     "execution_count": 9,
     "metadata": {},
     "output_type": "execute_result"
    }
   ],
   "source": [
    "# Define the labels\n",
    "labels = ['Atelectasis', 'Consolidation', 'Infiltration', 'Pneumothorax', 'Edema', 'Emphysema', 'Fibrosis', 'Effusion',\n",
    "          'Pneumonia', 'Pleural_Thickening', 'Cardiomegaly', 'Nodule', 'Mass', 'Hernia', 'No Finding']\n",
    "\n",
    "# Round the predictions to 2 decimal places\n",
    "predictions_rounded = np.round(predictions, 2)\n",
    "\n",
    "# Convert the predictions to a dictionary with the labels\n",
    "predictions_dict = dict(zip(labels, predictions_rounded[0]))\n",
    "\n",
    "# Print the dictionary\n",
    "predictions_dict"
   ]
  },
  {
   "cell_type": "code",
   "execution_count": null,
   "id": "d5617455",
   "metadata": {},
   "outputs": [],
   "source": []
  }
 ],
 "metadata": {
  "kernelspec": {
   "display_name": "Python 3 (ipykernel)",
   "language": "python",
   "name": "python3"
  },
  "language_info": {
   "codemirror_mode": {
    "name": "ipython",
    "version": 3
   },
   "file_extension": ".py",
   "mimetype": "text/x-python",
   "name": "python",
   "nbconvert_exporter": "python",
   "pygments_lexer": "ipython3",
   "version": "3.10.6"
  },
  "toc": {
   "base_numbering": 1,
   "nav_menu": {},
   "number_sections": true,
   "sideBar": true,
   "skip_h1_title": false,
   "title_cell": "Table of Contents",
   "title_sidebar": "Contents",
   "toc_cell": false,
   "toc_position": {},
   "toc_section_display": true,
   "toc_window_display": false
  },
  "varInspector": {
   "cols": {
    "lenName": 16,
    "lenType": 16,
    "lenVar": 40
   },
   "kernels_config": {
    "python": {
     "delete_cmd_postfix": "",
     "delete_cmd_prefix": "del ",
     "library": "var_list.py",
     "varRefreshCmd": "print(var_dic_list())"
    },
    "r": {
     "delete_cmd_postfix": ") ",
     "delete_cmd_prefix": "rm(",
     "library": "var_list.r",
     "varRefreshCmd": "cat(var_dic_list()) "
    }
   },
   "types_to_exclude": [
    "module",
    "function",
    "builtin_function_or_method",
    "instance",
    "_Feature"
   ],
   "window_display": false
  }
 },
 "nbformat": 4,
 "nbformat_minor": 5
}
