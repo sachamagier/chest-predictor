{
 "cells": [
  {
   "cell_type": "markdown",
   "id": "b17700cc-53b0-4ce6-b6a7-8ecc22d9f289",
   "metadata": {},
   "source": [
    "# Creation of Binary model to predict DISEASE / NO DISEASE - using hand made model"
   ]
  },
  {
   "cell_type": "markdown",
   "id": "09965761",
   "metadata": {},
   "source": [
    "## PRELIMINARY ACTION !"
   ]
  },
  {
   "cell_type": "markdown",
   "id": "4ef354ac",
   "metadata": {},
   "source": [
    "⚠️ Please go to ➤ https://drive.google.com/file/d/1lLrHbpUQE-Kd-jZ68Uk7SFwawbzqf6Av/view?usp=drive_link\n",
    "\n",
    "and download the dataset.\n",
    "\n",
    "Put the zip file into your \"*raw_data*\" folder"
   ]
  },
  {
   "cell_type": "markdown",
   "id": "5faad179-7472-4314-8936-5ad2b1749114",
   "metadata": {},
   "source": [
    "## data loading"
   ]
  },
  {
   "cell_type": "code",
   "execution_count": 5,
   "id": "7a9eed3c-4b31-42ba-b768-5247fe54bd26",
   "metadata": {
    "ExecuteTime": {
     "end_time": "2024-06-10T13:57:54.594022Z",
     "start_time": "2024-06-10T13:57:54.587537Z"
    }
   },
   "outputs": [],
   "source": [
    "import numpy as np\n",
    "import pandas as pd\n",
    "import pdb\n",
    "\n",
    "import os\n",
    "from pathlib import Path\n",
    "from PIL import Image"
   ]
  },
  {
   "cell_type": "markdown",
   "id": "25192021",
   "metadata": {},
   "source": [
    "### Loading images"
   ]
  },
  {
   "cell_type": "code",
   "execution_count": 6,
   "id": "11013ea4",
   "metadata": {
    "ExecuteTime": {
     "end_time": "2024-06-10T13:58:58.640744Z",
     "start_time": "2024-06-10T13:58:58.634895Z"
    }
   },
   "outputs": [],
   "source": [
    "PROJECT_NAME = \"chest-predictor\" #to be adapted depending on the name of the Project Name in your system\n",
    "NUMBER_OF_IMAGES = 5000 # nbr of images to be loaded or 'full' to load the entire dataset (+100k images)"
   ]
  },
  {
   "cell_type": "code",
   "execution_count": 7,
   "id": "10b88e32",
   "metadata": {
    "ExecuteTime": {
     "end_time": "2024-06-10T13:58:58.862585Z",
     "start_time": "2024-06-10T13:58:58.858605Z"
    }
   },
   "outputs": [],
   "source": [
    "USERNAME = os.environ.get('USER')"
   ]
  },
  {
   "cell_type": "code",
   "execution_count": 8,
   "id": "ff1e5898",
   "metadata": {
    "ExecuteTime": {
     "end_time": "2024-06-10T13:58:59.090427Z",
     "start_time": "2024-06-10T13:58:59.085180Z"
    }
   },
   "outputs": [],
   "source": [
    "LOCAL_DATA_PATH = Path(f\"/Users/{USERNAME}/code/sachamagier/{PROJECT_NAME}/raw_data/resized_dataset\")"
   ]
  },
  {
   "cell_type": "code",
   "execution_count": 9,
   "id": "75f7d90a",
   "metadata": {
    "ExecuteTime": {
     "end_time": "2024-06-10T13:58:59.305592Z",
     "start_time": "2024-06-10T13:58:59.298981Z"
    }
   },
   "outputs": [
    {
     "name": "stdout",
     "output_type": "stream",
     "text": [
      "LOCAL_DATA_PATH: /Users/arnodebelle/code/sachamagier/chest-predictor/raw_data/resized_dataset\n"
     ]
    }
   ],
   "source": [
    "print(f\"LOCAL_DATA_PATH: {LOCAL_DATA_PATH}\")"
   ]
  },
  {
   "cell_type": "code",
   "execution_count": 10,
   "id": "63c8f689",
   "metadata": {
    "ExecuteTime": {
     "end_time": "2024-06-10T13:58:59.516750Z",
     "start_time": "2024-06-10T13:58:59.506705Z"
    }
   },
   "outputs": [],
   "source": [
    "def loading_data():\n",
    "    \"\"\"This function either get all the images if the user set NUMBER_OF_IMAGES\n",
    "    to 'full' or the number of imgaes otherwise \"\"\"\n",
    "\n",
    "    images_data = []\n",
    "\n",
    "    # Define the path to the folder\n",
    "    folder_path = f'../raw_data/resized_dataset/images/set_full/'\n",
    "\n",
    "    \n",
    "    # Get a list of all files in the folder\n",
    "    file_list = os.listdir(folder_path)\n",
    "\n",
    "    # Filter the list to only include image files\n",
    "    image_files = [f for f in file_list if f.endswith('.png') or f.endswith('.jpg') or f.endswith('.jpeg')]\n",
    "\n",
    "\n",
    "    # Loop through the first NUMBER_OF_IMAGES\n",
    "    for i, image_file in enumerate(image_files):\n",
    "\n",
    "        # Stop the loop after NUMBER_OF_IMAGES iterations\n",
    "        if i == NUMBER_OF_IMAGES:\n",
    "            break\n",
    "\n",
    "        # Open the image file\n",
    "        with Image.open(folder_path + image_file) as image:\n",
    "            # Add the image to the list\n",
    "            images_data.append((image_file, np.array(image)))\n",
    "\n",
    "    return images_data"
   ]
  },
  {
   "cell_type": "code",
   "execution_count": 11,
   "id": "1b06e06b",
   "metadata": {
    "ExecuteTime": {
     "end_time": "2024-06-10T13:59:05.195935Z",
     "start_time": "2024-06-10T13:58:59.732504Z"
    },
    "scrolled": true
   },
   "outputs": [
    {
     "name": "stdout",
     "output_type": "stream",
     "text": [
      "Load local data...\n",
      "data loaded.\n"
     ]
    }
   ],
   "source": [
    "import urllib.request\n",
    "import zipfile\n",
    "import shutil\n",
    "\n",
    "\n",
    "if LOCAL_DATA_PATH.is_dir():\n",
    "    print(\"Load local data...\")\n",
    "    # loading data into data\n",
    "    images_data = loading_data()\n",
    "else:\n",
    "    print(\"Unziping file and loading the data...\")\n",
    "\n",
    "    output_path = \"../raw_data/resized_dataset.zip\"\n",
    "    # unzip the file\n",
    "    with zipfile.ZipFile(output_path, \"r\") as zip_ref:\n",
    "        for file_info in zip_ref.infolist():\n",
    "            zip_ref.extract(file_info, \"../raw_data/\")\n",
    "            \n",
    "    if Path(\"../raw_data/__MACOSX\").is_dir():\n",
    "        # remove the __MACOSX folder if it exists\n",
    "        shutil.rmtree(\"../raw_data/__MACOSX\")\n",
    "        \n",
    "    # remove the zip file\n",
    "    os.remove(output_path)\n",
    "    images_data = loading_data()\n",
    "\n",
    "print(\"data loaded.\")"
   ]
  },
  {
   "cell_type": "code",
   "execution_count": 12,
   "id": "5878ae3a",
   "metadata": {
    "ExecuteTime": {
     "end_time": "2024-06-10T13:59:05.767130Z",
     "start_time": "2024-06-10T13:59:05.762899Z"
    }
   },
   "outputs": [],
   "source": [
    "# Create a dataframe from the list of images and their indices\n",
    "images_df = pd.DataFrame(images_data, columns=['Image Index', 'image'])\n",
    "\n",
    "# Set the index of the dataframe to the 'Image Index' column\n",
    "images_df = images_df.set_index('Image Index').sort_index(ascending=True)"
   ]
  },
  {
   "cell_type": "code",
   "execution_count": 13,
   "id": "c3260861",
   "metadata": {
    "ExecuteTime": {
     "end_time": "2024-06-10T13:59:06.639626Z",
     "start_time": "2024-06-10T13:59:06.635763Z"
    }
   },
   "outputs": [
    {
     "data": {
      "text/plain": [
       "(5000, 1)"
      ]
     },
     "execution_count": 13,
     "metadata": {},
     "output_type": "execute_result"
    }
   ],
   "source": [
    "images_df.shape"
   ]
  },
  {
   "cell_type": "code",
   "execution_count": 14,
   "id": "d95bc3bc",
   "metadata": {
    "ExecuteTime": {
     "end_time": "2024-06-10T13:59:07.511608Z",
     "start_time": "2024-06-10T13:59:07.509549Z"
    },
    "scrolled": false
   },
   "outputs": [
    {
     "name": "stderr",
     "output_type": "stream",
     "text": [
      "/var/folders/0j/t72j59vs3k5_8l11kqqvpvkc0000gn/T/ipykernel_61008/4042123707.py:1: FutureWarning: Series.__getitem__ treating keys as positions is deprecated. In a future version, integer keys will always be treated as labels (consistent with DataFrame behavior). To access a value by position, use `ser.iloc[pos]`\n",
      "  images_df['image'][0].shape\n"
     ]
    },
    {
     "data": {
      "text/plain": [
       "(256, 256)"
      ]
     },
     "execution_count": 14,
     "metadata": {},
     "output_type": "execute_result"
    }
   ],
   "source": [
    "images_df['image'][0].shape"
   ]
  },
  {
   "cell_type": "code",
   "execution_count": 39,
   "id": "6cfc412c",
   "metadata": {
    "ExecuteTime": {
     "end_time": "2024-06-10T14:17:10.519318Z",
     "start_time": "2024-06-10T14:17:10.014724Z"
    }
   },
   "outputs": [],
   "source": [
    "images_df['image'] = images_df['image'].apply(lambda x: x / 255.0)"
   ]
  },
  {
   "cell_type": "code",
   "execution_count": 40,
   "id": "43d5c528",
   "metadata": {
    "ExecuteTime": {
     "end_time": "2024-06-10T14:17:12.516431Z",
     "start_time": "2024-06-10T14:17:12.338699Z"
    }
   },
   "outputs": [
    {
     "data": {
      "text/plain": [
       "Image Index\n",
       "00000007_000.png    [[0.06666666666666667, 0.11764705882352941, 0....\n",
       "00000013_008.png    [[0.0196078431372549, 0.027450980392156862, 0....\n",
       "00000013_020.png    [[0.16862745098039217, 0.13333333333333333, 0....\n",
       "00000013_034.png    [[0.0392156862745098, 0.0392156862745098, 0.03...\n",
       "00000017_000.png    [[0.06666666666666667, 0.07058823529411765, 0....\n",
       "                                          ...                        \n",
       "00030720_004.png    [[0.0196078431372549, 0.023529411764705882, 0....\n",
       "00030721_000.png    [[0.00784313725490196, 0.11764705882352941, 0....\n",
       "00030731_000.png    [[0.09411764705882353, 0.043137254901960784, 0...\n",
       "00030753_001.png    [[0.2549019607843137, 0.19607843137254902, 0.1...\n",
       "00030788_000.png    [[0.42745098039215684, 0.3411764705882353, 0.2...\n",
       "Name: image, Length: 5000, dtype: object"
      ]
     },
     "execution_count": 40,
     "metadata": {},
     "output_type": "execute_result"
    }
   ],
   "source": [
    "images_df['image']"
   ]
  },
  {
   "cell_type": "markdown",
   "id": "3c19dfa7",
   "metadata": {},
   "source": [
    "### Loading labels data"
   ]
  },
  {
   "cell_type": "code",
   "execution_count": 41,
   "id": "cd26302c",
   "metadata": {
    "ExecuteTime": {
     "end_time": "2024-06-10T14:17:20.110495Z",
     "start_time": "2024-06-10T14:17:19.995516Z"
    }
   },
   "outputs": [],
   "source": [
    "labels_df = pd.read_csv('../raw_data/resized_dataset/Data_Entry_2017.csv')"
   ]
  },
  {
   "cell_type": "code",
   "execution_count": 42,
   "id": "ebeb04e8",
   "metadata": {
    "ExecuteTime": {
     "end_time": "2024-06-10T14:17:21.971995Z",
     "start_time": "2024-06-10T14:17:21.967154Z"
    },
    "scrolled": true
   },
   "outputs": [
    {
     "data": {
      "text/html": [
       "<div>\n",
       "<style scoped>\n",
       "    .dataframe tbody tr th:only-of-type {\n",
       "        vertical-align: middle;\n",
       "    }\n",
       "\n",
       "    .dataframe tbody tr th {\n",
       "        vertical-align: top;\n",
       "    }\n",
       "\n",
       "    .dataframe thead th {\n",
       "        text-align: right;\n",
       "    }\n",
       "</style>\n",
       "<table border=\"1\" class=\"dataframe\">\n",
       "  <thead>\n",
       "    <tr style=\"text-align: right;\">\n",
       "      <th></th>\n",
       "      <th>Image Index</th>\n",
       "      <th>Finding Labels</th>\n",
       "      <th>Follow-up #</th>\n",
       "      <th>Patient ID</th>\n",
       "      <th>Patient Age</th>\n",
       "      <th>Patient Gender</th>\n",
       "      <th>View Position</th>\n",
       "      <th>OriginalImage[Width</th>\n",
       "      <th>Height]</th>\n",
       "      <th>OriginalImagePixelSpacing[x</th>\n",
       "      <th>y]</th>\n",
       "      <th>Unnamed: 11</th>\n",
       "    </tr>\n",
       "  </thead>\n",
       "  <tbody>\n",
       "    <tr>\n",
       "      <th>0</th>\n",
       "      <td>00000001_000.png</td>\n",
       "      <td>Cardiomegaly</td>\n",
       "      <td>0</td>\n",
       "      <td>1</td>\n",
       "      <td>58</td>\n",
       "      <td>M</td>\n",
       "      <td>PA</td>\n",
       "      <td>2682</td>\n",
       "      <td>2749</td>\n",
       "      <td>0.143</td>\n",
       "      <td>0.143</td>\n",
       "      <td>NaN</td>\n",
       "    </tr>\n",
       "    <tr>\n",
       "      <th>1</th>\n",
       "      <td>00000001_001.png</td>\n",
       "      <td>Cardiomegaly|Emphysema</td>\n",
       "      <td>1</td>\n",
       "      <td>1</td>\n",
       "      <td>58</td>\n",
       "      <td>M</td>\n",
       "      <td>PA</td>\n",
       "      <td>2894</td>\n",
       "      <td>2729</td>\n",
       "      <td>0.143</td>\n",
       "      <td>0.143</td>\n",
       "      <td>NaN</td>\n",
       "    </tr>\n",
       "    <tr>\n",
       "      <th>2</th>\n",
       "      <td>00000001_002.png</td>\n",
       "      <td>Cardiomegaly|Effusion</td>\n",
       "      <td>2</td>\n",
       "      <td>1</td>\n",
       "      <td>58</td>\n",
       "      <td>M</td>\n",
       "      <td>PA</td>\n",
       "      <td>2500</td>\n",
       "      <td>2048</td>\n",
       "      <td>0.168</td>\n",
       "      <td>0.168</td>\n",
       "      <td>NaN</td>\n",
       "    </tr>\n",
       "    <tr>\n",
       "      <th>3</th>\n",
       "      <td>00000002_000.png</td>\n",
       "      <td>No Finding</td>\n",
       "      <td>0</td>\n",
       "      <td>2</td>\n",
       "      <td>81</td>\n",
       "      <td>M</td>\n",
       "      <td>PA</td>\n",
       "      <td>2500</td>\n",
       "      <td>2048</td>\n",
       "      <td>0.171</td>\n",
       "      <td>0.171</td>\n",
       "      <td>NaN</td>\n",
       "    </tr>\n",
       "    <tr>\n",
       "      <th>4</th>\n",
       "      <td>00000003_000.png</td>\n",
       "      <td>Hernia</td>\n",
       "      <td>0</td>\n",
       "      <td>3</td>\n",
       "      <td>81</td>\n",
       "      <td>F</td>\n",
       "      <td>PA</td>\n",
       "      <td>2582</td>\n",
       "      <td>2991</td>\n",
       "      <td>0.143</td>\n",
       "      <td>0.143</td>\n",
       "      <td>NaN</td>\n",
       "    </tr>\n",
       "  </tbody>\n",
       "</table>\n",
       "</div>"
      ],
      "text/plain": [
       "        Image Index          Finding Labels  Follow-up #  Patient ID  \\\n",
       "0  00000001_000.png            Cardiomegaly            0           1   \n",
       "1  00000001_001.png  Cardiomegaly|Emphysema            1           1   \n",
       "2  00000001_002.png   Cardiomegaly|Effusion            2           1   \n",
       "3  00000002_000.png              No Finding            0           2   \n",
       "4  00000003_000.png                  Hernia            0           3   \n",
       "\n",
       "   Patient Age Patient Gender View Position  OriginalImage[Width  Height]  \\\n",
       "0           58              M            PA                 2682     2749   \n",
       "1           58              M            PA                 2894     2729   \n",
       "2           58              M            PA                 2500     2048   \n",
       "3           81              M            PA                 2500     2048   \n",
       "4           81              F            PA                 2582     2991   \n",
       "\n",
       "   OriginalImagePixelSpacing[x     y]  Unnamed: 11  \n",
       "0                        0.143  0.143          NaN  \n",
       "1                        0.143  0.143          NaN  \n",
       "2                        0.168  0.168          NaN  \n",
       "3                        0.171  0.171          NaN  \n",
       "4                        0.143  0.143          NaN  "
      ]
     },
     "execution_count": 42,
     "metadata": {},
     "output_type": "execute_result"
    }
   ],
   "source": [
    "labels_df.head()"
   ]
  },
  {
   "cell_type": "code",
   "execution_count": 43,
   "id": "7616c82c",
   "metadata": {
    "ExecuteTime": {
     "end_time": "2024-06-10T14:17:23.808453Z",
     "start_time": "2024-06-10T14:17:23.803793Z"
    }
   },
   "outputs": [],
   "source": [
    "unique_lab = labels_df['Finding Labels'].unique()"
   ]
  },
  {
   "cell_type": "code",
   "execution_count": 44,
   "id": "093a758b",
   "metadata": {
    "ExecuteTime": {
     "end_time": "2024-06-10T14:17:25.674360Z",
     "start_time": "2024-06-10T14:17:25.672399Z"
    }
   },
   "outputs": [
    {
     "data": {
      "text/plain": [
       "836"
      ]
     },
     "execution_count": 44,
     "metadata": {},
     "output_type": "execute_result"
    }
   ],
   "source": [
    "len(unique_lab)"
   ]
  },
  {
   "cell_type": "markdown",
   "id": "04b4c0e1",
   "metadata": {},
   "source": [
    "### Merging Images with labels and creating a new DF"
   ]
  },
  {
   "cell_type": "code",
   "execution_count": 45,
   "id": "d12b0aec",
   "metadata": {
    "ExecuteTime": {
     "end_time": "2024-06-10T14:17:27.555572Z",
     "start_time": "2024-06-10T14:17:27.522846Z"
    }
   },
   "outputs": [],
   "source": [
    "# Merge the image_df and labels_df dataframes on the 'Image Index' column\n",
    "merged_df = pd.merge(images_df, labels_df[['Image Index', 'Finding Labels']], left_index=True, right_on='Image Index', how='inner')\n",
    "\n",
    "# Rename the 'Finding Labels' column to 'labels'\n",
    "merged_df = merged_df.rename(columns={'Finding Labels': 'labels'})\n",
    "\n",
    "# Set the index of the dataframe to the 'Image Index' column\n",
    "merged_df = merged_df.set_index('Image Index').sort_index(ascending=True)"
   ]
  },
  {
   "cell_type": "code",
   "execution_count": 46,
   "id": "33ae856d",
   "metadata": {
    "ExecuteTime": {
     "end_time": "2024-06-10T14:17:29.626546Z",
     "start_time": "2024-06-10T14:17:29.444598Z"
    }
   },
   "outputs": [
    {
     "data": {
      "text/html": [
       "<div>\n",
       "<style scoped>\n",
       "    .dataframe tbody tr th:only-of-type {\n",
       "        vertical-align: middle;\n",
       "    }\n",
       "\n",
       "    .dataframe tbody tr th {\n",
       "        vertical-align: top;\n",
       "    }\n",
       "\n",
       "    .dataframe thead th {\n",
       "        text-align: right;\n",
       "    }\n",
       "</style>\n",
       "<table border=\"1\" class=\"dataframe\">\n",
       "  <thead>\n",
       "    <tr style=\"text-align: right;\">\n",
       "      <th></th>\n",
       "      <th>image</th>\n",
       "      <th>labels</th>\n",
       "    </tr>\n",
       "    <tr>\n",
       "      <th>Image Index</th>\n",
       "      <th></th>\n",
       "      <th></th>\n",
       "    </tr>\n",
       "  </thead>\n",
       "  <tbody>\n",
       "    <tr>\n",
       "      <th>00000007_000.png</th>\n",
       "      <td>[[0.06666666666666667, 0.11764705882352941, 0....</td>\n",
       "      <td>No Finding</td>\n",
       "    </tr>\n",
       "    <tr>\n",
       "      <th>00000013_008.png</th>\n",
       "      <td>[[0.0196078431372549, 0.027450980392156862, 0....</td>\n",
       "      <td>No Finding</td>\n",
       "    </tr>\n",
       "    <tr>\n",
       "      <th>00000013_020.png</th>\n",
       "      <td>[[0.16862745098039217, 0.13333333333333333, 0....</td>\n",
       "      <td>Pneumothorax</td>\n",
       "    </tr>\n",
       "    <tr>\n",
       "      <th>00000013_034.png</th>\n",
       "      <td>[[0.0392156862745098, 0.0392156862745098, 0.03...</td>\n",
       "      <td>Emphysema|Pneumothorax</td>\n",
       "    </tr>\n",
       "    <tr>\n",
       "      <th>00000017_000.png</th>\n",
       "      <td>[[0.06666666666666667, 0.07058823529411765, 0....</td>\n",
       "      <td>Effusion|Infiltration|Nodule</td>\n",
       "    </tr>\n",
       "  </tbody>\n",
       "</table>\n",
       "</div>"
      ],
      "text/plain": [
       "                                                              image  \\\n",
       "Image Index                                                           \n",
       "00000007_000.png  [[0.06666666666666667, 0.11764705882352941, 0....   \n",
       "00000013_008.png  [[0.0196078431372549, 0.027450980392156862, 0....   \n",
       "00000013_020.png  [[0.16862745098039217, 0.13333333333333333, 0....   \n",
       "00000013_034.png  [[0.0392156862745098, 0.0392156862745098, 0.03...   \n",
       "00000017_000.png  [[0.06666666666666667, 0.07058823529411765, 0....   \n",
       "\n",
       "                                        labels  \n",
       "Image Index                                     \n",
       "00000007_000.png                    No Finding  \n",
       "00000013_008.png                    No Finding  \n",
       "00000013_020.png                  Pneumothorax  \n",
       "00000013_034.png        Emphysema|Pneumothorax  \n",
       "00000017_000.png  Effusion|Infiltration|Nodule  "
      ]
     },
     "execution_count": 46,
     "metadata": {},
     "output_type": "execute_result"
    }
   ],
   "source": [
    "merged_df.head()"
   ]
  },
  {
   "cell_type": "markdown",
   "id": "c510e98e",
   "metadata": {},
   "source": [
    "### droping the rows with images of shape (256, 256, 4)"
   ]
  },
  {
   "cell_type": "code",
   "execution_count": 47,
   "id": "9bed4d30",
   "metadata": {
    "ExecuteTime": {
     "end_time": "2024-06-10T14:17:31.580539Z",
     "start_time": "2024-06-10T14:17:31.577331Z"
    }
   },
   "outputs": [
    {
     "name": "stdout",
     "output_type": "stream",
     "text": [
      "0\n"
     ]
    }
   ],
   "source": [
    "# Find the images with shape (256, 256, 4)\n",
    "images_with_shape_4 = [img for img in merged_df['image'] if np.shape(img) == (256, 256, 4)]\n",
    "\n",
    "# Print the number of images with shape (256, 256, 4)\n",
    "print(len(images_with_shape_4))\n"
   ]
  },
  {
   "cell_type": "code",
   "execution_count": 48,
   "id": "ded8a7d2",
   "metadata": {
    "ExecuteTime": {
     "end_time": "2024-06-10T14:17:33.475561Z",
     "start_time": "2024-06-10T14:17:33.471725Z"
    }
   },
   "outputs": [],
   "source": [
    "# Find the indices of the images with shape (256, 256, 4)\n",
    "indices_to_drop = merged_df[merged_df['image'].apply(lambda x: np.shape(x) == (256, 256, 4))].index\n",
    "\n",
    "# Drop the rows with the images with shape (256, 256, 4)\n",
    "merged_df = merged_df.drop(indices_to_drop)"
   ]
  },
  {
   "cell_type": "code",
   "execution_count": 49,
   "id": "9059ba4f",
   "metadata": {
    "ExecuteTime": {
     "end_time": "2024-06-10T14:17:35.379141Z",
     "start_time": "2024-06-10T14:17:35.376317Z"
    }
   },
   "outputs": [
    {
     "name": "stdout",
     "output_type": "stream",
     "text": [
      "0\n"
     ]
    }
   ],
   "source": [
    "# Find the images with shape (256, 256, 4)\n",
    "images_with_shape_4 = [img for img in merged_df['image'] if np.shape(img) == (256, 256, 4)]\n",
    "\n",
    "# Print the number of images with shape (256, 256, 4)\n",
    "print(len(images_with_shape_4))"
   ]
  },
  {
   "cell_type": "markdown",
   "id": "a8bbd3fc",
   "metadata": {},
   "source": [
    "### Encoding labels"
   ]
  },
  {
   "cell_type": "code",
   "execution_count": 50,
   "id": "426c34bc",
   "metadata": {
    "ExecuteTime": {
     "end_time": "2024-06-10T14:17:37.312719Z",
     "start_time": "2024-06-10T14:17:37.288849Z"
    }
   },
   "outputs": [],
   "source": [
    "# Define the list of labels\n",
    "labels = ['Atelectasis', 'Consolidation', 'Infiltration', 'Pneumothorax', 'Edema',\n",
    "           'Emphysema', 'Fibrosis', 'Effusion', 'Pneumonia', 'Pleural_Thickening',\n",
    "           'Cardiomegaly', 'Nodule', 'Mass', 'Hernia', 'No Finding']\n",
    "\n",
    "# Create a new dataframe with one-hot encoded columns for the labels\n",
    "one_hot_df = merged_df['labels'].str.get_dummies(sep='|')\n",
    "\n",
    "# Concatenate the one-hot encoded dataframe with the original dataframe\n",
    "merged_df = pd.concat([merged_df, one_hot_df], axis=1)\n"
   ]
  },
  {
   "cell_type": "code",
   "execution_count": 51,
   "id": "09dd0cc0",
   "metadata": {
    "ExecuteTime": {
     "end_time": "2024-06-10T14:17:39.205604Z",
     "start_time": "2024-06-10T14:17:39.203526Z"
    }
   },
   "outputs": [
    {
     "data": {
      "text/plain": [
       "Index(['image', 'labels', 'Atelectasis', 'Cardiomegaly', 'Consolidation',\n",
       "       'Edema', 'Effusion', 'Emphysema', 'Fibrosis', 'Hernia', 'Infiltration',\n",
       "       'Mass', 'No Finding', 'Nodule', 'Pleural_Thickening', 'Pneumonia',\n",
       "       'Pneumothorax'],\n",
       "      dtype='object')"
      ]
     },
     "execution_count": 51,
     "metadata": {},
     "output_type": "execute_result"
    }
   ],
   "source": [
    "merged_df.columns"
   ]
  },
  {
   "cell_type": "markdown",
   "id": "748dc4b7",
   "metadata": {},
   "source": [
    "## Creating 'X' and 'y'"
   ]
  },
  {
   "cell_type": "code",
   "execution_count": 52,
   "id": "df2d7cba",
   "metadata": {
    "ExecuteTime": {
     "end_time": "2024-06-10T14:17:41.090543Z",
     "start_time": "2024-06-10T14:17:41.088833Z"
    }
   },
   "outputs": [],
   "source": [
    "y = one_hot_df[['No Finding']]"
   ]
  },
  {
   "cell_type": "code",
   "execution_count": 89,
   "id": "a1909302",
   "metadata": {
    "ExecuteTime": {
     "end_time": "2024-06-10T15:55:30.537831Z",
     "start_time": "2024-06-10T15:55:30.524219Z"
    }
   },
   "outputs": [
    {
     "data": {
      "text/html": [
       "<div>\n",
       "<style scoped>\n",
       "    .dataframe tbody tr th:only-of-type {\n",
       "        vertical-align: middle;\n",
       "    }\n",
       "\n",
       "    .dataframe tbody tr th {\n",
       "        vertical-align: top;\n",
       "    }\n",
       "\n",
       "    .dataframe thead th {\n",
       "        text-align: right;\n",
       "    }\n",
       "</style>\n",
       "<table border=\"1\" class=\"dataframe\">\n",
       "  <thead>\n",
       "    <tr style=\"text-align: right;\">\n",
       "      <th></th>\n",
       "      <th>No Finding</th>\n",
       "    </tr>\n",
       "    <tr>\n",
       "      <th>Image Index</th>\n",
       "      <th></th>\n",
       "    </tr>\n",
       "  </thead>\n",
       "  <tbody>\n",
       "    <tr>\n",
       "      <th>00030300_006.png</th>\n",
       "      <td>0</td>\n",
       "    </tr>\n",
       "    <tr>\n",
       "      <th>00030300_007.png</th>\n",
       "      <td>0</td>\n",
       "    </tr>\n",
       "    <tr>\n",
       "      <th>00030300_012.png</th>\n",
       "      <td>0</td>\n",
       "    </tr>\n",
       "    <tr>\n",
       "      <th>00030323_008.png</th>\n",
       "      <td>0</td>\n",
       "    </tr>\n",
       "    <tr>\n",
       "      <th>00030323_034.png</th>\n",
       "      <td>0</td>\n",
       "    </tr>\n",
       "    <tr>\n",
       "      <th>00030327_000.png</th>\n",
       "      <td>0</td>\n",
       "    </tr>\n",
       "    <tr>\n",
       "      <th>00030337_000.png</th>\n",
       "      <td>0</td>\n",
       "    </tr>\n",
       "    <tr>\n",
       "      <th>00030345_000.png</th>\n",
       "      <td>1</td>\n",
       "    </tr>\n",
       "    <tr>\n",
       "      <th>00030355_000.png</th>\n",
       "      <td>0</td>\n",
       "    </tr>\n",
       "    <tr>\n",
       "      <th>00030413_003.png</th>\n",
       "      <td>0</td>\n",
       "    </tr>\n",
       "    <tr>\n",
       "      <th>00030447_000.png</th>\n",
       "      <td>1</td>\n",
       "    </tr>\n",
       "    <tr>\n",
       "      <th>00030457_000.png</th>\n",
       "      <td>0</td>\n",
       "    </tr>\n",
       "    <tr>\n",
       "      <th>00030457_001.png</th>\n",
       "      <td>0</td>\n",
       "    </tr>\n",
       "    <tr>\n",
       "      <th>00030468_000.png</th>\n",
       "      <td>1</td>\n",
       "    </tr>\n",
       "    <tr>\n",
       "      <th>00030471_002.png</th>\n",
       "      <td>0</td>\n",
       "    </tr>\n",
       "    <tr>\n",
       "      <th>00030471_003.png</th>\n",
       "      <td>1</td>\n",
       "    </tr>\n",
       "    <tr>\n",
       "      <th>00030478_000.png</th>\n",
       "      <td>1</td>\n",
       "    </tr>\n",
       "    <tr>\n",
       "      <th>00030500_000.png</th>\n",
       "      <td>1</td>\n",
       "    </tr>\n",
       "    <tr>\n",
       "      <th>00030510_000.png</th>\n",
       "      <td>1</td>\n",
       "    </tr>\n",
       "    <tr>\n",
       "      <th>00030519_002.png</th>\n",
       "      <td>0</td>\n",
       "    </tr>\n",
       "    <tr>\n",
       "      <th>00030519_003.png</th>\n",
       "      <td>0</td>\n",
       "    </tr>\n",
       "    <tr>\n",
       "      <th>00030536_002.png</th>\n",
       "      <td>1</td>\n",
       "    </tr>\n",
       "    <tr>\n",
       "      <th>00030562_000.png</th>\n",
       "      <td>1</td>\n",
       "    </tr>\n",
       "    <tr>\n",
       "      <th>00030572_000.png</th>\n",
       "      <td>0</td>\n",
       "    </tr>\n",
       "    <tr>\n",
       "      <th>00030573_004.png</th>\n",
       "      <td>0</td>\n",
       "    </tr>\n",
       "    <tr>\n",
       "      <th>00030573_005.png</th>\n",
       "      <td>1</td>\n",
       "    </tr>\n",
       "    <tr>\n",
       "      <th>00030573_010.png</th>\n",
       "      <td>1</td>\n",
       "    </tr>\n",
       "    <tr>\n",
       "      <th>00030573_011.png</th>\n",
       "      <td>1</td>\n",
       "    </tr>\n",
       "    <tr>\n",
       "      <th>00030586_000.png</th>\n",
       "      <td>0</td>\n",
       "    </tr>\n",
       "    <tr>\n",
       "      <th>00030596_000.png</th>\n",
       "      <td>1</td>\n",
       "    </tr>\n",
       "    <tr>\n",
       "      <th>00030604_000.png</th>\n",
       "      <td>1</td>\n",
       "    </tr>\n",
       "    <tr>\n",
       "      <th>00030604_001.png</th>\n",
       "      <td>1</td>\n",
       "    </tr>\n",
       "    <tr>\n",
       "      <th>00030609_022.png</th>\n",
       "      <td>0</td>\n",
       "    </tr>\n",
       "    <tr>\n",
       "      <th>00030609_023.png</th>\n",
       "      <td>1</td>\n",
       "    </tr>\n",
       "    <tr>\n",
       "      <th>00030614_000.png</th>\n",
       "      <td>0</td>\n",
       "    </tr>\n",
       "    <tr>\n",
       "      <th>00030636_022.png</th>\n",
       "      <td>0</td>\n",
       "    </tr>\n",
       "    <tr>\n",
       "      <th>00030640_002.png</th>\n",
       "      <td>0</td>\n",
       "    </tr>\n",
       "    <tr>\n",
       "      <th>00030649_000.png</th>\n",
       "      <td>1</td>\n",
       "    </tr>\n",
       "    <tr>\n",
       "      <th>00030650_002.png</th>\n",
       "      <td>0</td>\n",
       "    </tr>\n",
       "    <tr>\n",
       "      <th>00030651_007.png</th>\n",
       "      <td>0</td>\n",
       "    </tr>\n",
       "    <tr>\n",
       "      <th>00030659_000.png</th>\n",
       "      <td>0</td>\n",
       "    </tr>\n",
       "    <tr>\n",
       "      <th>00030659_001.png</th>\n",
       "      <td>1</td>\n",
       "    </tr>\n",
       "    <tr>\n",
       "      <th>00030666_000.png</th>\n",
       "      <td>1</td>\n",
       "    </tr>\n",
       "    <tr>\n",
       "      <th>00030676_000.png</th>\n",
       "      <td>1</td>\n",
       "    </tr>\n",
       "    <tr>\n",
       "      <th>00030682_001.png</th>\n",
       "      <td>1</td>\n",
       "    </tr>\n",
       "    <tr>\n",
       "      <th>00030720_004.png</th>\n",
       "      <td>1</td>\n",
       "    </tr>\n",
       "    <tr>\n",
       "      <th>00030721_000.png</th>\n",
       "      <td>1</td>\n",
       "    </tr>\n",
       "    <tr>\n",
       "      <th>00030731_000.png</th>\n",
       "      <td>1</td>\n",
       "    </tr>\n",
       "    <tr>\n",
       "      <th>00030753_001.png</th>\n",
       "      <td>1</td>\n",
       "    </tr>\n",
       "    <tr>\n",
       "      <th>00030788_000.png</th>\n",
       "      <td>1</td>\n",
       "    </tr>\n",
       "  </tbody>\n",
       "</table>\n",
       "</div>"
      ],
      "text/plain": [
       "                  No Finding\n",
       "Image Index                 \n",
       "00030300_006.png           0\n",
       "00030300_007.png           0\n",
       "00030300_012.png           0\n",
       "00030323_008.png           0\n",
       "00030323_034.png           0\n",
       "00030327_000.png           0\n",
       "00030337_000.png           0\n",
       "00030345_000.png           1\n",
       "00030355_000.png           0\n",
       "00030413_003.png           0\n",
       "00030447_000.png           1\n",
       "00030457_000.png           0\n",
       "00030457_001.png           0\n",
       "00030468_000.png           1\n",
       "00030471_002.png           0\n",
       "00030471_003.png           1\n",
       "00030478_000.png           1\n",
       "00030500_000.png           1\n",
       "00030510_000.png           1\n",
       "00030519_002.png           0\n",
       "00030519_003.png           0\n",
       "00030536_002.png           1\n",
       "00030562_000.png           1\n",
       "00030572_000.png           0\n",
       "00030573_004.png           0\n",
       "00030573_005.png           1\n",
       "00030573_010.png           1\n",
       "00030573_011.png           1\n",
       "00030586_000.png           0\n",
       "00030596_000.png           1\n",
       "00030604_000.png           1\n",
       "00030604_001.png           1\n",
       "00030609_022.png           0\n",
       "00030609_023.png           1\n",
       "00030614_000.png           0\n",
       "00030636_022.png           0\n",
       "00030640_002.png           0\n",
       "00030649_000.png           1\n",
       "00030650_002.png           0\n",
       "00030651_007.png           0\n",
       "00030659_000.png           0\n",
       "00030659_001.png           1\n",
       "00030666_000.png           1\n",
       "00030676_000.png           1\n",
       "00030682_001.png           1\n",
       "00030720_004.png           1\n",
       "00030721_000.png           1\n",
       "00030731_000.png           1\n",
       "00030753_001.png           1\n",
       "00030788_000.png           1"
      ]
     },
     "execution_count": 89,
     "metadata": {},
     "output_type": "execute_result"
    }
   ],
   "source": [
    "y.tail(50)"
   ]
  },
  {
   "cell_type": "code",
   "execution_count": 54,
   "id": "204b7dc6",
   "metadata": {
    "ExecuteTime": {
     "end_time": "2024-06-10T14:17:44.917186Z",
     "start_time": "2024-06-10T14:17:44.907355Z"
    }
   },
   "outputs": [],
   "source": [
    "X = merged_df['image']"
   ]
  },
  {
   "cell_type": "code",
   "execution_count": 55,
   "id": "f7fac4de",
   "metadata": {
    "ExecuteTime": {
     "end_time": "2024-06-10T14:17:47.327990Z",
     "start_time": "2024-06-10T14:17:47.324549Z"
    }
   },
   "outputs": [
    {
     "name": "stdout",
     "output_type": "stream",
     "text": [
      "<class 'pandas.core.series.Series'>\n",
      "Index: 5000 entries, 00000007_000.png to 00030788_000.png\n",
      "Series name: image\n",
      "Non-Null Count  Dtype \n",
      "--------------  ----- \n",
      "5000 non-null   object\n",
      "dtypes: object(1)\n",
      "memory usage: 2.4 GB\n"
     ]
    }
   ],
   "source": [
    "X.info(memory_usage='deep')"
   ]
  },
  {
   "cell_type": "code",
   "execution_count": 56,
   "id": "f8a6a99c",
   "metadata": {
    "ExecuteTime": {
     "end_time": "2024-06-10T14:17:50.707807Z",
     "start_time": "2024-06-10T14:17:49.716492Z"
    },
    "scrolled": true
   },
   "outputs": [],
   "source": [
    "X = np.array([np.reshape(img, (256, 256, 1)) for img in X])"
   ]
  },
  {
   "cell_type": "code",
   "execution_count": 57,
   "id": "2c1b7442",
   "metadata": {
    "ExecuteTime": {
     "end_time": "2024-06-10T14:17:52.622837Z",
     "start_time": "2024-06-10T14:17:52.620912Z"
    }
   },
   "outputs": [
    {
     "data": {
      "text/plain": [
       "(5000, 256, 256, 1)"
      ]
     },
     "execution_count": 57,
     "metadata": {},
     "output_type": "execute_result"
    }
   ],
   "source": [
    "X.shape"
   ]
  },
  {
   "cell_type": "code",
   "execution_count": 58,
   "id": "49a860ae",
   "metadata": {
    "ExecuteTime": {
     "end_time": "2024-06-10T14:17:56.771112Z",
     "start_time": "2024-06-10T14:17:54.505110Z"
    }
   },
   "outputs": [],
   "source": [
    "from sklearn.model_selection import train_test_split\n",
    "X_train, X_test, y_train, y_test = train_test_split(X, y, test_size=0.3, random_state=42, stratify=y)\n",
    "X_train, X_val, y_train, y_val = train_test_split(X_train, y_train, test_size=0.15, random_state=42, stratify=y_train)"
   ]
  },
  {
   "cell_type": "markdown",
   "id": "d6f1117d",
   "metadata": {},
   "source": [
    "## Model"
   ]
  },
  {
   "cell_type": "code",
   "execution_count": 84,
   "id": "43deb319",
   "metadata": {
    "ExecuteTime": {
     "end_time": "2024-06-10T15:23:05.640502Z",
     "start_time": "2024-06-10T15:23:05.543324Z"
    }
   },
   "outputs": [
    {
     "name": "stdout",
     "output_type": "stream",
     "text": [
      "Model: \"sequential_5\"\n",
      "_________________________________________________________________\n",
      " Layer (type)                Output Shape              Param #   \n",
      "=================================================================\n",
      " conv2d_15 (Conv2D)          (None, 254, 254, 32)      320       \n",
      "                                                                 \n",
      " conv2d_16 (Conv2D)          (None, 252, 252, 64)      18496     \n",
      "                                                                 \n",
      " max_pooling2d_12 (MaxPooli  (None, 126, 126, 64)      0         \n",
      " ng2D)                                                           \n",
      "                                                                 \n",
      " dropout_12 (Dropout)        (None, 126, 126, 64)      0         \n",
      "                                                                 \n",
      " conv2d_17 (Conv2D)          (None, 124, 124, 64)      36928     \n",
      "                                                                 \n",
      " max_pooling2d_13 (MaxPooli  (None, 62, 62, 64)        0         \n",
      " ng2D)                                                           \n",
      "                                                                 \n",
      " dropout_13 (Dropout)        (None, 62, 62, 64)        0         \n",
      "                                                                 \n",
      " conv2d_18 (Conv2D)          (None, 60, 60, 128)       73856     \n",
      "                                                                 \n",
      " max_pooling2d_14 (MaxPooli  (None, 30, 30, 128)       0         \n",
      " ng2D)                                                           \n",
      "                                                                 \n",
      " dropout_14 (Dropout)        (None, 30, 30, 128)       0         \n",
      "                                                                 \n",
      " flatten_5 (Flatten)         (None, 115200)            0         \n",
      "                                                                 \n",
      " dense_6 (Dense)             (None, 64)                7372864   \n",
      "                                                                 \n",
      " dropout_15 (Dropout)        (None, 64)                0         \n",
      "                                                                 \n",
      " dense_7 (Dense)             (None, 1)                 65        \n",
      "                                                                 \n",
      "=================================================================\n",
      "Total params: 7502529 (28.62 MB)\n",
      "Trainable params: 7502529 (28.62 MB)\n",
      "Non-trainable params: 0 (0.00 Byte)\n",
      "_________________________________________________________________\n"
     ]
    }
   ],
   "source": [
    "import tensorflow as tf\n",
    "from tensorflow.keras.models import Sequential\n",
    "from tensorflow.keras.layers import Conv2D, MaxPooling2D, Flatten, Dense, Dropout\n",
    "\n",
    "# Create a Sequential model\n",
    "model = Sequential()\n",
    "\n",
    "model.add(Conv2D(32, (3, 3), activation='relu', input_shape=(256, 256, 1)))\n",
    "model.add(Conv2D(64,(3,3), activation='relu'))\n",
    "model.add(MaxPooling2D(pool_size=(2, 2)))\n",
    "model.add(Dropout(0.25))\n",
    "\n",
    "model.add(Conv2D(64, (3, 3), activation='relu'))\n",
    "model.add(MaxPooling2D(pool_size=(2, 2)))\n",
    "model.add(Dropout(0.25))\n",
    "\n",
    "model.add(Conv2D(128, (3, 3), activation='relu'))\n",
    "model.add(MaxPooling2D(pool_size=(2, 2)))\n",
    "model.add(Dropout(0.25))\n",
    "\n",
    "model.add(Flatten())\n",
    "model.add(Dense(64, activation='relu'))\n",
    "model.add(Dropout(0.5))\n",
    "\n",
    "model.add(Dense(1, activation='sigmoid'))\n",
    "\n",
    "model.compile(loss='binary_crossentropy', optimizer='adam', metrics=['accuracy'])\n",
    "\n",
    "model.summary()"
   ]
  },
  {
   "cell_type": "code",
   "execution_count": 85,
   "id": "2a891091",
   "metadata": {
    "ExecuteTime": {
     "end_time": "2024-06-10T15:53:51.952812Z",
     "start_time": "2024-06-10T15:23:19.787227Z"
    }
   },
   "outputs": [
    {
     "name": "stdout",
     "output_type": "stream",
     "text": [
      "Epoch 1/30\n",
      "186/186 [==============================] - 168s 901ms/step - loss: 0.7917 - accuracy: 0.5237 - val_loss: 0.6916 - val_accuracy: 0.5295\n",
      "Epoch 2/30\n",
      "186/186 [==============================] - 176s 948ms/step - loss: 0.6881 - accuracy: 0.5439 - val_loss: 0.6817 - val_accuracy: 0.5295\n",
      "Epoch 3/30\n",
      "186/186 [==============================] - 195s 1s/step - loss: 0.6785 - accuracy: 0.5576 - val_loss: 0.6748 - val_accuracy: 0.5543\n",
      "Epoch 4/30\n",
      "186/186 [==============================] - 182s 979ms/step - loss: 0.6818 - accuracy: 0.5704 - val_loss: 0.6746 - val_accuracy: 0.5695\n",
      "Epoch 5/30\n",
      "186/186 [==============================] - 183s 985ms/step - loss: 0.6720 - accuracy: 0.5815 - val_loss: 0.6697 - val_accuracy: 0.5848\n",
      "Epoch 6/30\n",
      "186/186 [==============================] - 180s 966ms/step - loss: 0.6716 - accuracy: 0.5953 - val_loss: 0.6818 - val_accuracy: 0.5657\n",
      "Epoch 7/30\n",
      "186/186 [==============================] - 188s 1s/step - loss: 0.6640 - accuracy: 0.6067 - val_loss: 0.6636 - val_accuracy: 0.5886\n",
      "Epoch 8/30\n",
      "186/186 [==============================] - 183s 983ms/step - loss: 0.6626 - accuracy: 0.6024 - val_loss: 0.6640 - val_accuracy: 0.6076\n",
      "Epoch 9/30\n",
      "186/186 [==============================] - 189s 1s/step - loss: 0.6572 - accuracy: 0.6094 - val_loss: 0.6724 - val_accuracy: 0.5981\n",
      "Epoch 10/30\n",
      "186/186 [==============================] - 188s 1s/step - loss: 0.6581 - accuracy: 0.6094 - val_loss: 0.6659 - val_accuracy: 0.5962\n"
     ]
    }
   ],
   "source": [
    "from tensorflow.keras.callbacks import EarlyStopping\n",
    "\n",
    "es = EarlyStopping(patience=3, restore_best_weights=True)\n",
    "\n",
    "history = model.fit(X_train, y_train,\n",
    "                    batch_size=16, \n",
    "                    epochs=30,   \n",
    "                    validation_data=(X_val, y_val),\n",
    "                    callbacks=[es],\n",
    "                    verbose=1)"
   ]
  },
  {
   "cell_type": "code",
   "execution_count": 86,
   "id": "5475eed0",
   "metadata": {
    "ExecuteTime": {
     "end_time": "2024-06-10T15:54:22.999761Z",
     "start_time": "2024-06-10T15:54:01.071591Z"
    }
   },
   "outputs": [
    {
     "name": "stdout",
     "output_type": "stream",
     "text": [
      "47/47 - 22s - loss: 0.6525 - accuracy: 0.6253 - 22s/epoch - 458ms/step\n",
      "Test accuracy: 0.625333309173584\n"
     ]
    }
   ],
   "source": [
    "# Evaluate the model on the testing data\n",
    "test_loss, test_accuracy = model.evaluate(X_test, y_test, verbose=2)\n",
    "\n",
    "print(f\"Test accuracy: {test_accuracy}\")"
   ]
  },
  {
   "cell_type": "code",
   "execution_count": 76,
   "id": "4c1e2668",
   "metadata": {
    "ExecuteTime": {
     "end_time": "2024-06-10T14:44:29.464613Z",
     "start_time": "2024-06-10T14:44:29.458894Z"
    }
   },
   "outputs": [],
   "source": [
    "img_path = '/Users/arnodebelle/code/sachamagier/chest-predictor/raw_data/raw_dataset/images_001/images/00000003_004.png'  # replace with your image path\n"
   ]
  },
  {
   "cell_type": "code",
   "execution_count": 90,
   "id": "4d6ef32d",
   "metadata": {
    "ExecuteTime": {
     "end_time": "2024-06-10T15:55:49.254904Z",
     "start_time": "2024-06-10T15:55:49.104826Z"
    }
   },
   "outputs": [
    {
     "name": "stdout",
     "output_type": "stream",
     "text": [
      "1/1 [==============================] - 0s 31ms/step\n"
     ]
    },
    {
     "data": {
      "image/png": "[encoded data removed]",
      "text/plain": [
       "<Figure size 640x480 with 1 Axes>"
      ]
     },
     "metadata": {},
     "output_type": "display_data"
    }
   ],
   "source": [
    "import numpy as np\n",
    "import matplotlib.pyplot as plt\n",
    "from tensorflow.keras.preprocessing import image\n",
    "\n",
    "# Load the image\n",
    "img_path = '/Users/arnodebelle/code/sachamagier/chest-predictor/raw_data/resized_dataset/images/set_full/00030659_000.png'  # Replace with the path to your image\n",
    "img = image.load_img(img_path, target_size=(256, 256), color_mode = \"grayscale\")\n",
    "\n",
    "# Preprocess the image (e.g., normalization)\n",
    "# Assuming that you've preprocessed your training data by dividing the pixel values by 255\n",
    "x = image.img_to_array(img) / 255.0\n",
    "x = np.expand_dims(x, axis=0)  # Add a batch dimension (required by the model)\n",
    "\n",
    "# Load the saved model\n",
    "#model_path = \"path/to/your/model_file.h5\"  # Replace with the path to your saved model\n",
    "#model = load_model(model_path)\n",
    "\n",
    "# Make a prediction\n",
    "probability = model.predict(x)[0, 0]\n",
    "\n",
    "# Convert the probability to a binary label (0 or 1)\n",
    "label = int(probability >= 0.5)\n",
    "\n",
    "# Display the image and the prediction result\n",
    "plt.imshow(img, cmap=\"gray\")\n",
    "plt.title(f\"Prediction: {'No Finding' if label == 1 else 'No Finding'}\\nProbability: {probability:.2f}\")\n",
    "plt.axis(\"off\")\n",
    "plt.show()"
   ]
  },
  {
   "cell_type": "code",
   "execution_count": 79,
   "id": "c6c60395",
   "metadata": {
    "ExecuteTime": {
     "end_time": "2024-06-10T14:47:13.948300Z",
     "start_time": "2024-06-10T14:47:13.940572Z"
    }
   },
   "outputs": [
    {
     "data": {
      "text/plain": [
       "0.585111"
      ]
     },
     "execution_count": 79,
     "metadata": {},
     "output_type": "execute_result"
    }
   ],
   "source": [
    "probability"
   ]
  },
  {
   "cell_type": "markdown",
   "id": "1d8560cf",
   "metadata": {},
   "source": [
    "## Save the model"
   ]
  },
  {
   "cell_type": "code",
   "execution_count": 80,
   "id": "58880e0d",
   "metadata": {
    "ExecuteTime": {
     "end_time": "2024-06-10T15:15:06.283688Z",
     "start_time": "2024-06-10T15:15:06.156864Z"
    }
   },
   "outputs": [],
   "source": [
    "# Save the entire model (architecture, optimizer state, and weights)\n",
    "model_filepath = '/Users/arnodebelle/code/sachamagier/chest-predictor/raw_data/model_binary_accuracy_058.keras'\n",
    "model.save(model_filepath)"
   ]
  },
  {
   "cell_type": "code",
   "execution_count": 81,
   "id": "4ced1a1d",
   "metadata": {
    "ExecuteTime": {
     "end_time": "2024-06-10T15:15:41.150297Z",
     "start_time": "2024-06-10T15:15:41.088295Z"
    }
   },
   "outputs": [],
   "source": [
    "# Save only the model's weights\n",
    "weights_filepath = '/Users/arnodebelle/code/sachamagier/chest-predictor/raw_data/weight_binary_accuracy_058.keras'\n",
    "model.save_weights(weights_filepath)"
   ]
  },
  {
   "cell_type": "markdown",
   "id": "3977482e",
   "metadata": {},
   "source": [
    "## loading model"
   ]
  },
  {
   "cell_type": "code",
   "execution_count": null,
   "id": "a9775217",
   "metadata": {},
   "outputs": [],
   "source": [
    "from tensorflow.keras.models import load_model\n",
    "\n",
    "# Load the entire model (architecture, optimizer state, and weights)\n",
    "loaded_model = load_model(model_filepath)\n"
   ]
  },
  {
   "cell_type": "code",
   "execution_count": null,
   "id": "984d6bd1",
   "metadata": {},
   "outputs": [],
   "source": [
    "# Create a new instance of the model with the same architecture\n",
    "new_model = ...  # Define the model architecture as before\n",
    "\n",
    "# Load the weights into the new model\n",
    "new_model.load_weights(weights_filepath)\n"
   ]
  }
 ],
 "metadata": {
  "kernelspec": {
   "display_name": "Python 3 (ipykernel)",
   "language": "python",
   "name": "python3"
  },
  "language_info": {
   "codemirror_mode": {
    "name": "ipython",
    "version": 3
   },
   "file_extension": ".py",
   "mimetype": "text/x-python",
   "name": "python",
   "nbconvert_exporter": "python",
   "pygments_lexer": "ipython3",
   "version": "3.10.6"
  },
  "toc": {
   "base_numbering": 1,
   "nav_menu": {},
   "number_sections": true,
   "sideBar": true,
   "skip_h1_title": false,
   "title_cell": "Table of Contents",
   "title_sidebar": "Contents",
   "toc_cell": false,
   "toc_position": {
    "height": "calc(100% - 180px)",
    "left": "10px",
    "top": "150px",
    "width": "165px"
   },
   "toc_section_display": true,
   "toc_window_display": true
  },
  "varInspector": {
   "cols": {
    "lenName": 16,
    "lenType": 16,
    "lenVar": 40
   },
   "kernels_config": {
    "python": {
     "delete_cmd_postfix": "",
     "delete_cmd_prefix": "del ",
     "library": "var_list.py",
     "varRefreshCmd": "print(var_dic_list())"
    },
    "r": {
     "delete_cmd_postfix": ") ",
     "delete_cmd_prefix": "rm(",
     "library": "var_list.r",
     "varRefreshCmd": "cat(var_dic_list()) "
    }
   },
   "types_to_exclude": [
    "module",
    "function",
    "builtin_function_or_method",
    "instance",
    "_Feature"
   ],
   "window_display": false
  }
 },
 "nbformat": 4,
 "nbformat_minor": 5
}
