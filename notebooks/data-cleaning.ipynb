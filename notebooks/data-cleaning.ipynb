{
 "cells": [
  {
   "cell_type": "markdown",
   "id": "b17700cc-53b0-4ce6-b6a7-8ecc22d9f289",
   "metadata": {},
   "source": [
    "# Chest-prediction"
   ]
  },
  {
   "cell_type": "markdown",
   "id": "5faad179-7472-4314-8936-5ad2b1749114",
   "metadata": {},
   "source": [
    "## data cleaning"
   ]
  },
  {
   "cell_type": "code",
   "execution_count": 1,
   "id": "7a9eed3c-4b31-42ba-b768-5247fe54bd26",
   "metadata": {
    "ExecuteTime": {
     "end_time": "2024-06-03T13:49:15.857219Z",
     "start_time": "2024-06-03T13:49:15.682858Z"
    }
   },
   "outputs": [],
   "source": [
    "import numpy as np\n",
    "import pandas as pd\n",
    "\n",
    "import os\n",
    "from pathlib import Path\n",
    "import subprocess"
   ]
  },
  {
   "cell_type": "code",
   "execution_count": null,
   "id": "047d9cbb",
   "metadata": {},
   "outputs": [],
   "source": [
    "PROJECT_NAME = \"chest-predictor\" #to be adapted depending on the name of the Project Name in your system\n",
    "NUMBER_OF_IMAGES = '100' # nbr of images to be loaded or 'full' to load the entire dataset (+100k images)"
   ]
  },
  {
   "cell_type": "code",
   "execution_count": 2,
   "id": "10b88e32",
   "metadata": {
    "ExecuteTime": {
     "end_time": "2024-06-03T13:49:16.362822Z",
     "start_time": "2024-06-03T13:49:16.359141Z"
    }
   },
   "outputs": [],
   "source": [
    "USERNAME = os.environ.get('USER')"
   ]
  },
  {
   "cell_type": "code",
   "execution_count": 3,
   "id": "ff1e5898",
   "metadata": {
    "ExecuteTime": {
     "end_time": "2024-06-03T13:49:16.913570Z",
     "start_time": "2024-06-03T13:49:16.909537Z"
    }
   },
   "outputs": [],
   "source": [
    "LOCAL_DATA_PATH = Path(f\"/home/{USERNAME}/code/sachamagier/{PROJECT_NAME}/raw_data/resized_data/images"
   ]
  },
  {
   "cell_type": "code",
   "execution_count": null,
   "id": "9eb88e17",
   "metadata": {},
   "outputs": [],
   "source": [
    "def loading_data():\n",
    "    \n",
    "    images_data = []\n",
    "    \n",
    "    # Define the path to the folder\n",
    "    folder_path = f'../raw_data/resized_dataset/images/'\n",
    "    # Get a list of all files in the folder\n",
    "    file_list = os.listdir(folder_path)\n",
    "\n",
    "    \n",
    "    if NUMBER_OF_IMAGES == 'full':\n",
    "        \n",
    "        # Loop over the range of folder numbers\n",
    "        for folder_num in range(1, 13): #13\n",
    "\n",
    "            # Filter the list to only include image files\n",
    "            image_files = [f for f in file_list if f.endswith('.png') or f.endswith('.jpg') or f.endswith('.jpeg')]\n",
    "\n",
    "            # Loop through the image files\n",
    "            for image_file in image_files:\n",
    "                # Open the image file\n",
    "                image = Image.open(folder_path + image_file)\n",
    "                # Add the image to the list\n",
    "                images_data.append((image_file, image))\n",
    "    \n",
    "    else:\n",
    "\n",
    "        # Filter the list to only include image files\n",
    "        image_files = [f for f in file_list if f.endswith('.png') or f.endswith('.jpg') or f.endswith('.jpeg')]\n",
    "        \n",
    "        # Loop through the first NUMBER_OF_IMAGES\n",
    "        for i, image_file in enumerate(image_files):\n",
    "            \n",
    "            # Stop the loop after NUMBER_OF_IMAGES iterations\n",
    "            if i == NUMBER_OF_IMAGES:\n",
    "                break\n",
    "            \n",
    "            # Open the image file\n",
    "            image = Image.open(folder_path + image_file)\n",
    "            \n",
    "            # Add the image to the list\n",
    "            images_data.append((image_file, image))\n",
    "    \n",
    "    return images_data"
   ]
  },
  {
   "cell_type": "code",
   "execution_count": 4,
   "id": "1b06e06b",
   "metadata": {
    "ExecuteTime": {
     "end_time": "2024-06-03T13:49:17.856326Z",
     "start_time": "2024-06-03T13:49:17.686703Z"
    }
   },
   "outputs": [
    {
     "name": "stdout",
     "output_type": "stream",
     "text": [
      "Downloading data from Kaggle...\n"
     ]
    },
    {
     "name": "stderr",
     "output_type": "stream",
     "text": [
      "Traceback (most recent call last):\n",
      "  File \"/Users/arnodebelle/.pyenv/versions/chest_predictor/bin/kaggle\", line 5, in <module>\n",
      "    from kaggle.cli import main\n",
      "  File \"/Users/arnodebelle/.pyenv/versions/3.10.6/envs/chest_predictor/lib/python3.10/site-packages/kaggle/__init__.py\", line 23, in <module>\n",
      "    api.authenticate()\n",
      "  File \"/Users/arnodebelle/.pyenv/versions/3.10.6/envs/chest_predictor/lib/python3.10/site-packages/kaggle/api/kaggle_api_extended.py\", line 164, in authenticate\n",
      "    raise IOError('Could not find {}. Make sure it\\'s located in'\n",
      "OSError: Could not find kaggle.json. Make sure it's located in /Users/arnodebelle/.kaggle. Or use the environment method.\n"
     ]
    }
   ],
   "source": [
    "if LOCAL_DATA_PATH.is_dir():\n",
    "    print(\"Load local data...\")\n",
    "    # loading data into data\n",
    "    \n",
    "    images_data = loading_data()\n",
    "\n",
    "else:\n",
    "    print(\"Downloading data from Google Drive...\")\n",
    "    \n",
    "    # downloading data from kaggle and saving it into 'raw_data'\n",
    "    subprocess.run([\"kaggle\", \"datasets\", \"download\", \"-d\", \"nih-chest-xrays/data\", \"-p\", str(LOCAL_DATA_PATH)])\n"
   ]
  },
  {
   "cell_type": "code",
   "execution_count": null,
   "id": "c1cc0c8a",
   "metadata": {},
   "outputs": [],
   "source": []
  }
 ],
 "metadata": {
  "kernelspec": {
   "display_name": "Python 3 (ipykernel)",
   "language": "python",
   "name": "python3"
  },
  "language_info": {
   "codemirror_mode": {
    "name": "ipython",
    "version": 3
   },
   "file_extension": ".py",
   "mimetype": "text/x-python",
   "name": "python",
   "nbconvert_exporter": "python",
   "pygments_lexer": "ipython3",
   "version": "3.10.6"
  },
  "toc": {
   "base_numbering": 1,
   "nav_menu": {},
   "number_sections": true,
   "sideBar": true,
   "skip_h1_title": false,
   "title_cell": "Table of Contents",
   "title_sidebar": "Contents",
   "toc_cell": false,
   "toc_position": {},
   "toc_section_display": true,
   "toc_window_display": true
  },
  "varInspector": {
   "cols": {
    "lenName": 16,
    "lenType": 16,
    "lenVar": 40
   },
   "kernels_config": {
    "python": {
     "delete_cmd_postfix": "",
     "delete_cmd_prefix": "del ",
     "library": "var_list.py",
     "varRefreshCmd": "print(var_dic_list())"
    },
    "r": {
     "delete_cmd_postfix": ") ",
     "delete_cmd_prefix": "rm(",
     "library": "var_list.r",
     "varRefreshCmd": "cat(var_dic_list()) "
    }
   },
   "types_to_exclude": [
    "module",
    "function",
    "builtin_function_or_method",
    "instance",
    "_Feature"
   ],
   "window_display": false
  }
 },
 "nbformat": 4,
 "nbformat_minor": 5
}
