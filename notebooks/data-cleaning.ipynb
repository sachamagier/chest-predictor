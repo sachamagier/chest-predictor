{
 "cells": [
  {
   "cell_type": "markdown",
   "id": "b17700cc-53b0-4ce6-b6a7-8ecc22d9f289",
   "metadata": {},
   "source": [
    "# Chest-prediction"
   ]
  },
  {
   "cell_type": "markdown",
   "id": "5faad179-7472-4314-8936-5ad2b1749114",
   "metadata": {},
   "source": [
    "## data cleaning"
   ]
  },
  {
   "cell_type": "code",
   "execution_count": null,
   "id": "7a9eed3c-4b31-42ba-b768-5247fe54bd26",
   "metadata": {},
   "outputs": [],
   "source": []
  }
 ],
 "metadata": {
  "kernelspec": {
   "display_name": "Python 3 (ipykernel)",
   "language": "python",
   "name": "python3"
  },
  "language_info": {
   "codemirror_mode": {
    "name": "ipython",
    "version": 3
   },
   "file_extension": ".py",
   "mimetype": "text/x-python",
   "name": "python",
   "nbconvert_exporter": "python",
   "pygments_lexer": "ipython3",
   "version": "3.10.6"
  }
 },
 "nbformat": 4,
 "nbformat_minor": 5
}
