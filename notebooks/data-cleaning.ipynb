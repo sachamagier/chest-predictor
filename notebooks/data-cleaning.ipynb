{
 "cells": [
  {
   "cell_type": "markdown",
   "id": "b17700cc-53b0-4ce6-b6a7-8ecc22d9f289",
   "metadata": {},
   "source": [
    "# Chest-prediction"
   ]
  },
  {
   "cell_type": "markdown",
   "id": "09965761",
   "metadata": {},
   "source": [
    "## PRELIMINARY ACTION !"
   ]
  },
  {
   "cell_type": "markdown",
   "id": "4ef354ac",
   "metadata": {},
   "source": [
    "⚠️ Please go to ➤ https://drive.google.com/file/d/1lLrHbpUQE-Kd-jZ68Uk7SFwawbzqf6Av/view?usp=drive_link\n",
    "\n",
    "and download the dataset.\n",
    "\n",
    "Put the zip file into your \"*raw_data*\" folder"
   ]
  },
  {
   "cell_type": "markdown",
   "id": "5faad179-7472-4314-8936-5ad2b1749114",
   "metadata": {},
   "source": [
    "## data loading"
   ]
  },
  {
   "cell_type": "code",
   "execution_count": 1,
   "id": "7a9eed3c-4b31-42ba-b768-5247fe54bd26",
   "metadata": {
    "ExecuteTime": {
     "end_time": "2024-06-04T15:24:52.305002Z",
     "start_time": "2024-06-04T15:24:52.136909Z"
    }
   },
   "outputs": [],
   "source": [
    "import numpy as np\n",
    "import pandas as pd\n",
    "import pdb\n",
    "\n",
    "import os\n",
    "from pathlib import Path\n",
    "from PIL import Image"
   ]
  },
  {
   "cell_type": "markdown",
   "id": "25192021",
   "metadata": {},
   "source": [
    "### Loading images"
   ]
  },
  {
   "cell_type": "code",
   "execution_count": 2,
   "id": "11013ea4",
   "metadata": {
    "ExecuteTime": {
     "end_time": "2024-06-04T15:24:53.047521Z",
     "start_time": "2024-06-04T15:24:53.043828Z"
    }
   },
   "outputs": [],
   "source": [
    "PROJECT_NAME = \"chest-predictor\" #to be adapted depending on the name of the Project Name in your system\n",
    "NUMBER_OF_IMAGES = 1000 # nbr of images to be loaded or 'full' to load the entire dataset (+100k images)"
   ]
  },
  {
   "cell_type": "code",
   "execution_count": 3,
   "id": "10b88e32",
   "metadata": {
    "ExecuteTime": {
     "end_time": "2024-06-04T15:24:53.422560Z",
     "start_time": "2024-06-04T15:24:53.417298Z"
    }
   },
   "outputs": [],
   "source": [
    "USERNAME = os.environ.get('USER')"
   ]
  },
  {
   "cell_type": "code",
   "execution_count": 4,
   "id": "ff1e5898",
   "metadata": {
    "ExecuteTime": {
     "end_time": "2024-06-04T15:24:53.721558Z",
     "start_time": "2024-06-04T15:24:53.717654Z"
    }
   },
   "outputs": [],
   "source": [
    "LOCAL_DATA_PATH = Path(f\"/Users/{USERNAME}/code/sachamagier/{PROJECT_NAME}/raw_data/resized_dataset\")"
   ]
  },
  {
   "cell_type": "code",
   "execution_count": 5,
   "id": "75f7d90a",
   "metadata": {
    "ExecuteTime": {
     "end_time": "2024-06-04T15:24:54.035890Z",
     "start_time": "2024-06-04T15:24:54.030486Z"
    }
   },
   "outputs": [
    {
     "name": "stdout",
     "output_type": "stream",
     "text": [
      "LOCAL_DATA_PATH: /Users/rvnmll/code/sachamagier/chest-predictor/raw_data/resized_dataset\n"
     ]
    }
   ],
   "source": [
    "print(f\"LOCAL_DATA_PATH: {LOCAL_DATA_PATH}\")"
   ]
  },
  {
   "cell_type": "code",
   "execution_count": 6,
   "id": "63c8f689",
   "metadata": {
    "ExecuteTime": {
     "end_time": "2024-06-04T15:24:54.615627Z",
     "start_time": "2024-06-04T15:24:54.605183Z"
    }
   },
   "outputs": [],
   "source": [
    "def loading_data():\n",
    "    \"\"\"This function either get all the images if the user set NUMBER_OF_IMAGES\n",
    "    to 'full' or the number of imgaes otherwise \"\"\"\n",
    "\n",
    "    images_data = []\n",
    "\n",
    "    # Define the path to the folder\n",
    "    folder_path = f'../raw_data/resized_dataset/images/set_full/'\n",
    "\n",
    "\n",
    "    # Get a list of all files in the folder\n",
    "    file_list = os.listdir(folder_path)\n",
    "\n",
    "    # Filter the list to only include image files\n",
    "    image_files = [f for f in file_list if f.endswith('.png') or f.endswith('.jpg') or f.endswith('.jpeg')]\n",
    "\n",
    "\n",
    "    # Loop through the first NUMBER_OF_IMAGES\n",
    "    for i, image_file in enumerate(image_files):\n",
    "\n",
    "        # Stop the loop after NUMBER_OF_IMAGES iterations\n",
    "        if i == NUMBER_OF_IMAGES:\n",
    "            break\n",
    "\n",
    "        # Open the image file\n",
    "        with Image.open(folder_path + image_file) as image:\n",
    "            # Add the image to the list\n",
    "            images_data.append((image_file, np.array(image)))\n",
    "\n",
    "    return images_data"
   ]
  },
  {
   "cell_type": "code",
   "execution_count": 11,
   "id": "1b06e06b",
   "metadata": {
    "ExecuteTime": {
     "end_time": "2024-06-04T15:24:56.678898Z",
     "start_time": "2024-06-04T15:24:55.216909Z"
    },
    "scrolled": true
   },
   "outputs": [
    {
     "name": "stdout",
     "output_type": "stream",
     "text": [
      "Unziping file and loading the data...\n",
      "data loaded.\n"
     ]
    }
   ],
   "source": [
    "import urllib.request\n",
    "import zipfile\n",
    "import shutil\n",
    "\n",
    "\n",
    "if LOCAL_DATA_PATH.is_dir():\n",
    "    print(\"Load local data...\")\n",
    "    # loading data into data\n",
    "    images_data = loading_data()\n",
    "else:\n",
    "    print(\"Unziping file and loading the data...\")\n",
    "\n",
    "    output_path = \"../raw_data/resized_dataset.zip\"\n",
    "    # unzip the file\n",
    "    with zipfile.ZipFile(output_path, \"r\") as zip_ref:\n",
    "        for file_info in zip_ref.infolist():\n",
    "            zip_ref.extract(file_info, \"../raw_data/\")\n",
    "\n",
    "    if Path(\"../raw_data/__MACOSX\").is_dir():\n",
    "        # remove the __MACOSX folder if it exists\n",
    "        shutil.rmtree(\"../raw_data/__MACOSX\")\n",
    "\n",
    "    # remove the zip file\n",
    "    os.remove(output_path)\n",
    "    images_data = loading_data()\n",
    "\n",
    "print(\"data loaded.\")"
   ]
  },
  {
   "cell_type": "code",
   "execution_count": 13,
   "id": "5878ae3a",
   "metadata": {
    "ExecuteTime": {
     "end_time": "2024-06-04T15:24:57.867364Z",
     "start_time": "2024-06-04T15:24:57.864628Z"
    }
   },
   "outputs": [],
   "source": [
    "# Create a dataframe from the list of images and their indices\n",
    "images_df = pd.DataFrame(images_data, columns=['Image Index', 'image'])\n",
    "\n",
    "# Set the index of the dataframe to the 'Image Index' column\n",
    "images_df = images_df.set_index('Image Index').sort_index(ascending=True)"
   ]
  },
  {
   "cell_type": "code",
   "execution_count": 14,
   "id": "c3260861",
   "metadata": {
    "ExecuteTime": {
     "end_time": "2024-06-04T15:25:01.706885Z",
     "start_time": "2024-06-04T15:25:01.703082Z"
    }
   },
   "outputs": [
    {
     "data": {
      "text/plain": [
       "(1000, 1)"
      ]
     },
     "execution_count": 14,
     "metadata": {},
     "output_type": "execute_result"
    }
   ],
   "source": [
    "images_df.shape"
   ]
  },
  {
   "cell_type": "code",
   "execution_count": 15,
   "id": "d95bc3bc",
   "metadata": {
    "ExecuteTime": {
     "end_time": "2024-06-04T15:25:05.553451Z",
     "start_time": "2024-06-04T15:25:05.550949Z"
    },
    "scrolled": false
   },
   "outputs": [
    {
     "name": "stderr",
     "output_type": "stream",
     "text": [
      "/tmp/ipykernel_20441/4042123707.py:1: FutureWarning: Series.__getitem__ treating keys as positions is deprecated. In a future version, integer keys will always be treated as labels (consistent with DataFrame behavior). To access a value by position, use `ser.iloc[pos]`\n",
      "  images_df['image'][0].shape\n"
     ]
    },
    {
     "data": {
      "text/plain": [
       "(256, 256)"
      ]
     },
     "execution_count": 15,
     "metadata": {},
     "output_type": "execute_result"
    }
   ],
   "source": [
    "images_df['image'][0].shape"
   ]
  },
  {
   "cell_type": "markdown",
   "id": "3c19dfa7",
   "metadata": {},
   "source": [
    "### Loading labels data"
   ]
  },
  {
   "cell_type": "code",
   "execution_count": 16,
   "id": "cd26302c",
   "metadata": {
    "ExecuteTime": {
     "end_time": "2024-06-04T15:25:09.444332Z",
     "start_time": "2024-06-04T15:25:09.377921Z"
    }
   },
   "outputs": [],
   "source": [
    "labels_df = pd.read_csv('../raw_data/resized_dataset/Data_Entry_2017.csv')"
   ]
  },
  {
   "cell_type": "code",
   "execution_count": 17,
   "id": "ebeb04e8",
   "metadata": {
    "ExecuteTime": {
     "end_time": "2024-06-04T15:25:13.294258Z",
     "start_time": "2024-06-04T15:25:13.289694Z"
    },
    "scrolled": true
   },
   "outputs": [
    {
     "data": {
      "text/html": [
       "<div>\n",
       "<style scoped>\n",
       "    .dataframe tbody tr th:only-of-type {\n",
       "        vertical-align: middle;\n",
       "    }\n",
       "\n",
       "    .dataframe tbody tr th {\n",
       "        vertical-align: top;\n",
       "    }\n",
       "\n",
       "    .dataframe thead th {\n",
       "        text-align: right;\n",
       "    }\n",
       "</style>\n",
       "<table border=\"1\" class=\"dataframe\">\n",
       "  <thead>\n",
       "    <tr style=\"text-align: right;\">\n",
       "      <th></th>\n",
       "      <th>Image Index</th>\n",
       "      <th>Finding Labels</th>\n",
       "      <th>Follow-up #</th>\n",
       "      <th>Patient ID</th>\n",
       "      <th>Patient Age</th>\n",
       "      <th>Patient Gender</th>\n",
       "      <th>View Position</th>\n",
       "      <th>OriginalImage[Width</th>\n",
       "      <th>Height]</th>\n",
       "      <th>OriginalImagePixelSpacing[x</th>\n",
       "      <th>y]</th>\n",
       "      <th>Unnamed: 11</th>\n",
       "    </tr>\n",
       "  </thead>\n",
       "  <tbody>\n",
       "    <tr>\n",
       "      <th>0</th>\n",
       "      <td>00000001_000.png</td>\n",
       "      <td>Cardiomegaly</td>\n",
       "      <td>0</td>\n",
       "      <td>1</td>\n",
       "      <td>58</td>\n",
       "      <td>M</td>\n",
       "      <td>PA</td>\n",
       "      <td>2682</td>\n",
       "      <td>2749</td>\n",
       "      <td>0.143</td>\n",
       "      <td>0.143</td>\n",
       "      <td>NaN</td>\n",
       "    </tr>\n",
       "    <tr>\n",
       "      <th>1</th>\n",
       "      <td>00000001_001.png</td>\n",
       "      <td>Cardiomegaly|Emphysema</td>\n",
       "      <td>1</td>\n",
       "      <td>1</td>\n",
       "      <td>58</td>\n",
       "      <td>M</td>\n",
       "      <td>PA</td>\n",
       "      <td>2894</td>\n",
       "      <td>2729</td>\n",
       "      <td>0.143</td>\n",
       "      <td>0.143</td>\n",
       "      <td>NaN</td>\n",
       "    </tr>\n",
       "    <tr>\n",
       "      <th>2</th>\n",
       "      <td>00000001_002.png</td>\n",
       "      <td>Cardiomegaly|Effusion</td>\n",
       "      <td>2</td>\n",
       "      <td>1</td>\n",
       "      <td>58</td>\n",
       "      <td>M</td>\n",
       "      <td>PA</td>\n",
       "      <td>2500</td>\n",
       "      <td>2048</td>\n",
       "      <td>0.168</td>\n",
       "      <td>0.168</td>\n",
       "      <td>NaN</td>\n",
       "    </tr>\n",
       "    <tr>\n",
       "      <th>3</th>\n",
       "      <td>00000002_000.png</td>\n",
       "      <td>No Finding</td>\n",
       "      <td>0</td>\n",
       "      <td>2</td>\n",
       "      <td>81</td>\n",
       "      <td>M</td>\n",
       "      <td>PA</td>\n",
       "      <td>2500</td>\n",
       "      <td>2048</td>\n",
       "      <td>0.171</td>\n",
       "      <td>0.171</td>\n",
       "      <td>NaN</td>\n",
       "    </tr>\n",
       "    <tr>\n",
       "      <th>4</th>\n",
       "      <td>00000003_000.png</td>\n",
       "      <td>Hernia</td>\n",
       "      <td>0</td>\n",
       "      <td>3</td>\n",
       "      <td>81</td>\n",
       "      <td>F</td>\n",
       "      <td>PA</td>\n",
       "      <td>2582</td>\n",
       "      <td>2991</td>\n",
       "      <td>0.143</td>\n",
       "      <td>0.143</td>\n",
       "      <td>NaN</td>\n",
       "    </tr>\n",
       "  </tbody>\n",
       "</table>\n",
       "</div>"
      ],
      "text/plain": [
       "        Image Index          Finding Labels  Follow-up #  Patient ID  \\\n",
       "0  00000001_000.png            Cardiomegaly            0           1   \n",
       "1  00000001_001.png  Cardiomegaly|Emphysema            1           1   \n",
       "2  00000001_002.png   Cardiomegaly|Effusion            2           1   \n",
       "3  00000002_000.png              No Finding            0           2   \n",
       "4  00000003_000.png                  Hernia            0           3   \n",
       "\n",
       "   Patient Age Patient Gender View Position  OriginalImage[Width  Height]  \\\n",
       "0           58              M            PA                 2682     2749   \n",
       "1           58              M            PA                 2894     2729   \n",
       "2           58              M            PA                 2500     2048   \n",
       "3           81              M            PA                 2500     2048   \n",
       "4           81              F            PA                 2582     2991   \n",
       "\n",
       "   OriginalImagePixelSpacing[x     y]  Unnamed: 11  \n",
       "0                        0.143  0.143          NaN  \n",
       "1                        0.143  0.143          NaN  \n",
       "2                        0.168  0.168          NaN  \n",
       "3                        0.171  0.171          NaN  \n",
       "4                        0.143  0.143          NaN  "
      ]
     },
     "execution_count": 17,
     "metadata": {},
     "output_type": "execute_result"
    }
   ],
   "source": [
    "labels_df.head()"
   ]
  },
  {
   "cell_type": "code",
   "execution_count": 18,
   "id": "7616c82c",
   "metadata": {
    "ExecuteTime": {
     "end_time": "2024-06-04T15:25:17.161156Z",
     "start_time": "2024-06-04T15:25:17.156458Z"
    }
   },
   "outputs": [],
   "source": [
    "unique_lab = labels_df['Finding Labels'].unique()"
   ]
  },
  {
   "cell_type": "code",
   "execution_count": 19,
   "id": "093a758b",
   "metadata": {
    "ExecuteTime": {
     "end_time": "2024-06-04T15:25:20.979618Z",
     "start_time": "2024-06-04T15:25:20.977761Z"
    }
   },
   "outputs": [
    {
     "data": {
      "text/plain": [
       "836"
      ]
     },
     "execution_count": 19,
     "metadata": {},
     "output_type": "execute_result"
    }
   ],
   "source": [
    "len(unique_lab)"
   ]
  },
  {
   "cell_type": "markdown",
   "id": "04b4c0e1",
   "metadata": {},
   "source": [
    "### Merging Images with labels and creating a new DF"
   ]
  },
  {
   "cell_type": "code",
   "execution_count": 20,
   "id": "d12b0aec",
   "metadata": {
    "ExecuteTime": {
     "end_time": "2024-06-04T15:25:24.846244Z",
     "start_time": "2024-06-04T15:25:24.834632Z"
    }
   },
   "outputs": [],
   "source": [
    "# Merge the image_df and labels_df dataframes on the 'Image Index' column\n",
    "merged_df = pd.merge(images_df, labels_df[['Image Index', 'Finding Labels']], left_index=True, right_on='Image Index', how='inner')\n",
    "\n",
    "# Rename the 'Finding Labels' column to 'labels'\n",
    "merged_df = merged_df.rename(columns={'Finding Labels': 'labels'})\n",
    "\n",
    "# Set the index of the dataframe to the 'Image Index' column\n",
    "merged_df = merged_df.set_index('Image Index').sort_index(ascending=True)"
   ]
  },
  {
   "cell_type": "code",
   "execution_count": 21,
   "id": "33ae856d",
   "metadata": {
    "ExecuteTime": {
     "end_time": "2024-06-04T15:25:31.552859Z",
     "start_time": "2024-06-04T15:25:31.401078Z"
    }
   },
   "outputs": [
    {
     "data": {
      "text/html": [
       "<div>\n",
       "<style scoped>\n",
       "    .dataframe tbody tr th:only-of-type {\n",
       "        vertical-align: middle;\n",
       "    }\n",
       "\n",
       "    .dataframe tbody tr th {\n",
       "        vertical-align: top;\n",
       "    }\n",
       "\n",
       "    .dataframe thead th {\n",
       "        text-align: right;\n",
       "    }\n",
       "</style>\n",
       "<table border=\"1\" class=\"dataframe\">\n",
       "  <thead>\n",
       "    <tr style=\"text-align: right;\">\n",
       "      <th></th>\n",
       "      <th>image</th>\n",
       "      <th>labels</th>\n",
       "    </tr>\n",
       "    <tr>\n",
       "      <th>Image Index</th>\n",
       "      <th></th>\n",
       "      <th></th>\n",
       "    </tr>\n",
       "  </thead>\n",
       "  <tbody>\n",
       "    <tr>\n",
       "      <th>00000006_000.png</th>\n",
       "      <td>[[45, 43, 38, 34, 30, 27, 24, 21, 19, 17, 16, ...</td>\n",
       "      <td>No Finding</td>\n",
       "    </tr>\n",
       "    <tr>\n",
       "      <th>00000013_031.png</th>\n",
       "      <td>[[0, 0, 0, 0, 0, 0, 0, 0, 0, 0, 0, 0, 0, 0, 0,...</td>\n",
       "      <td>Emphysema|Mass</td>\n",
       "    </tr>\n",
       "    <tr>\n",
       "      <th>00000032_005.png</th>\n",
       "      <td>[[6, 7, 6, 6, 7, 7, 6, 6, 6, 7, 7, 7, 6, 6, 6,...</td>\n",
       "      <td>No Finding</td>\n",
       "    </tr>\n",
       "    <tr>\n",
       "      <th>00000032_026.png</th>\n",
       "      <td>[[15, 14, 12, 11, 10, 9, 9, 8, 6, 89, 130, 125...</td>\n",
       "      <td>Infiltration</td>\n",
       "    </tr>\n",
       "    <tr>\n",
       "      <th>00000041_001.png</th>\n",
       "      <td>[[2, 2, 1, 11, 60, 36, 32, 32, 30, 29, 29, 27,...</td>\n",
       "      <td>Emphysema</td>\n",
       "    </tr>\n",
       "  </tbody>\n",
       "</table>\n",
       "</div>"
      ],
      "text/plain": [
       "                                                              image  \\\n",
       "Image Index                                                           \n",
       "00000006_000.png  [[45, 43, 38, 34, 30, 27, 24, 21, 19, 17, 16, ...   \n",
       "00000013_031.png  [[0, 0, 0, 0, 0, 0, 0, 0, 0, 0, 0, 0, 0, 0, 0,...   \n",
       "00000032_005.png  [[6, 7, 6, 6, 7, 7, 6, 6, 6, 7, 7, 7, 6, 6, 6,...   \n",
       "00000032_026.png  [[15, 14, 12, 11, 10, 9, 9, 8, 6, 89, 130, 125...   \n",
       "00000041_001.png  [[2, 2, 1, 11, 60, 36, 32, 32, 30, 29, 29, 27,...   \n",
       "\n",
       "                          labels  \n",
       "Image Index                       \n",
       "00000006_000.png      No Finding  \n",
       "00000013_031.png  Emphysema|Mass  \n",
       "00000032_005.png      No Finding  \n",
       "00000032_026.png    Infiltration  \n",
       "00000041_001.png       Emphysema  "
      ]
     },
     "execution_count": 21,
     "metadata": {},
     "output_type": "execute_result"
    }
   ],
   "source": [
    "merged_df.head()"
   ]
  },
  {
   "cell_type": "markdown",
   "id": "c510e98e",
   "metadata": {},
   "source": [
    "### droping the rows with images of shape (256, 256, 4)"
   ]
  },
  {
   "cell_type": "code",
   "execution_count": 22,
   "id": "9bed4d30",
   "metadata": {
    "ExecuteTime": {
     "end_time": "2024-06-04T15:25:38.095724Z",
     "start_time": "2024-06-04T15:25:38.093872Z"
    }
   },
   "outputs": [
    {
     "name": "stdout",
     "output_type": "stream",
     "text": [
      "4\n"
     ]
    }
   ],
   "source": [
    "# Find the images with shape (256, 256, 4)\n",
    "images_with_shape_4 = [img for img in merged_df['image'] if np.shape(img) == (256, 256, 4)]\n",
    "\n",
    "# Print the number of images with shape (256, 256, 4)\n",
    "print(len(images_with_shape_4))\n"
   ]
  },
  {
   "cell_type": "code",
   "execution_count": 23,
   "id": "ded8a7d2",
   "metadata": {
    "ExecuteTime": {
     "end_time": "2024-06-04T15:25:48.480750Z",
     "start_time": "2024-06-04T15:25:48.474533Z"
    }
   },
   "outputs": [],
   "source": [
    "# Find the indices of the images with shape (256, 256, 4)\n",
    "indices_to_drop = merged_df[merged_df['image'].apply(lambda x: np.shape(x) == (256, 256, 4))].index\n",
    "\n",
    "# Drop the rows with the images with shape (256, 256, 4)\n",
    "merged_df = merged_df.drop(indices_to_drop)"
   ]
  },
  {
   "cell_type": "code",
   "execution_count": 24,
   "id": "9059ba4f",
   "metadata": {
    "ExecuteTime": {
     "end_time": "2024-06-04T15:25:55.271167Z",
     "start_time": "2024-06-04T15:25:55.269104Z"
    }
   },
   "outputs": [
    {
     "name": "stdout",
     "output_type": "stream",
     "text": [
      "0\n"
     ]
    }
   ],
   "source": [
    "# Find the images with shape (256, 256, 4)\n",
    "images_with_shape_4 = [img for img in merged_df['image'] if np.shape(img) == (256, 256, 4)]\n",
    "\n",
    "# Print the number of images with shape (256, 256, 4)\n",
    "print(len(images_with_shape_4))"
   ]
  },
  {
   "cell_type": "markdown",
   "id": "a8bbd3fc",
   "metadata": {},
   "source": [
    "### Encoding labels"
   ]
  },
  {
   "cell_type": "code",
   "execution_count": 25,
   "id": "426c34bc",
   "metadata": {
    "ExecuteTime": {
     "end_time": "2024-06-04T15:26:01.867392Z",
     "start_time": "2024-06-04T15:26:01.861222Z"
    }
   },
   "outputs": [],
   "source": [
    "# Define the list of labels\n",
    "labels = ['Atelectasis', 'Consolidation', 'Infiltration', 'Pneumothorax', 'Edema',\n",
    "           'Emphysema', 'Fibrosis', 'Effusion', 'Pneumonia', 'Pleural_Thickening',\n",
    "           'Cardiomegaly', 'Nodule', 'Mass', 'Hernia', 'No Finding']\n",
    "\n",
    "# Create a new dataframe with one-hot encoded columns for the labels\n",
    "one_hot_df = merged_df['labels'].str.get_dummies(sep='|')\n",
    "\n",
    "# Concatenate the one-hot encoded dataframe with the original dataframe\n",
    "merged_df = pd.concat([merged_df, one_hot_df], axis=1)\n"
   ]
  },
  {
   "cell_type": "code",
   "execution_count": 26,
   "id": "09dd0cc0",
   "metadata": {
    "ExecuteTime": {
     "end_time": "2024-06-04T15:26:15.441293Z",
     "start_time": "2024-06-04T15:26:15.439327Z"
    }
   },
   "outputs": [
    {
     "data": {
      "text/plain": [
       "Index(['image', 'labels', 'Atelectasis', 'Cardiomegaly', 'Consolidation',\n",
       "       'Edema', 'Effusion', 'Emphysema', 'Fibrosis', 'Hernia', 'Infiltration',\n",
       "       'Mass', 'No Finding', 'Nodule', 'Pleural_Thickening', 'Pneumonia',\n",
       "       'Pneumothorax'],\n",
       "      dtype='object')"
      ]
     },
     "execution_count": 26,
     "metadata": {},
     "output_type": "execute_result"
    }
   ],
   "source": [
    "merged_df.columns"
   ]
  },
  {
   "cell_type": "markdown",
   "id": "748dc4b7",
   "metadata": {},
   "source": [
    "## Creating 'X' and 'y'"
   ]
  },
  {
   "cell_type": "code",
   "execution_count": 27,
   "id": "df2d7cba",
   "metadata": {
    "ExecuteTime": {
     "end_time": "2024-06-04T15:26:22.020519Z",
     "start_time": "2024-06-04T15:26:22.019180Z"
    }
   },
   "outputs": [],
   "source": [
    "y = one_hot_df"
   ]
  },
  {
   "cell_type": "code",
   "execution_count": 28,
   "id": "204b7dc6",
   "metadata": {
    "ExecuteTime": {
     "end_time": "2024-06-04T15:26:28.573970Z",
     "start_time": "2024-06-04T15:26:28.572586Z"
    }
   },
   "outputs": [],
   "source": [
    "X = merged_df['image']"
   ]
  },
  {
   "cell_type": "code",
   "execution_count": 29,
   "id": "f7fac4de",
   "metadata": {
    "ExecuteTime": {
     "end_time": "2024-06-04T15:26:55.900807Z",
     "start_time": "2024-06-04T15:26:55.897795Z"
    }
   },
   "outputs": [
    {
     "name": "stdout",
     "output_type": "stream",
     "text": [
      "<class 'pandas.core.series.Series'>\n",
      "Index: 996 entries, 00000006_000.png to 00030775_000.png\n",
      "Series name: image\n",
      "Non-Null Count  Dtype \n",
      "--------------  ----- \n",
      "996 non-null    object\n",
      "dtypes: object(1)\n",
      "memory usage: 62.4 MB\n"
     ]
    }
   ],
   "source": [
    "X.info(memory_usage='deep')"
   ]
  },
  {
   "cell_type": "code",
   "execution_count": 30,
   "id": "f8a6a99c",
   "metadata": {
    "ExecuteTime": {
     "end_time": "2024-06-04T15:27:05.009712Z",
     "start_time": "2024-06-04T15:27:05.000383Z"
    },
    "scrolled": true
   },
   "outputs": [],
   "source": [
    "X = np.array([np.reshape(img, (256, 256, 1)) for img in X])"
   ]
  },
  {
   "cell_type": "code",
   "execution_count": 31,
   "id": "2c1b7442",
   "metadata": {
    "ExecuteTime": {
     "end_time": "2024-06-04T15:27:31.705738Z",
     "start_time": "2024-06-04T15:27:31.704027Z"
    }
   },
   "outputs": [
    {
     "data": {
      "text/plain": [
       "(996, 256, 256, 1)"
      ]
     },
     "execution_count": 31,
     "metadata": {},
     "output_type": "execute_result"
    }
   ],
   "source": [
    "X.shape"
   ]
  },
  {
   "cell_type": "markdown",
   "id": "d49a2def",
   "metadata": {},
   "source": [
    "## Creating a simple model"
   ]
  },
  {
   "cell_type": "code",
   "execution_count": 42,
   "id": "09300ba1",
   "metadata": {},
   "outputs": [],
   "source": [
    "#Imports\n",
    "from sklearn.model_selection import train_test_split\n",
    "import tensorflow as tf\n",
    "from tensorflow.keras.models import Sequential\n",
    "from tensorflow.keras.layers import Conv2D, MaxPooling2D, Flatten, Dense, Dropout, Rescaling\n",
    "from tensorflow.keras.callbacks import EarlyStopping"
   ]
  },
  {
   "cell_type": "code",
   "execution_count": 43,
   "id": "772cda01",
   "metadata": {},
   "outputs": [],
   "source": [
    "##### Splitting X and y in train/val/test #####\n",
    "\n",
    "# First split: split data into training and test sets (80% train, 20% test)\n",
    "X_train, X_test, y_train, y_test = train_test_split(X, y, test_size=0.2, random_state=69)\n",
    "\n",
    "# Second split: split training data into training and validation sets (80% train, 20% validation)\n",
    "X_train, X_val, y_train, y_val = train_test_split(X_train, y_train, test_size=0.2, random_state=69)"
   ]
  },
  {
   "cell_type": "code",
   "execution_count": 44,
   "id": "ee559184",
   "metadata": {},
   "outputs": [],
   "source": [
    "#Image parameters\n",
    "IMG_HEIGHT = 256\n",
    "IMG_WIDTH = 256\n",
    "BATCH_SIZE = 32\n",
    "NUM_CLASSES = 15"
   ]
  },
  {
   "cell_type": "code",
   "execution_count": 50,
   "id": "465d9edc",
   "metadata": {},
   "outputs": [],
   "source": [
    "# Define a simple model\n",
    "def simple_model():\n",
    "\n",
    "    model = Sequential()\n",
    "    model.add(Rescaling(1./255, input_shape=(IMG_HEIGHT,IMG_WIDTH,1)))\n",
    "\n",
    "    model.add(Conv2D(16, kernel_size=10, activation='relu'))\n",
    "    model.add(MaxPooling2D(3))\n",
    "\n",
    "    model.add(Conv2D(32, kernel_size=8, activation=\"relu\"))\n",
    "    model.add(MaxPooling2D(3))\n",
    "\n",
    "    model.add(Conv2D(32, kernel_size=6, activation=\"relu\"))\n",
    "    model.add(MaxPooling2D(3))\n",
    "\n",
    "    model.add(Flatten())\n",
    "    model.add(Dense(100, activation='relu'))\n",
    "    model.add(Dense(NUM_CLASSES, activation='sigmoid'))\n",
    "\n",
    "    model.compile(loss='categorical_crossentropy',\n",
    "                  optimizer='adam',\n",
    "                  metrics=['accuracy'])\n",
    "\n",
    "    return model"
   ]
  },
  {
   "cell_type": "code",
   "execution_count": 51,
   "id": "515e1773",
   "metadata": {},
   "outputs": [
    {
     "name": "stdout",
     "output_type": "stream",
     "text": [
      "Model: \"sequential_3\"\n",
      "_________________________________________________________________\n",
      " Layer (type)                Output Shape              Param #   \n",
      "=================================================================\n",
      " rescaling_3 (Rescaling)     (None, 256, 256, 1)       0         \n",
      "                                                                 \n",
      " conv2d_9 (Conv2D)           (None, 247, 247, 16)      1616      \n",
      "                                                                 \n",
      " max_pooling2d_9 (MaxPoolin  (None, 82, 82, 16)        0         \n",
      " g2D)                                                            \n",
      "                                                                 \n",
      " conv2d_10 (Conv2D)          (None, 75, 75, 32)        32800     \n",
      "                                                                 \n",
      " max_pooling2d_10 (MaxPooli  (None, 25, 25, 32)        0         \n",
      " ng2D)                                                           \n",
      "                                                                 \n",
      " conv2d_11 (Conv2D)          (None, 20, 20, 32)        36896     \n",
      "                                                                 \n",
      " max_pooling2d_11 (MaxPooli  (None, 6, 6, 32)          0         \n",
      " ng2D)                                                           \n",
      "                                                                 \n",
      " flatten_3 (Flatten)         (None, 1152)              0         \n",
      "                                                                 \n",
      " dense_6 (Dense)             (None, 100)               115300    \n",
      "                                                                 \n",
      " dense_7 (Dense)             (None, 15)                1515      \n",
      "                                                                 \n",
      "=================================================================\n",
      "Total params: 188127 (734.87 KB)\n",
      "Trainable params: 188127 (734.87 KB)\n",
      "Non-trainable params: 0 (0.00 Byte)\n",
      "_________________________________________________________________\n"
     ]
    }
   ],
   "source": [
    "s_model = simple_model()\n",
    "es = EarlyStopping(monitor='val_loss', patience=5, verbose=0, restore_best_weights=True)\n",
    "s_model.summary()"
   ]
  },
  {
   "cell_type": "code",
   "execution_count": 52,
   "id": "80f4823d",
   "metadata": {},
   "outputs": [
    {
     "name": "stdout",
     "output_type": "stream",
     "text": [
      "Epoch 1/10\n",
      "20/20 [==============================] - 5s 198ms/step - loss: 3.6320 - accuracy: 0.4827 - val_loss: 9.4092 - val_accuracy: 0.5125\n",
      "Epoch 2/10\n",
      "20/20 [==============================] - 4s 190ms/step - loss: 98.3148 - accuracy: 0.3396 - val_loss: 343.7252 - val_accuracy: 0.0875\n",
      "Epoch 3/10\n",
      "20/20 [==============================] - 5s 232ms/step - loss: 978.0417 - accuracy: 0.2720 - val_loss: 3175.0625 - val_accuracy: 0.1562\n",
      "Epoch 4/10\n",
      "20/20 [==============================] - 4s 213ms/step - loss: 7157.8491 - accuracy: 0.3286 - val_loss: 17955.2500 - val_accuracy: 0.0125\n",
      "Epoch 5/10\n",
      "20/20 [==============================] - 4s 204ms/step - loss: 41091.9609 - accuracy: 0.2704 - val_loss: 100497.4844 - val_accuracy: 0.0188\n",
      "Epoch 6/10\n",
      "20/20 [==============================] - 5s 259ms/step - loss: 191437.3750 - accuracy: 0.2909 - val_loss: 396619.7812 - val_accuracy: 0.5125\n"
     ]
    }
   ],
   "source": [
    "# Train the model\n",
    "history = s_model.fit(\n",
    "    X_train,\n",
    "    y_train,\n",
    "    validation_data=(X_val, y_val),\n",
    "    epochs=10,\n",
    "    batch_size=BATCH_SIZE,\n",
    "    callbacks=[es])"
   ]
  },
  {
   "cell_type": "code",
   "execution_count": 53,
   "id": "df39cbd5",
   "metadata": {},
   "outputs": [
    {
     "name": "stdout",
     "output_type": "stream",
     "text": [
      "7/7 [==============================] - 0s 55ms/step - loss: 7.0924 - accuracy: 0.5150\n",
      "5/5 [==============================] - 0s 62ms/step - loss: 9.4092 - accuracy: 0.5125\n"
     ]
    }
   ],
   "source": [
    "test_loss, test_accuracy = s_model.evaluate(X_test, y_test)\n",
    "val_loss, val_accuracy = s_model.evaluate(X_val, y_val)"
   ]
  },
  {
   "cell_type": "code",
   "execution_count": 54,
   "id": "4a46bf9f",
   "metadata": {},
   "outputs": [
    {
     "name": "stdout",
     "output_type": "stream",
     "text": [
      "val accuracy: 0.512499988079071\n",
      "test accuracy: 0.5149999856948853\n"
     ]
    }
   ],
   "source": [
    "print('val accuracy:', val_accuracy)\n",
    "print('test accuracy:', test_accuracy)"
   ]
  },
  {
   "cell_type": "code",
   "execution_count": 56,
   "id": "c16c0365",
   "metadata": {},
   "outputs": [
    {
     "name": "stdout",
     "output_type": "stream",
     "text": [
      "7/7 [==============================] - 0s 54ms/step\n"
     ]
    }
   ],
   "source": [
    "y_pred = s_model.predict(X_test)"
   ]
  },
  {
   "cell_type": "code",
   "execution_count": 62,
   "id": "3546c1cf",
   "metadata": {},
   "outputs": [
    {
     "data": {
      "text/plain": [
       "array([1.        , 0.9999852 , 0.9999999 , 0.99999714, 1.        ,\n",
       "       0.9962546 , 0.9355537 , 0.00861453, 1.        , 1.        ,\n",
       "       1.        , 0.9999995 , 0.99999994, 0.10169847, 1.        ],\n",
       "      dtype=float32)"
      ]
     },
     "execution_count": 62,
     "metadata": {},
     "output_type": "execute_result"
    }
   ],
   "source": [
    "y_pred[0]"
   ]
  },
  {
   "cell_type": "code",
   "execution_count": 63,
   "id": "012309e5",
   "metadata": {},
   "outputs": [
    {
     "data": {
      "text/html": [
       "<div>\n",
       "<style scoped>\n",
       "    .dataframe tbody tr th:only-of-type {\n",
       "        vertical-align: middle;\n",
       "    }\n",
       "\n",
       "    .dataframe tbody tr th {\n",
       "        vertical-align: top;\n",
       "    }\n",
       "\n",
       "    .dataframe thead th {\n",
       "        text-align: right;\n",
       "    }\n",
       "</style>\n",
       "<table border=\"1\" class=\"dataframe\">\n",
       "  <thead>\n",
       "    <tr style=\"text-align: right;\">\n",
       "      <th></th>\n",
       "      <th>Atelectasis</th>\n",
       "      <th>Cardiomegaly</th>\n",
       "      <th>Consolidation</th>\n",
       "      <th>Edema</th>\n",
       "      <th>Effusion</th>\n",
       "      <th>Emphysema</th>\n",
       "      <th>Fibrosis</th>\n",
       "      <th>Hernia</th>\n",
       "      <th>Infiltration</th>\n",
       "      <th>Mass</th>\n",
       "      <th>No Finding</th>\n",
       "      <th>Nodule</th>\n",
       "      <th>Pleural_Thickening</th>\n",
       "      <th>Pneumonia</th>\n",
       "      <th>Pneumothorax</th>\n",
       "    </tr>\n",
       "    <tr>\n",
       "      <th>Image Index</th>\n",
       "      <th></th>\n",
       "      <th></th>\n",
       "      <th></th>\n",
       "      <th></th>\n",
       "      <th></th>\n",
       "      <th></th>\n",
       "      <th></th>\n",
       "      <th></th>\n",
       "      <th></th>\n",
       "      <th></th>\n",
       "      <th></th>\n",
       "      <th></th>\n",
       "      <th></th>\n",
       "      <th></th>\n",
       "      <th></th>\n",
       "    </tr>\n",
       "  </thead>\n",
       "  <tbody>\n",
       "    <tr>\n",
       "      <th>00000006_000.png</th>\n",
       "      <td>0</td>\n",
       "      <td>0</td>\n",
       "      <td>0</td>\n",
       "      <td>0</td>\n",
       "      <td>0</td>\n",
       "      <td>0</td>\n",
       "      <td>0</td>\n",
       "      <td>0</td>\n",
       "      <td>0</td>\n",
       "      <td>0</td>\n",
       "      <td>1</td>\n",
       "      <td>0</td>\n",
       "      <td>0</td>\n",
       "      <td>0</td>\n",
       "      <td>0</td>\n",
       "    </tr>\n",
       "    <tr>\n",
       "      <th>00000013_031.png</th>\n",
       "      <td>0</td>\n",
       "      <td>0</td>\n",
       "      <td>0</td>\n",
       "      <td>0</td>\n",
       "      <td>0</td>\n",
       "      <td>1</td>\n",
       "      <td>0</td>\n",
       "      <td>0</td>\n",
       "      <td>0</td>\n",
       "      <td>1</td>\n",
       "      <td>0</td>\n",
       "      <td>0</td>\n",
       "      <td>0</td>\n",
       "      <td>0</td>\n",
       "      <td>0</td>\n",
       "    </tr>\n",
       "    <tr>\n",
       "      <th>00000032_005.png</th>\n",
       "      <td>0</td>\n",
       "      <td>0</td>\n",
       "      <td>0</td>\n",
       "      <td>0</td>\n",
       "      <td>0</td>\n",
       "      <td>0</td>\n",
       "      <td>0</td>\n",
       "      <td>0</td>\n",
       "      <td>0</td>\n",
       "      <td>0</td>\n",
       "      <td>1</td>\n",
       "      <td>0</td>\n",
       "      <td>0</td>\n",
       "      <td>0</td>\n",
       "      <td>0</td>\n",
       "    </tr>\n",
       "    <tr>\n",
       "      <th>00000032_026.png</th>\n",
       "      <td>0</td>\n",
       "      <td>0</td>\n",
       "      <td>0</td>\n",
       "      <td>0</td>\n",
       "      <td>0</td>\n",
       "      <td>0</td>\n",
       "      <td>0</td>\n",
       "      <td>0</td>\n",
       "      <td>1</td>\n",
       "      <td>0</td>\n",
       "      <td>0</td>\n",
       "      <td>0</td>\n",
       "      <td>0</td>\n",
       "      <td>0</td>\n",
       "      <td>0</td>\n",
       "    </tr>\n",
       "    <tr>\n",
       "      <th>00000041_001.png</th>\n",
       "      <td>0</td>\n",
       "      <td>0</td>\n",
       "      <td>0</td>\n",
       "      <td>0</td>\n",
       "      <td>0</td>\n",
       "      <td>1</td>\n",
       "      <td>0</td>\n",
       "      <td>0</td>\n",
       "      <td>0</td>\n",
       "      <td>0</td>\n",
       "      <td>0</td>\n",
       "      <td>0</td>\n",
       "      <td>0</td>\n",
       "      <td>0</td>\n",
       "      <td>0</td>\n",
       "    </tr>\n",
       "  </tbody>\n",
       "</table>\n",
       "</div>"
      ],
      "text/plain": [
       "                  Atelectasis  Cardiomegaly  Consolidation  Edema  Effusion  \\\n",
       "Image Index                                                                   \n",
       "00000006_000.png            0             0              0      0         0   \n",
       "00000013_031.png            0             0              0      0         0   \n",
       "00000032_005.png            0             0              0      0         0   \n",
       "00000032_026.png            0             0              0      0         0   \n",
       "00000041_001.png            0             0              0      0         0   \n",
       "\n",
       "                  Emphysema  Fibrosis  Hernia  Infiltration  Mass  No Finding  \\\n",
       "Image Index                                                                     \n",
       "00000006_000.png          0         0       0             0     0           1   \n",
       "00000013_031.png          1         0       0             0     1           0   \n",
       "00000032_005.png          0         0       0             0     0           1   \n",
       "00000032_026.png          0         0       0             1     0           0   \n",
       "00000041_001.png          1         0       0             0     0           0   \n",
       "\n",
       "                  Nodule  Pleural_Thickening  Pneumonia  Pneumothorax  \n",
       "Image Index                                                            \n",
       "00000006_000.png       0                   0          0             0  \n",
       "00000013_031.png       0                   0          0             0  \n",
       "00000032_005.png       0                   0          0             0  \n",
       "00000032_026.png       0                   0          0             0  \n",
       "00000041_001.png       0                   0          0             0  "
      ]
     },
     "execution_count": 63,
     "metadata": {},
     "output_type": "execute_result"
    }
   ],
   "source": [
    "y.head()"
   ]
  },
  {
   "cell_type": "code",
   "execution_count": 55,
   "id": "87992fc6",
   "metadata": {},
   "outputs": [
    {
     "name": "stderr",
     "output_type": "stream",
     "text": [
      "/tmp/ipykernel_20441/3205834225.py:10: UserWarning: You are saving your model as an HDF5 file via `model.save()`. This file format is considered legacy. We recommend using instead the native Keras format, e.g. `model.save('my_model.keras')`.\n",
      "  save_model(s_model, os.path.join(models_dir, 'simple_model_correct.h5'))\n"
     ]
    }
   ],
   "source": [
    "from tensorflow.keras.models import save_model\n",
    "\n",
    "models_dir = '../models'\n",
    "\n",
    "# Ensure that the models directory exists\n",
    "os.makedirs(models_dir, exist_ok=True)\n",
    "\n",
    "\n",
    "# Save the trained model to the models directory\n",
    "save_model(s_model, os.path.join(models_dir, 'simple_model_correct.h5'))"
   ]
  },
  {
   "cell_type": "code",
   "execution_count": null,
   "id": "0484a170",
   "metadata": {},
   "outputs": [],
   "source": []
  }
 ],
 "metadata": {
  "kernelspec": {
   "display_name": "Python 3 (ipykernel)",
   "language": "python",
   "name": "python3"
  },
  "language_info": {
   "codemirror_mode": {
    "name": "ipython",
    "version": 3
   },
   "file_extension": ".py",
   "mimetype": "text/x-python",
   "name": "python",
   "nbconvert_exporter": "python",
   "pygments_lexer": "ipython3",
   "version": "3.10.6"
  },
  "toc": {
   "base_numbering": 1,
   "nav_menu": {},
   "number_sections": true,
   "sideBar": true,
   "skip_h1_title": false,
   "title_cell": "Table of Contents",
   "title_sidebar": "Contents",
   "toc_cell": false,
   "toc_position": {},
   "toc_section_display": true,
   "toc_window_display": true
  },
  "varInspector": {
   "cols": {
    "lenName": 16,
    "lenType": 16,
    "lenVar": 40
   },
   "kernels_config": {
    "python": {
     "delete_cmd_postfix": "",
     "delete_cmd_prefix": "del ",
     "library": "var_list.py",
     "varRefreshCmd": "print(var_dic_list())"
    },
    "r": {
     "delete_cmd_postfix": ") ",
     "delete_cmd_prefix": "rm(",
     "library": "var_list.r",
     "varRefreshCmd": "cat(var_dic_list()) "
    }
   },
   "types_to_exclude": [
    "module",
    "function",
    "builtin_function_or_method",
    "instance",
    "_Feature"
   ],
   "window_display": false
  }
 },
 "nbformat": 4,
 "nbformat_minor": 5
}
