{
 "cells": [
  {
   "cell_type": "markdown",
   "id": "b17700cc-53b0-4ce6-b6a7-8ecc22d9f289",
   "metadata": {},
   "source": [
    "# Chest-prediction"
   ]
  },
  {
   "cell_type": "markdown",
   "id": "09965761",
   "metadata": {},
   "source": [
    "## PRELIMINARY ACTION !"
   ]
  },
  {
   "cell_type": "markdown",
   "id": "4ef354ac",
   "metadata": {},
   "source": [
    "⚠️ Please go to ➤ https://drive.google.com/file/d/1lLrHbpUQE-Kd-jZ68Uk7SFwawbzqf6Av/view?usp=drive_link\n",
    "\n",
    "and download the dataset.\n",
    "\n",
    "Put the zip file into your \"*raw_data*\" folder"
   ]
  },
  {
   "cell_type": "markdown",
   "id": "5faad179-7472-4314-8936-5ad2b1749114",
   "metadata": {},
   "source": [
    "## data loading"
   ]
  },
  {
   "cell_type": "code",
   "execution_count": 2,
   "id": "7a9eed3c-4b31-42ba-b768-5247fe54bd26",
   "metadata": {
    "ExecuteTime": {
     "end_time": "2024-06-05T13:11:05.840595Z",
     "start_time": "2024-06-05T13:11:05.636281Z"
    }
   },
   "outputs": [],
   "source": [
    "import numpy as np\n",
    "import pandas as pd\n",
    "import pdb\n",
    "\n",
    "import os\n",
    "from pathlib import Path\n",
    "from PIL import Image"
   ]
  },
  {
   "cell_type": "markdown",
   "id": "25192021",
   "metadata": {},
   "source": [
    "### Loading images"
   ]
  },
  {
   "cell_type": "code",
   "execution_count": 3,
   "id": "11013ea4",
   "metadata": {
    "ExecuteTime": {
     "end_time": "2024-06-05T13:11:06.356000Z",
     "start_time": "2024-06-05T13:11:06.351289Z"
    }
   },
   "outputs": [],
   "source": [
    "PROJECT_NAME = \"chest-predictor\" #to be adapted depending on the name of the Project Name in your system\n",
    "NUMBER_OF_IMAGES = 1000 # nbr of images to be loaded or 'full' to load the entire dataset (+100k images)"
   ]
  },
  {
   "cell_type": "code",
   "execution_count": 4,
   "id": "10b88e32",
   "metadata": {
    "ExecuteTime": {
     "end_time": "2024-06-05T13:11:06.578914Z",
     "start_time": "2024-06-05T13:11:06.573594Z"
    }
   },
   "outputs": [],
   "source": [
    "USERNAME = os.environ.get('USER')"
   ]
  },
  {
   "cell_type": "code",
   "execution_count": 5,
   "id": "ff1e5898",
   "metadata": {
    "ExecuteTime": {
     "end_time": "2024-06-05T13:11:06.779712Z",
     "start_time": "2024-06-05T13:11:06.774545Z"
    }
   },
   "outputs": [],
   "source": [
    "LOCAL_DATA_PATH = Path(f\"/Users/{USERNAME}/code/sachamagier/{PROJECT_NAME}/raw_data/resized_dataset\")"
   ]
  },
  {
   "cell_type": "code",
   "execution_count": 6,
   "id": "75f7d90a",
   "metadata": {
    "ExecuteTime": {
     "end_time": "2024-06-05T13:11:06.990826Z",
     "start_time": "2024-06-05T13:11:06.985583Z"
    }
   },
   "outputs": [
    {
     "name": "stdout",
     "output_type": "stream",
     "text": [
      "LOCAL_DATA_PATH: /Users/arnodebelle/code/sachamagier/chest-predictor/raw_data/resized_dataset\n"
     ]
    }
   ],
   "source": [
    "print(f\"LOCAL_DATA_PATH: {LOCAL_DATA_PATH}\")"
   ]
  },
  {
   "cell_type": "code",
   "execution_count": 7,
   "id": "63c8f689",
   "metadata": {
    "ExecuteTime": {
     "end_time": "2024-06-05T13:11:07.195269Z",
     "start_time": "2024-06-05T13:11:07.187670Z"
    }
   },
   "outputs": [],
   "source": [
    "def loading_data():\n",
    "    \"\"\"This function either get all the images if the user set NUMBER_OF_IMAGES\n",
    "    to 'full' or the number of imgaes otherwise \"\"\"\n",
    "\n",
    "    images_data = []\n",
    "\n",
    "    # Define the path to the folder\n",
    "    folder_path = f'../raw_data/resized_dataset/images/set_full/'\n",
    "\n",
    "    \n",
    "    # Get a list of all files in the folder\n",
    "    file_list = os.listdir(folder_path)\n",
    "\n",
    "    # Filter the list to only include image files\n",
    "    image_files = [f for f in file_list if f.endswith('.png') or f.endswith('.jpg') or f.endswith('.jpeg')]\n",
    "\n",
    "\n",
    "    # Loop through the first NUMBER_OF_IMAGES\n",
    "    for i, image_file in enumerate(image_files):\n",
    "\n",
    "        # Stop the loop after NUMBER_OF_IMAGES iterations\n",
    "        if i == NUMBER_OF_IMAGES:\n",
    "            break\n",
    "\n",
    "        # Open the image file\n",
    "        with Image.open(folder_path + image_file) as image:\n",
    "            # Add the image to the list\n",
    "            images_data.append((image_file, np.array(image)))\n",
    "\n",
    "    return images_data"
   ]
  },
  {
   "cell_type": "code",
   "execution_count": 8,
   "id": "1b06e06b",
   "metadata": {
    "ExecuteTime": {
     "end_time": "2024-06-05T13:11:08.914729Z",
     "start_time": "2024-06-05T13:11:07.386066Z"
    },
    "scrolled": true
   },
   "outputs": [
    {
     "name": "stdout",
     "output_type": "stream",
     "text": [
      "Load local data...\n",
      "data loaded.\n"
     ]
    }
   ],
   "source": [
    "import urllib.request\n",
    "import zipfile\n",
    "import shutil\n",
    "\n",
    "\n",
    "if LOCAL_DATA_PATH.is_dir():\n",
    "    print(\"Load local data...\")\n",
    "    # loading data into data\n",
    "    images_data = loading_data()\n",
    "else:\n",
    "    print(\"Unziping file and loading the data...\")\n",
    "\n",
    "    output_path = \"../raw_data/resized_dataset.zip\"\n",
    "    # unzip the file\n",
    "    with zipfile.ZipFile(output_path, \"r\") as zip_ref:\n",
    "        for file_info in zip_ref.infolist():\n",
    "            zip_ref.extract(file_info, \"../raw_data/\")\n",
    "            \n",
    "    if Path(\"../raw_data/__MACOSX\").is_dir():\n",
    "        # remove the __MACOSX folder if it exists\n",
    "        shutil.rmtree(\"../raw_data/__MACOSX\")\n",
    "        \n",
    "    # remove the zip file\n",
    "    os.remove(output_path)\n",
    "    images_data = loading_data()\n",
    "\n",
    "print(\"data loaded.\")"
   ]
  },
  {
   "cell_type": "code",
   "execution_count": 9,
   "id": "5878ae3a",
   "metadata": {
    "ExecuteTime": {
     "end_time": "2024-06-05T13:11:09.493855Z",
     "start_time": "2024-06-05T13:11:09.490899Z"
    }
   },
   "outputs": [],
   "source": [
    "# Create a dataframe from the list of images and their indices\n",
    "images_df = pd.DataFrame(images_data, columns=['Image Index', 'image'])\n",
    "\n",
    "# Set the index of the dataframe to the 'Image Index' column\n",
    "images_df = images_df.set_index('Image Index').sort_index(ascending=True)"
   ]
  },
  {
   "cell_type": "code",
   "execution_count": 10,
   "id": "c3260861",
   "metadata": {
    "ExecuteTime": {
     "end_time": "2024-06-05T13:11:11.428519Z",
     "start_time": "2024-06-05T13:11:11.424535Z"
    }
   },
   "outputs": [
    {
     "data": {
      "text/plain": [
       "(1000, 1)"
      ]
     },
     "execution_count": 10,
     "metadata": {},
     "output_type": "execute_result"
    }
   ],
   "source": [
    "images_df.shape"
   ]
  },
  {
   "cell_type": "code",
   "execution_count": 11,
   "id": "d95bc3bc",
   "metadata": {
    "ExecuteTime": {
     "end_time": "2024-06-05T13:11:13.373369Z",
     "start_time": "2024-06-05T13:11:13.370329Z"
    },
    "scrolled": false
   },
   "outputs": [
    {
     "name": "stderr",
     "output_type": "stream",
     "text": [
      "/var/folders/0j/t72j59vs3k5_8l11kqqvpvkc0000gn/T/ipykernel_59756/4042123707.py:1: FutureWarning: Series.__getitem__ treating keys as positions is deprecated. In a future version, integer keys will always be treated as labels (consistent with DataFrame behavior). To access a value by position, use `ser.iloc[pos]`\n",
      "  images_df['image'][0].shape\n"
     ]
    },
    {
     "data": {
      "text/plain": [
       "(256, 256)"
      ]
     },
     "execution_count": 11,
     "metadata": {},
     "output_type": "execute_result"
    }
   ],
   "source": [
    "images_df['image'][0].shape"
   ]
  },
  {
   "cell_type": "markdown",
   "id": "3c19dfa7",
   "metadata": {},
   "source": [
    "### Loading labels data"
   ]
  },
  {
   "cell_type": "code",
   "execution_count": 12,
   "id": "cd26302c",
   "metadata": {
    "ExecuteTime": {
     "end_time": "2024-06-05T13:11:15.362267Z",
     "start_time": "2024-06-05T13:11:15.294219Z"
    }
   },
   "outputs": [],
   "source": [
    "labels_df = pd.read_csv('../raw_data/resized_dataset/Data_Entry_2017.csv')"
   ]
  },
  {
   "cell_type": "code",
   "execution_count": 13,
   "id": "ebeb04e8",
   "metadata": {
    "ExecuteTime": {
     "end_time": "2024-06-05T13:11:17.298424Z",
     "start_time": "2024-06-05T13:11:17.293343Z"
    },
    "scrolled": true
   },
   "outputs": [
    {
     "data": {
      "text/html": [
       "<div>\n",
       "<style scoped>\n",
       "    .dataframe tbody tr th:only-of-type {\n",
       "        vertical-align: middle;\n",
       "    }\n",
       "\n",
       "    .dataframe tbody tr th {\n",
       "        vertical-align: top;\n",
       "    }\n",
       "\n",
       "    .dataframe thead th {\n",
       "        text-align: right;\n",
       "    }\n",
       "</style>\n",
       "<table border=\"1\" class=\"dataframe\">\n",
       "  <thead>\n",
       "    <tr style=\"text-align: right;\">\n",
       "      <th></th>\n",
       "      <th>Image Index</th>\n",
       "      <th>Finding Labels</th>\n",
       "      <th>Follow-up #</th>\n",
       "      <th>Patient ID</th>\n",
       "      <th>Patient Age</th>\n",
       "      <th>Patient Gender</th>\n",
       "      <th>View Position</th>\n",
       "      <th>OriginalImage[Width</th>\n",
       "      <th>Height]</th>\n",
       "      <th>OriginalImagePixelSpacing[x</th>\n",
       "      <th>y]</th>\n",
       "      <th>Unnamed: 11</th>\n",
       "    </tr>\n",
       "  </thead>\n",
       "  <tbody>\n",
       "    <tr>\n",
       "      <th>0</th>\n",
       "      <td>00000001_000.png</td>\n",
       "      <td>Cardiomegaly</td>\n",
       "      <td>0</td>\n",
       "      <td>1</td>\n",
       "      <td>58</td>\n",
       "      <td>M</td>\n",
       "      <td>PA</td>\n",
       "      <td>2682</td>\n",
       "      <td>2749</td>\n",
       "      <td>0.143</td>\n",
       "      <td>0.143</td>\n",
       "      <td>NaN</td>\n",
       "    </tr>\n",
       "    <tr>\n",
       "      <th>1</th>\n",
       "      <td>00000001_001.png</td>\n",
       "      <td>Cardiomegaly|Emphysema</td>\n",
       "      <td>1</td>\n",
       "      <td>1</td>\n",
       "      <td>58</td>\n",
       "      <td>M</td>\n",
       "      <td>PA</td>\n",
       "      <td>2894</td>\n",
       "      <td>2729</td>\n",
       "      <td>0.143</td>\n",
       "      <td>0.143</td>\n",
       "      <td>NaN</td>\n",
       "    </tr>\n",
       "    <tr>\n",
       "      <th>2</th>\n",
       "      <td>00000001_002.png</td>\n",
       "      <td>Cardiomegaly|Effusion</td>\n",
       "      <td>2</td>\n",
       "      <td>1</td>\n",
       "      <td>58</td>\n",
       "      <td>M</td>\n",
       "      <td>PA</td>\n",
       "      <td>2500</td>\n",
       "      <td>2048</td>\n",
       "      <td>0.168</td>\n",
       "      <td>0.168</td>\n",
       "      <td>NaN</td>\n",
       "    </tr>\n",
       "    <tr>\n",
       "      <th>3</th>\n",
       "      <td>00000002_000.png</td>\n",
       "      <td>No Finding</td>\n",
       "      <td>0</td>\n",
       "      <td>2</td>\n",
       "      <td>81</td>\n",
       "      <td>M</td>\n",
       "      <td>PA</td>\n",
       "      <td>2500</td>\n",
       "      <td>2048</td>\n",
       "      <td>0.171</td>\n",
       "      <td>0.171</td>\n",
       "      <td>NaN</td>\n",
       "    </tr>\n",
       "    <tr>\n",
       "      <th>4</th>\n",
       "      <td>00000003_000.png</td>\n",
       "      <td>Hernia</td>\n",
       "      <td>0</td>\n",
       "      <td>3</td>\n",
       "      <td>81</td>\n",
       "      <td>F</td>\n",
       "      <td>PA</td>\n",
       "      <td>2582</td>\n",
       "      <td>2991</td>\n",
       "      <td>0.143</td>\n",
       "      <td>0.143</td>\n",
       "      <td>NaN</td>\n",
       "    </tr>\n",
       "  </tbody>\n",
       "</table>\n",
       "</div>"
      ],
      "text/plain": [
       "        Image Index          Finding Labels  Follow-up #  Patient ID  \\\n",
       "0  00000001_000.png            Cardiomegaly            0           1   \n",
       "1  00000001_001.png  Cardiomegaly|Emphysema            1           1   \n",
       "2  00000001_002.png   Cardiomegaly|Effusion            2           1   \n",
       "3  00000002_000.png              No Finding            0           2   \n",
       "4  00000003_000.png                  Hernia            0           3   \n",
       "\n",
       "   Patient Age Patient Gender View Position  OriginalImage[Width  Height]  \\\n",
       "0           58              M            PA                 2682     2749   \n",
       "1           58              M            PA                 2894     2729   \n",
       "2           58              M            PA                 2500     2048   \n",
       "3           81              M            PA                 2500     2048   \n",
       "4           81              F            PA                 2582     2991   \n",
       "\n",
       "   OriginalImagePixelSpacing[x     y]  Unnamed: 11  \n",
       "0                        0.143  0.143          NaN  \n",
       "1                        0.143  0.143          NaN  \n",
       "2                        0.168  0.168          NaN  \n",
       "3                        0.171  0.171          NaN  \n",
       "4                        0.143  0.143          NaN  "
      ]
     },
     "execution_count": 13,
     "metadata": {},
     "output_type": "execute_result"
    }
   ],
   "source": [
    "labels_df.head()"
   ]
  },
  {
   "cell_type": "code",
   "execution_count": 14,
   "id": "7616c82c",
   "metadata": {
    "ExecuteTime": {
     "end_time": "2024-06-05T13:11:19.214328Z",
     "start_time": "2024-06-05T13:11:19.209533Z"
    }
   },
   "outputs": [],
   "source": [
    "unique_lab = labels_df['Finding Labels'].unique()"
   ]
  },
  {
   "cell_type": "code",
   "execution_count": 15,
   "id": "093a758b",
   "metadata": {
    "ExecuteTime": {
     "end_time": "2024-06-05T13:11:21.174005Z",
     "start_time": "2024-06-05T13:11:21.172024Z"
    }
   },
   "outputs": [
    {
     "data": {
      "text/plain": [
       "836"
      ]
     },
     "execution_count": 15,
     "metadata": {},
     "output_type": "execute_result"
    }
   ],
   "source": [
    "len(unique_lab)"
   ]
  },
  {
   "cell_type": "markdown",
   "id": "04b4c0e1",
   "metadata": {},
   "source": [
    "### Merging Images with labels and creating a new DF"
   ]
  },
  {
   "cell_type": "code",
   "execution_count": 16,
   "id": "d12b0aec",
   "metadata": {
    "ExecuteTime": {
     "end_time": "2024-06-05T13:11:23.136015Z",
     "start_time": "2024-06-05T13:11:23.122441Z"
    }
   },
   "outputs": [],
   "source": [
    "# Merge the image_df and labels_df dataframes on the 'Image Index' column\n",
    "merged_df = pd.merge(images_df, labels_df[['Image Index', 'Finding Labels']], left_index=True, right_on='Image Index', how='inner')\n",
    "\n",
    "# Rename the 'Finding Labels' column to 'labels'\n",
    "merged_df = merged_df.rename(columns={'Finding Labels': 'labels'})\n",
    "\n",
    "# Set the index of the dataframe to the 'Image Index' column\n",
    "merged_df = merged_df.set_index('Image Index').sort_index(ascending=True)"
   ]
  },
  {
   "cell_type": "code",
   "execution_count": 17,
   "id": "33ae856d",
   "metadata": {
    "ExecuteTime": {
     "end_time": "2024-06-05T13:11:26.566949Z",
     "start_time": "2024-06-05T13:11:26.415535Z"
    }
   },
   "outputs": [
    {
     "data": {
      "text/html": [
       "<div>\n",
       "<style scoped>\n",
       "    .dataframe tbody tr th:only-of-type {\n",
       "        vertical-align: middle;\n",
       "    }\n",
       "\n",
       "    .dataframe tbody tr th {\n",
       "        vertical-align: top;\n",
       "    }\n",
       "\n",
       "    .dataframe thead th {\n",
       "        text-align: right;\n",
       "    }\n",
       "</style>\n",
       "<table border=\"1\" class=\"dataframe\">\n",
       "  <thead>\n",
       "    <tr style=\"text-align: right;\">\n",
       "      <th></th>\n",
       "      <th>image</th>\n",
       "      <th>labels</th>\n",
       "    </tr>\n",
       "    <tr>\n",
       "      <th>Image Index</th>\n",
       "      <th></th>\n",
       "      <th></th>\n",
       "    </tr>\n",
       "  </thead>\n",
       "  <tbody>\n",
       "    <tr>\n",
       "      <th>00000013_008.png</th>\n",
       "      <td>[[5, 7, 7, 7, 7, 7, 7, 7, 7, 7, 6, 6, 6, 6, 6,...</td>\n",
       "      <td>No Finding</td>\n",
       "    </tr>\n",
       "    <tr>\n",
       "      <th>00000013_020.png</th>\n",
       "      <td>[[43, 34, 29, 27, 25, 24, 25, 24, 25, 25, 26, ...</td>\n",
       "      <td>Pneumothorax</td>\n",
       "    </tr>\n",
       "    <tr>\n",
       "      <th>00000013_034.png</th>\n",
       "      <td>[[10, 10, 10, 10, 10, 10, 10, 10, 10, 10, 10, ...</td>\n",
       "      <td>Emphysema|Pneumothorax</td>\n",
       "    </tr>\n",
       "    <tr>\n",
       "      <th>00000038_001.png</th>\n",
       "      <td>[[27, 14, 6, 3, 2, 1, 2, 1, 2, 1, 1, 2, 2, 2, ...</td>\n",
       "      <td>Atelectasis|Infiltration</td>\n",
       "    </tr>\n",
       "    <tr>\n",
       "      <th>00000039_004.png</th>\n",
       "      <td>[[198, 192, 188, 185, 180, 176, 174, 171, 169,...</td>\n",
       "      <td>Effusion</td>\n",
       "    </tr>\n",
       "  </tbody>\n",
       "</table>\n",
       "</div>"
      ],
      "text/plain": [
       "                                                              image  \\\n",
       "Image Index                                                           \n",
       "00000013_008.png  [[5, 7, 7, 7, 7, 7, 7, 7, 7, 7, 6, 6, 6, 6, 6,...   \n",
       "00000013_020.png  [[43, 34, 29, 27, 25, 24, 25, 24, 25, 25, 26, ...   \n",
       "00000013_034.png  [[10, 10, 10, 10, 10, 10, 10, 10, 10, 10, 10, ...   \n",
       "00000038_001.png  [[27, 14, 6, 3, 2, 1, 2, 1, 2, 1, 1, 2, 2, 2, ...   \n",
       "00000039_004.png  [[198, 192, 188, 185, 180, 176, 174, 171, 169,...   \n",
       "\n",
       "                                    labels  \n",
       "Image Index                                 \n",
       "00000013_008.png                No Finding  \n",
       "00000013_020.png              Pneumothorax  \n",
       "00000013_034.png    Emphysema|Pneumothorax  \n",
       "00000038_001.png  Atelectasis|Infiltration  \n",
       "00000039_004.png                  Effusion  "
      ]
     },
     "execution_count": 17,
     "metadata": {},
     "output_type": "execute_result"
    }
   ],
   "source": [
    "merged_df.head()"
   ]
  },
  {
   "cell_type": "markdown",
   "id": "c510e98e",
   "metadata": {},
   "source": [
    "### droping the rows with images of shape (256, 256, 4)"
   ]
  },
  {
   "cell_type": "code",
   "execution_count": 18,
   "id": "9bed4d30",
   "metadata": {
    "ExecuteTime": {
     "end_time": "2024-06-05T13:11:29.868794Z",
     "start_time": "2024-06-05T13:11:29.866846Z"
    }
   },
   "outputs": [
    {
     "name": "stdout",
     "output_type": "stream",
     "text": [
      "5\n"
     ]
    }
   ],
   "source": [
    "# Find the images with shape (256, 256, 4)\n",
    "images_with_shape_4 = [img for img in merged_df['image'] if np.shape(img) == (256, 256, 4)]\n",
    "\n",
    "# Print the number of images with shape (256, 256, 4)\n",
    "print(len(images_with_shape_4))\n"
   ]
  },
  {
   "cell_type": "code",
   "execution_count": 19,
   "id": "ded8a7d2",
   "metadata": {
    "ExecuteTime": {
     "end_time": "2024-06-05T13:11:33.158516Z",
     "start_time": "2024-06-05T13:11:33.156101Z"
    }
   },
   "outputs": [],
   "source": [
    "# Find the indices of the images with shape (256, 256, 4)\n",
    "indices_to_drop = merged_df[merged_df['image'].apply(lambda x: np.shape(x) == (256, 256, 4))].index\n",
    "\n",
    "# Drop the rows with the images with shape (256, 256, 4)\n",
    "merged_df = merged_df.drop(indices_to_drop)"
   ]
  },
  {
   "cell_type": "code",
   "execution_count": 20,
   "id": "9059ba4f",
   "metadata": {
    "ExecuteTime": {
     "end_time": "2024-06-05T13:11:36.422024Z",
     "start_time": "2024-06-05T13:11:36.420076Z"
    }
   },
   "outputs": [
    {
     "name": "stdout",
     "output_type": "stream",
     "text": [
      "0\n"
     ]
    }
   ],
   "source": [
    "# Find the images with shape (256, 256, 4)\n",
    "images_with_shape_4 = [img for img in merged_df['image'] if np.shape(img) == (256, 256, 4)]\n",
    "\n",
    "# Print the number of images with shape (256, 256, 4)\n",
    "print(len(images_with_shape_4))"
   ]
  },
  {
   "cell_type": "markdown",
   "id": "a8bbd3fc",
   "metadata": {},
   "source": [
    "### Encoding labels"
   ]
  },
  {
   "cell_type": "code",
   "execution_count": 21,
   "id": "426c34bc",
   "metadata": {
    "ExecuteTime": {
     "end_time": "2024-06-05T13:11:39.712816Z",
     "start_time": "2024-06-05T13:11:39.705678Z"
    }
   },
   "outputs": [],
   "source": [
    "# Define the list of labels\n",
    "labels = ['Atelectasis', 'Consolidation', 'Infiltration', 'Pneumothorax', 'Edema',\n",
    "           'Emphysema', 'Fibrosis', 'Effusion', 'Pneumonia', 'Pleural_Thickening',\n",
    "           'Cardiomegaly', 'Nodule', 'Mass', 'Hernia', 'No Finding']\n",
    "\n",
    "# Create a new dataframe with one-hot encoded columns for the labels\n",
    "one_hot_df = merged_df['labels'].str.get_dummies(sep='|')\n",
    "\n",
    "# Concatenate the one-hot encoded dataframe with the original dataframe\n",
    "merged_df = pd.concat([merged_df, one_hot_df], axis=1)\n"
   ]
  },
  {
   "cell_type": "code",
   "execution_count": 22,
   "id": "09dd0cc0",
   "metadata": {
    "ExecuteTime": {
     "end_time": "2024-06-05T13:11:43.017217Z",
     "start_time": "2024-06-05T13:11:43.015149Z"
    }
   },
   "outputs": [
    {
     "data": {
      "text/plain": [
       "Index(['image', 'labels', 'Atelectasis', 'Cardiomegaly', 'Consolidation',\n",
       "       'Edema', 'Effusion', 'Emphysema', 'Fibrosis', 'Hernia', 'Infiltration',\n",
       "       'Mass', 'No Finding', 'Nodule', 'Pleural_Thickening', 'Pneumonia',\n",
       "       'Pneumothorax'],\n",
       "      dtype='object')"
      ]
     },
     "execution_count": 22,
     "metadata": {},
     "output_type": "execute_result"
    }
   ],
   "source": [
    "merged_df.columns"
   ]
  },
  {
   "cell_type": "markdown",
   "id": "748dc4b7",
   "metadata": {},
   "source": [
    "## Creating 'X' and 'y'"
   ]
  },
  {
   "cell_type": "code",
   "execution_count": 23,
   "id": "df2d7cba",
   "metadata": {
    "ExecuteTime": {
     "end_time": "2024-06-05T13:11:46.335160Z",
     "start_time": "2024-06-05T13:11:46.333763Z"
    }
   },
   "outputs": [],
   "source": [
    "y = one_hot_df"
   ]
  },
  {
   "cell_type": "code",
   "execution_count": 24,
   "id": "a1909302",
   "metadata": {
    "ExecuteTime": {
     "end_time": "2024-06-05T13:11:49.607915Z",
     "start_time": "2024-06-05T13:11:49.603430Z"
    }
   },
   "outputs": [
    {
     "data": {
      "text/html": [
       "<div>\n",
       "<style scoped>\n",
       "    .dataframe tbody tr th:only-of-type {\n",
       "        vertical-align: middle;\n",
       "    }\n",
       "\n",
       "    .dataframe tbody tr th {\n",
       "        vertical-align: top;\n",
       "    }\n",
       "\n",
       "    .dataframe thead th {\n",
       "        text-align: right;\n",
       "    }\n",
       "</style>\n",
       "<table border=\"1\" class=\"dataframe\">\n",
       "  <thead>\n",
       "    <tr style=\"text-align: right;\">\n",
       "      <th></th>\n",
       "      <th>Atelectasis</th>\n",
       "      <th>Cardiomegaly</th>\n",
       "      <th>Consolidation</th>\n",
       "      <th>Edema</th>\n",
       "      <th>Effusion</th>\n",
       "      <th>Emphysema</th>\n",
       "      <th>Fibrosis</th>\n",
       "      <th>Hernia</th>\n",
       "      <th>Infiltration</th>\n",
       "      <th>Mass</th>\n",
       "      <th>No Finding</th>\n",
       "      <th>Nodule</th>\n",
       "      <th>Pleural_Thickening</th>\n",
       "      <th>Pneumonia</th>\n",
       "      <th>Pneumothorax</th>\n",
       "    </tr>\n",
       "    <tr>\n",
       "      <th>Image Index</th>\n",
       "      <th></th>\n",
       "      <th></th>\n",
       "      <th></th>\n",
       "      <th></th>\n",
       "      <th></th>\n",
       "      <th></th>\n",
       "      <th></th>\n",
       "      <th></th>\n",
       "      <th></th>\n",
       "      <th></th>\n",
       "      <th></th>\n",
       "      <th></th>\n",
       "      <th></th>\n",
       "      <th></th>\n",
       "      <th></th>\n",
       "    </tr>\n",
       "  </thead>\n",
       "  <tbody>\n",
       "    <tr>\n",
       "      <th>00000013_008.png</th>\n",
       "      <td>0</td>\n",
       "      <td>0</td>\n",
       "      <td>0</td>\n",
       "      <td>0</td>\n",
       "      <td>0</td>\n",
       "      <td>0</td>\n",
       "      <td>0</td>\n",
       "      <td>0</td>\n",
       "      <td>0</td>\n",
       "      <td>0</td>\n",
       "      <td>1</td>\n",
       "      <td>0</td>\n",
       "      <td>0</td>\n",
       "      <td>0</td>\n",
       "      <td>0</td>\n",
       "    </tr>\n",
       "    <tr>\n",
       "      <th>00000013_020.png</th>\n",
       "      <td>0</td>\n",
       "      <td>0</td>\n",
       "      <td>0</td>\n",
       "      <td>0</td>\n",
       "      <td>0</td>\n",
       "      <td>0</td>\n",
       "      <td>0</td>\n",
       "      <td>0</td>\n",
       "      <td>0</td>\n",
       "      <td>0</td>\n",
       "      <td>0</td>\n",
       "      <td>0</td>\n",
       "      <td>0</td>\n",
       "      <td>0</td>\n",
       "      <td>1</td>\n",
       "    </tr>\n",
       "    <tr>\n",
       "      <th>00000013_034.png</th>\n",
       "      <td>0</td>\n",
       "      <td>0</td>\n",
       "      <td>0</td>\n",
       "      <td>0</td>\n",
       "      <td>0</td>\n",
       "      <td>1</td>\n",
       "      <td>0</td>\n",
       "      <td>0</td>\n",
       "      <td>0</td>\n",
       "      <td>0</td>\n",
       "      <td>0</td>\n",
       "      <td>0</td>\n",
       "      <td>0</td>\n",
       "      <td>0</td>\n",
       "      <td>1</td>\n",
       "    </tr>\n",
       "    <tr>\n",
       "      <th>00000038_001.png</th>\n",
       "      <td>1</td>\n",
       "      <td>0</td>\n",
       "      <td>0</td>\n",
       "      <td>0</td>\n",
       "      <td>0</td>\n",
       "      <td>0</td>\n",
       "      <td>0</td>\n",
       "      <td>0</td>\n",
       "      <td>1</td>\n",
       "      <td>0</td>\n",
       "      <td>0</td>\n",
       "      <td>0</td>\n",
       "      <td>0</td>\n",
       "      <td>0</td>\n",
       "      <td>0</td>\n",
       "    </tr>\n",
       "    <tr>\n",
       "      <th>00000039_004.png</th>\n",
       "      <td>0</td>\n",
       "      <td>0</td>\n",
       "      <td>0</td>\n",
       "      <td>0</td>\n",
       "      <td>1</td>\n",
       "      <td>0</td>\n",
       "      <td>0</td>\n",
       "      <td>0</td>\n",
       "      <td>0</td>\n",
       "      <td>0</td>\n",
       "      <td>0</td>\n",
       "      <td>0</td>\n",
       "      <td>0</td>\n",
       "      <td>0</td>\n",
       "      <td>0</td>\n",
       "    </tr>\n",
       "    <tr>\n",
       "      <th>...</th>\n",
       "      <td>...</td>\n",
       "      <td>...</td>\n",
       "      <td>...</td>\n",
       "      <td>...</td>\n",
       "      <td>...</td>\n",
       "      <td>...</td>\n",
       "      <td>...</td>\n",
       "      <td>...</td>\n",
       "      <td>...</td>\n",
       "      <td>...</td>\n",
       "      <td>...</td>\n",
       "      <td>...</td>\n",
       "      <td>...</td>\n",
       "      <td>...</td>\n",
       "      <td>...</td>\n",
       "    </tr>\n",
       "    <tr>\n",
       "      <th>00030413_003.png</th>\n",
       "      <td>0</td>\n",
       "      <td>0</td>\n",
       "      <td>1</td>\n",
       "      <td>0</td>\n",
       "      <td>0</td>\n",
       "      <td>0</td>\n",
       "      <td>0</td>\n",
       "      <td>0</td>\n",
       "      <td>0</td>\n",
       "      <td>0</td>\n",
       "      <td>0</td>\n",
       "      <td>1</td>\n",
       "      <td>0</td>\n",
       "      <td>0</td>\n",
       "      <td>0</td>\n",
       "    </tr>\n",
       "    <tr>\n",
       "      <th>00030536_002.png</th>\n",
       "      <td>0</td>\n",
       "      <td>0</td>\n",
       "      <td>0</td>\n",
       "      <td>0</td>\n",
       "      <td>0</td>\n",
       "      <td>0</td>\n",
       "      <td>0</td>\n",
       "      <td>0</td>\n",
       "      <td>0</td>\n",
       "      <td>0</td>\n",
       "      <td>1</td>\n",
       "      <td>0</td>\n",
       "      <td>0</td>\n",
       "      <td>0</td>\n",
       "      <td>0</td>\n",
       "    </tr>\n",
       "    <tr>\n",
       "      <th>00030636_022.png</th>\n",
       "      <td>1</td>\n",
       "      <td>0</td>\n",
       "      <td>0</td>\n",
       "      <td>0</td>\n",
       "      <td>1</td>\n",
       "      <td>0</td>\n",
       "      <td>0</td>\n",
       "      <td>0</td>\n",
       "      <td>0</td>\n",
       "      <td>0</td>\n",
       "      <td>0</td>\n",
       "      <td>0</td>\n",
       "      <td>0</td>\n",
       "      <td>0</td>\n",
       "      <td>0</td>\n",
       "    </tr>\n",
       "    <tr>\n",
       "      <th>00030651_007.png</th>\n",
       "      <td>1</td>\n",
       "      <td>0</td>\n",
       "      <td>1</td>\n",
       "      <td>0</td>\n",
       "      <td>0</td>\n",
       "      <td>0</td>\n",
       "      <td>0</td>\n",
       "      <td>0</td>\n",
       "      <td>0</td>\n",
       "      <td>0</td>\n",
       "      <td>0</td>\n",
       "      <td>0</td>\n",
       "      <td>0</td>\n",
       "      <td>0</td>\n",
       "      <td>0</td>\n",
       "    </tr>\n",
       "    <tr>\n",
       "      <th>00030753_001.png</th>\n",
       "      <td>0</td>\n",
       "      <td>0</td>\n",
       "      <td>0</td>\n",
       "      <td>0</td>\n",
       "      <td>0</td>\n",
       "      <td>0</td>\n",
       "      <td>0</td>\n",
       "      <td>0</td>\n",
       "      <td>0</td>\n",
       "      <td>0</td>\n",
       "      <td>1</td>\n",
       "      <td>0</td>\n",
       "      <td>0</td>\n",
       "      <td>0</td>\n",
       "      <td>0</td>\n",
       "    </tr>\n",
       "  </tbody>\n",
       "</table>\n",
       "<p>995 rows × 15 columns</p>\n",
       "</div>"
      ],
      "text/plain": [
       "                  Atelectasis  Cardiomegaly  Consolidation  Edema  Effusion  \\\n",
       "Image Index                                                                   \n",
       "00000013_008.png            0             0              0      0         0   \n",
       "00000013_020.png            0             0              0      0         0   \n",
       "00000013_034.png            0             0              0      0         0   \n",
       "00000038_001.png            1             0              0      0         0   \n",
       "00000039_004.png            0             0              0      0         1   \n",
       "...                       ...           ...            ...    ...       ...   \n",
       "00030413_003.png            0             0              1      0         0   \n",
       "00030536_002.png            0             0              0      0         0   \n",
       "00030636_022.png            1             0              0      0         1   \n",
       "00030651_007.png            1             0              1      0         0   \n",
       "00030753_001.png            0             0              0      0         0   \n",
       "\n",
       "                  Emphysema  Fibrosis  Hernia  Infiltration  Mass  No Finding  \\\n",
       "Image Index                                                                     \n",
       "00000013_008.png          0         0       0             0     0           1   \n",
       "00000013_020.png          0         0       0             0     0           0   \n",
       "00000013_034.png          1         0       0             0     0           0   \n",
       "00000038_001.png          0         0       0             1     0           0   \n",
       "00000039_004.png          0         0       0             0     0           0   \n",
       "...                     ...       ...     ...           ...   ...         ...   \n",
       "00030413_003.png          0         0       0             0     0           0   \n",
       "00030536_002.png          0         0       0             0     0           1   \n",
       "00030636_022.png          0         0       0             0     0           0   \n",
       "00030651_007.png          0         0       0             0     0           0   \n",
       "00030753_001.png          0         0       0             0     0           1   \n",
       "\n",
       "                  Nodule  Pleural_Thickening  Pneumonia  Pneumothorax  \n",
       "Image Index                                                            \n",
       "00000013_008.png       0                   0          0             0  \n",
       "00000013_020.png       0                   0          0             1  \n",
       "00000013_034.png       0                   0          0             1  \n",
       "00000038_001.png       0                   0          0             0  \n",
       "00000039_004.png       0                   0          0             0  \n",
       "...                  ...                 ...        ...           ...  \n",
       "00030413_003.png       1                   0          0             0  \n",
       "00030536_002.png       0                   0          0             0  \n",
       "00030636_022.png       0                   0          0             0  \n",
       "00030651_007.png       0                   0          0             0  \n",
       "00030753_001.png       0                   0          0             0  \n",
       "\n",
       "[995 rows x 15 columns]"
      ]
     },
     "execution_count": 24,
     "metadata": {},
     "output_type": "execute_result"
    }
   ],
   "source": [
    "y"
   ]
  },
  {
   "cell_type": "code",
   "execution_count": 25,
   "id": "204b7dc6",
   "metadata": {
    "ExecuteTime": {
     "end_time": "2024-06-05T13:11:52.894882Z",
     "start_time": "2024-06-05T13:11:52.893483Z"
    }
   },
   "outputs": [],
   "source": [
    "X = merged_df['image']"
   ]
  },
  {
   "cell_type": "code",
   "execution_count": 26,
   "id": "f7fac4de",
   "metadata": {
    "ExecuteTime": {
     "end_time": "2024-06-05T13:11:57.476647Z",
     "start_time": "2024-06-05T13:11:57.472298Z"
    }
   },
   "outputs": [
    {
     "name": "stdout",
     "output_type": "stream",
     "text": [
      "<class 'pandas.core.series.Series'>\n",
      "Index: 995 entries, 00000013_008.png to 00030753_001.png\n",
      "Series name: image\n",
      "Non-Null Count  Dtype \n",
      "--------------  ----- \n",
      "995 non-null    object\n",
      "dtypes: object(1)\n",
      "memory usage: 62.4 MB\n"
     ]
    }
   ],
   "source": [
    "X.info(memory_usage='deep')"
   ]
  },
  {
   "cell_type": "code",
   "execution_count": 27,
   "id": "f8a6a99c",
   "metadata": {
    "ExecuteTime": {
     "end_time": "2024-06-05T13:12:02.033757Z",
     "start_time": "2024-06-05T13:12:02.024840Z"
    },
    "scrolled": true
   },
   "outputs": [],
   "source": [
    "X = np.array([np.reshape(img, (256, 256, 1)) for img in X])"
   ]
  },
  {
   "cell_type": "code",
   "execution_count": 28,
   "id": "2c1b7442",
   "metadata": {
    "ExecuteTime": {
     "end_time": "2024-06-05T13:12:05.305845Z",
     "start_time": "2024-06-05T13:12:05.304067Z"
    }
   },
   "outputs": [
    {
     "data": {
      "text/plain": [
       "(995, 256, 256, 1)"
      ]
     },
     "execution_count": 28,
     "metadata": {},
     "output_type": "execute_result"
    }
   ],
   "source": [
    "X.shape"
   ]
  },
  {
   "cell_type": "code",
   "execution_count": null,
   "id": "3f5e407c",
   "metadata": {},
   "outputs": [],
   "source": []
  }
 ],
 "metadata": {
  "kernelspec": {
   "display_name": "Python 3 (ipykernel)",
   "language": "python",
   "name": "python3"
  },
  "language_info": {
   "codemirror_mode": {
    "name": "ipython",
    "version": 3
   },
   "file_extension": ".py",
   "mimetype": "text/x-python",
   "name": "python",
   "nbconvert_exporter": "python",
   "pygments_lexer": "ipython3",
   "version": "3.10.6"
  },
  "toc": {
   "base_numbering": 1,
   "nav_menu": {},
   "number_sections": true,
   "sideBar": true,
   "skip_h1_title": false,
   "title_cell": "Table of Contents",
   "title_sidebar": "Contents",
   "toc_cell": false,
   "toc_position": {},
   "toc_section_display": true,
   "toc_window_display": true
  },
  "varInspector": {
   "cols": {
    "lenName": 16,
    "lenType": 16,
    "lenVar": 40
   },
   "kernels_config": {
    "python": {
     "delete_cmd_postfix": "",
     "delete_cmd_prefix": "del ",
     "library": "var_list.py",
     "varRefreshCmd": "print(var_dic_list())"
    },
    "r": {
     "delete_cmd_postfix": ") ",
     "delete_cmd_prefix": "rm(",
     "library": "var_list.r",
     "varRefreshCmd": "cat(var_dic_list()) "
    }
   },
   "types_to_exclude": [
    "module",
    "function",
    "builtin_function_or_method",
    "instance",
    "_Feature"
   ],
   "window_display": false
  }
 },
 "nbformat": 4,
 "nbformat_minor": 5
}
