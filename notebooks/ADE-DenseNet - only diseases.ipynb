{
 "cells": [
  {
   "cell_type": "markdown",
   "id": "cd2a6b9e",
   "metadata": {},
   "source": [
    "# Chest-prediction - MODEL DenseNet - Only on diseases!\n",
    "\n"
   ]
  },
  {
   "cell_type": "markdown",
   "id": "b8e18f67",
   "metadata": {},
   "source": [
    "## Setup"
   ]
  },
  {
   "cell_type": "code",
   "execution_count": 1,
   "id": "14bcc027",
   "metadata": {
    "ExecuteTime": {
     "end_time": "2024-06-11T09:10:03.541774Z",
     "start_time": "2024-06-11T09:10:03.535714Z"
    }
   },
   "outputs": [],
   "source": [
    "import numpy as np"
   ]
  },
  {
   "cell_type": "code",
   "execution_count": 2,
   "id": "1cfc0f0f",
   "metadata": {
    "ExecuteTime": {
     "end_time": "2024-06-11T09:10:06.729526Z",
     "start_time": "2024-06-11T09:10:03.754760Z"
    }
   },
   "outputs": [
    {
     "data": {
      "text/plain": [
       "'2.15.0'"
      ]
     },
     "execution_count": 2,
     "metadata": {},
     "output_type": "execute_result"
    }
   ],
   "source": [
    "import tensorflow as tf\n",
    "tf.__version__"
   ]
  },
  {
   "cell_type": "code",
   "execution_count": 3,
   "id": "0c0d11ca",
   "metadata": {
    "ExecuteTime": {
     "end_time": "2024-06-11T09:10:06.733942Z",
     "start_time": "2024-06-11T09:10:06.732615Z"
    }
   },
   "outputs": [],
   "source": [
    "AUTOTUNE = tf.data.AUTOTUNE"
   ]
  },
  {
   "cell_type": "markdown",
   "id": "0c221a69",
   "metadata": {},
   "source": [
    "## Download and inspect the dataset"
   ]
  },
  {
   "cell_type": "markdown",
   "id": "7736323a",
   "metadata": {},
   "source": [
    "### Retrieve the images\n",
    "\n",
    "Before you start any training, you'll need to download the dataset. I already resized the original dataset of the images to pass from 45GB to 3GB."
   ]
  },
  {
   "cell_type": "code",
   "execution_count": 4,
   "id": "c236a574",
   "metadata": {
    "ExecuteTime": {
     "end_time": "2024-06-11T09:10:09.358562Z",
     "start_time": "2024-06-11T09:10:09.325032Z"
    }
   },
   "outputs": [],
   "source": [
    "import os\n",
    "from pathlib import Path\n",
    "\n",
    "project_name = \"chest-predictor\"\n",
    "username = os.environ.get('USER')\n",
    "\n",
    "#Set variables (origin url, destination folder, folder name)\n",
    "data_url = 'https://storage.googleapis.com/chest-predictor-data/resized_dataset.zip'\n",
    "data_dir = f\"/Users/{username}/code/sachamagier/{project_name}/raw_data\"\n",
    "data_fname = 'resized_dataset.zip'\n",
    "\n",
    "\n",
    "#Downloading the dataset\n",
    "data_root_orig = tf.keras.utils.get_file(\n",
    "    fname=os.path.join(data_dir, data_fname),\n",
    "    origin=data_url\n",
    ")"
   ]
  },
  {
   "cell_type": "markdown",
   "id": "d68fea74",
   "metadata": {},
   "source": [
    "Unzip the dataset download from GCS"
   ]
  },
  {
   "cell_type": "markdown",
   "id": "820ef572",
   "metadata": {},
   "source": [
    "** **Uncomment the block below if you need to unzip the file** **"
   ]
  },
  {
   "cell_type": "code",
   "execution_count": null,
   "id": "8c68de49",
   "metadata": {
    "ExecuteTime": {
     "end_time": "2024-06-10T18:12:25.974936Z",
     "start_time": "2024-06-10T18:12:10.705381Z"
    }
   },
   "outputs": [],
   "source": [
    "#import zipfile\n",
    "\n",
    "##Extract the dataset\n",
    "#with zipfile.ZipFile(data_root_orig, 'r') as zip_ref:\n",
    "    #zip_ref.extractall(data_dir)"
   ]
  },
  {
   "cell_type": "code",
   "execution_count": 5,
   "id": "98c4b71c",
   "metadata": {
    "ExecuteTime": {
     "end_time": "2024-06-11T09:10:12.153455Z",
     "start_time": "2024-06-11T09:10:12.147268Z"
    }
   },
   "outputs": [
    {
     "name": "stdout",
     "output_type": "stream",
     "text": [
      "/Users/arnodebelle/code/sachamagier/chest-predictor/raw_data/resized_dataset\n"
     ]
    }
   ],
   "source": [
    "#Set the new data_root\n",
    "data_root = Path(os.path.join(data_dir, 'resized_dataset'))\n",
    "print(data_root)"
   ]
  },
  {
   "cell_type": "code",
   "execution_count": 6,
   "id": "19fd7ad8",
   "metadata": {
    "ExecuteTime": {
     "end_time": "2024-06-11T09:10:14.151909Z",
     "start_time": "2024-06-11T09:10:14.146092Z"
    }
   },
   "outputs": [],
   "source": [
    "#This remove the '__MACOSX' file that is created on Mac Laptops\n",
    "import shutil\n",
    "\n",
    "if Path(os.path.join(data_dir, \"__MACOSX\")).is_dir():\n",
    "    # remove the __MACOSX folder if it exists\n",
    "    shutil.rmtree(\"../raw_data/__MACOSX\")"
   ]
  },
  {
   "cell_type": "code",
   "execution_count": 7,
   "id": "db3ca27f",
   "metadata": {
    "ExecuteTime": {
     "end_time": "2024-06-11T09:10:15.049102Z",
     "start_time": "2024-06-11T09:10:14.852366Z"
    }
   },
   "outputs": [],
   "source": [
    "#Get all image paths\n",
    "all_image_paths = [str(path) for path in (data_root/\"images\"/\"set_full\").iterdir()]"
   ]
  },
  {
   "cell_type": "code",
   "execution_count": 8,
   "id": "500e6765",
   "metadata": {
    "ExecuteTime": {
     "end_time": "2024-06-11T09:10:15.216223Z",
     "start_time": "2024-06-11T09:10:15.212804Z"
    }
   },
   "outputs": [
    {
     "data": {
      "text/plain": [
       "111601"
      ]
     },
     "execution_count": 8,
     "metadata": {},
     "output_type": "execute_result"
    }
   ],
   "source": [
    "image_count = len(all_image_paths)\n",
    "image_count"
   ]
  },
  {
   "cell_type": "markdown",
   "id": "728c5fdb",
   "metadata": {},
   "source": [
    "** **Uncomment this block below if if it's the first time you download and unzip the dataset and didn't get a len(all_image_paths) of 111601 - it will find all (256,256,4) images and delete them** **"
   ]
  },
  {
   "cell_type": "code",
   "execution_count": 9,
   "id": "9dd449b8",
   "metadata": {
    "ExecuteTime": {
     "end_time": "2024-06-10T18:15:32.024277Z",
     "start_time": "2024-06-10T18:13:34.386305Z"
    },
    "collapsed": true
   },
   "outputs": [
    {
     "name": "stdout",
     "output_type": "stream",
     "text": [
      "Images to be removed:  ['00027784_006.png', '00000497_000.png', '00030323_020.png', '00007188_006.png', '00006993_000.png', '00004438_004.png', '00001280_003.png', '00006214_000.png', '00004281_003.png', '00007041_000.png', '00003215_000.png', '00004770_000.png', '00005496_000.png', '00001882_001.png', '00007174_001.png', '00028661_000.png', '00000122_000.png', '00001305_000.png', '00005722_002.png', '00000218_004.png', '00000579_000.png', '00007471_002.png', '00001055_002.png', '00014486_003.png', '00006763_003.png', '00004784_000.png', '00014419_001.png', '00003976_000.png', '00030798_000.png', '00001252_001.png', '00005813_000.png', '00000918_000.png', '00005394_000.png', '00021131_005.png', '00004072_000.png', '00003821_001.png', '00005568_000.png', '00004877_001.png', '00014426_000.png', '00005123_000.png', '00011963_001.png', '00000955_001.png', '00001532_000.png', '00003923_007.png', '00003923_005.png', '00007048_000.png', '00000210_000.png', '00001558_010.png', '00006109_000.png', '00014223_008.png', '00007780_004.png', '00001280_000.png', '00002863_000.png', '00006214_003.png', '00025277_001.png', '00000856_000.png', '00001230_003.png', '00018739_023.png', '00020933_002.png', '00005176_005.png', '00007234_000.png', '00002072_008.png', '00005722_001.png', '00014211_003.png', '00000347_000.png', '00003145_000.png', '00003678_000.png', '00004548_000.png', '00000273_004.png', '00012241_002.png', '00006467_000.png', '00005966_008.png', '00005158_000.png', '00001274_000.png', '00006232_000.png', '00002310_000.png', '00014223_009.png', '00003137_000.png', '00004974_001.png', '00006109_001.png', '00030323_022.png', '00017835_031.png', '00007765_001.png', '00000955_002.png', '00005395_002.png', '00011074_001.png', '00007049_000.png', '00004582_001.png', '00004566_000.png', '00006891_000.png', '00015626_000.png', '00007247_000.png', '00000201_000.png', '00004644_002.png', '00005445_000.png', '00003634_000.png', '00001054_000.png', '00005210_000.png', '00006002_000.png', '00000115_000.png', '00000900_001.png', '00000825_000.png', '00019664_000.png', '00000370_003.png', '00002510_002.png', '00006127_000.png', '00006391_005.png', '00006277_002.png', '00004421_000.png', '00002791_000.png', '00020390_002.png', '00001567_001.png', '00001593_000.png', '00001637_003.png', '00006024_003.png', '00000287_000.png', '00003880_001.png', '00006865_000.png', '00006084_000.png', '00006214_007.png', '00014208_005.png', '00004974_004.png', '00004576_001.png', '00007131_001.png', '00001420_000.png', '00007979_001.png', '00007004_000.png', '00005502_014.png', '00005524_002.png', '00005766_004.png', '00004703_000.png', '00002720_004.png', '00005502_002.png', '00006215_000.png', '00004465_000.png', '00004358_000.png', '00030323_019.png', '00004882_001.png', '00006843_000.png', '00001206_007.png', '00005487_000.png', '00004383_000.png', '00005723_003.png', '00007076_002.png', '00004771_000.png', '00023570_000.png', '00008297_005.png', '00007040_001.png', '00000766_000.png', '00004519_009.png', '00000123_000.png', '00007165_000.png', '00001054_002.png', '00006709_000.png', '00006671_000.png', '00010808_008.png', '00005579_000.png', '00000151_000.png', '00000141_000.png', '00001416_001.png', '00005512_003.png', '00011723_039.png', '00000107_000.png', '00007034_037.png', '00006523_000.png', '00018317_003.png', '00006989_000.png', '00005447_000.png', '00004517_005.png', '00006275_003.png', '00005788_000.png', '00023604_003.png', '00015831_012.png', '00011702_034.png', '00005510_001.png', '00007245_000.png', '00006230_004.png', '00005435_000.png', '00006627_000.png', '00004602_000.png', '00024210_000.png', '00002226_000.png', '00004612_000.png', '00010352_002.png', '00020434_009.png', '00006439_000.png', '00003383_000.png', '00006160_013.png', '00006147_000.png', '00005682_001.png', '00005023_000.png', '00006243_000.png', '00000318_004.png', '00006760_000.png', '00004694_000.png', '00006000_001.png', '00024879_000.png', '00002639_003.png', '00005995_001.png', '00002629_001.png', '00000059_001.png', '00005519_001.png', '00006823_000.png', '00005460_004.png', '00005798_003.png', '00000004_000.png', '00003206_000.png', '00000076_000.png', '00004477_000.png', '00006019_000.png', '00014397_003.png', '00005935_000.png', '00005935_001.png', '00005913_003.png', '00003027_000.png', '00009034_004.png', '00006990_001.png', '00014397_002.png', '00004477_001.png', '00005622_001.png', '00005896_001.png', '00009232_002.png', '00005224_000.png', '00006499_001.png', '00005717_000.png', '00001951_011.png', '00001306_000.png', '00001316_000.png', '00023336_000.png', '00014174_004.png', '00000536_000.png', '00007335_000.png', '00013360_000.png', '00006757_000.png', '00003217_000.png', '00029585_000.png', '00016987_017.png', '00015449_003.png', '00007497_002.png', '00003281_001.png', '00005537_000.png', '00017735_002.png', '00010352_004.png', '00023344_000.png', '00010352_010.png', '00006981_001.png', '00004940_000.png', '00005935_004.png', '00003916_000.png', '00010352_039.png', '00004360_008.png', '00000083_000.png', '00002052_001.png', '00002857_000.png', '00002227_002.png', '00001109_000.png', '00005970_003.png', '00000058_000.png', '00006280_000.png', '00030408_001.png', '00014174_005.png', '00010829_000.png', '00014545_001.png', '00002813_000.png', '00011978_000.png', '00005756_008.png', '00006522_000.png', '00002578_000.png', '00004709_000.png', '00002255_000.png', '00004719_000.png', '00004060_002.png', '00004094_003.png', '00000832_008.png', '00005934_003.png', '00006305_000.png', '00005693_000.png', '00001433_001.png', '00000139_001.png', '00001282_000.png', '00005935_006.png', '00005479_001.png', '00001755_001.png', '00010352_007.png', '00010352_006.png', '00007209_000.png', '00005501_000.png', '00005479_000.png', '00004853_000.png', '00002846_012.png', '00004695_000.png', '00003611_003.png', '00012314_003.png', '00005960_000.png', '00006697_007.png', '00005555_002.png', '00005721_004.png', '00007313_000.png', '00006102_002.png', '00001410_002.png', '00005027_000.png', '00000929_001.png', '00026725_006.png', '00005746_010.png', '00016987_018.png', '00002843_012.png', '00005907_000.png', '00013993_015.png', '00001561_001.png', '00019407_002.png', '00010530_024.png', '00002589_000.png', '00015530_141.png', '00004360_006.png', '00001369_000.png', '00004664_000.png', '00012139_000.png', '00004502_000.png', '00004512_000.png', '00007145_000.png', '00013993_014.png', '00003738_000.png', '00013539_000.png', '00006897_000.png', '00005746_011.png', '00030374_001.png', '00004973_000.png', '00001287_000.png', '00029025_000.png', '00000298_000.png', '00029745_001.png', '00014549_000.png', '00013993_016.png', '00029222_003.png', '00005636_000.png', '00007056_000.png', '00006117_000.png', '00007258_000.png', '00007233_003.png', '00005465_001.png', '00004395_000.png', '00002905_000.png', '00002983_001.png', '00007588_002.png', '00007684_004.png', '00006855_000.png', '00001776_000.png', '00006984_000.png', '00000429_000.png', '00010625_023.png', '00002057_000.png', '00012403_000.png', '00000086_001.png', '00003344_000.png', '00005794_001.png', '00007078_000.png', '00016786_010.png', '00006180_000.png', '00003752_001.png', '00008645_002.png', '00004750_003.png', '00002101_000.png', '00004132_010.png', '00006015_002.png', '00006189_002.png', '00006015_003.png', '00005480_000.png', '00007951_002.png', '00004132_011.png', '00014769_000.png', '00014939_001.png', '00004776_000.png', '00005655_000.png', '00006138_004.png', '00003354_001.png', '00014989_000.png', '00004454_000.png', '00014716_009.png', '00002320_002.png', '00018802_006.png', '00008072_001.png', '00013615_051.png', '00002543_000.png', '00005577_000.png', '00001140_002.png', '00006246_000.png', '00008499_002.png', '00000917_000.png', '00006968_000.png', '00006015_001.png', '00020434_010.png', '00006033_002.png', '00002404_000.png', '00014712_000.png', '00002807_000.png', '00008470_009.png', '00006138_007.png', '00007684_002.png', '00006212_003.png', '00011322_006.png', '00003372_000.png', '00000206_000.png', '00005416_002.png', '00001255_006.png', '00006296_000.png', '00000806_000.png', '00004934_000.png', '00001622_000.png', '00006214_009.png', '00017123_004.png', '00002608_002.png', '00002990_000.png', '00006699_002.png', '00002072_003.png', '00000095_000.png', '00003400_003.png', '00004518_000.png', '00006271_060.png', '00003263_000.png', '00006948_020.png', '00000317_000.png', '00014380_003.png', '00004808_003.png', '00026982_004.png', '00004873_000.png', '00005598_000.png', '00005895_008.png', '00018224_010.png', '00000773_001.png', '00004925_004.png', '00017123_005.png', '00006149_001.png', '00020852_022.png', '00006208_006.png', '00022295_001.png', '00019576_063.png', '00005853_003.png', '00000660_000.png', '00003002_009.png', '00004693_000.png', '00000292_000.png', '00001206_008.png', '00019492_003.png', '00000967_000.png', '00017325_001.png', '00000398_000.png', '00010698_049.png', '00004720_000.png', '00010775_000.png', '00004730_000.png', '00001260_000.png', '00005719_000.png', '00003255_000.png', '00010640_000.png', '00002221_000.png', '00023329_000.png', '00001676_000.png', '00000214_000.png', '00005888_000.png', '00000727_000.png', '00000100_000.png', '00007156_000.png', '00019373_056.png', '00002253_000.png', '00004677_000.png', '00005977_010.png', '00005591_000.png', '00002382_000.png', '00019521_002.png', '00007442_013.png', '00005388_004.png', '00007034_063.png', '00004826_000.png', '00015530_044.png', '00015530_050.png', '00000888_001.png', '00005528_004.png', '00001720_000.png', '00030079_066.png', '00029654_001.png', '00000603_000.png', '00006080_000.png', '00006861_000.png', '00010531_044.png', '00006074_000.png', '00023328_000.png', '00003426_006.png', '00000976_001.png', '00030805_000.png', '00004985_001.png', '00017138_111.png', '00007583_002.png', '00014223_011.png', '00004640_000.png', '00002431_000.png', '00007034_064.png', '00005839_001.png', '00000084_000.png', '00015572_000.png', '00012524_000.png', '00004872_001.png', '00004632_000.png', '00002072_012.png', '00015844_001.png', '00006904_009.png', '00015530_126.png', '00001396_000.png', '00002184_000.png', '00003262_000.png', '00006211_000.png', '00004519_000.png', '00002840_001.png', '00005365_000.png', '00006177_000.png', '00014223_006.png', '00014223_012.png', '00006691_000.png', '00007217_001.png', '00006825_000.png']\n"
     ]
    }
   ],
   "source": [
    "from PIL import Image\n",
    "\n",
    "## specify your dataset directory\n",
    "#data_directory = data_root/\"images\"/\"set_full\"\n",
    "\n",
    "## list to store the names of the images to be removed\n",
    "#images_to_remove = []\n",
    "\n",
    "## iterate over all files in the dataset directory\n",
    "#for filename in os.listdir(data_directory):\n",
    "    #if filename.endswith(\".png\"):  # make sure it's a png file\n",
    "        #file_path = os.path.join(data_directory, filename)\n",
    "        #image = Image.open(file_path)  # load the image with Pillow\n",
    "\n",
    "        ## convert the image to a numpy array to check its shape\n",
    "        #image_array = np.array(image)\n",
    "\n",
    "        ## check the shape of the image\n",
    "        #if image_array.shape == (256, 256, 4):\n",
    "            #images_to_remove.append(filename)  # add the filename to the list if it's to be removed\n",
    "\n",
    "## print the names of the images to be removed\n",
    "#print(\"Images to be removed: \", images_to_remove)\n"
   ]
  },
  {
   "cell_type": "code",
   "execution_count": 10,
   "id": "899e6792",
   "metadata": {
    "ExecuteTime": {
     "end_time": "2024-06-10T18:15:32.118802Z",
     "start_time": "2024-06-10T18:15:32.116446Z"
    }
   },
   "outputs": [
    {
     "data": {
      "text/plain": [
       "PosixPath('/Users/arnodebelle/code/sachamagier/chest-predictor/raw_data/resized_dataset/images/set_full/00012908_000.png')"
      ]
     },
     "execution_count": 10,
     "metadata": {},
     "output_type": "execute_result"
    }
   ],
   "source": [
    "#Path(os.path.join(data_directory, filename))"
   ]
  },
  {
   "cell_type": "code",
   "execution_count": null,
   "id": "736ed4ff",
   "metadata": {
    "ExecuteTime": {
     "end_time": "2024-06-10T08:09:04.293315Z",
     "start_time": "2024-06-10T08:09:04.292046Z"
    }
   },
   "outputs": [],
   "source": [
    "#for filename in images_to_remove:\n",
    "    #if os.path.exists(os.path.join(data_directory, filename)):\n",
    "        #os.remove(os.path.join(data_directory, filename))\n",
    "        #print(f\"{filename} deleted\")\n",
    "    #else:\n",
    "        #print(\"The file does not exist\")"
   ]
  },
  {
   "cell_type": "code",
   "execution_count": 13,
   "id": "e55878a3",
   "metadata": {
    "ExecuteTime": {
     "end_time": "2024-06-10T18:16:53.697150Z",
     "start_time": "2024-06-10T18:16:53.196929Z"
    }
   },
   "outputs": [],
   "source": [
    "##remove the images from the list in all image paths\n",
    "#all_image_paths = [path for path in all_image_paths if path.split(\"/\")[-1] not in images_to_remove]"
   ]
  },
  {
   "cell_type": "code",
   "execution_count": 9,
   "id": "6ba8035e",
   "metadata": {
    "ExecuteTime": {
     "end_time": "2024-06-11T09:11:45.848861Z",
     "start_time": "2024-06-11T09:11:45.842583Z"
    }
   },
   "outputs": [
    {
     "data": {
      "text/plain": [
       "111601"
      ]
     },
     "execution_count": 9,
     "metadata": {},
     "output_type": "execute_result"
    }
   ],
   "source": [
    "image_count = len(all_image_paths)\n",
    "image_count"
   ]
  },
  {
   "cell_type": "code",
   "execution_count": 10,
   "id": "88016e77",
   "metadata": {
    "ExecuteTime": {
     "end_time": "2024-06-11T09:11:47.706637Z",
     "start_time": "2024-06-11T09:11:47.699609Z"
    }
   },
   "outputs": [
    {
     "data": {
      "text/plain": [
       "['/Users/arnodebelle/code/sachamagier/chest-predictor/raw_data/resized_dataset/images/set_full/00018805_001.png',\n",
       " '/Users/arnodebelle/code/sachamagier/chest-predictor/raw_data/resized_dataset/images/set_full/00005868_002.png',\n",
       " '/Users/arnodebelle/code/sachamagier/chest-predictor/raw_data/resized_dataset/images/set_full/00009663_000.png',\n",
       " '/Users/arnodebelle/code/sachamagier/chest-predictor/raw_data/resized_dataset/images/set_full/00022156_007.png',\n",
       " '/Users/arnodebelle/code/sachamagier/chest-predictor/raw_data/resized_dataset/images/set_full/00005395_004.png',\n",
       " '/Users/arnodebelle/code/sachamagier/chest-predictor/raw_data/resized_dataset/images/set_full/00006966_004.png',\n",
       " '/Users/arnodebelle/code/sachamagier/chest-predictor/raw_data/resized_dataset/images/set_full/00000324_013.png',\n",
       " '/Users/arnodebelle/code/sachamagier/chest-predictor/raw_data/resized_dataset/images/set_full/00007442_018.png',\n",
       " '/Users/arnodebelle/code/sachamagier/chest-predictor/raw_data/resized_dataset/images/set_full/00003923_012.png',\n",
       " '/Users/arnodebelle/code/sachamagier/chest-predictor/raw_data/resized_dataset/images/set_full/00028483_007.png']"
      ]
     },
     "execution_count": 10,
     "metadata": {},
     "output_type": "execute_result"
    }
   ],
   "source": [
    "all_image_paths[:10]"
   ]
  },
  {
   "cell_type": "markdown",
   "id": "bdb27361",
   "metadata": {},
   "source": [
    "### Inspect the images\n",
    "Now let's have a quick look at a couple of the images, so you know what you're dealing with:"
   ]
  },
  {
   "cell_type": "code",
   "execution_count": 11,
   "id": "7f496da1",
   "metadata": {
    "ExecuteTime": {
     "end_time": "2024-06-11T09:11:50.287269Z",
     "start_time": "2024-06-11T09:11:50.261521Z"
    }
   },
   "outputs": [
    {
     "data": {
      "image/png": "[encoded data removed]",
      "text/plain": [
       "<IPython.core.display.Image object>"
      ]
     },
     "metadata": {},
     "output_type": "display_data"
    },
    {
     "name": "stdout",
     "output_type": "stream",
     "text": [
      "00015284_004.png\n",
      "\n"
     ]
    },
    {
     "data": {
      "image/png": "[encoded data removed]",
      "text/plain": [
       "<IPython.core.display.Image object>"
      ]
     },
     "metadata": {},
     "output_type": "display_data"
    },
    {
     "name": "stdout",
     "output_type": "stream",
     "text": [
      "00004605_003.png\n",
      "\n"
     ]
    },
    {
     "data": {
      "image/png": "[encoded data removed]",
      "text/plain": [
       "<IPython.core.display.Image object>"
      ]
     },
     "metadata": {},
     "output_type": "display_data"
    },
    {
     "name": "stdout",
     "output_type": "stream",
     "text": [
      "00027639_001.png\n",
      "\n"
     ]
    }
   ],
   "source": [
    "import IPython.display as display\n",
    "import random\n",
    "\n",
    "for n in range(3):\n",
    "    image_path = random.choice(all_image_paths)\n",
    "    display.display(display.Image(image_path))\n",
    "    print(os.path.basename(image_path))\n",
    "    print()"
   ]
  },
  {
   "cell_type": "markdown",
   "id": "9571b258",
   "metadata": {},
   "source": [
    "### Determine the label for each image"
   ]
  },
  {
   "cell_type": "markdown",
   "id": "065a1786",
   "metadata": {},
   "source": [
    "Extracting the labels from the CSV"
   ]
  },
  {
   "cell_type": "code",
   "execution_count": 12,
   "id": "a8eb9faf",
   "metadata": {
    "ExecuteTime": {
     "end_time": "2024-06-11T09:11:58.819528Z",
     "start_time": "2024-06-11T09:11:58.704835Z"
    }
   },
   "outputs": [],
   "source": [
    "import pandas as pd\n",
    "# Load labels\n",
    "labels_df = pd.read_csv(data_root/\"Data_Entry_2017.csv\")\n",
    "labels_df.set_index('Image Index', inplace=True)"
   ]
  },
  {
   "cell_type": "code",
   "execution_count": 13,
   "id": "456bd835",
   "metadata": {
    "ExecuteTime": {
     "end_time": "2024-06-11T09:11:58.935553Z",
     "start_time": "2024-06-11T09:11:58.925697Z"
    }
   },
   "outputs": [
    {
     "data": {
      "text/html": [
       "<div>\n",
       "<style scoped>\n",
       "    .dataframe tbody tr th:only-of-type {\n",
       "        vertical-align: middle;\n",
       "    }\n",
       "\n",
       "    .dataframe tbody tr th {\n",
       "        vertical-align: top;\n",
       "    }\n",
       "\n",
       "    .dataframe thead th {\n",
       "        text-align: right;\n",
       "    }\n",
       "</style>\n",
       "<table border=\"1\" class=\"dataframe\">\n",
       "  <thead>\n",
       "    <tr style=\"text-align: right;\">\n",
       "      <th></th>\n",
       "      <th>Finding Labels</th>\n",
       "      <th>Follow-up #</th>\n",
       "      <th>Patient ID</th>\n",
       "      <th>Patient Age</th>\n",
       "      <th>Patient Gender</th>\n",
       "      <th>View Position</th>\n",
       "      <th>OriginalImage[Width</th>\n",
       "      <th>Height]</th>\n",
       "      <th>OriginalImagePixelSpacing[x</th>\n",
       "      <th>y]</th>\n",
       "      <th>Unnamed: 11</th>\n",
       "    </tr>\n",
       "    <tr>\n",
       "      <th>Image Index</th>\n",
       "      <th></th>\n",
       "      <th></th>\n",
       "      <th></th>\n",
       "      <th></th>\n",
       "      <th></th>\n",
       "      <th></th>\n",
       "      <th></th>\n",
       "      <th></th>\n",
       "      <th></th>\n",
       "      <th></th>\n",
       "      <th></th>\n",
       "    </tr>\n",
       "  </thead>\n",
       "  <tbody>\n",
       "    <tr>\n",
       "      <th>00000001_000.png</th>\n",
       "      <td>Cardiomegaly</td>\n",
       "      <td>0</td>\n",
       "      <td>1</td>\n",
       "      <td>58</td>\n",
       "      <td>M</td>\n",
       "      <td>PA</td>\n",
       "      <td>2682</td>\n",
       "      <td>2749</td>\n",
       "      <td>0.143</td>\n",
       "      <td>0.143</td>\n",
       "      <td>NaN</td>\n",
       "    </tr>\n",
       "    <tr>\n",
       "      <th>00000001_001.png</th>\n",
       "      <td>Cardiomegaly|Emphysema</td>\n",
       "      <td>1</td>\n",
       "      <td>1</td>\n",
       "      <td>58</td>\n",
       "      <td>M</td>\n",
       "      <td>PA</td>\n",
       "      <td>2894</td>\n",
       "      <td>2729</td>\n",
       "      <td>0.143</td>\n",
       "      <td>0.143</td>\n",
       "      <td>NaN</td>\n",
       "    </tr>\n",
       "    <tr>\n",
       "      <th>00000001_002.png</th>\n",
       "      <td>Cardiomegaly|Effusion</td>\n",
       "      <td>2</td>\n",
       "      <td>1</td>\n",
       "      <td>58</td>\n",
       "      <td>M</td>\n",
       "      <td>PA</td>\n",
       "      <td>2500</td>\n",
       "      <td>2048</td>\n",
       "      <td>0.168</td>\n",
       "      <td>0.168</td>\n",
       "      <td>NaN</td>\n",
       "    </tr>\n",
       "    <tr>\n",
       "      <th>00000002_000.png</th>\n",
       "      <td>No Finding</td>\n",
       "      <td>0</td>\n",
       "      <td>2</td>\n",
       "      <td>81</td>\n",
       "      <td>M</td>\n",
       "      <td>PA</td>\n",
       "      <td>2500</td>\n",
       "      <td>2048</td>\n",
       "      <td>0.171</td>\n",
       "      <td>0.171</td>\n",
       "      <td>NaN</td>\n",
       "    </tr>\n",
       "    <tr>\n",
       "      <th>00000003_000.png</th>\n",
       "      <td>Hernia</td>\n",
       "      <td>0</td>\n",
       "      <td>3</td>\n",
       "      <td>81</td>\n",
       "      <td>F</td>\n",
       "      <td>PA</td>\n",
       "      <td>2582</td>\n",
       "      <td>2991</td>\n",
       "      <td>0.143</td>\n",
       "      <td>0.143</td>\n",
       "      <td>NaN</td>\n",
       "    </tr>\n",
       "    <tr>\n",
       "      <th>00000003_001.png</th>\n",
       "      <td>Hernia</td>\n",
       "      <td>1</td>\n",
       "      <td>3</td>\n",
       "      <td>74</td>\n",
       "      <td>F</td>\n",
       "      <td>PA</td>\n",
       "      <td>2500</td>\n",
       "      <td>2048</td>\n",
       "      <td>0.168</td>\n",
       "      <td>0.168</td>\n",
       "      <td>NaN</td>\n",
       "    </tr>\n",
       "    <tr>\n",
       "      <th>00000003_002.png</th>\n",
       "      <td>Hernia</td>\n",
       "      <td>2</td>\n",
       "      <td>3</td>\n",
       "      <td>75</td>\n",
       "      <td>F</td>\n",
       "      <td>PA</td>\n",
       "      <td>2048</td>\n",
       "      <td>2500</td>\n",
       "      <td>0.168</td>\n",
       "      <td>0.168</td>\n",
       "      <td>NaN</td>\n",
       "    </tr>\n",
       "    <tr>\n",
       "      <th>00000003_003.png</th>\n",
       "      <td>Hernia|Infiltration</td>\n",
       "      <td>3</td>\n",
       "      <td>3</td>\n",
       "      <td>76</td>\n",
       "      <td>F</td>\n",
       "      <td>PA</td>\n",
       "      <td>2698</td>\n",
       "      <td>2991</td>\n",
       "      <td>0.143</td>\n",
       "      <td>0.143</td>\n",
       "      <td>NaN</td>\n",
       "    </tr>\n",
       "    <tr>\n",
       "      <th>00000003_004.png</th>\n",
       "      <td>Hernia</td>\n",
       "      <td>4</td>\n",
       "      <td>3</td>\n",
       "      <td>77</td>\n",
       "      <td>F</td>\n",
       "      <td>PA</td>\n",
       "      <td>2500</td>\n",
       "      <td>2048</td>\n",
       "      <td>0.168</td>\n",
       "      <td>0.168</td>\n",
       "      <td>NaN</td>\n",
       "    </tr>\n",
       "    <tr>\n",
       "      <th>00000003_005.png</th>\n",
       "      <td>Hernia</td>\n",
       "      <td>5</td>\n",
       "      <td>3</td>\n",
       "      <td>78</td>\n",
       "      <td>F</td>\n",
       "      <td>PA</td>\n",
       "      <td>2686</td>\n",
       "      <td>2991</td>\n",
       "      <td>0.143</td>\n",
       "      <td>0.143</td>\n",
       "      <td>NaN</td>\n",
       "    </tr>\n",
       "    <tr>\n",
       "      <th>00000003_006.png</th>\n",
       "      <td>Hernia</td>\n",
       "      <td>6</td>\n",
       "      <td>3</td>\n",
       "      <td>79</td>\n",
       "      <td>F</td>\n",
       "      <td>PA</td>\n",
       "      <td>2992</td>\n",
       "      <td>2991</td>\n",
       "      <td>0.143</td>\n",
       "      <td>0.143</td>\n",
       "      <td>NaN</td>\n",
       "    </tr>\n",
       "    <tr>\n",
       "      <th>00000003_007.png</th>\n",
       "      <td>Hernia</td>\n",
       "      <td>7</td>\n",
       "      <td>3</td>\n",
       "      <td>80</td>\n",
       "      <td>F</td>\n",
       "      <td>PA</td>\n",
       "      <td>2582</td>\n",
       "      <td>2905</td>\n",
       "      <td>0.143</td>\n",
       "      <td>0.143</td>\n",
       "      <td>NaN</td>\n",
       "    </tr>\n",
       "    <tr>\n",
       "      <th>00000004_000.png</th>\n",
       "      <td>Mass|Nodule</td>\n",
       "      <td>0</td>\n",
       "      <td>4</td>\n",
       "      <td>82</td>\n",
       "      <td>M</td>\n",
       "      <td>AP</td>\n",
       "      <td>2500</td>\n",
       "      <td>2048</td>\n",
       "      <td>0.168</td>\n",
       "      <td>0.168</td>\n",
       "      <td>NaN</td>\n",
       "    </tr>\n",
       "    <tr>\n",
       "      <th>00000005_000.png</th>\n",
       "      <td>No Finding</td>\n",
       "      <td>0</td>\n",
       "      <td>5</td>\n",
       "      <td>69</td>\n",
       "      <td>F</td>\n",
       "      <td>PA</td>\n",
       "      <td>2048</td>\n",
       "      <td>2500</td>\n",
       "      <td>0.168</td>\n",
       "      <td>0.168</td>\n",
       "      <td>NaN</td>\n",
       "    </tr>\n",
       "    <tr>\n",
       "      <th>00000005_001.png</th>\n",
       "      <td>No Finding</td>\n",
       "      <td>1</td>\n",
       "      <td>5</td>\n",
       "      <td>69</td>\n",
       "      <td>F</td>\n",
       "      <td>AP</td>\n",
       "      <td>2500</td>\n",
       "      <td>2048</td>\n",
       "      <td>0.168</td>\n",
       "      <td>0.168</td>\n",
       "      <td>NaN</td>\n",
       "    </tr>\n",
       "    <tr>\n",
       "      <th>00000005_002.png</th>\n",
       "      <td>No Finding</td>\n",
       "      <td>2</td>\n",
       "      <td>5</td>\n",
       "      <td>69</td>\n",
       "      <td>F</td>\n",
       "      <td>AP</td>\n",
       "      <td>2500</td>\n",
       "      <td>2048</td>\n",
       "      <td>0.168</td>\n",
       "      <td>0.168</td>\n",
       "      <td>NaN</td>\n",
       "    </tr>\n",
       "    <tr>\n",
       "      <th>00000005_003.png</th>\n",
       "      <td>No Finding</td>\n",
       "      <td>3</td>\n",
       "      <td>5</td>\n",
       "      <td>69</td>\n",
       "      <td>F</td>\n",
       "      <td>PA</td>\n",
       "      <td>2992</td>\n",
       "      <td>2991</td>\n",
       "      <td>0.143</td>\n",
       "      <td>0.143</td>\n",
       "      <td>NaN</td>\n",
       "    </tr>\n",
       "    <tr>\n",
       "      <th>00000005_004.png</th>\n",
       "      <td>No Finding</td>\n",
       "      <td>4</td>\n",
       "      <td>5</td>\n",
       "      <td>70</td>\n",
       "      <td>F</td>\n",
       "      <td>PA</td>\n",
       "      <td>2986</td>\n",
       "      <td>2991</td>\n",
       "      <td>0.143</td>\n",
       "      <td>0.143</td>\n",
       "      <td>NaN</td>\n",
       "    </tr>\n",
       "    <tr>\n",
       "      <th>00000005_005.png</th>\n",
       "      <td>No Finding</td>\n",
       "      <td>5</td>\n",
       "      <td>5</td>\n",
       "      <td>70</td>\n",
       "      <td>F</td>\n",
       "      <td>PA</td>\n",
       "      <td>2514</td>\n",
       "      <td>2991</td>\n",
       "      <td>0.143</td>\n",
       "      <td>0.143</td>\n",
       "      <td>NaN</td>\n",
       "    </tr>\n",
       "    <tr>\n",
       "      <th>00000005_006.png</th>\n",
       "      <td>Infiltration</td>\n",
       "      <td>6</td>\n",
       "      <td>5</td>\n",
       "      <td>70</td>\n",
       "      <td>F</td>\n",
       "      <td>PA</td>\n",
       "      <td>2992</td>\n",
       "      <td>2991</td>\n",
       "      <td>0.143</td>\n",
       "      <td>0.143</td>\n",
       "      <td>NaN</td>\n",
       "    </tr>\n",
       "  </tbody>\n",
       "</table>\n",
       "</div>"
      ],
      "text/plain": [
       "                          Finding Labels  Follow-up #  Patient ID  \\\n",
       "Image Index                                                         \n",
       "00000001_000.png            Cardiomegaly            0           1   \n",
       "00000001_001.png  Cardiomegaly|Emphysema            1           1   \n",
       "00000001_002.png   Cardiomegaly|Effusion            2           1   \n",
       "00000002_000.png              No Finding            0           2   \n",
       "00000003_000.png                  Hernia            0           3   \n",
       "00000003_001.png                  Hernia            1           3   \n",
       "00000003_002.png                  Hernia            2           3   \n",
       "00000003_003.png     Hernia|Infiltration            3           3   \n",
       "00000003_004.png                  Hernia            4           3   \n",
       "00000003_005.png                  Hernia            5           3   \n",
       "00000003_006.png                  Hernia            6           3   \n",
       "00000003_007.png                  Hernia            7           3   \n",
       "00000004_000.png             Mass|Nodule            0           4   \n",
       "00000005_000.png              No Finding            0           5   \n",
       "00000005_001.png              No Finding            1           5   \n",
       "00000005_002.png              No Finding            2           5   \n",
       "00000005_003.png              No Finding            3           5   \n",
       "00000005_004.png              No Finding            4           5   \n",
       "00000005_005.png              No Finding            5           5   \n",
       "00000005_006.png            Infiltration            6           5   \n",
       "\n",
       "                  Patient Age Patient Gender View Position  \\\n",
       "Image Index                                                  \n",
       "00000001_000.png           58              M            PA   \n",
       "00000001_001.png           58              M            PA   \n",
       "00000001_002.png           58              M            PA   \n",
       "00000002_000.png           81              M            PA   \n",
       "00000003_000.png           81              F            PA   \n",
       "00000003_001.png           74              F            PA   \n",
       "00000003_002.png           75              F            PA   \n",
       "00000003_003.png           76              F            PA   \n",
       "00000003_004.png           77              F            PA   \n",
       "00000003_005.png           78              F            PA   \n",
       "00000003_006.png           79              F            PA   \n",
       "00000003_007.png           80              F            PA   \n",
       "00000004_000.png           82              M            AP   \n",
       "00000005_000.png           69              F            PA   \n",
       "00000005_001.png           69              F            AP   \n",
       "00000005_002.png           69              F            AP   \n",
       "00000005_003.png           69              F            PA   \n",
       "00000005_004.png           70              F            PA   \n",
       "00000005_005.png           70              F            PA   \n",
       "00000005_006.png           70              F            PA   \n",
       "\n",
       "                  OriginalImage[Width  Height]  OriginalImagePixelSpacing[x  \\\n",
       "Image Index                                                                   \n",
       "00000001_000.png                 2682     2749                        0.143   \n",
       "00000001_001.png                 2894     2729                        0.143   \n",
       "00000001_002.png                 2500     2048                        0.168   \n",
       "00000002_000.png                 2500     2048                        0.171   \n",
       "00000003_000.png                 2582     2991                        0.143   \n",
       "00000003_001.png                 2500     2048                        0.168   \n",
       "00000003_002.png                 2048     2500                        0.168   \n",
       "00000003_003.png                 2698     2991                        0.143   \n",
       "00000003_004.png                 2500     2048                        0.168   \n",
       "00000003_005.png                 2686     2991                        0.143   \n",
       "00000003_006.png                 2992     2991                        0.143   \n",
       "00000003_007.png                 2582     2905                        0.143   \n",
       "00000004_000.png                 2500     2048                        0.168   \n",
       "00000005_000.png                 2048     2500                        0.168   \n",
       "00000005_001.png                 2500     2048                        0.168   \n",
       "00000005_002.png                 2500     2048                        0.168   \n",
       "00000005_003.png                 2992     2991                        0.143   \n",
       "00000005_004.png                 2986     2991                        0.143   \n",
       "00000005_005.png                 2514     2991                        0.143   \n",
       "00000005_006.png                 2992     2991                        0.143   \n",
       "\n",
       "                     y]  Unnamed: 11  \n",
       "Image Index                           \n",
       "00000001_000.png  0.143          NaN  \n",
       "00000001_001.png  0.143          NaN  \n",
       "00000001_002.png  0.168          NaN  \n",
       "00000002_000.png  0.171          NaN  \n",
       "00000003_000.png  0.143          NaN  \n",
       "00000003_001.png  0.168          NaN  \n",
       "00000003_002.png  0.168          NaN  \n",
       "00000003_003.png  0.143          NaN  \n",
       "00000003_004.png  0.168          NaN  \n",
       "00000003_005.png  0.143          NaN  \n",
       "00000003_006.png  0.143          NaN  \n",
       "00000003_007.png  0.143          NaN  \n",
       "00000004_000.png  0.168          NaN  \n",
       "00000005_000.png  0.168          NaN  \n",
       "00000005_001.png  0.168          NaN  \n",
       "00000005_002.png  0.168          NaN  \n",
       "00000005_003.png  0.143          NaN  \n",
       "00000005_004.png  0.143          NaN  \n",
       "00000005_005.png  0.143          NaN  \n",
       "00000005_006.png  0.143          NaN  "
      ]
     },
     "execution_count": 13,
     "metadata": {},
     "output_type": "execute_result"
    }
   ],
   "source": [
    "labels_df.head(20)"
   ]
  },
  {
   "cell_type": "code",
   "execution_count": 14,
   "id": "50ec52c6",
   "metadata": {
    "ExecuteTime": {
     "end_time": "2024-06-11T09:12:02.678394Z",
     "start_time": "2024-06-11T09:12:02.571810Z"
    }
   },
   "outputs": [],
   "source": [
    "# Create list of all image labels\n",
    "all_image_labels = labels_df.loc[[os.path.basename(path) for path in all_image_paths], 'Finding Labels'].values"
   ]
  },
  {
   "cell_type": "code",
   "execution_count": 15,
   "id": "b4ffcf61",
   "metadata": {
    "ExecuteTime": {
     "end_time": "2024-06-11T09:12:02.832113Z",
     "start_time": "2024-06-11T09:12:02.829290Z"
    }
   },
   "outputs": [
    {
     "data": {
      "text/plain": [
       "array(['No Finding', 'No Finding', 'No Finding', 'Pneumonia',\n",
       "       'No Finding', 'Pneumonia', 'No Finding', 'No Finding',\n",
       "       'No Finding', 'No Finding', 'No Finding',\n",
       "       'Atelectasis|Infiltration', 'Fibrosis', 'Infiltration',\n",
       "       'No Finding', 'No Finding', 'No Finding', 'No Finding',\n",
       "       'No Finding', 'Atelectasis', 'Cardiomegaly', 'Infiltration',\n",
       "       'Consolidation', 'No Finding', 'No Finding'], dtype=object)"
      ]
     },
     "execution_count": 15,
     "metadata": {},
     "output_type": "execute_result"
    }
   ],
   "source": [
    "all_image_labels[:25]"
   ]
  },
  {
   "cell_type": "code",
   "execution_count": 16,
   "id": "cbb0f93d",
   "metadata": {
    "ExecuteTime": {
     "end_time": "2024-06-11T09:12:03.562932Z",
     "start_time": "2024-06-11T09:12:03.555690Z"
    }
   },
   "outputs": [
    {
     "data": {
      "text/plain": [
       "111601"
      ]
     },
     "execution_count": 16,
     "metadata": {},
     "output_type": "execute_result"
    }
   ],
   "source": [
    "len(all_image_labels)"
   ]
  },
  {
   "cell_type": "code",
   "execution_count": 17,
   "id": "3ba9d07e",
   "metadata": {
    "ExecuteTime": {
     "end_time": "2024-06-11T09:12:04.176554Z",
     "start_time": "2024-06-11T09:12:04.162843Z"
    }
   },
   "outputs": [
    {
     "data": {
      "text/plain": [
       "array(['Pneumonia', 'Pneumonia', 'Atelectasis|Infiltration', ...,\n",
       "       'Infiltration|Pneumothorax', 'Infiltration', 'Infiltration'],\n",
       "      dtype=object)"
      ]
     },
     "execution_count": 17,
     "metadata": {},
     "output_type": "execute_result"
    }
   ],
   "source": [
    "# Create a boolean mask for the elements that are not 'No Finding'\n",
    "mask = all_image_labels != 'No Finding'\n",
    "\n",
    "# Use the boolean mask to index the original array and get a new array without the 'No Finding' elements\n",
    "new_image_labels = all_image_labels[mask]\n",
    "new_image_labels"
   ]
  },
  {
   "cell_type": "markdown",
   "id": "35caabd2",
   "metadata": {},
   "source": [
    "#### Encoding the labels"
   ]
  },
  {
   "cell_type": "markdown",
   "id": "76868981",
   "metadata": {},
   "source": [
    "Encoding the labels using *StringLookup*"
   ]
  },
  {
   "cell_type": "code",
   "execution_count": 18,
   "id": "f7832fe9",
   "metadata": {
    "ExecuteTime": {
     "end_time": "2024-06-11T09:12:07.851534Z",
     "start_time": "2024-06-11T09:12:07.834866Z"
    }
   },
   "outputs": [
    {
     "data": {
      "text/plain": [
       "60016"
      ]
     },
     "execution_count": 18,
     "metadata": {},
     "output_type": "execute_result"
    }
   ],
   "source": [
    "#len of no finding\n",
    "len([label for label in all_image_labels if label == 'No Finding'])"
   ]
  },
  {
   "cell_type": "code",
   "execution_count": 19,
   "id": "8585bbeb",
   "metadata": {
    "ExecuteTime": {
     "end_time": "2024-06-11T09:12:09.445745Z",
     "start_time": "2024-06-11T09:12:08.900430Z"
    },
    "collapsed": true
   },
   "outputs": [
    {
     "data": {
      "text/plain": [
       "['00018805_001.png',\n",
       " '00005868_002.png',\n",
       " '00009663_000.png',\n",
       " '00005395_004.png',\n",
       " '00000324_013.png',\n",
       " '00007442_018.png',\n",
       " '00003923_012.png',\n",
       " '00028483_007.png',\n",
       " '00024175_003.png',\n",
       " '00026987_001.png',\n",
       " '00025374_001.png',\n",
       " '00025380_000.png',\n",
       " '00002143_003.png',\n",
       " '00029676_004.png',\n",
       " '00015530_077.png',\n",
       " '00008745_019.png',\n",
       " '00027618_013.png',\n",
       " '00006590_000.png',\n",
       " '00007765_003.png',\n",
       " '00007791_002.png',\n",
       " '00010920_006.png',\n",
       " '00018168_000.png',\n",
       " '00030753_001.png',\n",
       " '00028613_000.png',\n",
       " '00025110_007.png',\n",
       " '00013648_003.png',\n",
       " '00016765_001.png',\n",
       " '00016791_000.png',\n",
       " '00007903_000.png',\n",
       " '00019860_005.png',\n",
       " '00011945_002.png',\n",
       " '00027514_001.png',\n",
       " '00014868_000.png',\n",
       " '00009805_003.png',\n",
       " '00006700_007.png',\n",
       " '00015160_005.png',\n",
       " '00019462_000.png',\n",
       " '00029319_000.png',\n",
       " '00010447_020.png',\n",
       " '00029666_010.png',\n",
       " '00016490_025.png',\n",
       " '00005910_002.png',\n",
       " '00021120_001.png',\n",
       " '00018989_000.png',\n",
       " '00015288_002.png',\n",
       " '00008211_000.png',\n",
       " '00015981_005.png',\n",
       " '00013956_000.png',\n",
       " '00001756_013.png',\n",
       " '00007034_054.png',\n",
       " '00003459_017.png',\n",
       " '00005512_007.png',\n",
       " '00002337_011.png',\n",
       " '00026166_001.png',\n",
       " '00026192_000.png',\n",
       " '00004288_000.png',\n",
       " '00004975_006.png',\n",
       " '00000150_001.png',\n",
       " '00004583_002.png',\n",
       " '00029261_000.png',\n",
       " '00026699_002.png',\n",
       " '00005782_000.png',\n",
       " '00014910_000.png',\n",
       " '00014253_052.png',\n",
       " '00001930_004.png',\n",
       " '00016775_001.png',\n",
       " '00007913_000.png',\n",
       " '00005089_016.png',\n",
       " '00018178_000.png',\n",
       " '00002673_008.png',\n",
       " '00022322_001.png',\n",
       " '00028603_000.png',\n",
       " '00015170_005.png',\n",
       " '00015018_011.png',\n",
       " '00014878_000.png',\n",
       " '00009815_003.png',\n",
       " '00022429_003.png',\n",
       " '00026963_000.png',\n",
       " '00025390_000.png',\n",
       " '00020249_003.png',\n",
       " '00017710_005.png',\n",
       " '00021048_001.png',\n",
       " '00018815_001.png',\n",
       " '00011733_001.png',\n",
       " '00003352_001.png',\n",
       " '00000955_000.png',\n",
       " '00000013_008.png',\n",
       " '00016913_002.png',\n",
       " '00008379_000.png',\n",
       " '00020542_001.png',\n",
       " '00007781_002.png',\n",
       " '00015981_011.png',\n",
       " '00002658_001.png',\n",
       " '00001756_007.png',\n",
       " '00003459_003.png',\n",
       " '00014115_001.png',\n",
       " '00005099_002.png',\n",
       " '00018000_000.png',\n",
       " '00010007_052.png',\n",
       " '00015826_019.png',\n",
       " '00024279_005.png',\n",
       " '00025110_013.png',\n",
       " '00001855_027.png',\n",
       " '00026176_001.png',\n",
       " '00026182_000.png',\n",
       " '00019860_011.png',\n",
       " '00004965_006.png',\n",
       " '00004298_000.png',\n",
       " '00005766_001.png',\n",
       " '00005792_000.png',\n",
       " '00014900_000.png',\n",
       " '00029271_000.png',\n",
       " '00006307_003.png',\n",
       " '00011723_015.png',\n",
       " '00029676_010.png',\n",
       " '00007106_001.png',\n",
       " '00015593_000.png',\n",
       " '00019065_004.png',\n",
       " '00015530_063.png',\n",
       " '00009000_002.png',\n",
       " '00014099_000.png',\n",
       " '00006411_022.png',\n",
       " '00016362_005.png',\n",
       " '00008201_000.png',\n",
       " '00002720_001.png',\n",
       " '00013946_000.png',\n",
       " '00015953_006.png',\n",
       " '00019758_004.png',\n",
       " '00013970_002.png',\n",
       " '00025521_001.png',\n",
       " '00010377_003.png',\n",
       " '00011182_000.png',\n",
       " '00021610_022.png',\n",
       " '00009036_000.png',\n",
       " '00010488_000.png',\n",
       " '00020286_037.png',\n",
       " '00023900_000.png',\n",
       " '00015551_003.png',\n",
       " '00020307_001.png',\n",
       " '00006331_001.png',\n",
       " '00013175_017.png',\n",
       " '00002572_005.png',\n",
       " '00002586_004.png',\n",
       " '00010092_033.png',\n",
       " '00011973_014.png',\n",
       " '00000689_000.png',\n",
       " '00030106_001.png',\n",
       " '00001377_001.png',\n",
       " '00021626_008.png',\n",
       " '00002970_000.png',\n",
       " '00002984_001.png',\n",
       " '00007354_005.png',\n",
       " '00014534_007.png',\n",
       " '00009431_010.png',\n",
       " '00028853_001.png',\n",
       " '00017158_032.png',\n",
       " '00021781_000.png',\n",
       " '00016925_000.png',\n",
       " '00008846_005.png',\n",
       " '00013808_002.png',\n",
       " '00006249_001.png',\n",
       " '00022170_005.png',\n",
       " '00000963_002.png',\n",
       " '00003390_002.png',\n",
       " '00010504_001.png',\n",
       " '00002191_000.png',\n",
       " '00023878_000.png',\n",
       " '00000705_001.png',\n",
       " '00011963_000.png',\n",
       " '00011997_001.png',\n",
       " '00026963_028.png',\n",
       " '00017249_003.png',\n",
       " '00016048_001.png',\n",
       " '00026733_001.png',\n",
       " '00001504_003.png',\n",
       " '00029943_032.png',\n",
       " '00028635_002.png',\n",
       " '00003100_005.png',\n",
       " '00028628_021.png',\n",
       " '00001906_006.png',\n",
       " '00002808_000.png',\n",
       " '00016743_003.png',\n",
       " '00023115_001.png',\n",
       " '00012364_015.png',\n",
       " '00028056_000.png',\n",
       " '00000699_000.png',\n",
       " '00006653_026.png',\n",
       " '00017835_027.png',\n",
       " '00022583_000.png',\n",
       " '00004541_001.png',\n",
       " '00008043_004.png',\n",
       " '00010103_005.png',\n",
       " '00003068_005.png',\n",
       " '00024956_000.png',\n",
       " '00001393_000.png',\n",
       " '00002960_000.png',\n",
       " '00019227_000.png',\n",
       " '00016743_017.png',\n",
       " '00011192_000.png',\n",
       " '00009026_000.png',\n",
       " '00010367_003.png',\n",
       " '00010393_002.png',\n",
       " '00002706_003.png',\n",
       " '00006321_001.png',\n",
       " '00005926_000.png',\n",
       " '00017726_013.png',\n",
       " '00010498_000.png',\n",
       " '00014398_019.png',\n",
       " '00023910_000.png',\n",
       " '00007120_003.png',\n",
       " '00013175_003.png',\n",
       " '00013181_002.png',\n",
       " '00000715_001.png',\n",
       " '00011973_000.png',\n",
       " '00011987_001.png',\n",
       " '00005750_017.png',\n",
       " '00005638_003.png',\n",
       " '00029424_000.png',\n",
       " '00002818_000.png',\n",
       " '00007935_002.png',\n",
       " '00021903_002.png',\n",
       " '00011571_005.png',\n",
       " '00011598_027.png',\n",
       " '00004735_013.png',\n",
       " '00015826_025.png',\n",
       " '00015953_012.png',\n",
       " '00007753_001.png',\n",
       " '00016935_000.png',\n",
       " '00028843_001.png',\n",
       " '00021610_036.png',\n",
       " '00021765_001.png',\n",
       " '00002181_000.png',\n",
       " '00025342_003.png',\n",
       " '00013572_013.png',\n",
       " '00023868_000.png',\n",
       " '00008454_000.png',\n",
       " '00010563_024.png',\n",
       " '00013484_000.png',\n",
       " '00001011_001.png',\n",
       " '00027027_001.png',\n",
       " '00016256_001.png',\n",
       " '00030294_000.png',\n",
       " '00028320_000.png',\n",
       " '00004358_005.png',\n",
       " '00020095_000.png',\n",
       " '00007256_003.png',\n",
       " '00004851_002.png',\n",
       " '00021260_003.png',\n",
       " '00014436_001.png',\n",
       " '00013077_011.png',\n",
       " '00008151_002.png',\n",
       " '00009350_000.png',\n",
       " '00014320_020.png',\n",
       " '00017852_016.png',\n",
       " '00012817_000.png',\n",
       " '00023320_008.png',\n",
       " '00000861_004.png',\n",
       " '00006842_000.png',\n",
       " '00007157_026.png',\n",
       " '00020874_000.png',\n",
       " '00020880_001.png',\n",
       " '00026236_017.png',\n",
       " '00010406_007.png',\n",
       " '00001169_001.png',\n",
       " '00029752_000.png',\n",
       " '00018523_000.png',\n",
       " '00028258_000.png',\n",
       " '00000463_001.png',\n",
       " '00015929_000.png',\n",
       " '00000090_010.png',\n",
       " '00027832_000.png',\n",
       " '00013849_019.png',\n",
       " '00008722_000.png',\n",
       " '00001804_000.png',\n",
       " '00010696_000.png',\n",
       " '00013798_006.png',\n",
       " '00014245_003.png',\n",
       " '00013523_008.png',\n",
       " '00009228_000.png',\n",
       " '00003709_001.png',\n",
       " '00008029_002.png',\n",
       " '00007425_001.png',\n",
       " '00003002_017.png',\n",
       " '00018124_004.png',\n",
       " '00017528_007.png',\n",
       " '00020085_000.png',\n",
       " '00001998_001.png',\n",
       " '00009340_000.png',\n",
       " '00012807_000.png',\n",
       " '00003661_001.png',\n",
       " '00003695_000.png',\n",
       " '00025657_001.png',\n",
       " '00003292_010.png',\n",
       " '00015443_005.png',\n",
       " '00010406_013.png',\n",
       " '00026236_003.png',\n",
       " '00013494_000.png',\n",
       " '00013896_005.png',\n",
       " '00015841_000.png',\n",
       " '00004627_001.png',\n",
       " '00020482_010.png',\n",
       " '00020109_001.png',\n",
       " '00029526_006.png',\n",
       " '00027822_000.png',\n",
       " '00010179_003.png',\n",
       " '00002505_020.png',\n",
       " '00020602_003.png',\n",
       " '00006634_003.png',\n",
       " '00009238_000.png',\n",
       " '00017852_002.png',\n",
       " '00011885_007.png',\n",
       " '00011378_001.png',\n",
       " '00012087_048.png',\n",
       " '00013518_001.png',\n",
       " '00001179_001.png',\n",
       " '00029742_000.png',\n",
       " '00003276_005.png',\n",
       " '00012719_003.png',\n",
       " '00006852_000.png',\n",
       " '00017634_001.png',\n",
       " '00027809_009.png',\n",
       " '00015939_000.png',\n",
       " '00006450_005.png',\n",
       " '00006492_006.png',\n",
       " '00021651_005.png',\n",
       " '00027672_001.png',\n",
       " '00027686_000.png',\n",
       " '00012834_153.png',\n",
       " '00010822_000.png',\n",
       " '00020450_007.png',\n",
       " '00019704_000.png',\n",
       " '00016308_003.png',\n",
       " '00008996_000.png',\n",
       " '00003949_000.png',\n",
       " '00009609_012.png',\n",
       " '00018366_014.png',\n",
       " '00012087_060.png',\n",
       " '00007185_025.png',\n",
       " '00025303_030.png',\n",
       " '00014125_052.png',\n",
       " '00010563_018.png',\n",
       " '00014297_000.png',\n",
       " '00027416_007.png',\n",
       " '00029912_001.png',\n",
       " '00020634_001.png',\n",
       " '00003996_008.png',\n",
       " '00000391_009.png',\n",
       " '00003024_001.png',\n",
       " '00009505_000.png',\n",
       " '00007308_001.png',\n",
       " '00019962_003.png',\n",
       " '00019996_002.png',\n",
       " '00002225_003.png',\n",
       " '00007683_010.png',\n",
       " '00019688_001.png',\n",
       " '00017085_000.png',\n",
       " '00005410_001.png',\n",
       " '00025807_000.png',\n",
       " '00003831_000.png',\n",
       " '00014674_005.png',\n",
       " '00006215_005.png',\n",
       " '00018382_001.png',\n",
       " '00015072_017.png',\n",
       " '00008177_000.png',\n",
       " '00008183_001.png',\n",
       " '00016014_005.png',\n",
       " '00024494_000.png',\n",
       " '00004877_000.png',\n",
       " '00004883_001.png',\n",
       " '00007284_000.png',\n",
       " '00001253_005.png',\n",
       " '00001558_013.png',\n",
       " '00029902_001.png',\n",
       " '00016014_011.png',\n",
       " '00016009_032.png',\n",
       " '00017874_000.png',\n",
       " '00006612_001.png',\n",
       " '00014273_001.png',\n",
       " '00011857_004.png',\n",
       " '00000631_005.png',\n",
       " '00003029_022.png',\n",
       " '00009515_000.png',\n",
       " '00010832_000.png',\n",
       " '00026497_002.png',\n",
       " '00019714_000.png',\n",
       " '00008972_001.png',\n",
       " '00008570_004.png',\n",
       " '00005532_040.png',\n",
       " '00028565_000.png',\n",
       " '00003959_000.png',\n",
       " '00006874_002.png',\n",
       " '00009798_024.png',\n",
       " '00027416_013.png',\n",
       " '00000621_011.png',\n",
       " '00024484_000.png',\n",
       " '00003647_003.png',\n",
       " '00029387_007.png',\n",
       " '00007576_020.png',\n",
       " '00008167_000.png',\n",
       " '00019647_009.png',\n",
       " '00000042_007.png',\n",
       " '00018102_006.png',\n",
       " '00022851_000.png',\n",
       " '00004893_001.png',\n",
       " '00007294_000.png',\n",
       " '00029478_004.png',\n",
       " '00013844_006.png',\n",
       " '00029117_000.png',\n",
       " '00003821_000.png',\n",
       " '00027011_003.png',\n",
       " '00004526_018.png',\n",
       " '00005066_059.png',\n",
       " '00013446_003.png',\n",
       " '00014320_008.png',\n",
       " '00025817_000.png',\n",
       " '00002129_005.png',\n",
       " '00010548_005.png',\n",
       " '00014125_046.png',\n",
       " '00013152_004.png',\n",
       " '00006679_016.png',\n",
       " '00009281_014.png',\n",
       " '00021526_000.png',\n",
       " '00008617_001.png',\n",
       " '00001931_001.png',\n",
       " '00002336_000.png',\n",
       " '00026167_010.png',\n",
       " '00024300_000.png',\n",
       " '00018011_011.png',\n",
       " '00010350_010.png',\n",
       " '00026560_000.png',\n",
       " '00010931_003.png',\n",
       " '00002659_004.png',\n",
       " '00007780_007.png',\n",
       " '00006575_004.png',\n",
       " '00028864_006.png',\n",
       " '00028399_000.png',\n",
       " '00012137_000.png',\n",
       " '00020248_006.png',\n",
       " '00008473_007.png',\n",
       " '00002152_006.png',\n",
       " '00025391_005.png',\n",
       " '00009336_008.png',\n",
       " '00003353_004.png',\n",
       " '00006983_000.png',\n",
       " '00005370_000.png',\n",
       " '00005384_001.png',\n",
       " '00022147_002.png',\n",
       " '00017711_000.png',\n",
       " '00005218_014.png',\n",
       " '00009291_000.png',\n",
       " '00014208_002.png',\n",
       " '00011831_024.png',\n",
       " '00011325_000.png',\n",
       " '00015009_000.png',\n",
       " '00007468_000.png',\n",
       " '00024278_000.png',\n",
       " '00014503_000.png',\n",
       " '00019909_000.png',\n",
       " '00015702_002.png',\n",
       " '00020154_000.png',\n",
       " '00004990_002.png',\n",
       " '00028215_001.png',\n",
       " '00002649_010.png',\n",
       " '00026418_000.png',\n",
       " '00010340_004.png',\n",
       " '00015964_001.png',\n",
       " '00004702_000.png',\n",
       " '00016363_000.png',\n",
       " '00016397_001.png',\n",
       " '00021131_004.png',\n",
       " '00017669_000.png',\n",
       " '00005208_000.png',\n",
       " '00019090_000.png',\n",
       " '00013545_000.png',\n",
       " '00001124_000.png',\n",
       " '00018406_001.png',\n",
       " '00011034_025.png',\n",
       " '00028389_000.png',\n",
       " '00000546_000.png',\n",
       " '00012127_000.png',\n",
       " '00002649_004.png',\n",
       " '00008888_020.png',\n",
       " '00003343_004.png',\n",
       " '00017701_000.png',\n",
       " '00030536_002.png',\n",
       " '00023356_000.png',\n",
       " '00025888_002.png',\n",
       " '00025381_005.png',\n",
       " '00014389_020.png',\n",
       " '00021536_000.png',\n",
       " '00001093_008.png',\n",
       " '00017993_002.png',\n",
       " '00015161_000.png',\n",
       " '00013310_028.png',\n",
       " '00016790_005.png',\n",
       " '00001921_001.png',\n",
       " '00002326_000.png',\n",
       " '00026408_000.png',\n",
       " '00016387_001.png',\n",
       " '00008919_002.png',\n",
       " '00022724_000.png',\n",
       " '00001872_008.png',\n",
       " '00030345_000.png',\n",
       " '00017172_002.png',\n",
       " '00011151_006.png',\n",
       " '00019080_000.png',\n",
       " '00016478_002.png',\n",
       " '00025904_003.png',\n",
       " '00001134_000.png',\n",
       " '00013625_079.png',\n",
       " '00027102_000.png',\n",
       " '00005218_000.png',\n",
       " '00014777_006.png',\n",
       " '00025762_000.png',\n",
       " '00026698_007.png',\n",
       " '00004582_007.png',\n",
       " '00015019_000.png',\n",
       " '00009281_000.png',\n",
       " '00005783_005.png',\n",
       " '00012932_001.png',\n",
       " '00003754_000.png',\n",
       " '00011335_000.png',\n",
       " '00020144_000.png',\n",
       " '00019919_000.png',\n",
       " '00001859_001.png',\n",
       " '00024268_000.png',\n",
       " '00027213_031.png',\n",
       " '00014513_000.png',\n",
       " '00006172_000.png',\n",
       " '00006186_001.png',\n",
       " '00008008_040.png',\n",
       " '00000193_007.png',\n",
       " '00011408_000.png',\n",
       " '00021373_000.png',\n",
       " '00006144_002.png',\n",
       " '00022974_001.png',\n",
       " '00022980_000.png',\n",
       " '00015724_000.png',\n",
       " '00007345_000.png',\n",
       " '00010609_002.png',\n",
       " '00013625_051.png',\n",
       " '00014346_014.png',\n",
       " '00011303_002.png',\n",
       " '00024555_000.png',\n",
       " '00012904_003.png',\n",
       " '00019271_067.png',\n",
       " '00002563_000.png',\n",
       " '00002597_001.png',\n",
       " '00025754_002.png',\n",
       " '00010102_000.png',\n",
       " '00008042_001.png',\n",
       " '00020679_000.png',\n",
       " '00007526_016.png',\n",
       " '00012796_001.png',\n",
       " '00009644_013.png',\n",
       " '00030478_000.png',\n",
       " '00026335_000.png',\n",
       " '00017144_000.png',\n",
       " '00005525_000.png',\n",
       " '00011167_004.png',\n",
       " '00011193_005.png',\n",
       " '00013268_000.png',\n",
       " '00001609_000.png',\n",
       " '00023513_000.png',\n",
       " '00004724_002.png',\n",
       " '00015942_003.png',\n",
       " '00019857_002.png',\n",
       " '00013662_027.png',\n",
       " '00010771_002.png',\n",
       " '00025127_000.png',\n",
       " '00017017_009.png',\n",
       " '00011702_080.png',\n",
       " '00008888_008.png',\n",
       " '00003111_000.png',\n",
       " '00011570_000.png',\n",
       " '00011584_001.png',\n",
       " '00018037_013.png',\n",
       " '00009430_001.png',\n",
       " '00001437_053.png',\n",
       " '00029827_000.png',\n",
       " '00000250_009.png',\n",
       " '00014356_000.png',\n",
       " '00006737_000.png',\n",
       " '00021500_002.png',\n",
       " '00012381_005.png',\n",
       " '00011831_018.png',\n",
       " '00020967_003.png',\n",
       " '00016536_000.png',\n",
       " '00004157_000.png',\n",
       " '00003888_000.png',\n",
       " '00006330_010.png',\n",
       " '00005356_002.png',\n",
       " '00030500_000.png',\n",
       " '00017737_002.png',\n",
       " '00006951_003.png',\n",
       " '00001771_000.png',\n",
       " '00026546_002.png',\n",
       " '00013310_000.png',\n",
       " '00016934_005.png',\n",
       " '00016220_021.png',\n",
       " '00027747_000.png',\n",
       " '00020967_017.png',\n",
       " '00007131_006.png',\n",
       " '00026325_000.png',\n",
       " '00025922_001.png',\n",
       " '00006674_009.png',\n",
       " '00011688_007.png',\n",
       " '00003914_001.png',\n",
       " '00012772_000.png',\n",
       " '00018253_001.png',\n",
       " '00030468_000.png',\n",
       " '00006330_004.png',\n",
       " '00001619_000.png',\n",
       " '00023503_000.png',\n",
       " '00004734_002.png',\n",
       " '00008922_023.png',\n",
       " '00005535_000.png',\n",
       " '00022702_002.png',\n",
       " '00017154_000.png',\n",
       " '00012079_002.png',\n",
       " '00000418_002.png',\n",
       " '00011034_019.png',\n",
       " '00026141_006.png',\n",
       " '00001376_004.png',\n",
       " '00003079_000.png',\n",
       " '00011418_000.png',\n",
       " '00018037_007.png',\n",
       " '00021363_000.png',\n",
       " '00022990_000.png',\n",
       " '00010112_000.png',\n",
       " '00002573_000.png',\n",
       " '00002587_001.png',\n",
       " '00013993_080.png',\n",
       " '00020669_000.png',\n",
       " '00017839_001.png',\n",
       " '00014356_014.png',\n",
       " '00006642_023.png',\n",
       " '00024545_000.png',\n",
       " '00011313_002.png',\n",
       " '00003898_000.png',\n",
       " '00030510_000.png',\n",
       " '00022185_001.png',\n",
       " '00009644_007.png',\n",
       " '00020983_002.png',\n",
       " '00004147_000.png',\n",
       " '00009995_018.png',\n",
       " '00010505_004.png',\n",
       " '00027757_000.png',\n",
       " '00011167_010.png',\n",
       " '00013300_000.png',\n",
       " '00001761_000.png',\n",
       " '00021035_047.png',\n",
       " '00019621_001.png',\n",
       " '00008847_000.png',\n",
       " '00000193_013.png',\n",
       " '00008008_054.png',\n",
       " '00011560_000.png',\n",
       " '00003101_000.png',\n",
       " '00010350_038.png',\n",
       " '00002300_002.png',\n",
       " '00017941_001.png',\n",
       " '00014346_000.png',\n",
       " '00013625_045.png',\n",
       " '00027533_006.png',\n",
       " '00029837_000.png',\n",
       " '00004428_004.png',\n",
       " '00003847_008.png',\n",
       " '00020711_000.png',\n",
       " '00007526_002.png',\n",
       " '00008042_015.png',\n",
       " '00019373_061.png',\n",
       " '00007008_009.png',\n",
       " '00009229_011.png',\n",
       " '00017222_000.png',\n",
       " '00005643_000.png',\n",
       " '00014825_001.png',\n",
       " '00017138_094.png',\n",
       " '00023675_000.png',\n",
       " '00004442_002.png',\n",
       " '00016023_002.png',\n",
       " '00025656_004.png',\n",
       " '00014427_004.png',\n",
       " '00021285_007.png',\n",
       " '00000065_000.png',\n",
       " '00012404_000.png',\n",
       " '00002863_003.png',\n",
       " '00026053_000.png',\n",
       " '00010697_011.png',\n",
       " '00004349_000.png',\n",
       " '00016728_000.png',\n",
       " '00024633_000.png',\n",
       " '00026078_009.png',\n",
       " '00006529_000.png',\n",
       " '00014148_000.png',\n",
       " '00007728_002.png',\n",
       " '00001697_013.png',\n",
       " '00002605_000.png',\n",
       " '00010264_000.png',\n",
       " '00010290_001.png',\n",
       " '00013897_000.png',\n",
       " '00021015_000.png',\n",
       " '00018848_000.png',\n",
       " '00022106_025.png',\n",
       " '00000908_001.png',\n",
       " '00025339_000.png',\n",
       " '00013495_005.png',\n",
       " '00007023_000.png',\n",
       " '00019557_001.png',\n",
       " '00001417_000.png',\n",
       " '00026620_002.png',\n",
       " '00013076_000.png',\n",
       " '00011211_010.png',\n",
       " '00011870_003.png',\n",
       " '00011884_002.png',\n",
       " '00012277_002.png',\n",
       " '00009239_005.png',\n",
       " '00006635_006.png',\n",
       " '00002212_004.png',\n",
       " '00013615_016.png',\n",
       " '00004231_000.png',\n",
       " '00007836_001.png',\n",
       " '00020108_004.png',\n",
       " '00020060_010.png',\n",
       " '00007322_025.png',\n",
       " '00002756_009.png',\n",
       " '00017524_035.png',\n",
       " '00022207_000.png',\n",
       " '00030666_000.png',\n",
       " '00003013_006.png',\n",
       " '00011683_049.png',\n",
       " '00020467_000.png',\n",
       " '00001673_006.png',\n",
       " '00006451_000.png',\n",
       " '00021666_002.png',\n",
       " '00010417_002.png',\n",
       " '00025241_000.png',\n",
       " '00013471_010.png',\n",
       " '00019038_005.png',\n",
       " '00023296_005.png',\n",
       " '00019150_011.png',\n",
       " '00005254_004.png',\n",
       " '00011616_000.png',\n",
       " '00000884_000.png',\n",
       " '00001673_012.png',\n",
       " '00010815_013.png',\n",
       " '00010274_000.png',\n",
       " '00002615_000.png',\n",
       " '00024623_000.png',\n",
       " '00008468_061.png',\n",
       " '00020326_057.png',\n",
       " '00030079_069.png',\n",
       " '00014158_000.png',\n",
       " '00006539_000.png',\n",
       " '00025329_000.png',\n",
       " '00020204_002.png',\n",
       " '00015452_000.png',\n",
       " '00005835_003.png',\n",
       " '00021005_000.png',\n",
       " '00005254_010.png',\n",
       " '00023665_000.png',\n",
       " '00010010_006.png',\n",
       " '00026748_002.png',\n",
       " '00027549_000.png',\n",
       " '00007018_009.png',\n",
       " '00011211_004.png',\n",
       " '00003670_004.png',\n",
       " '00012816_005.png',\n",
       " '00009239_011.png',\n",
       " '00017232_000.png',\n",
       " '00013615_002.png',\n",
       " '00020060_004.png',\n",
       " '00016738_000.png',\n",
       " '00004359_000.png',\n",
       " '00000459_019.png',\n",
       " '00022892_006.png',\n",
       " '00012414_000.png',\n",
       " '00020524_009.png',\n",
       " '00003013_012.png',\n",
       " '00014020_000.png',\n",
       " '00007728_016.png',\n",
       " '00007640_002.png',\n",
       " '00017625_004.png',\n",
       " '00018920_000.png',\n",
       " '00029217_008.png',\n",
       " '00011606_000.png',\n",
       " '00003267_000.png',\n",
       " '00000860_001.png',\n",
       " '00000894_000.png',\n",
       " '00002066_002.png',\n",
       " '00015442_014.png',\n",
       " '00011894_002.png',\n",
       " '00012267_002.png',\n",
       " '00017138_080.png',\n",
       " '00009229_005.png',\n",
       " '00015045_004.png',\n",
       " '00002509_006.png',\n",
       " '00013066_000.png',\n",
       " '00001407_000.png',\n",
       " '00030676_000.png',\n",
       " '00030682_001.png',\n",
       " '00022217_000.png',\n",
       " '00005020_002.png',\n",
       " '00014427_010.png',\n",
       " '00013799_003.png',\n",
       " '00004221_000.png',\n",
       " '00016640_000.png',\n",
       " '00001946_030.png',\n",
       " '00007810_003.png',\n",
       " '00023020_000.png',\n",
       " '00017477_000.png',\n",
       " '00017483_001.png',\n",
       " '00003028_027.png',\n",
       " '00002457_010.png',\n",
       " '00012251_000.png',\n",
       " '00000630_000.png',\n",
       " '00011237_012.png',\n",
       " '00009916_000.png',\n",
       " '00009863_037.png',\n",
       " '00018770_001.png',\n",
       " '00018784_000.png',\n",
       " '00017881_004.png',\n",
       " '00010431_000.png',\n",
       " '00002050_000.png',\n",
       " '00014675_014.png',\n",
       " '00024066_000.png',\n",
       " '00007676_000.png',\n",
       " '00015217_000.png',\n",
       " '00025598_001.png',\n",
       " '00006477_002.png',\n",
       " '00018103_003.png',\n",
       " '00024887_000.png',\n",
       " '00012422_002.png',\n",
       " '00030079_041.png',\n",
       " '00013623_000.png',\n",
       " '00001242_000.png',\n",
       " '00026081_003.png',\n",
       " '00029479_001.png',\n",
       " '00028173_001.png',\n",
       " '00000748_000.png',\n",
       " '00012329_000.png',\n",
       " '00030033_000.png',\n",
       " '00022452_000.png',\n",
       " '00018615_022.png',\n",
       " '00004490_001.png',\n",
       " '00016005_000.png',\n",
       " '00013128_002.png',\n",
       " '00001549_002.png',\n",
       " '00017603_012.png',\n",
       " '00006204_000.png',\n",
       " '00014665_000.png',\n",
       " '00014691_001.png',\n",
       " '00012646_004.png',\n",
       " '00003329_002.png',\n",
       " '00002128_000.png',\n",
       " '00010549_000.png',\n",
       " '00013447_006.png',\n",
       " '00007018_021.png',\n",
       " '00008561_015.png',\n",
       " '00011379_038.png',\n",
       " '00020232_000.png',\n",
       " '00003422_000.png',\n",
       " '00005401_004.png',\n",
       " '00014203_058.png',\n",
       " '00009103_001.png',\n",
       " '00014006_016.png',\n",
       " '00016968_001.png',\n",
       " '00020524_021.png',\n",
       " '00016800_015.png',\n",
       " '00025414_000.png',\n",
       " '00002623_002.png',\n",
       " '00012646_010.png',\n",
       " '00002040_000.png',\n",
       " '00010421_000.png',\n",
       " '00007018_035.png',\n",
       " '00008561_001.png',\n",
       " '00008595_000.png',\n",
       " '00028976_000.png',\n",
       " '00000459_025.png',\n",
       " '00021650_000.png',\n",
       " '00006467_002.png',\n",
       " '00014006_002.png',\n",
       " '00015207_000.png',\n",
       " '00007666_000.png',\n",
       " '00005006_000.png',\n",
       " '00023030_000.png',\n",
       " '00012241_000.png',\n",
       " '00014296_005.png',\n",
       " '00018615_036.png',\n",
       " '00009906_000.png',\n",
       " '00018794_000.png',\n",
       " '00018608_015.png',\n",
       " '00016199_001.png',\n",
       " '00026616_000.png',\n",
       " '00013128_016.png',\n",
       " '00026201_004.png',\n",
       " '00010559_000.png',\n",
       " '00002138_000.png',\n",
       " '00019373_049.png',\n",
       " '00008419_001.png',\n",
       " '00006875_013.png',\n",
       " '00021023_002.png',\n",
       " '00012656_004.png',\n",
       " '00016285_007.png',\n",
       " '00008312_003.png',\n",
       " '00025404_000.png',\n",
       " '00002633_002.png',\n",
       " '00003432_000.png',\n",
       " '00011053_000.png',\n",
       " '00021728_000.png',\n",
       " '00009113_001.png',\n",
       " '00030247_006.png',\n",
       " '00017070_004.png',\n",
       " '00018488_006.png',\n",
       " '00001833_013.png',\n",
       " '00001252_000.png',\n",
       " '00013633_000.png',\n",
       " '00023148_000.png',\n",
       " '00006070_006.png',\n",
       " '00003028_033.png',\n",
       " '00007735_009.png',\n",
       " '00024897_000.png',\n",
       " '00016015_000.png',\n",
       " '00004474_000.png',\n",
       " '00004480_001.png',\n",
       " '00019419_003.png',\n",
       " '00013138_002.png',\n",
       " '00029903_010.png',\n",
       " '00028197_000.png',\n",
       " '00000758_000.png',\n",
       " '00009863_023.png',\n",
       " '00010453_000.png',\n",
       " '00018739_008.png',\n",
       " '00002032_000.png',\n",
       " '00008513_001.png',\n",
       " '00005919_001.png',\n",
       " '00016134_009.png',\n",
       " '00024004_000.png',\n",
       " '00003233_002.png',\n",
       " '00016213_012.png',\n",
       " '00015814_013.png',\n",
       " '00016886_000.png',\n",
       " '00018237_044.png',\n",
       " '00002739_002.png',\n",
       " '00012057_006.png',\n",
       " '00014080_003.png',\n",
       " '00029597_000.png',\n",
       " '00001358_000.png',\n",
       " '00013739_000.png',\n",
       " '00002256_006.png',\n",
       " '00019218_001.png',\n",
       " '00007886_002.png',\n",
       " '00023042_000.png',\n",
       " '00005074_000.png',\n",
       " '00017415_000.png',\n",
       " '00018019_003.png',\n",
       " '00012233_000.png',\n",
       " '00000652_000.png',\n",
       " '00009974_000.png',\n",
       " '00022548_000.png',\n",
       " '00030129_000.png',\n",
       " '00006266_000.png',\n",
       " '00005200_012.png',\n",
       " '00017714_025.png',\n",
       " '00024188_001.png',\n",
       " '00020250_000.png',\n",
       " '00007093_003.png',\n",
       " '00004169_004.png',\n",
       " '00011021_000.png',\n",
       " '00023111_009.png',\n",
       " '00009195_000.png',\n",
       " '00005497_005.png',\n",
       " '00008394_002.png',\n",
       " '00025476_000.png',\n",
       " '00025482_001.png',\n",
       " '00029174_005.png',\n",
       " '00017599_001.png',\n",
       " '00027216_000.png',\n",
       " '00002827_001.png',\n",
       " '00025085_011.png',\n",
       " '00016798_003.png',\n",
       " '00019360_001.png',\n",
       " '00019394_000.png',\n",
       " '00014368_004.png',\n",
       " '00014895_002.png',\n",
       " '00030051_000.png',\n",
       " '00022430_000.png',\n",
       " '00005607_002.png',\n",
       " '00004406_000.png',\n",
       " '00016067_000.png',\n",
       " '00002425_004.png',\n",
       " '00005079_023.png',\n",
       " '00012528_002.png',\n",
       " '00025085_005.png',\n",
       " '00013729_000.png',\n",
       " '00001348_000.png',\n",
       " '00007896_002.png',\n",
       " '00023052_000.png',\n",
       " '00004291_003.png',\n",
       " '00012223_000.png',\n",
       " '00028079_001.png',\n",
       " ...]"
      ]
     },
     "execution_count": 19,
     "metadata": {},
     "output_type": "execute_result"
    }
   ],
   "source": [
    "no_finding_images = [os.path.basename(path) for path in all_image_paths if labels_df.loc[os.path.basename(path), 'Finding Labels'] == 'No Finding']\n",
    "\n",
    "no_finding_images"
   ]
  },
  {
   "cell_type": "code",
   "execution_count": 20,
   "id": "42b94189",
   "metadata": {
    "ExecuteTime": {
     "end_time": "2024-06-11T09:12:54.254868Z",
     "start_time": "2024-06-11T09:12:17.555974Z"
    }
   },
   "outputs": [
    {
     "data": {
      "text/plain": [
       "51585"
      ]
     },
     "execution_count": 20,
     "metadata": {},
     "output_type": "execute_result"
    }
   ],
   "source": [
    "all_image_paths = [path for path in all_image_paths if os.path.basename(path) not in no_finding_images]\n",
    "\n",
    "len(all_image_paths)"
   ]
  },
  {
   "cell_type": "code",
   "execution_count": 21,
   "id": "0bac6fe5",
   "metadata": {
    "ExecuteTime": {
     "end_time": "2024-06-11T09:12:54.286376Z",
     "start_time": "2024-06-11T09:12:54.282661Z"
    }
   },
   "outputs": [],
   "source": [
    "#Creating a list of the 14 different labels\n",
    "label_names = ['Atelectasis', 'Consolidation', 'Infiltration', 'Pneumothorax', 'Edema', 'Emphysema', 'Fibrosis', 'Effusion', 'Pneumonia', 'Pleural_Thickening', 'Cardiomegaly', 'Nodule', 'Mass', 'Hernia']"
   ]
  },
  {
   "cell_type": "code",
   "execution_count": 22,
   "id": "e1cf208d",
   "metadata": {
    "ExecuteTime": {
     "end_time": "2024-06-11T09:12:54.361225Z",
     "start_time": "2024-06-11T09:12:54.318794Z"
    }
   },
   "outputs": [],
   "source": [
    "string_lookup = tf.keras.layers.StringLookup(vocabulary=label_names, num_oov_indices=0)"
   ]
  },
  {
   "cell_type": "code",
   "execution_count": 23,
   "id": "4cad3a98",
   "metadata": {
    "ExecuteTime": {
     "end_time": "2024-06-11T09:12:54.397837Z",
     "start_time": "2024-06-11T09:12:54.394280Z"
    }
   },
   "outputs": [],
   "source": [
    "# Vectorized encoding of labels\n",
    "def encode_labels(labels):\n",
    "    split_labels = tf.strings.split(labels, '|')\n",
    "    encoded_labels = string_lookup(split_labels)\n",
    "    one_hot_encoded = tf.reduce_sum(tf.one_hot(encoded_labels, depth=len(label_names)), axis=0)\n",
    "    return one_hot_encoded"
   ]
  },
  {
   "cell_type": "code",
   "execution_count": 32,
   "id": "9a0cef98",
   "metadata": {
    "ExecuteTime": {
     "end_time": "2024-06-10T18:23:38.944676Z",
     "start_time": "2024-06-10T18:22:43.891269Z"
    }
   },
   "outputs": [],
   "source": [
    "## Apply encoding to all labels in a vectorized manner\n",
    "#encoded_values = tf.stack([encode_labels(labels) for labels in new_image_labels])"
   ]
  },
  {
   "cell_type": "code",
   "execution_count": 33,
   "id": "fad0f8bb",
   "metadata": {
    "ExecuteTime": {
     "end_time": "2024-06-10T18:23:51.471307Z",
     "start_time": "2024-06-10T18:23:51.466352Z"
    }
   },
   "outputs": [],
   "source": [
    "#labels_np = encoded_values.numpy()"
   ]
  },
  {
   "cell_type": "code",
   "execution_count": 34,
   "id": "85a9b7fa",
   "metadata": {
    "ExecuteTime": {
     "end_time": "2024-06-10T18:23:52.417120Z",
     "start_time": "2024-06-10T18:23:52.408291Z"
    }
   },
   "outputs": [
    {
     "data": {
      "text/plain": [
       "array([[0., 0., 0., 0., 0., 0., 0., 0., 1., 0., 0., 0., 0., 0.],\n",
       "       [0., 0., 0., 0., 0., 0., 0., 0., 1., 0., 0., 0., 0., 0.],\n",
       "       [1., 0., 1., 0., 0., 0., 0., 0., 0., 0., 0., 0., 0., 0.],\n",
       "       [0., 0., 0., 0., 0., 0., 1., 0., 0., 0., 0., 0., 0., 0.],\n",
       "       [0., 0., 1., 0., 0., 0., 0., 0., 0., 0., 0., 0., 0., 0.],\n",
       "       [1., 0., 0., 0., 0., 0., 0., 0., 0., 0., 0., 0., 0., 0.],\n",
       "       [0., 0., 0., 0., 0., 0., 0., 0., 0., 0., 1., 0., 0., 0.],\n",
       "       [0., 0., 1., 0., 0., 0., 0., 0., 0., 0., 0., 0., 0., 0.],\n",
       "       [0., 1., 0., 0., 0., 0., 0., 0., 0., 0., 0., 0., 0., 0.],\n",
       "       [0., 0., 0., 0., 0., 0., 0., 0., 0., 0., 0., 0., 1., 0.]],\n",
       "      dtype=float32)"
      ]
     },
     "execution_count": 34,
     "metadata": {},
     "output_type": "execute_result"
    }
   ],
   "source": [
    "#labels_np[:10]"
   ]
  },
  {
   "cell_type": "code",
   "execution_count": 35,
   "id": "12e2ee95",
   "metadata": {
    "ExecuteTime": {
     "end_time": "2024-06-10T18:24:04.960119Z",
     "start_time": "2024-06-10T18:24:04.779740Z"
    }
   },
   "outputs": [],
   "source": [
    "#labels_df = pd.DataFrame(labels_np) #convert to a dataframe\n",
    "#labels_df.to_csv(\"../raw_data/only_disease_encoded_labels.csv\",index=False) #save to file"
   ]
  },
  {
   "cell_type": "code",
   "execution_count": 33,
   "id": "c9ec8d01",
   "metadata": {
    "ExecuteTime": {
     "end_time": "2024-06-11T09:18:22.963175Z",
     "start_time": "2024-06-11T09:18:22.912119Z"
    }
   },
   "outputs": [],
   "source": [
    "df_labels = pd.read_csv(\"../raw_data/only_disease_encoded_labels.csv\")"
   ]
  },
  {
   "cell_type": "code",
   "execution_count": 34,
   "id": "c96ff4ea",
   "metadata": {
    "ExecuteTime": {
     "end_time": "2024-06-11T09:18:24.183969Z",
     "start_time": "2024-06-11T09:18:24.175112Z"
    }
   },
   "outputs": [],
   "source": [
    "new_encoded_values = tf.convert_to_tensor(df_labels.values, dtype=tf.float32)"
   ]
  },
  {
   "cell_type": "code",
   "execution_count": 35,
   "id": "6a6d35eb",
   "metadata": {
    "ExecuteTime": {
     "end_time": "2024-06-11T09:18:24.403287Z",
     "start_time": "2024-06-11T09:18:24.399860Z"
    }
   },
   "outputs": [],
   "source": [
    "encoded_values = new_encoded_values"
   ]
  },
  {
   "cell_type": "code",
   "execution_count": 36,
   "id": "15a346e0",
   "metadata": {
    "ExecuteTime": {
     "end_time": "2024-06-11T09:18:24.826204Z",
     "start_time": "2024-06-11T09:18:24.820653Z"
    }
   },
   "outputs": [],
   "source": [
    "encoded_values_np = encoded_values.numpy()"
   ]
  },
  {
   "cell_type": "code",
   "execution_count": 37,
   "id": "4cef27c8",
   "metadata": {
    "ExecuteTime": {
     "end_time": "2024-06-11T09:18:25.383763Z",
     "start_time": "2024-06-11T09:18:25.377370Z"
    }
   },
   "outputs": [
    {
     "name": "stdout",
     "output_type": "stream",
     "text": [
      "Encoded values:\n",
      "[[0. 0. 0. 0. 0. 0. 0. 0. 1. 0. 0. 0. 0. 0.]\n",
      " [0. 0. 0. 0. 0. 0. 0. 0. 1. 0. 0. 0. 0. 0.]\n",
      " [1. 0. 1. 0. 0. 0. 0. 0. 0. 0. 0. 0. 0. 0.]\n",
      " [0. 0. 0. 0. 0. 0. 1. 0. 0. 0. 0. 0. 0. 0.]\n",
      " [0. 0. 1. 0. 0. 0. 0. 0. 0. 0. 0. 0. 0. 0.]\n",
      " [1. 0. 0. 0. 0. 0. 0. 0. 0. 0. 0. 0. 0. 0.]\n",
      " [0. 0. 0. 0. 0. 0. 0. 0. 0. 0. 1. 0. 0. 0.]\n",
      " [0. 0. 1. 0. 0. 0. 0. 0. 0. 0. 0. 0. 0. 0.]\n",
      " [0. 1. 0. 0. 0. 0. 0. 0. 0. 0. 0. 0. 0. 0.]\n",
      " [0. 0. 0. 0. 0. 0. 0. 0. 0. 0. 0. 0. 1. 0.]]\n"
     ]
    }
   ],
   "source": [
    "print(\"Encoded values:\")\n",
    "print(encoded_values_np[:10])"
   ]
  },
  {
   "cell_type": "code",
   "execution_count": 38,
   "id": "54ab5c87",
   "metadata": {
    "ExecuteTime": {
     "end_time": "2024-06-11T09:18:29.712755Z",
     "start_time": "2024-06-11T09:18:29.708078Z"
    }
   },
   "outputs": [
    {
     "data": {
      "text/plain": [
       "51585"
      ]
     },
     "execution_count": 38,
     "metadata": {},
     "output_type": "execute_result"
    }
   ],
   "source": [
    "#Checking the lenght\n",
    "len(encoded_values_np)"
   ]
  },
  {
   "cell_type": "code",
   "execution_count": 39,
   "id": "566bf598",
   "metadata": {
    "ExecuteTime": {
     "end_time": "2024-06-11T09:18:32.632268Z",
     "start_time": "2024-06-11T09:18:32.624192Z"
    }
   },
   "outputs": [
    {
     "name": "stdout",
     "output_type": "stream",
     "text": [
      "Index 0: Atelectasis\n",
      "Index 1: Consolidation\n",
      "Index 2: Infiltration\n",
      "Index 3: Pneumothorax\n",
      "Index 4: Edema\n",
      "Index 5: Emphysema\n",
      "Index 6: Fibrosis\n",
      "Index 7: Effusion\n",
      "Index 8: Pneumonia\n",
      "Index 9: Pleural_Thickening\n",
      "Index 10: Cardiomegaly\n",
      "Index 11: Nodule\n",
      "Index 12: Mass\n",
      "Index 13: Hernia\n"
     ]
    }
   ],
   "source": [
    "vocab = string_lookup.get_vocabulary()\n",
    "\n",
    "# Display the vocabulary and their corresponding indices\n",
    "for i, label in enumerate(vocab):\n",
    "    print(f\"Index {i}: {label}\")"
   ]
  },
  {
   "cell_type": "code",
   "execution_count": 40,
   "id": "6d4517c4",
   "metadata": {
    "ExecuteTime": {
     "end_time": "2024-06-11T09:18:33.017727Z",
     "start_time": "2024-06-11T09:18:33.011887Z"
    }
   },
   "outputs": [],
   "source": [
    "# Convert encoded values to tensor slices for the dataset\n",
    "label_ds = tf.data.Dataset.from_tensor_slices(encoded_values)"
   ]
  },
  {
   "cell_type": "code",
   "execution_count": 32,
   "id": "c8a62d97",
   "metadata": {
    "ExecuteTime": {
     "end_time": "2024-06-11T09:13:01.792845Z",
     "start_time": "2024-06-11T09:13:01.787894Z"
    }
   },
   "outputs": [
    {
     "data": {
      "text/plain": [
       "<_TensorSliceDataset element_spec=TensorSpec(shape=(14,), dtype=tf.float32, name=None)>"
      ]
     },
     "execution_count": 32,
     "metadata": {},
     "output_type": "execute_result"
    }
   ],
   "source": [
    "label_ds"
   ]
  },
  {
   "cell_type": "code",
   "execution_count": 41,
   "id": "04d5b379",
   "metadata": {
    "ExecuteTime": {
     "end_time": "2024-06-11T09:22:25.793163Z",
     "start_time": "2024-06-11T09:22:25.788757Z"
    }
   },
   "outputs": [],
   "source": [
    "def preprocess_image(image):\n",
    "    # convert it to rgb => VGG16 takes RGB image only\n",
    "    image = tf.image.grayscale_to_rgb(image)\n",
    "\n",
    "    # Resize the image to a width and a height of 256 pixels\n",
    "    image = tf.image.resize(image, [224, 224], method='nearest')\n",
    "    # Normalize the pixel values of the image to the range of [0, 1] => WE DON'T NEED FOR VGG16 (but we finally use another one...)\n",
    "    image /= 255\n",
    "\n",
    "    return image"
   ]
  },
  {
   "cell_type": "code",
   "execution_count": 42,
   "id": "81555d57",
   "metadata": {
    "ExecuteTime": {
     "end_time": "2024-06-11T09:22:26.992449Z",
     "start_time": "2024-06-11T09:22:26.987544Z"
    }
   },
   "outputs": [],
   "source": [
    "def load_and_preprocess_image(path):\n",
    "    image = tf.io.read_file(path)\n",
    "    # Decode the image contents\n",
    "    img_tensor = tf.image.decode_png(image)[:,:,0:1]\n",
    "    # return img_tensor\n",
    "    return preprocess_image(img_tensor)"
   ]
  },
  {
   "cell_type": "code",
   "execution_count": 43,
   "id": "998da00b",
   "metadata": {
    "ExecuteTime": {
     "end_time": "2024-06-11T09:23:40.177137Z",
     "start_time": "2024-06-11T09:23:40.085579Z"
    }
   },
   "outputs": [],
   "source": [
    "path_ds = tf.data.Dataset.from_tensor_slices(all_image_paths)"
   ]
  },
  {
   "cell_type": "code",
   "execution_count": 44,
   "id": "ee16e786",
   "metadata": {
    "ExecuteTime": {
     "end_time": "2024-06-11T09:23:40.426779Z",
     "start_time": "2024-06-11T09:23:40.418726Z"
    }
   },
   "outputs": [
    {
     "data": {
      "text/plain": [
       "<_TensorSliceDataset element_spec=TensorSpec(shape=(), dtype=tf.string, name=None)>"
      ]
     },
     "execution_count": 44,
     "metadata": {},
     "output_type": "execute_result"
    }
   ],
   "source": [
    "path_ds"
   ]
  },
  {
   "cell_type": "code",
   "execution_count": 45,
   "id": "4c199658",
   "metadata": {
    "ExecuteTime": {
     "end_time": "2024-06-11T09:23:41.018625Z",
     "start_time": "2024-06-11T09:23:40.922268Z"
    }
   },
   "outputs": [],
   "source": [
    "image_ds = path_ds.map(load_and_preprocess_image, num_parallel_calls=AUTOTUNE)"
   ]
  },
  {
   "cell_type": "code",
   "execution_count": 46,
   "id": "22bb3bfa",
   "metadata": {
    "ExecuteTime": {
     "end_time": "2024-06-11T09:23:41.551971Z",
     "start_time": "2024-06-11T09:23:41.436407Z"
    }
   },
   "outputs": [
    {
     "data": {
      "text/plain": [
       "<_MapDataset element_spec=(TensorSpec(shape=(224, 224, 3), dtype=tf.float32, name=None), TensorSpec(shape=(14,), dtype=tf.float32, name=None))>"
      ]
     },
     "execution_count": 46,
     "metadata": {},
     "output_type": "execute_result"
    }
   ],
   "source": [
    "path_label_ds = tf.data.Dataset.from_tensor_slices((all_image_paths, encoded_values))\n",
    "\n",
    "# The tuples are unpacked into the positional arguments of the mapped function\n",
    "def load_and_preprocess_from_path_label(path, label):\n",
    "    return load_and_preprocess_image(path), label\n",
    "\n",
    "image_label_ds = path_label_ds.map(load_and_preprocess_from_path_label)\n",
    "image_label_ds"
   ]
  },
  {
   "cell_type": "code",
   "execution_count": 47,
   "id": "a7a58b27",
   "metadata": {
    "ExecuteTime": {
     "end_time": "2024-06-11T09:23:44.203646Z",
     "start_time": "2024-06-11T09:23:44.196812Z"
    }
   },
   "outputs": [],
   "source": [
    "train_size = int(0.6 * len(all_image_paths))\n",
    "val_size = int(0.2 * len(all_image_paths))\n",
    "test_size = int(0.2 * len(all_image_paths))"
   ]
  },
  {
   "cell_type": "code",
   "execution_count": 48,
   "id": "4be0795b",
   "metadata": {
    "ExecuteTime": {
     "end_time": "2024-06-11T09:23:44.444291Z",
     "start_time": "2024-06-11T09:23:44.434700Z"
    }
   },
   "outputs": [],
   "source": [
    "train_ds = image_label_ds.take(train_size)"
   ]
  },
  {
   "cell_type": "code",
   "execution_count": 49,
   "id": "b87035f9",
   "metadata": {
    "ExecuteTime": {
     "end_time": "2024-06-11T09:23:44.782125Z",
     "start_time": "2024-06-11T09:23:44.770578Z"
    }
   },
   "outputs": [],
   "source": [
    "val_ds = image_label_ds.skip(train_size).take(val_size)"
   ]
  },
  {
   "cell_type": "code",
   "execution_count": 50,
   "id": "d9b877ad",
   "metadata": {
    "ExecuteTime": {
     "end_time": "2024-06-11T09:23:45.124269Z",
     "start_time": "2024-06-11T09:23:45.115392Z"
    }
   },
   "outputs": [],
   "source": [
    "test_ds = image_label_ds.skip(train_size + val_size).take(test_size)"
   ]
  },
  {
   "cell_type": "code",
   "execution_count": 51,
   "id": "e7708b94",
   "metadata": {
    "ExecuteTime": {
     "end_time": "2024-06-11T09:23:45.614460Z",
     "start_time": "2024-06-11T09:23:45.607947Z"
    }
   },
   "outputs": [],
   "source": [
    "BATCH_SIZE = 32\n",
    "\n",
    "def creating_batch_dataset(dataset, BATCH_SIZE, AUTOTUNE):\n",
    "    ds = dataset.repeat()\n",
    "    ds = ds.batch(BATCH_SIZE)\n",
    "    ds = ds.prefetch(buffer_size=AUTOTUNE)\n",
    "    return ds"
   ]
  },
  {
   "cell_type": "code",
   "execution_count": 52,
   "id": "3dd01424",
   "metadata": {
    "ExecuteTime": {
     "end_time": "2024-06-11T09:23:51.715990Z",
     "start_time": "2024-06-11T09:23:51.693638Z"
    }
   },
   "outputs": [],
   "source": [
    "ds = creating_batch_dataset(image_label_ds, BATCH_SIZE, AUTOTUNE)\n",
    "train_ds = creating_batch_dataset(train_ds, BATCH_SIZE, AUTOTUNE)\n",
    "val_ds = creating_batch_dataset(val_ds, BATCH_SIZE, AUTOTUNE)\n",
    "test_ds = creating_batch_dataset(test_ds, BATCH_SIZE, AUTOTUNE)"
   ]
  },
  {
   "cell_type": "code",
   "execution_count": 54,
   "id": "d22e2ae0",
   "metadata": {
    "ExecuteTime": {
     "end_time": "2024-06-10T18:29:06.085665Z",
     "start_time": "2024-06-10T18:29:06.047942Z"
    }
   },
   "outputs": [],
   "source": [
    "# rearrange to -1 to 1\n",
    "#def change_range(image,label):\n",
    "  #return 2*image-1, label\n",
    "\n",
    "#keras_ds = ds.map(change_range)"
   ]
  },
  {
   "cell_type": "code",
   "execution_count": 55,
   "id": "27d89498",
   "metadata": {
    "ExecuteTime": {
     "end_time": "2024-06-10T18:29:20.330830Z",
     "start_time": "2024-06-10T18:29:20.276674Z"
    }
   },
   "outputs": [],
   "source": [
    "#full_ds = ds.map(change_range)\n",
    "#train_converted_ds = train_ds.map(change_range)\n",
    "#val_converted_ds = val_ds.map(change_range)\n",
    "#test_converted_ds = test_ds.map(change_range)"
   ]
  },
  {
   "cell_type": "code",
   "execution_count": 53,
   "id": "3cf034fc",
   "metadata": {
    "ExecuteTime": {
     "end_time": "2024-06-11T09:24:07.274010Z",
     "start_time": "2024-06-11T09:24:07.262555Z"
    }
   },
   "outputs": [],
   "source": [
    "AUC = tf.keras.metrics.AUC(multi_label=True)"
   ]
  },
  {
   "cell_type": "code",
   "execution_count": 59,
   "id": "67cf2657",
   "metadata": {
    "ExecuteTime": {
     "end_time": "2024-06-11T09:32:24.468702Z",
     "start_time": "2024-06-11T09:32:19.440048Z"
    },
    "scrolled": true
   },
   "outputs": [
    {
     "name": "stdout",
     "output_type": "stream",
     "text": [
      "Downloading data from https://storage.googleapis.com/tensorflow/keras-applications/densenet/densenet121_weights_tf_dim_ordering_tf_kernels_notop.h5\n",
      "29084464/29084464 [==============================] - 4s 0us/step\n"
     ]
    }
   ],
   "source": [
    "densenet121 = tf.keras.applications.DenseNet121(\n",
    "    include_top=False,\n",
    "    weights='imagenet',\n",
    "    input_shape=(224, 224, 3),\n",
    "    classes=1000,\n",
    ")\n",
    "densenet121.trainable=False"
   ]
  },
  {
   "cell_type": "code",
   "execution_count": 60,
   "id": "b2b2f13e",
   "metadata": {
    "ExecuteTime": {
     "end_time": "2024-06-11T09:32:26.228236Z",
     "start_time": "2024-06-11T09:32:25.802406Z"
    }
   },
   "outputs": [
    {
     "name": "stdout",
     "output_type": "stream",
     "text": [
      "Model: \"densenet121\"\n",
      "__________________________________________________________________________________________________\n",
      " Layer (type)                Output Shape                 Param #   Connected to                  \n",
      "==================================================================================================\n",
      " input_2 (InputLayer)        [(None, 224, 224, 3)]        0         []                            \n",
      "                                                                                                  \n",
      " zero_padding2d_2 (ZeroPadd  (None, 230, 230, 3)          0         ['input_2[0][0]']             \n",
      " ing2D)                                                                                           \n",
      "                                                                                                  \n",
      " conv1/conv (Conv2D)         (None, 112, 112, 64)         9408      ['zero_padding2d_2[0][0]']    \n",
      "                                                                                                  \n",
      " conv1/bn (BatchNormalizati  (None, 112, 112, 64)         256       ['conv1/conv[0][0]']          \n",
      " on)                                                                                              \n",
      "                                                                                                  \n",
      " conv1/relu (Activation)     (None, 112, 112, 64)         0         ['conv1/bn[0][0]']            \n",
      "                                                                                                  \n",
      " zero_padding2d_3 (ZeroPadd  (None, 114, 114, 64)         0         ['conv1/relu[0][0]']          \n",
      " ing2D)                                                                                           \n",
      "                                                                                                  \n",
      " pool1 (MaxPooling2D)        (None, 56, 56, 64)           0         ['zero_padding2d_3[0][0]']    \n",
      "                                                                                                  \n",
      " conv2_block1_0_bn (BatchNo  (None, 56, 56, 64)           256       ['pool1[0][0]']               \n",
      " rmalization)                                                                                     \n",
      "                                                                                                  \n",
      " conv2_block1_0_relu (Activ  (None, 56, 56, 64)           0         ['conv2_block1_0_bn[0][0]']   \n",
      " ation)                                                                                           \n",
      "                                                                                                  \n",
      " conv2_block1_1_conv (Conv2  (None, 56, 56, 128)          8192      ['conv2_block1_0_relu[0][0]'] \n",
      " D)                                                                                               \n",
      "                                                                                                  \n",
      " conv2_block1_1_bn (BatchNo  (None, 56, 56, 128)          512       ['conv2_block1_1_conv[0][0]'] \n",
      " rmalization)                                                                                     \n",
      "                                                                                                  \n",
      " conv2_block1_1_relu (Activ  (None, 56, 56, 128)          0         ['conv2_block1_1_bn[0][0]']   \n",
      " ation)                                                                                           \n",
      "                                                                                                  \n",
      " conv2_block1_2_conv (Conv2  (None, 56, 56, 32)           36864     ['conv2_block1_1_relu[0][0]'] \n",
      " D)                                                                                               \n",
      "                                                                                                  \n",
      " conv2_block1_concat (Conca  (None, 56, 56, 96)           0         ['pool1[0][0]',               \n",
      " tenate)                                                             'conv2_block1_2_conv[0][0]'] \n",
      "                                                                                                  \n",
      " conv2_block2_0_bn (BatchNo  (None, 56, 56, 96)           384       ['conv2_block1_concat[0][0]'] \n",
      " rmalization)                                                                                     \n",
      "                                                                                                  \n",
      " conv2_block2_0_relu (Activ  (None, 56, 56, 96)           0         ['conv2_block2_0_bn[0][0]']   \n",
      " ation)                                                                                           \n",
      "                                                                                                  \n",
      " conv2_block2_1_conv (Conv2  (None, 56, 56, 128)          12288     ['conv2_block2_0_relu[0][0]'] \n",
      " D)                                                                                               \n",
      "                                                                                                  \n",
      " conv2_block2_1_bn (BatchNo  (None, 56, 56, 128)          512       ['conv2_block2_1_conv[0][0]'] \n",
      " rmalization)                                                                                     \n",
      "                                                                                                  \n",
      " conv2_block2_1_relu (Activ  (None, 56, 56, 128)          0         ['conv2_block2_1_bn[0][0]']   \n",
      " ation)                                                                                           \n",
      "                                                                                                  \n",
      " conv2_block2_2_conv (Conv2  (None, 56, 56, 32)           36864     ['conv2_block2_1_relu[0][0]'] \n",
      " D)                                                                                               \n",
      "                                                                                                  \n",
      " conv2_block2_concat (Conca  (None, 56, 56, 128)          0         ['conv2_block1_concat[0][0]', \n",
      " tenate)                                                             'conv2_block2_2_conv[0][0]'] \n",
      "                                                                                                  \n",
      " conv2_block3_0_bn (BatchNo  (None, 56, 56, 128)          512       ['conv2_block2_concat[0][0]'] \n",
      " rmalization)                                                                                     \n",
      "                                                                                                  \n",
      " conv2_block3_0_relu (Activ  (None, 56, 56, 128)          0         ['conv2_block3_0_bn[0][0]']   \n",
      " ation)                                                                                           \n",
      "                                                                                                  \n",
      " conv2_block3_1_conv (Conv2  (None, 56, 56, 128)          16384     ['conv2_block3_0_relu[0][0]'] \n",
      " D)                                                                                               \n",
      "                                                                                                  \n",
      " conv2_block3_1_bn (BatchNo  (None, 56, 56, 128)          512       ['conv2_block3_1_conv[0][0]'] \n",
      " rmalization)                                                                                     \n",
      "                                                                                                  \n",
      " conv2_block3_1_relu (Activ  (None, 56, 56, 128)          0         ['conv2_block3_1_bn[0][0]']   \n",
      " ation)                                                                                           \n",
      "                                                                                                  \n",
      " conv2_block3_2_conv (Conv2  (None, 56, 56, 32)           36864     ['conv2_block3_1_relu[0][0]'] \n",
      " D)                                                                                               \n",
      "                                                                                                  \n",
      " conv2_block3_concat (Conca  (None, 56, 56, 160)          0         ['conv2_block2_concat[0][0]', \n",
      " tenate)                                                             'conv2_block3_2_conv[0][0]'] \n",
      "                                                                                                  \n"
     ]
    },
    {
     "name": "stdout",
     "output_type": "stream",
     "text": [
      " conv2_block4_0_bn (BatchNo  (None, 56, 56, 160)          640       ['conv2_block3_concat[0][0]'] \n",
      " rmalization)                                                                                     \n",
      "                                                                                                  \n",
      " conv2_block4_0_relu (Activ  (None, 56, 56, 160)          0         ['conv2_block4_0_bn[0][0]']   \n",
      " ation)                                                                                           \n",
      "                                                                                                  \n",
      " conv2_block4_1_conv (Conv2  (None, 56, 56, 128)          20480     ['conv2_block4_0_relu[0][0]'] \n",
      " D)                                                                                               \n",
      "                                                                                                  \n",
      " conv2_block4_1_bn (BatchNo  (None, 56, 56, 128)          512       ['conv2_block4_1_conv[0][0]'] \n",
      " rmalization)                                                                                     \n",
      "                                                                                                  \n",
      " conv2_block4_1_relu (Activ  (None, 56, 56, 128)          0         ['conv2_block4_1_bn[0][0]']   \n",
      " ation)                                                                                           \n",
      "                                                                                                  \n",
      " conv2_block4_2_conv (Conv2  (None, 56, 56, 32)           36864     ['conv2_block4_1_relu[0][0]'] \n",
      " D)                                                                                               \n",
      "                                                                                                  \n",
      " conv2_block4_concat (Conca  (None, 56, 56, 192)          0         ['conv2_block3_concat[0][0]', \n",
      " tenate)                                                             'conv2_block4_2_conv[0][0]'] \n",
      "                                                                                                  \n",
      " conv2_block5_0_bn (BatchNo  (None, 56, 56, 192)          768       ['conv2_block4_concat[0][0]'] \n",
      " rmalization)                                                                                     \n",
      "                                                                                                  \n",
      " conv2_block5_0_relu (Activ  (None, 56, 56, 192)          0         ['conv2_block5_0_bn[0][0]']   \n",
      " ation)                                                                                           \n",
      "                                                                                                  \n",
      " conv2_block5_1_conv (Conv2  (None, 56, 56, 128)          24576     ['conv2_block5_0_relu[0][0]'] \n",
      " D)                                                                                               \n",
      "                                                                                                  \n",
      " conv2_block5_1_bn (BatchNo  (None, 56, 56, 128)          512       ['conv2_block5_1_conv[0][0]'] \n",
      " rmalization)                                                                                     \n",
      "                                                                                                  \n",
      " conv2_block5_1_relu (Activ  (None, 56, 56, 128)          0         ['conv2_block5_1_bn[0][0]']   \n",
      " ation)                                                                                           \n",
      "                                                                                                  \n",
      " conv2_block5_2_conv (Conv2  (None, 56, 56, 32)           36864     ['conv2_block5_1_relu[0][0]'] \n",
      " D)                                                                                               \n",
      "                                                                                                  \n",
      " conv2_block5_concat (Conca  (None, 56, 56, 224)          0         ['conv2_block4_concat[0][0]', \n",
      " tenate)                                                             'conv2_block5_2_conv[0][0]'] \n",
      "                                                                                                  \n",
      " conv2_block6_0_bn (BatchNo  (None, 56, 56, 224)          896       ['conv2_block5_concat[0][0]'] \n",
      " rmalization)                                                                                     \n",
      "                                                                                                  \n",
      " conv2_block6_0_relu (Activ  (None, 56, 56, 224)          0         ['conv2_block6_0_bn[0][0]']   \n",
      " ation)                                                                                           \n",
      "                                                                                                  \n",
      " conv2_block6_1_conv (Conv2  (None, 56, 56, 128)          28672     ['conv2_block6_0_relu[0][0]'] \n",
      " D)                                                                                               \n",
      "                                                                                                  \n",
      " conv2_block6_1_bn (BatchNo  (None, 56, 56, 128)          512       ['conv2_block6_1_conv[0][0]'] \n",
      " rmalization)                                                                                     \n",
      "                                                                                                  \n",
      " conv2_block6_1_relu (Activ  (None, 56, 56, 128)          0         ['conv2_block6_1_bn[0][0]']   \n",
      " ation)                                                                                           \n",
      "                                                                                                  \n",
      " conv2_block6_2_conv (Conv2  (None, 56, 56, 32)           36864     ['conv2_block6_1_relu[0][0]'] \n",
      " D)                                                                                               \n",
      "                                                                                                  \n",
      " conv2_block6_concat (Conca  (None, 56, 56, 256)          0         ['conv2_block5_concat[0][0]', \n",
      " tenate)                                                             'conv2_block6_2_conv[0][0]'] \n",
      "                                                                                                  \n",
      " pool2_bn (BatchNormalizati  (None, 56, 56, 256)          1024      ['conv2_block6_concat[0][0]'] \n",
      " on)                                                                                              \n",
      "                                                                                                  \n",
      " pool2_relu (Activation)     (None, 56, 56, 256)          0         ['pool2_bn[0][0]']            \n",
      "                                                                                                  \n",
      " pool2_conv (Conv2D)         (None, 56, 56, 128)          32768     ['pool2_relu[0][0]']          \n",
      "                                                                                                  \n",
      " pool2_pool (AveragePooling  (None, 28, 28, 128)          0         ['pool2_conv[0][0]']          \n",
      " 2D)                                                                                              \n",
      "                                                                                                  \n",
      " conv3_block1_0_bn (BatchNo  (None, 28, 28, 128)          512       ['pool2_pool[0][0]']          \n",
      " rmalization)                                                                                     \n",
      "                                                                                                  \n",
      " conv3_block1_0_relu (Activ  (None, 28, 28, 128)          0         ['conv3_block1_0_bn[0][0]']   \n",
      " ation)                                                                                           \n",
      "                                                                                                  \n",
      " conv3_block1_1_conv (Conv2  (None, 28, 28, 128)          16384     ['conv3_block1_0_relu[0][0]'] \n",
      " D)                                                                                               \n",
      "                                                                                                  \n",
      " conv3_block1_1_bn (BatchNo  (None, 28, 28, 128)          512       ['conv3_block1_1_conv[0][0]'] \n"
     ]
    },
    {
     "name": "stdout",
     "output_type": "stream",
     "text": [
      " rmalization)                                                                                     \n",
      "                                                                                                  \n",
      " conv3_block1_1_relu (Activ  (None, 28, 28, 128)          0         ['conv3_block1_1_bn[0][0]']   \n",
      " ation)                                                                                           \n",
      "                                                                                                  \n",
      " conv3_block1_2_conv (Conv2  (None, 28, 28, 32)           36864     ['conv3_block1_1_relu[0][0]'] \n",
      " D)                                                                                               \n",
      "                                                                                                  \n",
      " conv3_block1_concat (Conca  (None, 28, 28, 160)          0         ['pool2_pool[0][0]',          \n",
      " tenate)                                                             'conv3_block1_2_conv[0][0]'] \n",
      "                                                                                                  \n",
      " conv3_block2_0_bn (BatchNo  (None, 28, 28, 160)          640       ['conv3_block1_concat[0][0]'] \n",
      " rmalization)                                                                                     \n",
      "                                                                                                  \n",
      " conv3_block2_0_relu (Activ  (None, 28, 28, 160)          0         ['conv3_block2_0_bn[0][0]']   \n",
      " ation)                                                                                           \n",
      "                                                                                                  \n",
      " conv3_block2_1_conv (Conv2  (None, 28, 28, 128)          20480     ['conv3_block2_0_relu[0][0]'] \n",
      " D)                                                                                               \n",
      "                                                                                                  \n",
      " conv3_block2_1_bn (BatchNo  (None, 28, 28, 128)          512       ['conv3_block2_1_conv[0][0]'] \n",
      " rmalization)                                                                                     \n",
      "                                                                                                  \n",
      " conv3_block2_1_relu (Activ  (None, 28, 28, 128)          0         ['conv3_block2_1_bn[0][0]']   \n",
      " ation)                                                                                           \n",
      "                                                                                                  \n",
      " conv3_block2_2_conv (Conv2  (None, 28, 28, 32)           36864     ['conv3_block2_1_relu[0][0]'] \n",
      " D)                                                                                               \n",
      "                                                                                                  \n",
      " conv3_block2_concat (Conca  (None, 28, 28, 192)          0         ['conv3_block1_concat[0][0]', \n",
      " tenate)                                                             'conv3_block2_2_conv[0][0]'] \n",
      "                                                                                                  \n",
      " conv3_block3_0_bn (BatchNo  (None, 28, 28, 192)          768       ['conv3_block2_concat[0][0]'] \n",
      " rmalization)                                                                                     \n",
      "                                                                                                  \n",
      " conv3_block3_0_relu (Activ  (None, 28, 28, 192)          0         ['conv3_block3_0_bn[0][0]']   \n",
      " ation)                                                                                           \n",
      "                                                                                                  \n",
      " conv3_block3_1_conv (Conv2  (None, 28, 28, 128)          24576     ['conv3_block3_0_relu[0][0]'] \n",
      " D)                                                                                               \n",
      "                                                                                                  \n",
      " conv3_block3_1_bn (BatchNo  (None, 28, 28, 128)          512       ['conv3_block3_1_conv[0][0]'] \n",
      " rmalization)                                                                                     \n",
      "                                                                                                  \n",
      " conv3_block3_1_relu (Activ  (None, 28, 28, 128)          0         ['conv3_block3_1_bn[0][0]']   \n",
      " ation)                                                                                           \n",
      "                                                                                                  \n",
      " conv3_block3_2_conv (Conv2  (None, 28, 28, 32)           36864     ['conv3_block3_1_relu[0][0]'] \n",
      " D)                                                                                               \n",
      "                                                                                                  \n",
      " conv3_block3_concat (Conca  (None, 28, 28, 224)          0         ['conv3_block2_concat[0][0]', \n",
      " tenate)                                                             'conv3_block3_2_conv[0][0]'] \n",
      "                                                                                                  \n",
      " conv3_block4_0_bn (BatchNo  (None, 28, 28, 224)          896       ['conv3_block3_concat[0][0]'] \n",
      " rmalization)                                                                                     \n",
      "                                                                                                  \n",
      " conv3_block4_0_relu (Activ  (None, 28, 28, 224)          0         ['conv3_block4_0_bn[0][0]']   \n",
      " ation)                                                                                           \n",
      "                                                                                                  \n",
      " conv3_block4_1_conv (Conv2  (None, 28, 28, 128)          28672     ['conv3_block4_0_relu[0][0]'] \n",
      " D)                                                                                               \n",
      "                                                                                                  \n",
      " conv3_block4_1_bn (BatchNo  (None, 28, 28, 128)          512       ['conv3_block4_1_conv[0][0]'] \n",
      " rmalization)                                                                                     \n",
      "                                                                                                  \n",
      " conv3_block4_1_relu (Activ  (None, 28, 28, 128)          0         ['conv3_block4_1_bn[0][0]']   \n",
      " ation)                                                                                           \n",
      "                                                                                                  \n",
      " conv3_block4_2_conv (Conv2  (None, 28, 28, 32)           36864     ['conv3_block4_1_relu[0][0]'] \n",
      " D)                                                                                               \n",
      "                                                                                                  \n",
      " conv3_block4_concat (Conca  (None, 28, 28, 256)          0         ['conv3_block3_concat[0][0]', \n",
      " tenate)                                                             'conv3_block4_2_conv[0][0]'] \n",
      "                                                                                                  \n",
      " conv3_block5_0_bn (BatchNo  (None, 28, 28, 256)          1024      ['conv3_block4_concat[0][0]'] \n",
      " rmalization)                                                                                     \n",
      "                                                                                                  \n",
      " conv3_block5_0_relu (Activ  (None, 28, 28, 256)          0         ['conv3_block5_0_bn[0][0]']   \n",
      " ation)                                                                                           \n",
      "                                                                                                  \n",
      " conv3_block5_1_conv (Conv2  (None, 28, 28, 128)          32768     ['conv3_block5_0_relu[0][0]'] \n",
      " D)                                                                                               \n",
      "                                                                                                  \n"
     ]
    },
    {
     "name": "stdout",
     "output_type": "stream",
     "text": [
      " conv3_block5_1_bn (BatchNo  (None, 28, 28, 128)          512       ['conv3_block5_1_conv[0][0]'] \n",
      " rmalization)                                                                                     \n",
      "                                                                                                  \n",
      " conv3_block5_1_relu (Activ  (None, 28, 28, 128)          0         ['conv3_block5_1_bn[0][0]']   \n",
      " ation)                                                                                           \n",
      "                                                                                                  \n",
      " conv3_block5_2_conv (Conv2  (None, 28, 28, 32)           36864     ['conv3_block5_1_relu[0][0]'] \n",
      " D)                                                                                               \n",
      "                                                                                                  \n",
      " conv3_block5_concat (Conca  (None, 28, 28, 288)          0         ['conv3_block4_concat[0][0]', \n",
      " tenate)                                                             'conv3_block5_2_conv[0][0]'] \n",
      "                                                                                                  \n",
      " conv3_block6_0_bn (BatchNo  (None, 28, 28, 288)          1152      ['conv3_block5_concat[0][0]'] \n",
      " rmalization)                                                                                     \n",
      "                                                                                                  \n",
      " conv3_block6_0_relu (Activ  (None, 28, 28, 288)          0         ['conv3_block6_0_bn[0][0]']   \n",
      " ation)                                                                                           \n",
      "                                                                                                  \n",
      " conv3_block6_1_conv (Conv2  (None, 28, 28, 128)          36864     ['conv3_block6_0_relu[0][0]'] \n",
      " D)                                                                                               \n",
      "                                                                                                  \n",
      " conv3_block6_1_bn (BatchNo  (None, 28, 28, 128)          512       ['conv3_block6_1_conv[0][0]'] \n",
      " rmalization)                                                                                     \n",
      "                                                                                                  \n",
      " conv3_block6_1_relu (Activ  (None, 28, 28, 128)          0         ['conv3_block6_1_bn[0][0]']   \n",
      " ation)                                                                                           \n",
      "                                                                                                  \n",
      " conv3_block6_2_conv (Conv2  (None, 28, 28, 32)           36864     ['conv3_block6_1_relu[0][0]'] \n",
      " D)                                                                                               \n",
      "                                                                                                  \n",
      " conv3_block6_concat (Conca  (None, 28, 28, 320)          0         ['conv3_block5_concat[0][0]', \n",
      " tenate)                                                             'conv3_block6_2_conv[0][0]'] \n",
      "                                                                                                  \n",
      " conv3_block7_0_bn (BatchNo  (None, 28, 28, 320)          1280      ['conv3_block6_concat[0][0]'] \n",
      " rmalization)                                                                                     \n",
      "                                                                                                  \n",
      " conv3_block7_0_relu (Activ  (None, 28, 28, 320)          0         ['conv3_block7_0_bn[0][0]']   \n",
      " ation)                                                                                           \n",
      "                                                                                                  \n",
      " conv3_block7_1_conv (Conv2  (None, 28, 28, 128)          40960     ['conv3_block7_0_relu[0][0]'] \n",
      " D)                                                                                               \n",
      "                                                                                                  \n",
      " conv3_block7_1_bn (BatchNo  (None, 28, 28, 128)          512       ['conv3_block7_1_conv[0][0]'] \n",
      " rmalization)                                                                                     \n",
      "                                                                                                  \n",
      " conv3_block7_1_relu (Activ  (None, 28, 28, 128)          0         ['conv3_block7_1_bn[0][0]']   \n",
      " ation)                                                                                           \n",
      "                                                                                                  \n",
      " conv3_block7_2_conv (Conv2  (None, 28, 28, 32)           36864     ['conv3_block7_1_relu[0][0]'] \n",
      " D)                                                                                               \n",
      "                                                                                                  \n",
      " conv3_block7_concat (Conca  (None, 28, 28, 352)          0         ['conv3_block6_concat[0][0]', \n",
      " tenate)                                                             'conv3_block7_2_conv[0][0]'] \n",
      "                                                                                                  \n",
      " conv3_block8_0_bn (BatchNo  (None, 28, 28, 352)          1408      ['conv3_block7_concat[0][0]'] \n",
      " rmalization)                                                                                     \n",
      "                                                                                                  \n",
      " conv3_block8_0_relu (Activ  (None, 28, 28, 352)          0         ['conv3_block8_0_bn[0][0]']   \n",
      " ation)                                                                                           \n",
      "                                                                                                  \n",
      " conv3_block8_1_conv (Conv2  (None, 28, 28, 128)          45056     ['conv3_block8_0_relu[0][0]'] \n",
      " D)                                                                                               \n",
      "                                                                                                  \n",
      " conv3_block8_1_bn (BatchNo  (None, 28, 28, 128)          512       ['conv3_block8_1_conv[0][0]'] \n",
      " rmalization)                                                                                     \n",
      "                                                                                                  \n",
      " conv3_block8_1_relu (Activ  (None, 28, 28, 128)          0         ['conv3_block8_1_bn[0][0]']   \n",
      " ation)                                                                                           \n",
      "                                                                                                  \n",
      " conv3_block8_2_conv (Conv2  (None, 28, 28, 32)           36864     ['conv3_block8_1_relu[0][0]'] \n",
      " D)                                                                                               \n",
      "                                                                                                  \n",
      " conv3_block8_concat (Conca  (None, 28, 28, 384)          0         ['conv3_block7_concat[0][0]', \n",
      " tenate)                                                             'conv3_block8_2_conv[0][0]'] \n",
      "                                                                                                  \n",
      " conv3_block9_0_bn (BatchNo  (None, 28, 28, 384)          1536      ['conv3_block8_concat[0][0]'] \n",
      " rmalization)                                                                                     \n",
      "                                                                                                  \n",
      " conv3_block9_0_relu (Activ  (None, 28, 28, 384)          0         ['conv3_block9_0_bn[0][0]']   \n",
      " ation)                                                                                           \n",
      "                                                                                                  \n",
      " conv3_block9_1_conv (Conv2  (None, 28, 28, 128)          49152     ['conv3_block9_0_relu[0][0]'] \n",
      " D)                                                                                               \n"
     ]
    },
    {
     "name": "stdout",
     "output_type": "stream",
     "text": [
      "                                                                                                  \n",
      " conv3_block9_1_bn (BatchNo  (None, 28, 28, 128)          512       ['conv3_block9_1_conv[0][0]'] \n",
      " rmalization)                                                                                     \n",
      "                                                                                                  \n",
      " conv3_block9_1_relu (Activ  (None, 28, 28, 128)          0         ['conv3_block9_1_bn[0][0]']   \n",
      " ation)                                                                                           \n",
      "                                                                                                  \n",
      " conv3_block9_2_conv (Conv2  (None, 28, 28, 32)           36864     ['conv3_block9_1_relu[0][0]'] \n",
      " D)                                                                                               \n",
      "                                                                                                  \n",
      " conv3_block9_concat (Conca  (None, 28, 28, 416)          0         ['conv3_block8_concat[0][0]', \n",
      " tenate)                                                             'conv3_block9_2_conv[0][0]'] \n",
      "                                                                                                  \n",
      " conv3_block10_0_bn (BatchN  (None, 28, 28, 416)          1664      ['conv3_block9_concat[0][0]'] \n",
      " ormalization)                                                                                    \n",
      "                                                                                                  \n",
      " conv3_block10_0_relu (Acti  (None, 28, 28, 416)          0         ['conv3_block10_0_bn[0][0]']  \n",
      " vation)                                                                                          \n",
      "                                                                                                  \n",
      " conv3_block10_1_conv (Conv  (None, 28, 28, 128)          53248     ['conv3_block10_0_relu[0][0]']\n",
      " 2D)                                                                                              \n",
      "                                                                                                  \n",
      " conv3_block10_1_bn (BatchN  (None, 28, 28, 128)          512       ['conv3_block10_1_conv[0][0]']\n",
      " ormalization)                                                                                    \n",
      "                                                                                                  \n",
      " conv3_block10_1_relu (Acti  (None, 28, 28, 128)          0         ['conv3_block10_1_bn[0][0]']  \n",
      " vation)                                                                                          \n",
      "                                                                                                  \n",
      " conv3_block10_2_conv (Conv  (None, 28, 28, 32)           36864     ['conv3_block10_1_relu[0][0]']\n",
      " 2D)                                                                                              \n",
      "                                                                                                  \n",
      " conv3_block10_concat (Conc  (None, 28, 28, 448)          0         ['conv3_block9_concat[0][0]', \n",
      " atenate)                                                            'conv3_block10_2_conv[0][0]']\n",
      "                                                                                                  \n",
      " conv3_block11_0_bn (BatchN  (None, 28, 28, 448)          1792      ['conv3_block10_concat[0][0]']\n",
      " ormalization)                                                                                    \n",
      "                                                                                                  \n",
      " conv3_block11_0_relu (Acti  (None, 28, 28, 448)          0         ['conv3_block11_0_bn[0][0]']  \n",
      " vation)                                                                                          \n",
      "                                                                                                  \n",
      " conv3_block11_1_conv (Conv  (None, 28, 28, 128)          57344     ['conv3_block11_0_relu[0][0]']\n",
      " 2D)                                                                                              \n",
      "                                                                                                  \n",
      " conv3_block11_1_bn (BatchN  (None, 28, 28, 128)          512       ['conv3_block11_1_conv[0][0]']\n",
      " ormalization)                                                                                    \n",
      "                                                                                                  \n",
      " conv3_block11_1_relu (Acti  (None, 28, 28, 128)          0         ['conv3_block11_1_bn[0][0]']  \n",
      " vation)                                                                                          \n",
      "                                                                                                  \n",
      " conv3_block11_2_conv (Conv  (None, 28, 28, 32)           36864     ['conv3_block11_1_relu[0][0]']\n",
      " 2D)                                                                                              \n",
      "                                                                                                  \n",
      " conv3_block11_concat (Conc  (None, 28, 28, 480)          0         ['conv3_block10_concat[0][0]',\n",
      " atenate)                                                            'conv3_block11_2_conv[0][0]']\n",
      "                                                                                                  \n",
      " conv3_block12_0_bn (BatchN  (None, 28, 28, 480)          1920      ['conv3_block11_concat[0][0]']\n",
      " ormalization)                                                                                    \n",
      "                                                                                                  \n",
      " conv3_block12_0_relu (Acti  (None, 28, 28, 480)          0         ['conv3_block12_0_bn[0][0]']  \n",
      " vation)                                                                                          \n",
      "                                                                                                  \n",
      " conv3_block12_1_conv (Conv  (None, 28, 28, 128)          61440     ['conv3_block12_0_relu[0][0]']\n",
      " 2D)                                                                                              \n",
      "                                                                                                  \n",
      " conv3_block12_1_bn (BatchN  (None, 28, 28, 128)          512       ['conv3_block12_1_conv[0][0]']\n",
      " ormalization)                                                                                    \n",
      "                                                                                                  \n",
      " conv3_block12_1_relu (Acti  (None, 28, 28, 128)          0         ['conv3_block12_1_bn[0][0]']  \n",
      " vation)                                                                                          \n",
      "                                                                                                  \n",
      " conv3_block12_2_conv (Conv  (None, 28, 28, 32)           36864     ['conv3_block12_1_relu[0][0]']\n",
      " 2D)                                                                                              \n",
      "                                                                                                  \n",
      " conv3_block12_concat (Conc  (None, 28, 28, 512)          0         ['conv3_block11_concat[0][0]',\n",
      " atenate)                                                            'conv3_block12_2_conv[0][0]']\n",
      "                                                                                                  \n",
      " pool3_bn (BatchNormalizati  (None, 28, 28, 512)          2048      ['conv3_block12_concat[0][0]']\n",
      " on)                                                                                              \n",
      "                                                                                                  \n",
      " pool3_relu (Activation)     (None, 28, 28, 512)          0         ['pool3_bn[0][0]']            \n",
      "                                                                                                  \n",
      " pool3_conv (Conv2D)         (None, 28, 28, 256)          131072    ['pool3_relu[0][0]']          \n",
      "                                                                                                  \n"
     ]
    },
    {
     "name": "stdout",
     "output_type": "stream",
     "text": [
      " pool3_pool (AveragePooling  (None, 14, 14, 256)          0         ['pool3_conv[0][0]']          \n",
      " 2D)                                                                                              \n",
      "                                                                                                  \n",
      " conv4_block1_0_bn (BatchNo  (None, 14, 14, 256)          1024      ['pool3_pool[0][0]']          \n",
      " rmalization)                                                                                     \n",
      "                                                                                                  \n",
      " conv4_block1_0_relu (Activ  (None, 14, 14, 256)          0         ['conv4_block1_0_bn[0][0]']   \n",
      " ation)                                                                                           \n",
      "                                                                                                  \n",
      " conv4_block1_1_conv (Conv2  (None, 14, 14, 128)          32768     ['conv4_block1_0_relu[0][0]'] \n",
      " D)                                                                                               \n",
      "                                                                                                  \n",
      " conv4_block1_1_bn (BatchNo  (None, 14, 14, 128)          512       ['conv4_block1_1_conv[0][0]'] \n",
      " rmalization)                                                                                     \n",
      "                                                                                                  \n",
      " conv4_block1_1_relu (Activ  (None, 14, 14, 128)          0         ['conv4_block1_1_bn[0][0]']   \n",
      " ation)                                                                                           \n",
      "                                                                                                  \n",
      " conv4_block1_2_conv (Conv2  (None, 14, 14, 32)           36864     ['conv4_block1_1_relu[0][0]'] \n",
      " D)                                                                                               \n",
      "                                                                                                  \n",
      " conv4_block1_concat (Conca  (None, 14, 14, 288)          0         ['pool3_pool[0][0]',          \n",
      " tenate)                                                             'conv4_block1_2_conv[0][0]'] \n",
      "                                                                                                  \n",
      " conv4_block2_0_bn (BatchNo  (None, 14, 14, 288)          1152      ['conv4_block1_concat[0][0]'] \n",
      " rmalization)                                                                                     \n",
      "                                                                                                  \n",
      " conv4_block2_0_relu (Activ  (None, 14, 14, 288)          0         ['conv4_block2_0_bn[0][0]']   \n",
      " ation)                                                                                           \n",
      "                                                                                                  \n",
      " conv4_block2_1_conv (Conv2  (None, 14, 14, 128)          36864     ['conv4_block2_0_relu[0][0]'] \n",
      " D)                                                                                               \n",
      "                                                                                                  \n",
      " conv4_block2_1_bn (BatchNo  (None, 14, 14, 128)          512       ['conv4_block2_1_conv[0][0]'] \n",
      " rmalization)                                                                                     \n",
      "                                                                                                  \n",
      " conv4_block2_1_relu (Activ  (None, 14, 14, 128)          0         ['conv4_block2_1_bn[0][0]']   \n",
      " ation)                                                                                           \n",
      "                                                                                                  \n",
      " conv4_block2_2_conv (Conv2  (None, 14, 14, 32)           36864     ['conv4_block2_1_relu[0][0]'] \n",
      " D)                                                                                               \n",
      "                                                                                                  \n",
      " conv4_block2_concat (Conca  (None, 14, 14, 320)          0         ['conv4_block1_concat[0][0]', \n",
      " tenate)                                                             'conv4_block2_2_conv[0][0]'] \n",
      "                                                                                                  \n",
      " conv4_block3_0_bn (BatchNo  (None, 14, 14, 320)          1280      ['conv4_block2_concat[0][0]'] \n",
      " rmalization)                                                                                     \n",
      "                                                                                                  \n",
      " conv4_block3_0_relu (Activ  (None, 14, 14, 320)          0         ['conv4_block3_0_bn[0][0]']   \n",
      " ation)                                                                                           \n",
      "                                                                                                  \n",
      " conv4_block3_1_conv (Conv2  (None, 14, 14, 128)          40960     ['conv4_block3_0_relu[0][0]'] \n",
      " D)                                                                                               \n",
      "                                                                                                  \n",
      " conv4_block3_1_bn (BatchNo  (None, 14, 14, 128)          512       ['conv4_block3_1_conv[0][0]'] \n",
      " rmalization)                                                                                     \n",
      "                                                                                                  \n",
      " conv4_block3_1_relu (Activ  (None, 14, 14, 128)          0         ['conv4_block3_1_bn[0][0]']   \n",
      " ation)                                                                                           \n",
      "                                                                                                  \n",
      " conv4_block3_2_conv (Conv2  (None, 14, 14, 32)           36864     ['conv4_block3_1_relu[0][0]'] \n",
      " D)                                                                                               \n",
      "                                                                                                  \n",
      " conv4_block3_concat (Conca  (None, 14, 14, 352)          0         ['conv4_block2_concat[0][0]', \n",
      " tenate)                                                             'conv4_block3_2_conv[0][0]'] \n",
      "                                                                                                  \n",
      " conv4_block4_0_bn (BatchNo  (None, 14, 14, 352)          1408      ['conv4_block3_concat[0][0]'] \n",
      " rmalization)                                                                                     \n",
      "                                                                                                  \n",
      " conv4_block4_0_relu (Activ  (None, 14, 14, 352)          0         ['conv4_block4_0_bn[0][0]']   \n",
      " ation)                                                                                           \n",
      "                                                                                                  \n",
      " conv4_block4_1_conv (Conv2  (None, 14, 14, 128)          45056     ['conv4_block4_0_relu[0][0]'] \n",
      " D)                                                                                               \n",
      "                                                                                                  \n",
      " conv4_block4_1_bn (BatchNo  (None, 14, 14, 128)          512       ['conv4_block4_1_conv[0][0]'] \n",
      " rmalization)                                                                                     \n",
      "                                                                                                  \n",
      " conv4_block4_1_relu (Activ  (None, 14, 14, 128)          0         ['conv4_block4_1_bn[0][0]']   \n",
      " ation)                                                                                           \n",
      "                                                                                                  \n",
      " conv4_block4_2_conv (Conv2  (None, 14, 14, 32)           36864     ['conv4_block4_1_relu[0][0]'] \n",
      " D)                                                                                               \n"
     ]
    },
    {
     "name": "stdout",
     "output_type": "stream",
     "text": [
      "                                                                                                  \n",
      " conv4_block4_concat (Conca  (None, 14, 14, 384)          0         ['conv4_block3_concat[0][0]', \n",
      " tenate)                                                             'conv4_block4_2_conv[0][0]'] \n",
      "                                                                                                  \n",
      " conv4_block5_0_bn (BatchNo  (None, 14, 14, 384)          1536      ['conv4_block4_concat[0][0]'] \n",
      " rmalization)                                                                                     \n",
      "                                                                                                  \n",
      " conv4_block5_0_relu (Activ  (None, 14, 14, 384)          0         ['conv4_block5_0_bn[0][0]']   \n",
      " ation)                                                                                           \n",
      "                                                                                                  \n",
      " conv4_block5_1_conv (Conv2  (None, 14, 14, 128)          49152     ['conv4_block5_0_relu[0][0]'] \n",
      " D)                                                                                               \n",
      "                                                                                                  \n",
      " conv4_block5_1_bn (BatchNo  (None, 14, 14, 128)          512       ['conv4_block5_1_conv[0][0]'] \n",
      " rmalization)                                                                                     \n",
      "                                                                                                  \n",
      " conv4_block5_1_relu (Activ  (None, 14, 14, 128)          0         ['conv4_block5_1_bn[0][0]']   \n",
      " ation)                                                                                           \n",
      "                                                                                                  \n",
      " conv4_block5_2_conv (Conv2  (None, 14, 14, 32)           36864     ['conv4_block5_1_relu[0][0]'] \n",
      " D)                                                                                               \n",
      "                                                                                                  \n",
      " conv4_block5_concat (Conca  (None, 14, 14, 416)          0         ['conv4_block4_concat[0][0]', \n",
      " tenate)                                                             'conv4_block5_2_conv[0][0]'] \n",
      "                                                                                                  \n",
      " conv4_block6_0_bn (BatchNo  (None, 14, 14, 416)          1664      ['conv4_block5_concat[0][0]'] \n",
      " rmalization)                                                                                     \n",
      "                                                                                                  \n",
      " conv4_block6_0_relu (Activ  (None, 14, 14, 416)          0         ['conv4_block6_0_bn[0][0]']   \n",
      " ation)                                                                                           \n",
      "                                                                                                  \n",
      " conv4_block6_1_conv (Conv2  (None, 14, 14, 128)          53248     ['conv4_block6_0_relu[0][0]'] \n",
      " D)                                                                                               \n",
      "                                                                                                  \n",
      " conv4_block6_1_bn (BatchNo  (None, 14, 14, 128)          512       ['conv4_block6_1_conv[0][0]'] \n",
      " rmalization)                                                                                     \n",
      "                                                                                                  \n",
      " conv4_block6_1_relu (Activ  (None, 14, 14, 128)          0         ['conv4_block6_1_bn[0][0]']   \n",
      " ation)                                                                                           \n",
      "                                                                                                  \n",
      " conv4_block6_2_conv (Conv2  (None, 14, 14, 32)           36864     ['conv4_block6_1_relu[0][0]'] \n",
      " D)                                                                                               \n",
      "                                                                                                  \n",
      " conv4_block6_concat (Conca  (None, 14, 14, 448)          0         ['conv4_block5_concat[0][0]', \n",
      " tenate)                                                             'conv4_block6_2_conv[0][0]'] \n",
      "                                                                                                  \n",
      " conv4_block7_0_bn (BatchNo  (None, 14, 14, 448)          1792      ['conv4_block6_concat[0][0]'] \n",
      " rmalization)                                                                                     \n",
      "                                                                                                  \n",
      " conv4_block7_0_relu (Activ  (None, 14, 14, 448)          0         ['conv4_block7_0_bn[0][0]']   \n",
      " ation)                                                                                           \n",
      "                                                                                                  \n",
      " conv4_block7_1_conv (Conv2  (None, 14, 14, 128)          57344     ['conv4_block7_0_relu[0][0]'] \n",
      " D)                                                                                               \n",
      "                                                                                                  \n",
      " conv4_block7_1_bn (BatchNo  (None, 14, 14, 128)          512       ['conv4_block7_1_conv[0][0]'] \n",
      " rmalization)                                                                                     \n",
      "                                                                                                  \n",
      " conv4_block7_1_relu (Activ  (None, 14, 14, 128)          0         ['conv4_block7_1_bn[0][0]']   \n",
      " ation)                                                                                           \n",
      "                                                                                                  \n",
      " conv4_block7_2_conv (Conv2  (None, 14, 14, 32)           36864     ['conv4_block7_1_relu[0][0]'] \n",
      " D)                                                                                               \n",
      "                                                                                                  \n",
      " conv4_block7_concat (Conca  (None, 14, 14, 480)          0         ['conv4_block6_concat[0][0]', \n",
      " tenate)                                                             'conv4_block7_2_conv[0][0]'] \n",
      "                                                                                                  \n",
      " conv4_block8_0_bn (BatchNo  (None, 14, 14, 480)          1920      ['conv4_block7_concat[0][0]'] \n",
      " rmalization)                                                                                     \n",
      "                                                                                                  \n",
      " conv4_block8_0_relu (Activ  (None, 14, 14, 480)          0         ['conv4_block8_0_bn[0][0]']   \n",
      " ation)                                                                                           \n",
      "                                                                                                  \n",
      " conv4_block8_1_conv (Conv2  (None, 14, 14, 128)          61440     ['conv4_block8_0_relu[0][0]'] \n",
      " D)                                                                                               \n",
      "                                                                                                  \n",
      " conv4_block8_1_bn (BatchNo  (None, 14, 14, 128)          512       ['conv4_block8_1_conv[0][0]'] \n",
      " rmalization)                                                                                     \n",
      "                                                                                                  \n",
      " conv4_block8_1_relu (Activ  (None, 14, 14, 128)          0         ['conv4_block8_1_bn[0][0]']   \n",
      " ation)                                                                                           \n",
      "                                                                                                  \n",
      " conv4_block8_2_conv (Conv2  (None, 14, 14, 32)           36864     ['conv4_block8_1_relu[0][0]'] \n"
     ]
    },
    {
     "name": "stdout",
     "output_type": "stream",
     "text": [
      " D)                                                                                               \n",
      "                                                                                                  \n",
      " conv4_block8_concat (Conca  (None, 14, 14, 512)          0         ['conv4_block7_concat[0][0]', \n",
      " tenate)                                                             'conv4_block8_2_conv[0][0]'] \n",
      "                                                                                                  \n",
      " conv4_block9_0_bn (BatchNo  (None, 14, 14, 512)          2048      ['conv4_block8_concat[0][0]'] \n",
      " rmalization)                                                                                     \n",
      "                                                                                                  \n",
      " conv4_block9_0_relu (Activ  (None, 14, 14, 512)          0         ['conv4_block9_0_bn[0][0]']   \n",
      " ation)                                                                                           \n",
      "                                                                                                  \n",
      " conv4_block9_1_conv (Conv2  (None, 14, 14, 128)          65536     ['conv4_block9_0_relu[0][0]'] \n",
      " D)                                                                                               \n",
      "                                                                                                  \n",
      " conv4_block9_1_bn (BatchNo  (None, 14, 14, 128)          512       ['conv4_block9_1_conv[0][0]'] \n",
      " rmalization)                                                                                     \n",
      "                                                                                                  \n",
      " conv4_block9_1_relu (Activ  (None, 14, 14, 128)          0         ['conv4_block9_1_bn[0][0]']   \n",
      " ation)                                                                                           \n",
      "                                                                                                  \n",
      " conv4_block9_2_conv (Conv2  (None, 14, 14, 32)           36864     ['conv4_block9_1_relu[0][0]'] \n",
      " D)                                                                                               \n",
      "                                                                                                  \n",
      " conv4_block9_concat (Conca  (None, 14, 14, 544)          0         ['conv4_block8_concat[0][0]', \n",
      " tenate)                                                             'conv4_block9_2_conv[0][0]'] \n",
      "                                                                                                  \n",
      " conv4_block10_0_bn (BatchN  (None, 14, 14, 544)          2176      ['conv4_block9_concat[0][0]'] \n",
      " ormalization)                                                                                    \n",
      "                                                                                                  \n",
      " conv4_block10_0_relu (Acti  (None, 14, 14, 544)          0         ['conv4_block10_0_bn[0][0]']  \n",
      " vation)                                                                                          \n",
      "                                                                                                  \n",
      " conv4_block10_1_conv (Conv  (None, 14, 14, 128)          69632     ['conv4_block10_0_relu[0][0]']\n",
      " 2D)                                                                                              \n",
      "                                                                                                  \n",
      " conv4_block10_1_bn (BatchN  (None, 14, 14, 128)          512       ['conv4_block10_1_conv[0][0]']\n",
      " ormalization)                                                                                    \n",
      "                                                                                                  \n",
      " conv4_block10_1_relu (Acti  (None, 14, 14, 128)          0         ['conv4_block10_1_bn[0][0]']  \n",
      " vation)                                                                                          \n",
      "                                                                                                  \n",
      " conv4_block10_2_conv (Conv  (None, 14, 14, 32)           36864     ['conv4_block10_1_relu[0][0]']\n",
      " 2D)                                                                                              \n",
      "                                                                                                  \n",
      " conv4_block10_concat (Conc  (None, 14, 14, 576)          0         ['conv4_block9_concat[0][0]', \n",
      " atenate)                                                            'conv4_block10_2_conv[0][0]']\n",
      "                                                                                                  \n",
      " conv4_block11_0_bn (BatchN  (None, 14, 14, 576)          2304      ['conv4_block10_concat[0][0]']\n",
      " ormalization)                                                                                    \n",
      "                                                                                                  \n",
      " conv4_block11_0_relu (Acti  (None, 14, 14, 576)          0         ['conv4_block11_0_bn[0][0]']  \n",
      " vation)                                                                                          \n",
      "                                                                                                  \n",
      " conv4_block11_1_conv (Conv  (None, 14, 14, 128)          73728     ['conv4_block11_0_relu[0][0]']\n",
      " 2D)                                                                                              \n",
      "                                                                                                  \n",
      " conv4_block11_1_bn (BatchN  (None, 14, 14, 128)          512       ['conv4_block11_1_conv[0][0]']\n",
      " ormalization)                                                                                    \n",
      "                                                                                                  \n",
      " conv4_block11_1_relu (Acti  (None, 14, 14, 128)          0         ['conv4_block11_1_bn[0][0]']  \n",
      " vation)                                                                                          \n",
      "                                                                                                  \n",
      " conv4_block11_2_conv (Conv  (None, 14, 14, 32)           36864     ['conv4_block11_1_relu[0][0]']\n",
      " 2D)                                                                                              \n",
      "                                                                                                  \n",
      " conv4_block11_concat (Conc  (None, 14, 14, 608)          0         ['conv4_block10_concat[0][0]',\n",
      " atenate)                                                            'conv4_block11_2_conv[0][0]']\n",
      "                                                                                                  \n",
      " conv4_block12_0_bn (BatchN  (None, 14, 14, 608)          2432      ['conv4_block11_concat[0][0]']\n",
      " ormalization)                                                                                    \n",
      "                                                                                                  \n",
      " conv4_block12_0_relu (Acti  (None, 14, 14, 608)          0         ['conv4_block12_0_bn[0][0]']  \n",
      " vation)                                                                                          \n",
      "                                                                                                  \n",
      " conv4_block12_1_conv (Conv  (None, 14, 14, 128)          77824     ['conv4_block12_0_relu[0][0]']\n",
      " 2D)                                                                                              \n",
      "                                                                                                  \n",
      " conv4_block12_1_bn (BatchN  (None, 14, 14, 128)          512       ['conv4_block12_1_conv[0][0]']\n",
      " ormalization)                                                                                    \n",
      "                                                                                                  \n",
      " conv4_block12_1_relu (Acti  (None, 14, 14, 128)          0         ['conv4_block12_1_bn[0][0]']  \n",
      " vation)                                                                                          \n",
      "                                                                                                  \n"
     ]
    },
    {
     "name": "stdout",
     "output_type": "stream",
     "text": [
      " conv4_block12_2_conv (Conv  (None, 14, 14, 32)           36864     ['conv4_block12_1_relu[0][0]']\n",
      " 2D)                                                                                              \n",
      "                                                                                                  \n",
      " conv4_block12_concat (Conc  (None, 14, 14, 640)          0         ['conv4_block11_concat[0][0]',\n",
      " atenate)                                                            'conv4_block12_2_conv[0][0]']\n",
      "                                                                                                  \n",
      " conv4_block13_0_bn (BatchN  (None, 14, 14, 640)          2560      ['conv4_block12_concat[0][0]']\n",
      " ormalization)                                                                                    \n",
      "                                                                                                  \n",
      " conv4_block13_0_relu (Acti  (None, 14, 14, 640)          0         ['conv4_block13_0_bn[0][0]']  \n",
      " vation)                                                                                          \n",
      "                                                                                                  \n",
      " conv4_block13_1_conv (Conv  (None, 14, 14, 128)          81920     ['conv4_block13_0_relu[0][0]']\n",
      " 2D)                                                                                              \n",
      "                                                                                                  \n",
      " conv4_block13_1_bn (BatchN  (None, 14, 14, 128)          512       ['conv4_block13_1_conv[0][0]']\n",
      " ormalization)                                                                                    \n",
      "                                                                                                  \n",
      " conv4_block13_1_relu (Acti  (None, 14, 14, 128)          0         ['conv4_block13_1_bn[0][0]']  \n",
      " vation)                                                                                          \n",
      "                                                                                                  \n",
      " conv4_block13_2_conv (Conv  (None, 14, 14, 32)           36864     ['conv4_block13_1_relu[0][0]']\n",
      " 2D)                                                                                              \n",
      "                                                                                                  \n",
      " conv4_block13_concat (Conc  (None, 14, 14, 672)          0         ['conv4_block12_concat[0][0]',\n",
      " atenate)                                                            'conv4_block13_2_conv[0][0]']\n",
      "                                                                                                  \n",
      " conv4_block14_0_bn (BatchN  (None, 14, 14, 672)          2688      ['conv4_block13_concat[0][0]']\n",
      " ormalization)                                                                                    \n",
      "                                                                                                  \n",
      " conv4_block14_0_relu (Acti  (None, 14, 14, 672)          0         ['conv4_block14_0_bn[0][0]']  \n",
      " vation)                                                                                          \n",
      "                                                                                                  \n",
      " conv4_block14_1_conv (Conv  (None, 14, 14, 128)          86016     ['conv4_block14_0_relu[0][0]']\n",
      " 2D)                                                                                              \n",
      "                                                                                                  \n",
      " conv4_block14_1_bn (BatchN  (None, 14, 14, 128)          512       ['conv4_block14_1_conv[0][0]']\n",
      " ormalization)                                                                                    \n",
      "                                                                                                  \n",
      " conv4_block14_1_relu (Acti  (None, 14, 14, 128)          0         ['conv4_block14_1_bn[0][0]']  \n",
      " vation)                                                                                          \n",
      "                                                                                                  \n",
      " conv4_block14_2_conv (Conv  (None, 14, 14, 32)           36864     ['conv4_block14_1_relu[0][0]']\n",
      " 2D)                                                                                              \n",
      "                                                                                                  \n",
      " conv4_block14_concat (Conc  (None, 14, 14, 704)          0         ['conv4_block13_concat[0][0]',\n",
      " atenate)                                                            'conv4_block14_2_conv[0][0]']\n",
      "                                                                                                  \n",
      " conv4_block15_0_bn (BatchN  (None, 14, 14, 704)          2816      ['conv4_block14_concat[0][0]']\n",
      " ormalization)                                                                                    \n",
      "                                                                                                  \n",
      " conv4_block15_0_relu (Acti  (None, 14, 14, 704)          0         ['conv4_block15_0_bn[0][0]']  \n",
      " vation)                                                                                          \n",
      "                                                                                                  \n",
      " conv4_block15_1_conv (Conv  (None, 14, 14, 128)          90112     ['conv4_block15_0_relu[0][0]']\n",
      " 2D)                                                                                              \n",
      "                                                                                                  \n",
      " conv4_block15_1_bn (BatchN  (None, 14, 14, 128)          512       ['conv4_block15_1_conv[0][0]']\n",
      " ormalization)                                                                                    \n",
      "                                                                                                  \n",
      " conv4_block15_1_relu (Acti  (None, 14, 14, 128)          0         ['conv4_block15_1_bn[0][0]']  \n",
      " vation)                                                                                          \n",
      "                                                                                                  \n",
      " conv4_block15_2_conv (Conv  (None, 14, 14, 32)           36864     ['conv4_block15_1_relu[0][0]']\n",
      " 2D)                                                                                              \n",
      "                                                                                                  \n",
      " conv4_block15_concat (Conc  (None, 14, 14, 736)          0         ['conv4_block14_concat[0][0]',\n",
      " atenate)                                                            'conv4_block15_2_conv[0][0]']\n",
      "                                                                                                  \n",
      " conv4_block16_0_bn (BatchN  (None, 14, 14, 736)          2944      ['conv4_block15_concat[0][0]']\n",
      " ormalization)                                                                                    \n",
      "                                                                                                  \n",
      " conv4_block16_0_relu (Acti  (None, 14, 14, 736)          0         ['conv4_block16_0_bn[0][0]']  \n",
      " vation)                                                                                          \n",
      "                                                                                                  \n",
      " conv4_block16_1_conv (Conv  (None, 14, 14, 128)          94208     ['conv4_block16_0_relu[0][0]']\n",
      " 2D)                                                                                              \n",
      "                                                                                                  \n",
      " conv4_block16_1_bn (BatchN  (None, 14, 14, 128)          512       ['conv4_block16_1_conv[0][0]']\n",
      " ormalization)                                                                                    \n",
      "                                                                                                  \n",
      " conv4_block16_1_relu (Acti  (None, 14, 14, 128)          0         ['conv4_block16_1_bn[0][0]']  \n",
      " vation)                                                                                          \n"
     ]
    },
    {
     "name": "stdout",
     "output_type": "stream",
     "text": [
      "                                                                                                  \n",
      " conv4_block16_2_conv (Conv  (None, 14, 14, 32)           36864     ['conv4_block16_1_relu[0][0]']\n",
      " 2D)                                                                                              \n",
      "                                                                                                  \n",
      " conv4_block16_concat (Conc  (None, 14, 14, 768)          0         ['conv4_block15_concat[0][0]',\n",
      " atenate)                                                            'conv4_block16_2_conv[0][0]']\n",
      "                                                                                                  \n",
      " conv4_block17_0_bn (BatchN  (None, 14, 14, 768)          3072      ['conv4_block16_concat[0][0]']\n",
      " ormalization)                                                                                    \n",
      "                                                                                                  \n",
      " conv4_block17_0_relu (Acti  (None, 14, 14, 768)          0         ['conv4_block17_0_bn[0][0]']  \n",
      " vation)                                                                                          \n",
      "                                                                                                  \n",
      " conv4_block17_1_conv (Conv  (None, 14, 14, 128)          98304     ['conv4_block17_0_relu[0][0]']\n",
      " 2D)                                                                                              \n",
      "                                                                                                  \n",
      " conv4_block17_1_bn (BatchN  (None, 14, 14, 128)          512       ['conv4_block17_1_conv[0][0]']\n",
      " ormalization)                                                                                    \n",
      "                                                                                                  \n",
      " conv4_block17_1_relu (Acti  (None, 14, 14, 128)          0         ['conv4_block17_1_bn[0][0]']  \n",
      " vation)                                                                                          \n",
      "                                                                                                  \n",
      " conv4_block17_2_conv (Conv  (None, 14, 14, 32)           36864     ['conv4_block17_1_relu[0][0]']\n",
      " 2D)                                                                                              \n",
      "                                                                                                  \n",
      " conv4_block17_concat (Conc  (None, 14, 14, 800)          0         ['conv4_block16_concat[0][0]',\n",
      " atenate)                                                            'conv4_block17_2_conv[0][0]']\n",
      "                                                                                                  \n",
      " conv4_block18_0_bn (BatchN  (None, 14, 14, 800)          3200      ['conv4_block17_concat[0][0]']\n",
      " ormalization)                                                                                    \n",
      "                                                                                                  \n",
      " conv4_block18_0_relu (Acti  (None, 14, 14, 800)          0         ['conv4_block18_0_bn[0][0]']  \n",
      " vation)                                                                                          \n",
      "                                                                                                  \n",
      " conv4_block18_1_conv (Conv  (None, 14, 14, 128)          102400    ['conv4_block18_0_relu[0][0]']\n",
      " 2D)                                                                                              \n",
      "                                                                                                  \n",
      " conv4_block18_1_bn (BatchN  (None, 14, 14, 128)          512       ['conv4_block18_1_conv[0][0]']\n",
      " ormalization)                                                                                    \n",
      "                                                                                                  \n",
      " conv4_block18_1_relu (Acti  (None, 14, 14, 128)          0         ['conv4_block18_1_bn[0][0]']  \n",
      " vation)                                                                                          \n",
      "                                                                                                  \n",
      " conv4_block18_2_conv (Conv  (None, 14, 14, 32)           36864     ['conv4_block18_1_relu[0][0]']\n",
      " 2D)                                                                                              \n",
      "                                                                                                  \n",
      " conv4_block18_concat (Conc  (None, 14, 14, 832)          0         ['conv4_block17_concat[0][0]',\n",
      " atenate)                                                            'conv4_block18_2_conv[0][0]']\n",
      "                                                                                                  \n",
      " conv4_block19_0_bn (BatchN  (None, 14, 14, 832)          3328      ['conv4_block18_concat[0][0]']\n",
      " ormalization)                                                                                    \n",
      "                                                                                                  \n",
      " conv4_block19_0_relu (Acti  (None, 14, 14, 832)          0         ['conv4_block19_0_bn[0][0]']  \n",
      " vation)                                                                                          \n",
      "                                                                                                  \n",
      " conv4_block19_1_conv (Conv  (None, 14, 14, 128)          106496    ['conv4_block19_0_relu[0][0]']\n",
      " 2D)                                                                                              \n",
      "                                                                                                  \n",
      " conv4_block19_1_bn (BatchN  (None, 14, 14, 128)          512       ['conv4_block19_1_conv[0][0]']\n",
      " ormalization)                                                                                    \n",
      "                                                                                                  \n",
      " conv4_block19_1_relu (Acti  (None, 14, 14, 128)          0         ['conv4_block19_1_bn[0][0]']  \n",
      " vation)                                                                                          \n",
      "                                                                                                  \n",
      " conv4_block19_2_conv (Conv  (None, 14, 14, 32)           36864     ['conv4_block19_1_relu[0][0]']\n",
      " 2D)                                                                                              \n",
      "                                                                                                  \n",
      " conv4_block19_concat (Conc  (None, 14, 14, 864)          0         ['conv4_block18_concat[0][0]',\n",
      " atenate)                                                            'conv4_block19_2_conv[0][0]']\n",
      "                                                                                                  \n",
      " conv4_block20_0_bn (BatchN  (None, 14, 14, 864)          3456      ['conv4_block19_concat[0][0]']\n",
      " ormalization)                                                                                    \n",
      "                                                                                                  \n",
      " conv4_block20_0_relu (Acti  (None, 14, 14, 864)          0         ['conv4_block20_0_bn[0][0]']  \n",
      " vation)                                                                                          \n",
      "                                                                                                  \n",
      " conv4_block20_1_conv (Conv  (None, 14, 14, 128)          110592    ['conv4_block20_0_relu[0][0]']\n",
      " 2D)                                                                                              \n",
      "                                                                                                  \n",
      " conv4_block20_1_bn (BatchN  (None, 14, 14, 128)          512       ['conv4_block20_1_conv[0][0]']\n",
      " ormalization)                                                                                    \n",
      "                                                                                                  \n",
      " conv4_block20_1_relu (Acti  (None, 14, 14, 128)          0         ['conv4_block20_1_bn[0][0]']  \n"
     ]
    },
    {
     "name": "stdout",
     "output_type": "stream",
     "text": [
      " vation)                                                                                          \n",
      "                                                                                                  \n",
      " conv4_block20_2_conv (Conv  (None, 14, 14, 32)           36864     ['conv4_block20_1_relu[0][0]']\n",
      " 2D)                                                                                              \n",
      "                                                                                                  \n",
      " conv4_block20_concat (Conc  (None, 14, 14, 896)          0         ['conv4_block19_concat[0][0]',\n",
      " atenate)                                                            'conv4_block20_2_conv[0][0]']\n",
      "                                                                                                  \n",
      " conv4_block21_0_bn (BatchN  (None, 14, 14, 896)          3584      ['conv4_block20_concat[0][0]']\n",
      " ormalization)                                                                                    \n",
      "                                                                                                  \n",
      " conv4_block21_0_relu (Acti  (None, 14, 14, 896)          0         ['conv4_block21_0_bn[0][0]']  \n",
      " vation)                                                                                          \n",
      "                                                                                                  \n",
      " conv4_block21_1_conv (Conv  (None, 14, 14, 128)          114688    ['conv4_block21_0_relu[0][0]']\n",
      " 2D)                                                                                              \n",
      "                                                                                                  \n",
      " conv4_block21_1_bn (BatchN  (None, 14, 14, 128)          512       ['conv4_block21_1_conv[0][0]']\n",
      " ormalization)                                                                                    \n",
      "                                                                                                  \n",
      " conv4_block21_1_relu (Acti  (None, 14, 14, 128)          0         ['conv4_block21_1_bn[0][0]']  \n",
      " vation)                                                                                          \n",
      "                                                                                                  \n",
      " conv4_block21_2_conv (Conv  (None, 14, 14, 32)           36864     ['conv4_block21_1_relu[0][0]']\n",
      " 2D)                                                                                              \n",
      "                                                                                                  \n",
      " conv4_block21_concat (Conc  (None, 14, 14, 928)          0         ['conv4_block20_concat[0][0]',\n",
      " atenate)                                                            'conv4_block21_2_conv[0][0]']\n",
      "                                                                                                  \n",
      " conv4_block22_0_bn (BatchN  (None, 14, 14, 928)          3712      ['conv4_block21_concat[0][0]']\n",
      " ormalization)                                                                                    \n",
      "                                                                                                  \n",
      " conv4_block22_0_relu (Acti  (None, 14, 14, 928)          0         ['conv4_block22_0_bn[0][0]']  \n",
      " vation)                                                                                          \n",
      "                                                                                                  \n",
      " conv4_block22_1_conv (Conv  (None, 14, 14, 128)          118784    ['conv4_block22_0_relu[0][0]']\n",
      " 2D)                                                                                              \n",
      "                                                                                                  \n",
      " conv4_block22_1_bn (BatchN  (None, 14, 14, 128)          512       ['conv4_block22_1_conv[0][0]']\n",
      " ormalization)                                                                                    \n",
      "                                                                                                  \n",
      " conv4_block22_1_relu (Acti  (None, 14, 14, 128)          0         ['conv4_block22_1_bn[0][0]']  \n",
      " vation)                                                                                          \n",
      "                                                                                                  \n",
      " conv4_block22_2_conv (Conv  (None, 14, 14, 32)           36864     ['conv4_block22_1_relu[0][0]']\n",
      " 2D)                                                                                              \n",
      "                                                                                                  \n",
      " conv4_block22_concat (Conc  (None, 14, 14, 960)          0         ['conv4_block21_concat[0][0]',\n",
      " atenate)                                                            'conv4_block22_2_conv[0][0]']\n",
      "                                                                                                  \n",
      " conv4_block23_0_bn (BatchN  (None, 14, 14, 960)          3840      ['conv4_block22_concat[0][0]']\n",
      " ormalization)                                                                                    \n",
      "                                                                                                  \n",
      " conv4_block23_0_relu (Acti  (None, 14, 14, 960)          0         ['conv4_block23_0_bn[0][0]']  \n",
      " vation)                                                                                          \n",
      "                                                                                                  \n",
      " conv4_block23_1_conv (Conv  (None, 14, 14, 128)          122880    ['conv4_block23_0_relu[0][0]']\n",
      " 2D)                                                                                              \n",
      "                                                                                                  \n",
      " conv4_block23_1_bn (BatchN  (None, 14, 14, 128)          512       ['conv4_block23_1_conv[0][0]']\n",
      " ormalization)                                                                                    \n",
      "                                                                                                  \n",
      " conv4_block23_1_relu (Acti  (None, 14, 14, 128)          0         ['conv4_block23_1_bn[0][0]']  \n",
      " vation)                                                                                          \n",
      "                                                                                                  \n",
      " conv4_block23_2_conv (Conv  (None, 14, 14, 32)           36864     ['conv4_block23_1_relu[0][0]']\n",
      " 2D)                                                                                              \n",
      "                                                                                                  \n",
      " conv4_block23_concat (Conc  (None, 14, 14, 992)          0         ['conv4_block22_concat[0][0]',\n",
      " atenate)                                                            'conv4_block23_2_conv[0][0]']\n",
      "                                                                                                  \n",
      " conv4_block24_0_bn (BatchN  (None, 14, 14, 992)          3968      ['conv4_block23_concat[0][0]']\n",
      " ormalization)                                                                                    \n",
      "                                                                                                  \n",
      " conv4_block24_0_relu (Acti  (None, 14, 14, 992)          0         ['conv4_block24_0_bn[0][0]']  \n",
      " vation)                                                                                          \n",
      "                                                                                                  \n",
      " conv4_block24_1_conv (Conv  (None, 14, 14, 128)          126976    ['conv4_block24_0_relu[0][0]']\n",
      " 2D)                                                                                              \n",
      "                                                                                                  \n",
      " conv4_block24_1_bn (BatchN  (None, 14, 14, 128)          512       ['conv4_block24_1_conv[0][0]']\n",
      " ormalization)                                                                                    \n",
      "                                                                                                  \n"
     ]
    },
    {
     "name": "stdout",
     "output_type": "stream",
     "text": [
      " conv4_block24_1_relu (Acti  (None, 14, 14, 128)          0         ['conv4_block24_1_bn[0][0]']  \n",
      " vation)                                                                                          \n",
      "                                                                                                  \n",
      " conv4_block24_2_conv (Conv  (None, 14, 14, 32)           36864     ['conv4_block24_1_relu[0][0]']\n",
      " 2D)                                                                                              \n",
      "                                                                                                  \n",
      " conv4_block24_concat (Conc  (None, 14, 14, 1024)         0         ['conv4_block23_concat[0][0]',\n",
      " atenate)                                                            'conv4_block24_2_conv[0][0]']\n",
      "                                                                                                  \n",
      " pool4_bn (BatchNormalizati  (None, 14, 14, 1024)         4096      ['conv4_block24_concat[0][0]']\n",
      " on)                                                                                              \n",
      "                                                                                                  \n",
      " pool4_relu (Activation)     (None, 14, 14, 1024)         0         ['pool4_bn[0][0]']            \n",
      "                                                                                                  \n",
      " pool4_conv (Conv2D)         (None, 14, 14, 512)          524288    ['pool4_relu[0][0]']          \n",
      "                                                                                                  \n",
      " pool4_pool (AveragePooling  (None, 7, 7, 512)            0         ['pool4_conv[0][0]']          \n",
      " 2D)                                                                                              \n",
      "                                                                                                  \n",
      " conv5_block1_0_bn (BatchNo  (None, 7, 7, 512)            2048      ['pool4_pool[0][0]']          \n",
      " rmalization)                                                                                     \n",
      "                                                                                                  \n",
      " conv5_block1_0_relu (Activ  (None, 7, 7, 512)            0         ['conv5_block1_0_bn[0][0]']   \n",
      " ation)                                                                                           \n",
      "                                                                                                  \n",
      " conv5_block1_1_conv (Conv2  (None, 7, 7, 128)            65536     ['conv5_block1_0_relu[0][0]'] \n",
      " D)                                                                                               \n",
      "                                                                                                  \n",
      " conv5_block1_1_bn (BatchNo  (None, 7, 7, 128)            512       ['conv5_block1_1_conv[0][0]'] \n",
      " rmalization)                                                                                     \n",
      "                                                                                                  \n",
      " conv5_block1_1_relu (Activ  (None, 7, 7, 128)            0         ['conv5_block1_1_bn[0][0]']   \n",
      " ation)                                                                                           \n",
      "                                                                                                  \n",
      " conv5_block1_2_conv (Conv2  (None, 7, 7, 32)             36864     ['conv5_block1_1_relu[0][0]'] \n",
      " D)                                                                                               \n",
      "                                                                                                  \n",
      " conv5_block1_concat (Conca  (None, 7, 7, 544)            0         ['pool4_pool[0][0]',          \n",
      " tenate)                                                             'conv5_block1_2_conv[0][0]'] \n",
      "                                                                                                  \n",
      " conv5_block2_0_bn (BatchNo  (None, 7, 7, 544)            2176      ['conv5_block1_concat[0][0]'] \n",
      " rmalization)                                                                                     \n",
      "                                                                                                  \n",
      " conv5_block2_0_relu (Activ  (None, 7, 7, 544)            0         ['conv5_block2_0_bn[0][0]']   \n",
      " ation)                                                                                           \n",
      "                                                                                                  \n",
      " conv5_block2_1_conv (Conv2  (None, 7, 7, 128)            69632     ['conv5_block2_0_relu[0][0]'] \n",
      " D)                                                                                               \n",
      "                                                                                                  \n",
      " conv5_block2_1_bn (BatchNo  (None, 7, 7, 128)            512       ['conv5_block2_1_conv[0][0]'] \n",
      " rmalization)                                                                                     \n",
      "                                                                                                  \n",
      " conv5_block2_1_relu (Activ  (None, 7, 7, 128)            0         ['conv5_block2_1_bn[0][0]']   \n",
      " ation)                                                                                           \n",
      "                                                                                                  \n",
      " conv5_block2_2_conv (Conv2  (None, 7, 7, 32)             36864     ['conv5_block2_1_relu[0][0]'] \n",
      " D)                                                                                               \n",
      "                                                                                                  \n",
      " conv5_block2_concat (Conca  (None, 7, 7, 576)            0         ['conv5_block1_concat[0][0]', \n",
      " tenate)                                                             'conv5_block2_2_conv[0][0]'] \n",
      "                                                                                                  \n",
      " conv5_block3_0_bn (BatchNo  (None, 7, 7, 576)            2304      ['conv5_block2_concat[0][0]'] \n",
      " rmalization)                                                                                     \n",
      "                                                                                                  \n",
      " conv5_block3_0_relu (Activ  (None, 7, 7, 576)            0         ['conv5_block3_0_bn[0][0]']   \n",
      " ation)                                                                                           \n",
      "                                                                                                  \n",
      " conv5_block3_1_conv (Conv2  (None, 7, 7, 128)            73728     ['conv5_block3_0_relu[0][0]'] \n",
      " D)                                                                                               \n",
      "                                                                                                  \n",
      " conv5_block3_1_bn (BatchNo  (None, 7, 7, 128)            512       ['conv5_block3_1_conv[0][0]'] \n",
      " rmalization)                                                                                     \n",
      "                                                                                                  \n",
      " conv5_block3_1_relu (Activ  (None, 7, 7, 128)            0         ['conv5_block3_1_bn[0][0]']   \n",
      " ation)                                                                                           \n",
      "                                                                                                  \n",
      " conv5_block3_2_conv (Conv2  (None, 7, 7, 32)             36864     ['conv5_block3_1_relu[0][0]'] \n",
      " D)                                                                                               \n",
      "                                                                                                  \n",
      " conv5_block3_concat (Conca  (None, 7, 7, 608)            0         ['conv5_block2_concat[0][0]', \n",
      " tenate)                                                             'conv5_block3_2_conv[0][0]'] \n",
      "                                                                                                  \n",
      " conv5_block4_0_bn (BatchNo  (None, 7, 7, 608)            2432      ['conv5_block3_concat[0][0]'] \n"
     ]
    },
    {
     "name": "stdout",
     "output_type": "stream",
     "text": [
      " rmalization)                                                                                     \n",
      "                                                                                                  \n",
      " conv5_block4_0_relu (Activ  (None, 7, 7, 608)            0         ['conv5_block4_0_bn[0][0]']   \n",
      " ation)                                                                                           \n",
      "                                                                                                  \n",
      " conv5_block4_1_conv (Conv2  (None, 7, 7, 128)            77824     ['conv5_block4_0_relu[0][0]'] \n",
      " D)                                                                                               \n",
      "                                                                                                  \n",
      " conv5_block4_1_bn (BatchNo  (None, 7, 7, 128)            512       ['conv5_block4_1_conv[0][0]'] \n",
      " rmalization)                                                                                     \n",
      "                                                                                                  \n",
      " conv5_block4_1_relu (Activ  (None, 7, 7, 128)            0         ['conv5_block4_1_bn[0][0]']   \n",
      " ation)                                                                                           \n",
      "                                                                                                  \n",
      " conv5_block4_2_conv (Conv2  (None, 7, 7, 32)             36864     ['conv5_block4_1_relu[0][0]'] \n",
      " D)                                                                                               \n",
      "                                                                                                  \n",
      " conv5_block4_concat (Conca  (None, 7, 7, 640)            0         ['conv5_block3_concat[0][0]', \n",
      " tenate)                                                             'conv5_block4_2_conv[0][0]'] \n",
      "                                                                                                  \n",
      " conv5_block5_0_bn (BatchNo  (None, 7, 7, 640)            2560      ['conv5_block4_concat[0][0]'] \n",
      " rmalization)                                                                                     \n",
      "                                                                                                  \n",
      " conv5_block5_0_relu (Activ  (None, 7, 7, 640)            0         ['conv5_block5_0_bn[0][0]']   \n",
      " ation)                                                                                           \n",
      "                                                                                                  \n",
      " conv5_block5_1_conv (Conv2  (None, 7, 7, 128)            81920     ['conv5_block5_0_relu[0][0]'] \n",
      " D)                                                                                               \n",
      "                                                                                                  \n",
      " conv5_block5_1_bn (BatchNo  (None, 7, 7, 128)            512       ['conv5_block5_1_conv[0][0]'] \n",
      " rmalization)                                                                                     \n",
      "                                                                                                  \n",
      " conv5_block5_1_relu (Activ  (None, 7, 7, 128)            0         ['conv5_block5_1_bn[0][0]']   \n",
      " ation)                                                                                           \n",
      "                                                                                                  \n",
      " conv5_block5_2_conv (Conv2  (None, 7, 7, 32)             36864     ['conv5_block5_1_relu[0][0]'] \n",
      " D)                                                                                               \n",
      "                                                                                                  \n",
      " conv5_block5_concat (Conca  (None, 7, 7, 672)            0         ['conv5_block4_concat[0][0]', \n",
      " tenate)                                                             'conv5_block5_2_conv[0][0]'] \n",
      "                                                                                                  \n",
      " conv5_block6_0_bn (BatchNo  (None, 7, 7, 672)            2688      ['conv5_block5_concat[0][0]'] \n",
      " rmalization)                                                                                     \n",
      "                                                                                                  \n",
      " conv5_block6_0_relu (Activ  (None, 7, 7, 672)            0         ['conv5_block6_0_bn[0][0]']   \n",
      " ation)                                                                                           \n",
      "                                                                                                  \n",
      " conv5_block6_1_conv (Conv2  (None, 7, 7, 128)            86016     ['conv5_block6_0_relu[0][0]'] \n",
      " D)                                                                                               \n",
      "                                                                                                  \n",
      " conv5_block6_1_bn (BatchNo  (None, 7, 7, 128)            512       ['conv5_block6_1_conv[0][0]'] \n",
      " rmalization)                                                                                     \n",
      "                                                                                                  \n",
      " conv5_block6_1_relu (Activ  (None, 7, 7, 128)            0         ['conv5_block6_1_bn[0][0]']   \n",
      " ation)                                                                                           \n",
      "                                                                                                  \n",
      " conv5_block6_2_conv (Conv2  (None, 7, 7, 32)             36864     ['conv5_block6_1_relu[0][0]'] \n",
      " D)                                                                                               \n",
      "                                                                                                  \n",
      " conv5_block6_concat (Conca  (None, 7, 7, 704)            0         ['conv5_block5_concat[0][0]', \n",
      " tenate)                                                             'conv5_block6_2_conv[0][0]'] \n",
      "                                                                                                  \n",
      " conv5_block7_0_bn (BatchNo  (None, 7, 7, 704)            2816      ['conv5_block6_concat[0][0]'] \n",
      " rmalization)                                                                                     \n",
      "                                                                                                  \n",
      " conv5_block7_0_relu (Activ  (None, 7, 7, 704)            0         ['conv5_block7_0_bn[0][0]']   \n",
      " ation)                                                                                           \n",
      "                                                                                                  \n",
      " conv5_block7_1_conv (Conv2  (None, 7, 7, 128)            90112     ['conv5_block7_0_relu[0][0]'] \n",
      " D)                                                                                               \n",
      "                                                                                                  \n",
      " conv5_block7_1_bn (BatchNo  (None, 7, 7, 128)            512       ['conv5_block7_1_conv[0][0]'] \n",
      " rmalization)                                                                                     \n",
      "                                                                                                  \n",
      " conv5_block7_1_relu (Activ  (None, 7, 7, 128)            0         ['conv5_block7_1_bn[0][0]']   \n",
      " ation)                                                                                           \n",
      "                                                                                                  \n",
      " conv5_block7_2_conv (Conv2  (None, 7, 7, 32)             36864     ['conv5_block7_1_relu[0][0]'] \n",
      " D)                                                                                               \n",
      "                                                                                                  \n",
      " conv5_block7_concat (Conca  (None, 7, 7, 736)            0         ['conv5_block6_concat[0][0]', \n",
      " tenate)                                                             'conv5_block7_2_conv[0][0]'] \n",
      "                                                                                                  \n"
     ]
    },
    {
     "name": "stdout",
     "output_type": "stream",
     "text": [
      " conv5_block8_0_bn (BatchNo  (None, 7, 7, 736)            2944      ['conv5_block7_concat[0][0]'] \n",
      " rmalization)                                                                                     \n",
      "                                                                                                  \n",
      " conv5_block8_0_relu (Activ  (None, 7, 7, 736)            0         ['conv5_block8_0_bn[0][0]']   \n",
      " ation)                                                                                           \n",
      "                                                                                                  \n",
      " conv5_block8_1_conv (Conv2  (None, 7, 7, 128)            94208     ['conv5_block8_0_relu[0][0]'] \n",
      " D)                                                                                               \n",
      "                                                                                                  \n",
      " conv5_block8_1_bn (BatchNo  (None, 7, 7, 128)            512       ['conv5_block8_1_conv[0][0]'] \n",
      " rmalization)                                                                                     \n",
      "                                                                                                  \n",
      " conv5_block8_1_relu (Activ  (None, 7, 7, 128)            0         ['conv5_block8_1_bn[0][0]']   \n",
      " ation)                                                                                           \n",
      "                                                                                                  \n",
      " conv5_block8_2_conv (Conv2  (None, 7, 7, 32)             36864     ['conv5_block8_1_relu[0][0]'] \n",
      " D)                                                                                               \n",
      "                                                                                                  \n",
      " conv5_block8_concat (Conca  (None, 7, 7, 768)            0         ['conv5_block7_concat[0][0]', \n",
      " tenate)                                                             'conv5_block8_2_conv[0][0]'] \n",
      "                                                                                                  \n",
      " conv5_block9_0_bn (BatchNo  (None, 7, 7, 768)            3072      ['conv5_block8_concat[0][0]'] \n",
      " rmalization)                                                                                     \n",
      "                                                                                                  \n",
      " conv5_block9_0_relu (Activ  (None, 7, 7, 768)            0         ['conv5_block9_0_bn[0][0]']   \n",
      " ation)                                                                                           \n",
      "                                                                                                  \n",
      " conv5_block9_1_conv (Conv2  (None, 7, 7, 128)            98304     ['conv5_block9_0_relu[0][0]'] \n",
      " D)                                                                                               \n",
      "                                                                                                  \n",
      " conv5_block9_1_bn (BatchNo  (None, 7, 7, 128)            512       ['conv5_block9_1_conv[0][0]'] \n",
      " rmalization)                                                                                     \n",
      "                                                                                                  \n",
      " conv5_block9_1_relu (Activ  (None, 7, 7, 128)            0         ['conv5_block9_1_bn[0][0]']   \n",
      " ation)                                                                                           \n",
      "                                                                                                  \n",
      " conv5_block9_2_conv (Conv2  (None, 7, 7, 32)             36864     ['conv5_block9_1_relu[0][0]'] \n",
      " D)                                                                                               \n",
      "                                                                                                  \n",
      " conv5_block9_concat (Conca  (None, 7, 7, 800)            0         ['conv5_block8_concat[0][0]', \n",
      " tenate)                                                             'conv5_block9_2_conv[0][0]'] \n",
      "                                                                                                  \n",
      " conv5_block10_0_bn (BatchN  (None, 7, 7, 800)            3200      ['conv5_block9_concat[0][0]'] \n",
      " ormalization)                                                                                    \n",
      "                                                                                                  \n",
      " conv5_block10_0_relu (Acti  (None, 7, 7, 800)            0         ['conv5_block10_0_bn[0][0]']  \n",
      " vation)                                                                                          \n",
      "                                                                                                  \n",
      " conv5_block10_1_conv (Conv  (None, 7, 7, 128)            102400    ['conv5_block10_0_relu[0][0]']\n",
      " 2D)                                                                                              \n",
      "                                                                                                  \n",
      " conv5_block10_1_bn (BatchN  (None, 7, 7, 128)            512       ['conv5_block10_1_conv[0][0]']\n",
      " ormalization)                                                                                    \n",
      "                                                                                                  \n",
      " conv5_block10_1_relu (Acti  (None, 7, 7, 128)            0         ['conv5_block10_1_bn[0][0]']  \n",
      " vation)                                                                                          \n",
      "                                                                                                  \n",
      " conv5_block10_2_conv (Conv  (None, 7, 7, 32)             36864     ['conv5_block10_1_relu[0][0]']\n",
      " 2D)                                                                                              \n",
      "                                                                                                  \n",
      " conv5_block10_concat (Conc  (None, 7, 7, 832)            0         ['conv5_block9_concat[0][0]', \n",
      " atenate)                                                            'conv5_block10_2_conv[0][0]']\n",
      "                                                                                                  \n",
      " conv5_block11_0_bn (BatchN  (None, 7, 7, 832)            3328      ['conv5_block10_concat[0][0]']\n",
      " ormalization)                                                                                    \n",
      "                                                                                                  \n",
      " conv5_block11_0_relu (Acti  (None, 7, 7, 832)            0         ['conv5_block11_0_bn[0][0]']  \n",
      " vation)                                                                                          \n",
      "                                                                                                  \n",
      " conv5_block11_1_conv (Conv  (None, 7, 7, 128)            106496    ['conv5_block11_0_relu[0][0]']\n",
      " 2D)                                                                                              \n",
      "                                                                                                  \n",
      " conv5_block11_1_bn (BatchN  (None, 7, 7, 128)            512       ['conv5_block11_1_conv[0][0]']\n",
      " ormalization)                                                                                    \n",
      "                                                                                                  \n",
      " conv5_block11_1_relu (Acti  (None, 7, 7, 128)            0         ['conv5_block11_1_bn[0][0]']  \n",
      " vation)                                                                                          \n",
      "                                                                                                  \n",
      " conv5_block11_2_conv (Conv  (None, 7, 7, 32)             36864     ['conv5_block11_1_relu[0][0]']\n",
      " 2D)                                                                                              \n",
      "                                                                                                  \n",
      " conv5_block11_concat (Conc  (None, 7, 7, 864)            0         ['conv5_block10_concat[0][0]',\n",
      " atenate)                                                            'conv5_block11_2_conv[0][0]']\n"
     ]
    },
    {
     "name": "stdout",
     "output_type": "stream",
     "text": [
      "                                                                                                  \n",
      " conv5_block12_0_bn (BatchN  (None, 7, 7, 864)            3456      ['conv5_block11_concat[0][0]']\n",
      " ormalization)                                                                                    \n",
      "                                                                                                  \n",
      " conv5_block12_0_relu (Acti  (None, 7, 7, 864)            0         ['conv5_block12_0_bn[0][0]']  \n",
      " vation)                                                                                          \n",
      "                                                                                                  \n",
      " conv5_block12_1_conv (Conv  (None, 7, 7, 128)            110592    ['conv5_block12_0_relu[0][0]']\n",
      " 2D)                                                                                              \n",
      "                                                                                                  \n",
      " conv5_block12_1_bn (BatchN  (None, 7, 7, 128)            512       ['conv5_block12_1_conv[0][0]']\n",
      " ormalization)                                                                                    \n",
      "                                                                                                  \n",
      " conv5_block12_1_relu (Acti  (None, 7, 7, 128)            0         ['conv5_block12_1_bn[0][0]']  \n",
      " vation)                                                                                          \n",
      "                                                                                                  \n",
      " conv5_block12_2_conv (Conv  (None, 7, 7, 32)             36864     ['conv5_block12_1_relu[0][0]']\n",
      " 2D)                                                                                              \n",
      "                                                                                                  \n",
      " conv5_block12_concat (Conc  (None, 7, 7, 896)            0         ['conv5_block11_concat[0][0]',\n",
      " atenate)                                                            'conv5_block12_2_conv[0][0]']\n",
      "                                                                                                  \n",
      " conv5_block13_0_bn (BatchN  (None, 7, 7, 896)            3584      ['conv5_block12_concat[0][0]']\n",
      " ormalization)                                                                                    \n",
      "                                                                                                  \n",
      " conv5_block13_0_relu (Acti  (None, 7, 7, 896)            0         ['conv5_block13_0_bn[0][0]']  \n",
      " vation)                                                                                          \n",
      "                                                                                                  \n",
      " conv5_block13_1_conv (Conv  (None, 7, 7, 128)            114688    ['conv5_block13_0_relu[0][0]']\n",
      " 2D)                                                                                              \n",
      "                                                                                                  \n",
      " conv5_block13_1_bn (BatchN  (None, 7, 7, 128)            512       ['conv5_block13_1_conv[0][0]']\n",
      " ormalization)                                                                                    \n",
      "                                                                                                  \n",
      " conv5_block13_1_relu (Acti  (None, 7, 7, 128)            0         ['conv5_block13_1_bn[0][0]']  \n",
      " vation)                                                                                          \n",
      "                                                                                                  \n",
      " conv5_block13_2_conv (Conv  (None, 7, 7, 32)             36864     ['conv5_block13_1_relu[0][0]']\n",
      " 2D)                                                                                              \n",
      "                                                                                                  \n",
      " conv5_block13_concat (Conc  (None, 7, 7, 928)            0         ['conv5_block12_concat[0][0]',\n",
      " atenate)                                                            'conv5_block13_2_conv[0][0]']\n",
      "                                                                                                  \n",
      " conv5_block14_0_bn (BatchN  (None, 7, 7, 928)            3712      ['conv5_block13_concat[0][0]']\n",
      " ormalization)                                                                                    \n",
      "                                                                                                  \n",
      " conv5_block14_0_relu (Acti  (None, 7, 7, 928)            0         ['conv5_block14_0_bn[0][0]']  \n",
      " vation)                                                                                          \n",
      "                                                                                                  \n",
      " conv5_block14_1_conv (Conv  (None, 7, 7, 128)            118784    ['conv5_block14_0_relu[0][0]']\n",
      " 2D)                                                                                              \n",
      "                                                                                                  \n",
      " conv5_block14_1_bn (BatchN  (None, 7, 7, 128)            512       ['conv5_block14_1_conv[0][0]']\n",
      " ormalization)                                                                                    \n",
      "                                                                                                  \n",
      " conv5_block14_1_relu (Acti  (None, 7, 7, 128)            0         ['conv5_block14_1_bn[0][0]']  \n",
      " vation)                                                                                          \n",
      "                                                                                                  \n",
      " conv5_block14_2_conv (Conv  (None, 7, 7, 32)             36864     ['conv5_block14_1_relu[0][0]']\n",
      " 2D)                                                                                              \n",
      "                                                                                                  \n",
      " conv5_block14_concat (Conc  (None, 7, 7, 960)            0         ['conv5_block13_concat[0][0]',\n",
      " atenate)                                                            'conv5_block14_2_conv[0][0]']\n",
      "                                                                                                  \n",
      " conv5_block15_0_bn (BatchN  (None, 7, 7, 960)            3840      ['conv5_block14_concat[0][0]']\n",
      " ormalization)                                                                                    \n",
      "                                                                                                  \n",
      " conv5_block15_0_relu (Acti  (None, 7, 7, 960)            0         ['conv5_block15_0_bn[0][0]']  \n",
      " vation)                                                                                          \n",
      "                                                                                                  \n",
      " conv5_block15_1_conv (Conv  (None, 7, 7, 128)            122880    ['conv5_block15_0_relu[0][0]']\n",
      " 2D)                                                                                              \n",
      "                                                                                                  \n",
      " conv5_block15_1_bn (BatchN  (None, 7, 7, 128)            512       ['conv5_block15_1_conv[0][0]']\n",
      " ormalization)                                                                                    \n",
      "                                                                                                  \n",
      " conv5_block15_1_relu (Acti  (None, 7, 7, 128)            0         ['conv5_block15_1_bn[0][0]']  \n",
      " vation)                                                                                          \n",
      "                                                                                                  \n",
      " conv5_block15_2_conv (Conv  (None, 7, 7, 32)             36864     ['conv5_block15_1_relu[0][0]']\n",
      " 2D)                                                                                              \n",
      "                                                                                                  \n",
      " conv5_block15_concat (Conc  (None, 7, 7, 992)            0         ['conv5_block14_concat[0][0]',\n"
     ]
    },
    {
     "name": "stdout",
     "output_type": "stream",
     "text": [
      " atenate)                                                            'conv5_block15_2_conv[0][0]']\n",
      "                                                                                                  \n",
      " conv5_block16_0_bn (BatchN  (None, 7, 7, 992)            3968      ['conv5_block15_concat[0][0]']\n",
      " ormalization)                                                                                    \n",
      "                                                                                                  \n",
      " conv5_block16_0_relu (Acti  (None, 7, 7, 992)            0         ['conv5_block16_0_bn[0][0]']  \n",
      " vation)                                                                                          \n",
      "                                                                                                  \n",
      " conv5_block16_1_conv (Conv  (None, 7, 7, 128)            126976    ['conv5_block16_0_relu[0][0]']\n",
      " 2D)                                                                                              \n",
      "                                                                                                  \n",
      " conv5_block16_1_bn (BatchN  (None, 7, 7, 128)            512       ['conv5_block16_1_conv[0][0]']\n",
      " ormalization)                                                                                    \n",
      "                                                                                                  \n",
      " conv5_block16_1_relu (Acti  (None, 7, 7, 128)            0         ['conv5_block16_1_bn[0][0]']  \n",
      " vation)                                                                                          \n",
      "                                                                                                  \n",
      " conv5_block16_2_conv (Conv  (None, 7, 7, 32)             36864     ['conv5_block16_1_relu[0][0]']\n",
      " 2D)                                                                                              \n",
      "                                                                                                  \n",
      " conv5_block16_concat (Conc  (None, 7, 7, 1024)           0         ['conv5_block15_concat[0][0]',\n",
      " atenate)                                                            'conv5_block16_2_conv[0][0]']\n",
      "                                                                                                  \n",
      " bn (BatchNormalization)     (None, 7, 7, 1024)           4096      ['conv5_block16_concat[0][0]']\n",
      "                                                                                                  \n",
      " relu (Activation)           (None, 7, 7, 1024)           0         ['bn[0][0]']                  \n",
      "                                                                                                  \n",
      "==================================================================================================\n",
      "Total params: 7037504 (26.85 MB)\n",
      "Trainable params: 0 (0.00 Byte)\n",
      "Non-trainable params: 7037504 (26.85 MB)\n",
      "__________________________________________________________________________________________________\n"
     ]
    }
   ],
   "source": [
    "densenet121.summary()"
   ]
  },
  {
   "cell_type": "code",
   "execution_count": 61,
   "id": "79adcab0",
   "metadata": {
    "ExecuteTime": {
     "end_time": "2024-06-11T09:32:27.941793Z",
     "start_time": "2024-06-11T09:32:27.569970Z"
    }
   },
   "outputs": [],
   "source": [
    "model = tf.keras.Sequential([\n",
    "  densenet121,\n",
    "  tf.keras.layers.GlobalAveragePooling2D(),\n",
    "  tf.keras.layers.Dense(len(label_names), activation = 'sigmoid')])"
   ]
  },
  {
   "cell_type": "code",
   "execution_count": 62,
   "id": "07d71f03",
   "metadata": {
    "ExecuteTime": {
     "end_time": "2024-06-11T09:32:34.090310Z",
     "start_time": "2024-06-11T09:32:34.062073Z"
    }
   },
   "outputs": [],
   "source": [
    "from tensorflow.keras import optimizers\n",
    "model.compile(optimizer=optimizers.legacy.Adam(),\n",
    "              loss='binary_crossentropy',\n",
    "              metrics=[\"accuracy\", AUC])"
   ]
  },
  {
   "cell_type": "code",
   "execution_count": 63,
   "id": "833a968e",
   "metadata": {
    "ExecuteTime": {
     "end_time": "2024-06-11T09:32:34.856852Z",
     "start_time": "2024-06-11T09:32:34.815093Z"
    }
   },
   "outputs": [
    {
     "name": "stdout",
     "output_type": "stream",
     "text": [
      "Model: \"sequential_1\"\n",
      "_________________________________________________________________\n",
      " Layer (type)                Output Shape              Param #   \n",
      "=================================================================\n",
      " densenet121 (Functional)    (None, 7, 7, 1024)        7037504   \n",
      "                                                                 \n",
      " global_average_pooling2d_1  (None, 1024)              0         \n",
      "  (GlobalAveragePooling2D)                                       \n",
      "                                                                 \n",
      " dense_1 (Dense)             (None, 14)                14350     \n",
      "                                                                 \n",
      "=================================================================\n",
      "Total params: 7051854 (26.90 MB)\n",
      "Trainable params: 14350 (56.05 KB)\n",
      "Non-trainable params: 7037504 (26.85 MB)\n",
      "_________________________________________________________________\n"
     ]
    }
   ],
   "source": [
    "model.summary()"
   ]
  },
  {
   "cell_type": "code",
   "execution_count": 64,
   "id": "8b4b6f15",
   "metadata": {
    "ExecuteTime": {
     "end_time": "2024-06-11T09:32:44.439291Z",
     "start_time": "2024-06-11T09:32:44.430009Z"
    }
   },
   "outputs": [
    {
     "data": {
      "text/plain": [
       "968.0"
      ]
     },
     "execution_count": 64,
     "metadata": {},
     "output_type": "execute_result"
    }
   ],
   "source": [
    "STEPS_PER_EPOCH=tf.math.ceil(train_size/BATCH_SIZE).numpy() #alternative = len(all_image_paths)\n",
    "STEPS_PER_EPOCH"
   ]
  },
  {
   "cell_type": "code",
   "execution_count": 65,
   "id": "b23df2e5",
   "metadata": {
    "ExecuteTime": {
     "end_time": "2024-06-11T09:32:45.410741Z",
     "start_time": "2024-06-11T09:32:45.402603Z"
    }
   },
   "outputs": [
    {
     "data": {
      "text/plain": [
       "323.0"
      ]
     },
     "execution_count": 65,
     "metadata": {},
     "output_type": "execute_result"
    }
   ],
   "source": [
    "STEPS_PER_EPOCH_VAL=tf.math.ceil(val_size/BATCH_SIZE).numpy() #alternative = len(all_image_paths)\n",
    "STEPS_PER_EPOCH_VAL"
   ]
  },
  {
   "cell_type": "code",
   "execution_count": 66,
   "id": "d597359f",
   "metadata": {
    "ExecuteTime": {
     "end_time": "2024-06-11T09:32:57.893037Z",
     "start_time": "2024-06-11T09:32:57.883339Z"
    }
   },
   "outputs": [],
   "source": [
    "from tensorflow.keras.callbacks import EarlyStopping, ModelCheckpoint\n",
    "\n",
    "es = EarlyStopping(monitor='val_auc', #'val_multilabel_f1_score',  # the name of the metric will be its prefix + '_' + its function name\n",
    "                   mode='max',\n",
    "                   patience=3,\n",
    "                   verbose=1,\n",
    "                   restore_best_weights=True)\n",
    "\n",
    "model_checkpoint = ModelCheckpoint(filepath= os.path.join(data_dir, 'best_only_disease_model.keras'),\n",
    "                                   save_best_only=True,\n",
    "                                   monitor='val_auc')"
   ]
  },
  {
   "cell_type": "code",
   "execution_count": 67,
   "id": "501acb84",
   "metadata": {
    "ExecuteTime": {
     "end_time": "2024-06-11T10:36:22.868833Z",
     "start_time": "2024-06-11T09:33:27.972092Z"
    },
    "scrolled": true
   },
   "outputs": [
    {
     "name": "stdout",
     "output_type": "stream",
     "text": [
      "Epoch 1/50\n",
      "968/968 [==============================] - 1084s 1s/step - loss: 0.2994 - accuracy: 0.3038 - auc: 0.6087 - val_loss: 0.2869 - val_accuracy: 0.3088 - val_auc: 0.6723\n",
      "Epoch 2/50\n",
      "968/968 [==============================] - 1139s 1s/step - loss: 0.2858 - accuracy: 0.3251 - auc: 0.6796 - val_loss: 0.2841 - val_accuracy: 0.3124 - val_auc: 0.6917\n",
      "Epoch 3/50\n",
      "968/968 [==============================] - 1136s 1s/step - loss: 0.2821 - accuracy: 0.3331 - auc: 0.7005 - val_loss: 0.2833 - val_accuracy: 0.3141 - val_auc: 0.6966\n",
      "Epoch 4/50\n",
      "472/968 [=============>................] - ETA: 7:15 - loss: 0.2804 - accuracy: 0.3379 - auc: 0.7101"
     ]
    },
    {
     "ename": "KeyboardInterrupt",
     "evalue": "",
     "output_type": "error",
     "traceback": [
      "\u001b[0;31m---------------------------------------------------------------------------\u001b[0m",
      "\u001b[0;31mKeyboardInterrupt\u001b[0m                         Traceback (most recent call last)",
      "Cell \u001b[0;32mIn[67], line 3\u001b[0m\n\u001b[1;32m      1\u001b[0m EPOCHS \u001b[38;5;241m=\u001b[39m \u001b[38;5;241m50\u001b[39m\n\u001b[0;32m----> 3\u001b[0m history \u001b[38;5;241m=\u001b[39m \u001b[43mmodel\u001b[49m\u001b[38;5;241;43m.\u001b[39;49m\u001b[43mfit\u001b[49m\u001b[43m(\u001b[49m\u001b[43mtrain_ds\u001b[49m\u001b[43m,\u001b[49m\u001b[43m \u001b[49m\n\u001b[1;32m      4\u001b[0m \u001b[43m                    \u001b[49m\u001b[43mvalidation_data\u001b[49m\u001b[38;5;241;43m=\u001b[39;49m\u001b[43mval_ds\u001b[49m\u001b[43m,\u001b[49m\u001b[43m \u001b[49m\n\u001b[1;32m      5\u001b[0m \u001b[43m                    \u001b[49m\u001b[43mepochs\u001b[49m\u001b[38;5;241;43m=\u001b[39;49m\u001b[43mEPOCHS\u001b[49m\u001b[43m,\u001b[49m\u001b[43m \u001b[49m\n\u001b[1;32m      6\u001b[0m \u001b[43m                    \u001b[49m\u001b[43msteps_per_epoch\u001b[49m\u001b[38;5;241;43m=\u001b[39;49m\u001b[43mSTEPS_PER_EPOCH\u001b[49m\u001b[43m,\u001b[49m\u001b[43m \u001b[49m\n\u001b[1;32m      7\u001b[0m \u001b[43m                    \u001b[49m\u001b[43mvalidation_steps\u001b[49m\u001b[38;5;241;43m=\u001b[39;49m\u001b[43mSTEPS_PER_EPOCH_VAL\u001b[49m\u001b[43m,\u001b[49m\n\u001b[1;32m      8\u001b[0m \u001b[43m                    \u001b[49m\u001b[43mcallbacks\u001b[49m\u001b[38;5;241;43m=\u001b[39;49m\u001b[43m[\u001b[49m\u001b[43mes\u001b[49m\u001b[43m,\u001b[49m\u001b[43m \u001b[49m\u001b[43mmodel_checkpoint\u001b[49m\u001b[43m]\u001b[49m\u001b[43m)\u001b[49m\n",
      "File \u001b[0;32m~/.pyenv/versions/3.10.6/envs/chest_predictor/lib/python3.10/site-packages/keras/src/utils/traceback_utils.py:65\u001b[0m, in \u001b[0;36mfilter_traceback.<locals>.error_handler\u001b[0;34m(*args, **kwargs)\u001b[0m\n\u001b[1;32m     63\u001b[0m filtered_tb \u001b[38;5;241m=\u001b[39m \u001b[38;5;28;01mNone\u001b[39;00m\n\u001b[1;32m     64\u001b[0m \u001b[38;5;28;01mtry\u001b[39;00m:\n\u001b[0;32m---> 65\u001b[0m     \u001b[38;5;28;01mreturn\u001b[39;00m \u001b[43mfn\u001b[49m\u001b[43m(\u001b[49m\u001b[38;5;241;43m*\u001b[39;49m\u001b[43margs\u001b[49m\u001b[43m,\u001b[49m\u001b[43m \u001b[49m\u001b[38;5;241;43m*\u001b[39;49m\u001b[38;5;241;43m*\u001b[39;49m\u001b[43mkwargs\u001b[49m\u001b[43m)\u001b[49m\n\u001b[1;32m     66\u001b[0m \u001b[38;5;28;01mexcept\u001b[39;00m \u001b[38;5;167;01mException\u001b[39;00m \u001b[38;5;28;01mas\u001b[39;00m e:\n\u001b[1;32m     67\u001b[0m     filtered_tb \u001b[38;5;241m=\u001b[39m _process_traceback_frames(e\u001b[38;5;241m.\u001b[39m__traceback__)\n",
      "File \u001b[0;32m~/.pyenv/versions/3.10.6/envs/chest_predictor/lib/python3.10/site-packages/keras/src/engine/training.py:1807\u001b[0m, in \u001b[0;36mModel.fit\u001b[0;34m(self, x, y, batch_size, epochs, verbose, callbacks, validation_split, validation_data, shuffle, class_weight, sample_weight, initial_epoch, steps_per_epoch, validation_steps, validation_batch_size, validation_freq, max_queue_size, workers, use_multiprocessing)\u001b[0m\n\u001b[1;32m   1799\u001b[0m \u001b[38;5;28;01mwith\u001b[39;00m tf\u001b[38;5;241m.\u001b[39mprofiler\u001b[38;5;241m.\u001b[39mexperimental\u001b[38;5;241m.\u001b[39mTrace(\n\u001b[1;32m   1800\u001b[0m     \u001b[38;5;124m\"\u001b[39m\u001b[38;5;124mtrain\u001b[39m\u001b[38;5;124m\"\u001b[39m,\n\u001b[1;32m   1801\u001b[0m     epoch_num\u001b[38;5;241m=\u001b[39mepoch,\n\u001b[0;32m   (...)\u001b[0m\n\u001b[1;32m   1804\u001b[0m     _r\u001b[38;5;241m=\u001b[39m\u001b[38;5;241m1\u001b[39m,\n\u001b[1;32m   1805\u001b[0m ):\n\u001b[1;32m   1806\u001b[0m     callbacks\u001b[38;5;241m.\u001b[39mon_train_batch_begin(step)\n\u001b[0;32m-> 1807\u001b[0m     tmp_logs \u001b[38;5;241m=\u001b[39m \u001b[38;5;28;43mself\u001b[39;49m\u001b[38;5;241;43m.\u001b[39;49m\u001b[43mtrain_function\u001b[49m\u001b[43m(\u001b[49m\u001b[43miterator\u001b[49m\u001b[43m)\u001b[49m\n\u001b[1;32m   1808\u001b[0m     \u001b[38;5;28;01mif\u001b[39;00m data_handler\u001b[38;5;241m.\u001b[39mshould_sync:\n\u001b[1;32m   1809\u001b[0m         context\u001b[38;5;241m.\u001b[39masync_wait()\n",
      "File \u001b[0;32m~/.pyenv/versions/3.10.6/envs/chest_predictor/lib/python3.10/site-packages/tensorflow/python/util/traceback_utils.py:150\u001b[0m, in \u001b[0;36mfilter_traceback.<locals>.error_handler\u001b[0;34m(*args, **kwargs)\u001b[0m\n\u001b[1;32m    148\u001b[0m filtered_tb \u001b[38;5;241m=\u001b[39m \u001b[38;5;28;01mNone\u001b[39;00m\n\u001b[1;32m    149\u001b[0m \u001b[38;5;28;01mtry\u001b[39;00m:\n\u001b[0;32m--> 150\u001b[0m   \u001b[38;5;28;01mreturn\u001b[39;00m \u001b[43mfn\u001b[49m\u001b[43m(\u001b[49m\u001b[38;5;241;43m*\u001b[39;49m\u001b[43margs\u001b[49m\u001b[43m,\u001b[49m\u001b[43m \u001b[49m\u001b[38;5;241;43m*\u001b[39;49m\u001b[38;5;241;43m*\u001b[39;49m\u001b[43mkwargs\u001b[49m\u001b[43m)\u001b[49m\n\u001b[1;32m    151\u001b[0m \u001b[38;5;28;01mexcept\u001b[39;00m \u001b[38;5;167;01mException\u001b[39;00m \u001b[38;5;28;01mas\u001b[39;00m e:\n\u001b[1;32m    152\u001b[0m   filtered_tb \u001b[38;5;241m=\u001b[39m _process_traceback_frames(e\u001b[38;5;241m.\u001b[39m__traceback__)\n",
      "File \u001b[0;32m~/.pyenv/versions/3.10.6/envs/chest_predictor/lib/python3.10/site-packages/tensorflow/python/eager/polymorphic_function/polymorphic_function.py:832\u001b[0m, in \u001b[0;36mFunction.__call__\u001b[0;34m(self, *args, **kwds)\u001b[0m\n\u001b[1;32m    829\u001b[0m compiler \u001b[38;5;241m=\u001b[39m \u001b[38;5;124m\"\u001b[39m\u001b[38;5;124mxla\u001b[39m\u001b[38;5;124m\"\u001b[39m \u001b[38;5;28;01mif\u001b[39;00m \u001b[38;5;28mself\u001b[39m\u001b[38;5;241m.\u001b[39m_jit_compile \u001b[38;5;28;01melse\u001b[39;00m \u001b[38;5;124m\"\u001b[39m\u001b[38;5;124mnonXla\u001b[39m\u001b[38;5;124m\"\u001b[39m\n\u001b[1;32m    831\u001b[0m \u001b[38;5;28;01mwith\u001b[39;00m OptionalXlaContext(\u001b[38;5;28mself\u001b[39m\u001b[38;5;241m.\u001b[39m_jit_compile):\n\u001b[0;32m--> 832\u001b[0m   result \u001b[38;5;241m=\u001b[39m \u001b[38;5;28;43mself\u001b[39;49m\u001b[38;5;241;43m.\u001b[39;49m\u001b[43m_call\u001b[49m\u001b[43m(\u001b[49m\u001b[38;5;241;43m*\u001b[39;49m\u001b[43margs\u001b[49m\u001b[43m,\u001b[49m\u001b[43m \u001b[49m\u001b[38;5;241;43m*\u001b[39;49m\u001b[38;5;241;43m*\u001b[39;49m\u001b[43mkwds\u001b[49m\u001b[43m)\u001b[49m\n\u001b[1;32m    834\u001b[0m new_tracing_count \u001b[38;5;241m=\u001b[39m \u001b[38;5;28mself\u001b[39m\u001b[38;5;241m.\u001b[39mexperimental_get_tracing_count()\n\u001b[1;32m    835\u001b[0m without_tracing \u001b[38;5;241m=\u001b[39m (tracing_count \u001b[38;5;241m==\u001b[39m new_tracing_count)\n",
      "File \u001b[0;32m~/.pyenv/versions/3.10.6/envs/chest_predictor/lib/python3.10/site-packages/tensorflow/python/eager/polymorphic_function/polymorphic_function.py:868\u001b[0m, in \u001b[0;36mFunction._call\u001b[0;34m(self, *args, **kwds)\u001b[0m\n\u001b[1;32m    865\u001b[0m   \u001b[38;5;28mself\u001b[39m\u001b[38;5;241m.\u001b[39m_lock\u001b[38;5;241m.\u001b[39mrelease()\n\u001b[1;32m    866\u001b[0m   \u001b[38;5;66;03m# In this case we have created variables on the first call, so we run the\u001b[39;00m\n\u001b[1;32m    867\u001b[0m   \u001b[38;5;66;03m# defunned version which is guaranteed to never create variables.\u001b[39;00m\n\u001b[0;32m--> 868\u001b[0m   \u001b[38;5;28;01mreturn\u001b[39;00m \u001b[43mtracing_compilation\u001b[49m\u001b[38;5;241;43m.\u001b[39;49m\u001b[43mcall_function\u001b[49m\u001b[43m(\u001b[49m\n\u001b[1;32m    869\u001b[0m \u001b[43m      \u001b[49m\u001b[43margs\u001b[49m\u001b[43m,\u001b[49m\u001b[43m \u001b[49m\u001b[43mkwds\u001b[49m\u001b[43m,\u001b[49m\u001b[43m \u001b[49m\u001b[38;5;28;43mself\u001b[39;49m\u001b[38;5;241;43m.\u001b[39;49m\u001b[43m_no_variable_creation_config\u001b[49m\n\u001b[1;32m    870\u001b[0m \u001b[43m  \u001b[49m\u001b[43m)\u001b[49m\n\u001b[1;32m    871\u001b[0m \u001b[38;5;28;01melif\u001b[39;00m \u001b[38;5;28mself\u001b[39m\u001b[38;5;241m.\u001b[39m_variable_creation_config \u001b[38;5;129;01mis\u001b[39;00m \u001b[38;5;129;01mnot\u001b[39;00m \u001b[38;5;28;01mNone\u001b[39;00m:\n\u001b[1;32m    872\u001b[0m   \u001b[38;5;66;03m# Release the lock early so that multiple threads can perform the call\u001b[39;00m\n\u001b[1;32m    873\u001b[0m   \u001b[38;5;66;03m# in parallel.\u001b[39;00m\n\u001b[1;32m    874\u001b[0m   \u001b[38;5;28mself\u001b[39m\u001b[38;5;241m.\u001b[39m_lock\u001b[38;5;241m.\u001b[39mrelease()\n",
      "File \u001b[0;32m~/.pyenv/versions/3.10.6/envs/chest_predictor/lib/python3.10/site-packages/tensorflow/python/eager/polymorphic_function/tracing_compilation.py:139\u001b[0m, in \u001b[0;36mcall_function\u001b[0;34m(args, kwargs, tracing_options)\u001b[0m\n\u001b[1;32m    137\u001b[0m bound_args \u001b[38;5;241m=\u001b[39m function\u001b[38;5;241m.\u001b[39mfunction_type\u001b[38;5;241m.\u001b[39mbind(\u001b[38;5;241m*\u001b[39margs, \u001b[38;5;241m*\u001b[39m\u001b[38;5;241m*\u001b[39mkwargs)\n\u001b[1;32m    138\u001b[0m flat_inputs \u001b[38;5;241m=\u001b[39m function\u001b[38;5;241m.\u001b[39mfunction_type\u001b[38;5;241m.\u001b[39munpack_inputs(bound_args)\n\u001b[0;32m--> 139\u001b[0m \u001b[38;5;28;01mreturn\u001b[39;00m \u001b[43mfunction\u001b[49m\u001b[38;5;241;43m.\u001b[39;49m\u001b[43m_call_flat\u001b[49m\u001b[43m(\u001b[49m\u001b[43m  \u001b[49m\u001b[38;5;66;43;03m# pylint: disable=protected-access\u001b[39;49;00m\n\u001b[1;32m    140\u001b[0m \u001b[43m    \u001b[49m\u001b[43mflat_inputs\u001b[49m\u001b[43m,\u001b[49m\u001b[43m \u001b[49m\u001b[43mcaptured_inputs\u001b[49m\u001b[38;5;241;43m=\u001b[39;49m\u001b[43mfunction\u001b[49m\u001b[38;5;241;43m.\u001b[39;49m\u001b[43mcaptured_inputs\u001b[49m\n\u001b[1;32m    141\u001b[0m \u001b[43m\u001b[49m\u001b[43m)\u001b[49m\n",
      "File \u001b[0;32m~/.pyenv/versions/3.10.6/envs/chest_predictor/lib/python3.10/site-packages/tensorflow/python/eager/polymorphic_function/concrete_function.py:1323\u001b[0m, in \u001b[0;36mConcreteFunction._call_flat\u001b[0;34m(self, tensor_inputs, captured_inputs)\u001b[0m\n\u001b[1;32m   1319\u001b[0m possible_gradient_type \u001b[38;5;241m=\u001b[39m gradients_util\u001b[38;5;241m.\u001b[39mPossibleTapeGradientTypes(args)\n\u001b[1;32m   1320\u001b[0m \u001b[38;5;28;01mif\u001b[39;00m (possible_gradient_type \u001b[38;5;241m==\u001b[39m gradients_util\u001b[38;5;241m.\u001b[39mPOSSIBLE_GRADIENT_TYPES_NONE\n\u001b[1;32m   1321\u001b[0m     \u001b[38;5;129;01mand\u001b[39;00m executing_eagerly):\n\u001b[1;32m   1322\u001b[0m   \u001b[38;5;66;03m# No tape is watching; skip to running the function.\u001b[39;00m\n\u001b[0;32m-> 1323\u001b[0m   \u001b[38;5;28;01mreturn\u001b[39;00m \u001b[38;5;28;43mself\u001b[39;49m\u001b[38;5;241;43m.\u001b[39;49m\u001b[43m_inference_function\u001b[49m\u001b[38;5;241;43m.\u001b[39;49m\u001b[43mcall_preflattened\u001b[49m\u001b[43m(\u001b[49m\u001b[43margs\u001b[49m\u001b[43m)\u001b[49m\n\u001b[1;32m   1324\u001b[0m forward_backward \u001b[38;5;241m=\u001b[39m \u001b[38;5;28mself\u001b[39m\u001b[38;5;241m.\u001b[39m_select_forward_and_backward_functions(\n\u001b[1;32m   1325\u001b[0m     args,\n\u001b[1;32m   1326\u001b[0m     possible_gradient_type,\n\u001b[1;32m   1327\u001b[0m     executing_eagerly)\n\u001b[1;32m   1328\u001b[0m forward_function, args_with_tangents \u001b[38;5;241m=\u001b[39m forward_backward\u001b[38;5;241m.\u001b[39mforward()\n",
      "File \u001b[0;32m~/.pyenv/versions/3.10.6/envs/chest_predictor/lib/python3.10/site-packages/tensorflow/python/eager/polymorphic_function/atomic_function.py:216\u001b[0m, in \u001b[0;36mAtomicFunction.call_preflattened\u001b[0;34m(self, args)\u001b[0m\n\u001b[1;32m    214\u001b[0m \u001b[38;5;28;01mdef\u001b[39;00m \u001b[38;5;21mcall_preflattened\u001b[39m(\u001b[38;5;28mself\u001b[39m, args: Sequence[core\u001b[38;5;241m.\u001b[39mTensor]) \u001b[38;5;241m-\u001b[39m\u001b[38;5;241m>\u001b[39m Any:\n\u001b[1;32m    215\u001b[0m \u001b[38;5;250m  \u001b[39m\u001b[38;5;124;03m\"\"\"Calls with flattened tensor inputs and returns the structured output.\"\"\"\u001b[39;00m\n\u001b[0;32m--> 216\u001b[0m   flat_outputs \u001b[38;5;241m=\u001b[39m \u001b[38;5;28;43mself\u001b[39;49m\u001b[38;5;241;43m.\u001b[39;49m\u001b[43mcall_flat\u001b[49m\u001b[43m(\u001b[49m\u001b[38;5;241;43m*\u001b[39;49m\u001b[43margs\u001b[49m\u001b[43m)\u001b[49m\n\u001b[1;32m    217\u001b[0m   \u001b[38;5;28;01mreturn\u001b[39;00m \u001b[38;5;28mself\u001b[39m\u001b[38;5;241m.\u001b[39mfunction_type\u001b[38;5;241m.\u001b[39mpack_output(flat_outputs)\n",
      "File \u001b[0;32m~/.pyenv/versions/3.10.6/envs/chest_predictor/lib/python3.10/site-packages/tensorflow/python/eager/polymorphic_function/atomic_function.py:251\u001b[0m, in \u001b[0;36mAtomicFunction.call_flat\u001b[0;34m(self, *args)\u001b[0m\n\u001b[1;32m    249\u001b[0m \u001b[38;5;28;01mwith\u001b[39;00m record\u001b[38;5;241m.\u001b[39mstop_recording():\n\u001b[1;32m    250\u001b[0m   \u001b[38;5;28;01mif\u001b[39;00m \u001b[38;5;28mself\u001b[39m\u001b[38;5;241m.\u001b[39m_bound_context\u001b[38;5;241m.\u001b[39mexecuting_eagerly():\n\u001b[0;32m--> 251\u001b[0m     outputs \u001b[38;5;241m=\u001b[39m \u001b[38;5;28;43mself\u001b[39;49m\u001b[38;5;241;43m.\u001b[39;49m\u001b[43m_bound_context\u001b[49m\u001b[38;5;241;43m.\u001b[39;49m\u001b[43mcall_function\u001b[49m\u001b[43m(\u001b[49m\n\u001b[1;32m    252\u001b[0m \u001b[43m        \u001b[49m\u001b[38;5;28;43mself\u001b[39;49m\u001b[38;5;241;43m.\u001b[39;49m\u001b[43mname\u001b[49m\u001b[43m,\u001b[49m\n\u001b[1;32m    253\u001b[0m \u001b[43m        \u001b[49m\u001b[38;5;28;43mlist\u001b[39;49m\u001b[43m(\u001b[49m\u001b[43margs\u001b[49m\u001b[43m)\u001b[49m\u001b[43m,\u001b[49m\n\u001b[1;32m    254\u001b[0m \u001b[43m        \u001b[49m\u001b[38;5;28;43mlen\u001b[39;49m\u001b[43m(\u001b[49m\u001b[38;5;28;43mself\u001b[39;49m\u001b[38;5;241;43m.\u001b[39;49m\u001b[43mfunction_type\u001b[49m\u001b[38;5;241;43m.\u001b[39;49m\u001b[43mflat_outputs\u001b[49m\u001b[43m)\u001b[49m\u001b[43m,\u001b[49m\n\u001b[1;32m    255\u001b[0m \u001b[43m    \u001b[49m\u001b[43m)\u001b[49m\n\u001b[1;32m    256\u001b[0m   \u001b[38;5;28;01melse\u001b[39;00m:\n\u001b[1;32m    257\u001b[0m     outputs \u001b[38;5;241m=\u001b[39m make_call_op_in_graph(\n\u001b[1;32m    258\u001b[0m         \u001b[38;5;28mself\u001b[39m,\n\u001b[1;32m    259\u001b[0m         \u001b[38;5;28mlist\u001b[39m(args),\n\u001b[1;32m    260\u001b[0m         \u001b[38;5;28mself\u001b[39m\u001b[38;5;241m.\u001b[39m_bound_context\u001b[38;5;241m.\u001b[39mfunction_call_options\u001b[38;5;241m.\u001b[39mas_attrs(),\n\u001b[1;32m    261\u001b[0m     )\n",
      "File \u001b[0;32m~/.pyenv/versions/3.10.6/envs/chest_predictor/lib/python3.10/site-packages/tensorflow/python/eager/context.py:1486\u001b[0m, in \u001b[0;36mContext.call_function\u001b[0;34m(self, name, tensor_inputs, num_outputs)\u001b[0m\n\u001b[1;32m   1484\u001b[0m cancellation_context \u001b[38;5;241m=\u001b[39m cancellation\u001b[38;5;241m.\u001b[39mcontext()\n\u001b[1;32m   1485\u001b[0m \u001b[38;5;28;01mif\u001b[39;00m cancellation_context \u001b[38;5;129;01mis\u001b[39;00m \u001b[38;5;28;01mNone\u001b[39;00m:\n\u001b[0;32m-> 1486\u001b[0m   outputs \u001b[38;5;241m=\u001b[39m \u001b[43mexecute\u001b[49m\u001b[38;5;241;43m.\u001b[39;49m\u001b[43mexecute\u001b[49m\u001b[43m(\u001b[49m\n\u001b[1;32m   1487\u001b[0m \u001b[43m      \u001b[49m\u001b[43mname\u001b[49m\u001b[38;5;241;43m.\u001b[39;49m\u001b[43mdecode\u001b[49m\u001b[43m(\u001b[49m\u001b[38;5;124;43m\"\u001b[39;49m\u001b[38;5;124;43mutf-8\u001b[39;49m\u001b[38;5;124;43m\"\u001b[39;49m\u001b[43m)\u001b[49m\u001b[43m,\u001b[49m\n\u001b[1;32m   1488\u001b[0m \u001b[43m      \u001b[49m\u001b[43mnum_outputs\u001b[49m\u001b[38;5;241;43m=\u001b[39;49m\u001b[43mnum_outputs\u001b[49m\u001b[43m,\u001b[49m\n\u001b[1;32m   1489\u001b[0m \u001b[43m      \u001b[49m\u001b[43minputs\u001b[49m\u001b[38;5;241;43m=\u001b[39;49m\u001b[43mtensor_inputs\u001b[49m\u001b[43m,\u001b[49m\n\u001b[1;32m   1490\u001b[0m \u001b[43m      \u001b[49m\u001b[43mattrs\u001b[49m\u001b[38;5;241;43m=\u001b[39;49m\u001b[43mattrs\u001b[49m\u001b[43m,\u001b[49m\n\u001b[1;32m   1491\u001b[0m \u001b[43m      \u001b[49m\u001b[43mctx\u001b[49m\u001b[38;5;241;43m=\u001b[39;49m\u001b[38;5;28;43mself\u001b[39;49m\u001b[43m,\u001b[49m\n\u001b[1;32m   1492\u001b[0m \u001b[43m  \u001b[49m\u001b[43m)\u001b[49m\n\u001b[1;32m   1493\u001b[0m \u001b[38;5;28;01melse\u001b[39;00m:\n\u001b[1;32m   1494\u001b[0m   outputs \u001b[38;5;241m=\u001b[39m execute\u001b[38;5;241m.\u001b[39mexecute_with_cancellation(\n\u001b[1;32m   1495\u001b[0m       name\u001b[38;5;241m.\u001b[39mdecode(\u001b[38;5;124m\"\u001b[39m\u001b[38;5;124mutf-8\u001b[39m\u001b[38;5;124m\"\u001b[39m),\n\u001b[1;32m   1496\u001b[0m       num_outputs\u001b[38;5;241m=\u001b[39mnum_outputs,\n\u001b[0;32m   (...)\u001b[0m\n\u001b[1;32m   1500\u001b[0m       cancellation_manager\u001b[38;5;241m=\u001b[39mcancellation_context,\n\u001b[1;32m   1501\u001b[0m   )\n",
      "File \u001b[0;32m~/.pyenv/versions/3.10.6/envs/chest_predictor/lib/python3.10/site-packages/tensorflow/python/eager/execute.py:53\u001b[0m, in \u001b[0;36mquick_execute\u001b[0;34m(op_name, num_outputs, inputs, attrs, ctx, name)\u001b[0m\n\u001b[1;32m     51\u001b[0m \u001b[38;5;28;01mtry\u001b[39;00m:\n\u001b[1;32m     52\u001b[0m   ctx\u001b[38;5;241m.\u001b[39mensure_initialized()\n\u001b[0;32m---> 53\u001b[0m   tensors \u001b[38;5;241m=\u001b[39m \u001b[43mpywrap_tfe\u001b[49m\u001b[38;5;241;43m.\u001b[39;49m\u001b[43mTFE_Py_Execute\u001b[49m\u001b[43m(\u001b[49m\u001b[43mctx\u001b[49m\u001b[38;5;241;43m.\u001b[39;49m\u001b[43m_handle\u001b[49m\u001b[43m,\u001b[49m\u001b[43m \u001b[49m\u001b[43mdevice_name\u001b[49m\u001b[43m,\u001b[49m\u001b[43m \u001b[49m\u001b[43mop_name\u001b[49m\u001b[43m,\u001b[49m\n\u001b[1;32m     54\u001b[0m \u001b[43m                                      \u001b[49m\u001b[43minputs\u001b[49m\u001b[43m,\u001b[49m\u001b[43m \u001b[49m\u001b[43mattrs\u001b[49m\u001b[43m,\u001b[49m\u001b[43m \u001b[49m\u001b[43mnum_outputs\u001b[49m\u001b[43m)\u001b[49m\n\u001b[1;32m     55\u001b[0m \u001b[38;5;28;01mexcept\u001b[39;00m core\u001b[38;5;241m.\u001b[39m_NotOkStatusException \u001b[38;5;28;01mas\u001b[39;00m e:\n\u001b[1;32m     56\u001b[0m   \u001b[38;5;28;01mif\u001b[39;00m name \u001b[38;5;129;01mis\u001b[39;00m \u001b[38;5;129;01mnot\u001b[39;00m \u001b[38;5;28;01mNone\u001b[39;00m:\n",
      "\u001b[0;31mKeyboardInterrupt\u001b[0m: "
     ]
    }
   ],
   "source": [
    "EPOCHS = 50\n",
    "\n",
    "history = model.fit(train_ds, \n",
    "                    validation_data=val_ds, \n",
    "                    epochs=EPOCHS, \n",
    "                    steps_per_epoch=STEPS_PER_EPOCH, \n",
    "                    validation_steps=STEPS_PER_EPOCH_VAL,\n",
    "                    callbacks=[es, model_checkpoint])"
   ]
  },
  {
   "cell_type": "code",
   "execution_count": 70,
   "id": "ed06a721",
   "metadata": {
    "ExecuteTime": {
     "end_time": "2024-06-10T19:12:44.049227Z",
     "start_time": "2024-06-10T19:12:43.736650Z"
    }
   },
   "outputs": [],
   "source": [
    "from tensorflow.keras.models import save_model\n",
    "\n",
    "models_dir = '../models'\n",
    "\n",
    "# Ensure that the models directory exists\n",
    "os.makedirs(data_dir, exist_ok=True)\n",
    "\n",
    "\n",
    "# Save the trained model to the models directory\n",
    "save_model(model, os.path.join(data_dir, 'ADE_final_only_disease_model.keras'))"
   ]
  },
  {
   "cell_type": "code",
   "execution_count": 71,
   "id": "52abcc69",
   "metadata": {
    "ExecuteTime": {
     "end_time": "2024-06-10T19:12:45.405596Z",
     "start_time": "2024-06-10T19:12:45.397173Z"
    }
   },
   "outputs": [
    {
     "data": {
      "text/plain": [
       "323.0"
      ]
     },
     "execution_count": 71,
     "metadata": {},
     "output_type": "execute_result"
    }
   ],
   "source": [
    "STEPS_PER_EPOCH_TEST=tf.math.ceil(test_size/BATCH_SIZE).numpy() #alternative = len(all_image_paths)\n",
    "STEPS_PER_EPOCH_TEST"
   ]
  },
  {
   "cell_type": "code",
   "execution_count": 72,
   "id": "f3c30673",
   "metadata": {
    "ExecuteTime": {
     "end_time": "2024-06-10T19:13:56.962996Z",
     "start_time": "2024-06-10T19:12:46.148824Z"
    }
   },
   "outputs": [
    {
     "name": "stdout",
     "output_type": "stream",
     "text": [
      "Test AUC: 0.6927852630615234\n"
     ]
    }
   ],
   "source": [
    "results = model.evaluate(test_ds, steps=STEPS_PER_EPOCH_TEST, verbose=0)\n",
    "print(f\"Test AUC: {results[2]}\")"
   ]
  },
  {
   "cell_type": "code",
   "execution_count": 73,
   "id": "552d27bc",
   "metadata": {
    "ExecuteTime": {
     "end_time": "2024-06-10T19:13:57.035481Z",
     "start_time": "2024-06-10T19:13:57.031640Z"
    }
   },
   "outputs": [
    {
     "data": {
      "text/plain": [
       "[0.29043471813201904, 0.3114357590675354, 0.6927852630615234]"
      ]
     },
     "execution_count": 73,
     "metadata": {},
     "output_type": "execute_result"
    }
   ],
   "source": [
    "results"
   ]
  },
  {
   "cell_type": "code",
   "execution_count": null,
   "id": "203be737",
   "metadata": {},
   "outputs": [],
   "source": []
  }
 ],
 "metadata": {
  "kernelspec": {
   "display_name": "Python 3 (ipykernel)",
   "language": "python",
   "name": "python3"
  },
  "language_info": {
   "codemirror_mode": {
    "name": "ipython",
    "version": 3
   },
   "file_extension": ".py",
   "mimetype": "text/x-python",
   "name": "python",
   "nbconvert_exporter": "python",
   "pygments_lexer": "ipython3",
   "version": "3.10.6"
  },
  "toc": {
   "base_numbering": 1,
   "nav_menu": {},
   "number_sections": true,
   "sideBar": true,
   "skip_h1_title": false,
   "title_cell": "Table of Contents",
   "title_sidebar": "Contents",
   "toc_cell": false,
   "toc_position": {
    "height": "calc(100% - 180px)",
    "left": "10px",
    "top": "150px",
    "width": "165px"
   },
   "toc_section_display": true,
   "toc_window_display": true
  },
  "varInspector": {
   "cols": {
    "lenName": 16,
    "lenType": 16,
    "lenVar": 40
   },
   "kernels_config": {
    "python": {
     "delete_cmd_postfix": "",
     "delete_cmd_prefix": "del ",
     "library": "var_list.py",
     "varRefreshCmd": "print(var_dic_list())"
    },
    "r": {
     "delete_cmd_postfix": ") ",
     "delete_cmd_prefix": "rm(",
     "library": "var_list.r",
     "varRefreshCmd": "cat(var_dic_list()) "
    }
   },
   "types_to_exclude": [
    "module",
    "function",
    "builtin_function_or_method",
    "instance",
    "_Feature"
   ],
   "window_display": false
  }
 },
 "nbformat": 4,
 "nbformat_minor": 5
}
