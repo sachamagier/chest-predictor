{
 "cells": [
  {
   "cell_type": "markdown",
   "metadata": {},
   "source": [
    "# DON'T USE THIS NOTEBOOK"
   ]
  },
  {
   "cell_type": "markdown",
   "metadata": {},
   "source": [
    "THIS NOTEBOOK IS JUST TO EXTRACT DATA FROM KAGGLE AND RESIZE THE DATA SO INSTEAD OF HAVING 45GB WE HAVE ONLY 3GB"
   ]
  },
  {
   "cell_type": "markdown",
   "metadata": {},
   "source": [
    "# Downloading the images and labels"
   ]
  },
  {
   "cell_type": "markdown",
   "metadata": {},
   "source": [
    "Setting up variables"
   ]
  },
  {
   "cell_type": "code",
   "execution_count": 1,
   "metadata": {
    "ExecuteTime": {
     "end_time": "2024-06-03T21:26:17.560653Z",
     "start_time": "2024-06-03T21:26:17.554399Z"
    },
    "execution": {
     "iopub.execute_input": "2024-06-03T16:02:33.812140Z",
     "iopub.status.busy": "2024-06-03T16:02:33.811662Z",
     "iopub.status.idle": "2024-06-03T16:02:33.818446Z",
     "shell.execute_reply": "2024-06-03T16:02:33.816967Z",
     "shell.execute_reply.started": "2024-06-03T16:02:33.812104Z"
    }
   },
   "outputs": [],
   "source": [
    "NUMBER_OF_IMAGES = 'full' # nbr of images to be loaded (int) or 'full' to load the entire dataset (+100k images)"
   ]
  },
  {
   "cell_type": "markdown",
   "metadata": {},
   "source": [
    "Extracting the images from the large dataset, resize them into 256/256 and saving them into a new folder"
   ]
  },
  {
   "cell_type": "code",
   "execution_count": 2,
   "metadata": {
    "ExecuteTime": {
     "end_time": "2024-06-03T22:15:06.756643Z",
     "start_time": "2024-06-03T21:31:40.564437Z"
    },
    "execution": {
     "iopub.execute_input": "2024-06-03T16:02:34.477476Z",
     "iopub.status.busy": "2024-06-03T16:02:34.477050Z",
     "iopub.status.idle": "2024-06-03T16:10:16.756015Z",
     "shell.execute_reply": "2024-06-03T16:10:16.754655Z",
     "shell.execute_reply.started": "2024-06-03T16:02:34.477441Z"
    }
   },
   "outputs": [
    {
     "name": "stdout",
     "output_type": "stream",
     "text": [
      "Extracting images from images_001\n",
      "Extracting images from images_002\n",
      "Extracting images from images_003\n",
      "Extracting images from images_004\n",
      "Extracting images from images_005\n",
      "Extracting images from images_006\n",
      "Extracting images from images_007\n",
      "Extracting images from images_008\n",
      "Extracting images from images_009\n",
      "Extracting images from images_010\n",
      "Extracting images from images_011\n",
      "Extracting images from images_012\n"
     ]
    }
   ],
   "source": [
    "import os\n",
    "import pandas as pd\n",
    "from PIL import Image\n",
    "\n",
    "# Create a list to store the images\n",
    "images_data = []\n",
    "\n",
    "if NUMBER_OF_IMAGES == 'full':\n",
    "\n",
    "    # Loop over the range of folder numbers\n",
    "    for folder_num in range(1, 13): #13\n",
    "        # Define the path to the folder\n",
    "        folder_path = f'../raw_data/raw_dataset/images_{folder_num:03d}/images/'\n",
    "\n",
    "        # Get a list of all files in the folder\n",
    "        file_list = os.listdir(folder_path)\n",
    "\n",
    "        print(f'Extracting images from images_{folder_num:03d}')\n",
    "\n",
    "        # Filter the list to only include image files\n",
    "        image_files = [f for f in file_list if f.endswith('.png') or f.endswith('.jpg') or f.endswith('.jpeg')]\n",
    "\n",
    "        # Loop through the image files\n",
    "        for image_file in image_files:\n",
    "            # Open the image file\n",
    "            image = Image.open(folder_path + image_file)\n",
    "            # Resize the image from 1024, 1024 to 256, 256\n",
    "            image = image.resize((256, 256))\n",
    "\n",
    "            # Save the resized image to the local folder\n",
    "            output_folder = f\"../raw_data/resized_dataset/images/set_{NUMBER_OF_IMAGES}\"\n",
    "            os.makedirs(output_folder, exist_ok=True)\n",
    "            output_path = os.path.join(output_folder, image_file)\n",
    "            image.save(output_path)\n",
    "\n",
    "            # Add the image to the list\n",
    "            #images_data.append((image_file, image))\n",
    "\n",
    "else:\n",
    "    # Define the path to the folder\n",
    "    folder_path = '../raw_data/raw_dataset/images_001/images/'\n",
    "\n",
    "    # Get a list of all files in the folder\n",
    "    file_list = os.listdir(folder_path)\n",
    "\n",
    "    # Filter the list to only include image files\n",
    "    image_files = [f for f in file_list if f.endswith('.png') or f.endswith('.jpg') or f.endswith('.jpeg')]\n",
    "\n",
    "    # Loop through the first NUMBER_OF_IMAGES\n",
    "    for i, image_file in enumerate(image_files):\n",
    "\n",
    "        # Stop the loop after NUMBER_OF_IMAGES iterations\n",
    "        if i == NUMBER_OF_IMAGES:\n",
    "            break\n",
    "\n",
    "        # Open the image file\n",
    "        image = Image.open(folder_path + image_file)\n",
    "        # Resize the image from 1024, 1024 to 256, 256\n",
    "        image = image.resize((256, 256))\n",
    "\n",
    "        # Save the resized image to the local folder\n",
    "        output_folder = f\"../raw_data/resized_dataset/images/set_{NUMBER_OF_IMAGES}\"\n",
    "        os.makedirs(output_folder, exist_ok=True)\n",
    "        output_path = os.path.join(output_folder, image_file)\n",
    "        image.save(output_path)\n",
    "\n",
    "        # Add the image to the list\n",
    "        #images_data.append((image_file, image))\n",
    "\n",
    "# Create a dataframe from the list of images and their indices\n",
    "#images_df = pd.DataFrame(images_data, columns=['Image Index', 'image'])\n",
    "\n",
    "# Set the index of the dataframe to the 'Image Index' column\n",
    "#images_df = images_df.set_index('Image Index').sort_index(ascending=True)"
   ]
  },
  {
   "cell_type": "code",
   "execution_count": 3,
   "metadata": {
    "ExecuteTime": {
     "end_time": "2024-06-03T22:15:14.861972Z",
     "start_time": "2024-06-03T22:15:14.669100Z"
    },
    "execution": {
     "iopub.execute_input": "2024-06-03T16:10:16.768993Z",
     "iopub.status.busy": "2024-06-03T16:10:16.768625Z",
     "iopub.status.idle": "2024-06-03T16:10:16.782960Z",
     "shell.execute_reply": "2024-06-03T16:10:16.781675Z",
     "shell.execute_reply.started": "2024-06-03T16:10:16.768963Z"
    }
   },
   "outputs": [
    {
     "ename": "NameError",
     "evalue": "name 'images_df' is not defined",
     "output_type": "error",
     "traceback": [
      "\u001b[0;31m---------------------------------------------------------------------------\u001b[0m",
      "\u001b[0;31mNameError\u001b[0m                                 Traceback (most recent call last)",
      "Cell \u001b[0;32mIn[3], line 1\u001b[0m\n\u001b[0;32m----> 1\u001b[0m \u001b[43mimages_df\u001b[49m\u001b[38;5;241m.\u001b[39mshape\n",
      "\u001b[0;31mNameError\u001b[0m: name 'images_df' is not defined"
     ]
    }
   ],
   "source": [
    "images_df.shape"
   ]
  },
  {
   "cell_type": "code",
   "execution_count": null,
   "metadata": {
    "ExecuteTime": {
     "end_time": "2024-06-03T21:14:00.345189Z",
     "start_time": "2024-06-03T21:13:59.083616Z"
    },
    "execution": {
     "iopub.execute_input": "2024-06-03T16:10:31.251641Z",
     "iopub.status.busy": "2024-06-03T16:10:31.251135Z",
     "iopub.status.idle": "2024-06-03T16:10:32.390633Z",
     "shell.execute_reply": "2024-06-03T16:10:32.389465Z",
     "shell.execute_reply.started": "2024-06-03T16:10:31.251604Z"
    }
   },
   "outputs": [],
   "source": [
    "import matplotlib.pyplot as plt\n",
    "plt.figure(figsize=(20,15))\n",
    "for i in range(8):\n",
    "    plt.subplot(1,8,i+1)\n",
    "    plt.imshow(images_df['image'][i], cmap='gray')"
   ]
  },
  {
   "cell_type": "code",
   "execution_count": null,
   "metadata": {
    "ExecuteTime": {
     "end_time": "2024-06-03T21:14:35.665345Z",
     "start_time": "2024-06-03T21:14:35.657440Z"
    },
    "execution": {
     "iopub.execute_input": "2024-06-03T16:10:32.393649Z",
     "iopub.status.busy": "2024-06-03T16:10:32.392758Z",
     "iopub.status.idle": "2024-06-03T16:10:32.400365Z",
     "shell.execute_reply": "2024-06-03T16:10:32.399067Z",
     "shell.execute_reply.started": "2024-06-03T16:10:32.393610Z"
    }
   },
   "outputs": [],
   "source": [
    "images_df['image'][0].size"
   ]
  },
  {
   "cell_type": "markdown",
   "metadata": {},
   "source": [
    "Downloading the labels"
   ]
  },
  {
   "cell_type": "code",
   "execution_count": null,
   "metadata": {
    "ExecuteTime": {
     "end_time": "2024-06-03T21:14:45.921932Z",
     "start_time": "2024-06-03T21:14:45.691888Z"
    },
    "execution": {
     "iopub.execute_input": "2024-06-03T16:10:33.449823Z",
     "iopub.status.busy": "2024-06-03T16:10:33.449436Z",
     "iopub.status.idle": "2024-06-03T16:10:33.656886Z",
     "shell.execute_reply": "2024-06-03T16:10:33.655622Z",
     "shell.execute_reply.started": "2024-06-03T16:10:33.449792Z"
    }
   },
   "outputs": [],
   "source": [
    "labels_df = pd.read_csv('/kaggle/input/data/Data_Entry_2017.csv')"
   ]
  },
  {
   "cell_type": "code",
   "execution_count": null,
   "metadata": {
    "execution": {
     "iopub.execute_input": "2024-06-03T16:10:33.989228Z",
     "iopub.status.busy": "2024-06-03T16:10:33.988359Z",
     "iopub.status.idle": "2024-06-03T16:10:34.010869Z",
     "shell.execute_reply": "2024-06-03T16:10:34.009644Z",
     "shell.execute_reply.started": "2024-06-03T16:10:33.989187Z"
    }
   },
   "outputs": [],
   "source": [
    "labels_df.head()"
   ]
  },
  {
   "cell_type": "markdown",
   "metadata": {},
   "source": [
    "Merging the datasets (images and labels)"
   ]
  },
  {
   "cell_type": "code",
   "execution_count": null,
   "metadata": {
    "execution": {
     "iopub.execute_input": "2024-06-03T16:10:34.979262Z",
     "iopub.status.busy": "2024-06-03T16:10:34.978853Z",
     "iopub.status.idle": "2024-06-03T16:10:35.016356Z",
     "shell.execute_reply": "2024-06-03T16:10:35.015207Z",
     "shell.execute_reply.started": "2024-06-03T16:10:34.979229Z"
    }
   },
   "outputs": [],
   "source": [
    "# Merge the image_df and labels_df dataframes on the 'Image Index' column\n",
    "merged_df = pd.merge(images_df, labels_df[['Image Index', 'Finding Labels']], left_index=True, right_on='Image Index', how='inner')\n",
    "\n",
    "# Rename the 'Finding Labels' column to 'labels'\n",
    "merged_df = merged_df.rename(columns={'Finding Labels': 'labels'})\n",
    "\n",
    "# Set the index of the dataframe to the 'Image Index' column\n",
    "merged_df = merged_df.set_index('Image Index').sort_index(ascending=True)\n"
   ]
  },
  {
   "cell_type": "code",
   "execution_count": null,
   "metadata": {
    "execution": {
     "iopub.execute_input": "2024-06-03T16:10:35.709205Z",
     "iopub.status.busy": "2024-06-03T16:10:35.708815Z",
     "iopub.status.idle": "2024-06-03T16:10:35.722249Z",
     "shell.execute_reply": "2024-06-03T16:10:35.721047Z",
     "shell.execute_reply.started": "2024-06-03T16:10:35.709174Z"
    }
   },
   "outputs": [],
   "source": [
    "merged_df.head()"
   ]
  },
  {
   "cell_type": "code",
   "execution_count": null,
   "metadata": {
    "execution": {
     "iopub.execute_input": "2024-06-03T16:10:45.866978Z",
     "iopub.status.busy": "2024-06-03T16:10:45.865658Z",
     "iopub.status.idle": "2024-06-03T16:10:45.887552Z",
     "shell.execute_reply": "2024-06-03T16:10:45.886443Z",
     "shell.execute_reply.started": "2024-06-03T16:10:45.866933Z"
    }
   },
   "outputs": [],
   "source": [
    "merged_df.info()"
   ]
  },
  {
   "cell_type": "code",
   "execution_count": null,
   "metadata": {},
   "outputs": [],
   "source": []
  }
 ],
 "metadata": {
  "kaggle": {
   "accelerator": "none",
   "dataSources": [
    {
     "datasetId": 5839,
     "sourceId": 18613,
     "sourceType": "datasetVersion"
    }
   ],
   "dockerImageVersionId": 30715,
   "isGpuEnabled": false,
   "isInternetEnabled": false,
   "language": "python",
   "sourceType": "notebook"
  },
  "kernelspec": {
   "display_name": "Python 3 (ipykernel)",
   "language": "python",
   "name": "python3"
  },
  "language_info": {
   "codemirror_mode": {
    "name": "ipython",
    "version": 3
   },
   "file_extension": ".py",
   "mimetype": "text/x-python",
   "name": "python",
   "nbconvert_exporter": "python",
   "pygments_lexer": "ipython3",
   "version": "3.10.6"
  },
  "toc": {
   "base_numbering": 1,
   "nav_menu": {},
   "number_sections": true,
   "sideBar": true,
   "skip_h1_title": false,
   "title_cell": "Table of Contents",
   "title_sidebar": "Contents",
   "toc_cell": false,
   "toc_position": {},
   "toc_section_display": true,
   "toc_window_display": false
  },
  "varInspector": {
   "cols": {
    "lenName": 16,
    "lenType": 16,
    "lenVar": 40
   },
   "kernels_config": {
    "python": {
     "delete_cmd_postfix": "",
     "delete_cmd_prefix": "del ",
     "library": "var_list.py",
     "varRefreshCmd": "print(var_dic_list())"
    },
    "r": {
     "delete_cmd_postfix": ") ",
     "delete_cmd_prefix": "rm(",
     "library": "var_list.r",
     "varRefreshCmd": "cat(var_dic_list()) "
    }
   },
   "types_to_exclude": [
    "module",
    "function",
    "builtin_function_or_method",
    "instance",
    "_Feature"
   ],
   "window_display": false
  }
 },
 "nbformat": 4,
 "nbformat_minor": 4
}
