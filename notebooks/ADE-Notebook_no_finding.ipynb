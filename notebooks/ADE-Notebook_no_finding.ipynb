{
 "cells": [
  {
   "cell_type": "markdown",
   "id": "cd2a6b9e",
   "metadata": {},
   "source": [
    "# Chest-prediction - V2\n"
   ]
  },
  {
   "cell_type": "markdown",
   "id": "b8e18f67",
   "metadata": {},
   "source": [
    "## Setup"
   ]
  },
  {
   "cell_type": "code",
<<<<<<< HEAD
   "execution_count": 170,
   "id": "14bcc027",
   "metadata": {},
=======
   "execution_count": 1,
   "id": "14bcc027",
   "metadata": {
    "ExecuteTime": {
     "end_time": "2024-06-10T18:13:20.336335Z",
     "start_time": "2024-06-10T18:13:20.334306Z"
    }
   },
>>>>>>> master
   "outputs": [],
   "source": [
    "import numpy as np"
   ]
  },
  {
   "cell_type": "code",
<<<<<<< HEAD
   "execution_count": 171,
   "id": "1cfc0f0f",
   "metadata": {
    "ExecuteTime": {
     "end_time": "2024-06-10T08:09:04.090177Z",
     "start_time": "2024-06-10T08:09:04.082979Z"
=======
   "execution_count": 2,
   "id": "1cfc0f0f",
   "metadata": {
    "ExecuteTime": {
     "end_time": "2024-06-10T18:13:22.257608Z",
     "start_time": "2024-06-10T18:13:20.650708Z"
>>>>>>> master
    }
   },
   "outputs": [
    {
     "data": {
      "text/plain": [
       "'2.15.0'"
      ]
     },
<<<<<<< HEAD
     "execution_count": 171,
=======
     "execution_count": 2,
>>>>>>> master
     "metadata": {},
     "output_type": "execute_result"
    }
   ],
   "source": [
    "import tensorflow as tf\n",
    "tf.__version__"
   ]
  },
  {
   "cell_type": "code",
<<<<<<< HEAD
   "execution_count": 172,
   "id": "0c0d11ca",
   "metadata": {
    "ExecuteTime": {
     "end_time": "2024-06-10T08:09:04.095832Z",
     "start_time": "2024-06-10T08:09:04.093280Z"
=======
   "execution_count": 3,
   "id": "0c0d11ca",
   "metadata": {
    "ExecuteTime": {
     "end_time": "2024-06-10T18:13:22.265293Z",
     "start_time": "2024-06-10T18:13:22.263918Z"
>>>>>>> master
    }
   },
   "outputs": [],
   "source": [
    "AUTOTUNE = tf.data.AUTOTUNE"
   ]
  },
  {
   "cell_type": "markdown",
   "id": "0c221a69",
   "metadata": {},
   "source": [
    "## Download and inspect the dataset"
   ]
  },
  {
   "cell_type": "markdown",
   "id": "7736323a",
   "metadata": {},
   "source": [
    "### Retrieve the images\n",
    "\n",
    "Before you start any training, you'll need to download the dataset. I already resized the original dataset of the images to pass from 45GB to 3GB."
   ]
  },
  {
   "cell_type": "code",
<<<<<<< HEAD
   "execution_count": 173,
   "id": "c236a574",
   "metadata": {
    "ExecuteTime": {
     "end_time": "2024-06-10T08:09:04.101439Z",
     "start_time": "2024-06-10T08:09:04.097583Z"
=======
   "execution_count": 4,
   "id": "c236a574",
   "metadata": {
    "ExecuteTime": {
     "end_time": "2024-06-10T18:13:24.806911Z",
     "start_time": "2024-06-10T18:13:24.780059Z"
>>>>>>> master
    }
   },
   "outputs": [],
   "source": [
    "import os\n",
    "from pathlib import Path\n",
    "\n",
    "project_name = \"chest-predictor\"\n",
    "username = os.environ.get('USER')\n",
    "\n",
    "#Set variables (origin url, destination folder, folder name)\n",
    "data_url = 'https://storage.googleapis.com/chest-predictor-data/resized_dataset.zip'\n",
    "data_dir = f\"/Users/{username}/code/sachamagier/{project_name}/raw_data\"\n",
    "data_fname = 'resized_dataset.zip'\n",
    "\n",
    "\n",
    "#Downloading the dataset\n",
    "data_root_orig = tf.keras.utils.get_file(\n",
    "    fname=os.path.join(data_dir, data_fname),\n",
    "    origin=data_url\n",
    ")"
   ]
  },
  {
   "cell_type": "markdown",
   "id": "d68fea74",
   "metadata": {},
   "source": [
    "Unzip the dataset download from GCS"
   ]
  },
  {
   "cell_type": "markdown",
   "id": "820ef572",
   "metadata": {},
   "source": [
    "** **Uncomment the block below if you need to unzip the file** **"
   ]
  },
  {
   "cell_type": "code",
<<<<<<< HEAD
   "execution_count": 174,
   "id": "8c68de49",
   "metadata": {
    "ExecuteTime": {
     "end_time": "2024-06-10T08:09:04.105412Z",
     "start_time": "2024-06-10T08:09:04.103689Z"
=======
   "execution_count": null,
   "id": "8c68de49",
   "metadata": {
    "ExecuteTime": {
     "end_time": "2024-06-10T18:12:25.974936Z",
     "start_time": "2024-06-10T18:12:10.705381Z"
>>>>>>> master
    }
   },
   "outputs": [],
   "source": [
    "import zipfile\n",
    "\n",
    "#Extract the dataset\n",
    "with zipfile.ZipFile(data_root_orig, 'r') as zip_ref:\n",
    "    zip_ref.extractall(data_dir)"
   ]
  },
  {
   "cell_type": "code",
<<<<<<< HEAD
   "execution_count": 175,
   "id": "98c4b71c",
   "metadata": {
    "ExecuteTime": {
     "end_time": "2024-06-10T08:09:04.108054Z",
     "start_time": "2024-06-10T08:09:04.106248Z"
=======
   "execution_count": 5,
   "id": "98c4b71c",
   "metadata": {
    "ExecuteTime": {
     "end_time": "2024-06-10T18:13:28.884376Z",
     "start_time": "2024-06-10T18:13:28.879882Z"
>>>>>>> master
    }
   },
   "outputs": [
    {
     "name": "stdout",
     "output_type": "stream",
     "text": [
<<<<<<< HEAD
      "/Users/sachamagier/code/sachamagier/chest-predictor/raw_data/resized_dataset\n"
=======
      "/Users/arnodebelle/code/sachamagier/chest-predictor/raw_data/resized_dataset\n"
>>>>>>> master
     ]
    }
   ],
   "source": [
    "#Set the new data_root\n",
    "data_root = Path(os.path.join(data_dir, 'resized_dataset'))\n",
    "print(data_root)"
   ]
  },
  {
   "cell_type": "code",
<<<<<<< HEAD
   "execution_count": 176,
   "id": "19fd7ad8",
   "metadata": {
    "ExecuteTime": {
     "end_time": "2024-06-10T08:09:04.111011Z",
     "start_time": "2024-06-10T08:09:04.108946Z"
=======
   "execution_count": 6,
   "id": "19fd7ad8",
   "metadata": {
    "ExecuteTime": {
     "end_time": "2024-06-10T18:13:29.794982Z",
     "start_time": "2024-06-10T18:13:29.790374Z"
>>>>>>> master
    }
   },
   "outputs": [],
   "source": [
    "#This remove the '__MACOSX' file that is created on Mac Laptops\n",
    "import shutil\n",
    "\n",
    "if Path(os.path.join(data_dir, \"__MACOSX\")).is_dir():\n",
    "    # remove the __MACOSX folder if it exists\n",
    "    shutil.rmtree(\"../raw_data/__MACOSX\")"
   ]
  },
  {
   "cell_type": "code",
<<<<<<< HEAD
   "execution_count": 177,
   "id": "db3ca27f",
   "metadata": {
    "ExecuteTime": {
     "end_time": "2024-06-10T08:09:04.280651Z",
     "start_time": "2024-06-10T08:09:04.111877Z"
=======
   "execution_count": 7,
   "id": "db3ca27f",
   "metadata": {
    "ExecuteTime": {
     "end_time": "2024-06-10T18:13:30.621088Z",
     "start_time": "2024-06-10T18:13:30.422972Z"
>>>>>>> master
    }
   },
   "outputs": [],
   "source": [
    "#Get all image paths\n",
    "all_image_paths = [str(path) for path in (data_root/\"images\"/\"set_full\").iterdir()]"
   ]
  },
  {
   "cell_type": "code",
<<<<<<< HEAD
   "execution_count": 178,
   "id": "500e6765",
   "metadata": {
    "ExecuteTime": {
     "end_time": "2024-06-10T08:09:04.283755Z",
     "start_time": "2024-06-10T08:09:04.281552Z"
=======
   "execution_count": 8,
   "id": "500e6765",
   "metadata": {
    "ExecuteTime": {
     "end_time": "2024-06-10T18:13:31.689610Z",
     "start_time": "2024-06-10T18:13:31.683618Z"
>>>>>>> master
    }
   },
   "outputs": [
    {
     "data": {
      "text/plain": [
       "112120"
      ]
     },
<<<<<<< HEAD
     "execution_count": 178,
=======
     "execution_count": 8,
>>>>>>> master
     "metadata": {},
     "output_type": "execute_result"
    }
   ],
   "source": [
    "image_count = len(all_image_paths)\n",
    "image_count"
   ]
  },
  {
   "cell_type": "markdown",
   "id": "728c5fdb",
   "metadata": {},
   "source": [
    "** **Uncomment this block below if if it's the first time you download and unzip the dataset and didn't get a len(all_image_paths) of 111601 - it will find all (256,256,4) images and delete them** **"
   ]
  },
  {
   "cell_type": "code",
<<<<<<< HEAD
   "execution_count": 179,
   "id": "9dd449b8",
   "metadata": {
    "ExecuteTime": {
     "end_time": "2024-06-10T08:09:04.286018Z",
     "start_time": "2024-06-10T08:09:04.284537Z"
    }
=======
   "execution_count": 9,
   "id": "9dd449b8",
   "metadata": {
    "ExecuteTime": {
     "end_time": "2024-06-10T18:15:32.024277Z",
     "start_time": "2024-06-10T18:13:34.386305Z"
    },
    "scrolled": true
>>>>>>> master
   },
   "outputs": [
    {
     "name": "stdout",
     "output_type": "stream",
     "text": [
      "Images to be removed:  ['00027784_006.png', '00000497_000.png', '00030323_020.png', '00007188_006.png', '00006993_000.png', '00004438_004.png', '00001280_003.png', '00006214_000.png', '00004281_003.png', '00007041_000.png', '00003215_000.png', '00004770_000.png', '00005496_000.png', '00001882_001.png', '00007174_001.png', '00028661_000.png', '00000122_000.png', '00001305_000.png', '00005722_002.png', '00000218_004.png', '00000579_000.png', '00007471_002.png', '00001055_002.png', '00014486_003.png', '00006763_003.png', '00004784_000.png', '00014419_001.png', '00003976_000.png', '00030798_000.png', '00001252_001.png', '00005813_000.png', '00000918_000.png', '00005394_000.png', '00021131_005.png', '00004072_000.png', '00003821_001.png', '00005568_000.png', '00004877_001.png', '00014426_000.png', '00005123_000.png', '00011963_001.png', '00000955_001.png', '00001532_000.png', '00003923_007.png', '00003923_005.png', '00007048_000.png', '00000210_000.png', '00001558_010.png', '00006109_000.png', '00014223_008.png', '00007780_004.png', '00001280_000.png', '00002863_000.png', '00006214_003.png', '00025277_001.png', '00000856_000.png', '00001230_003.png', '00018739_023.png', '00020933_002.png', '00005176_005.png', '00007234_000.png', '00002072_008.png', '00005722_001.png', '00014211_003.png', '00000347_000.png', '00003145_000.png', '00003678_000.png', '00004548_000.png', '00000273_004.png', '00012241_002.png', '00006467_000.png', '00005966_008.png', '00005158_000.png', '00001274_000.png', '00006232_000.png', '00002310_000.png', '00014223_009.png', '00003137_000.png', '00004974_001.png', '00006109_001.png', '00030323_022.png', '00017835_031.png', '00007765_001.png', '00000955_002.png', '00005395_002.png', '00011074_001.png', '00007049_000.png', '00004582_001.png', '00004566_000.png', '00006891_000.png', '00015626_000.png', '00007247_000.png', '00000201_000.png', '00004644_002.png', '00005445_000.png', '00003634_000.png', '00001054_000.png', '00005210_000.png', '00006002_000.png', '00000115_000.png', '00000900_001.png', '00000825_000.png', '00019664_000.png', '00000370_003.png', '00002510_002.png', '00006127_000.png', '00006391_005.png', '00006277_002.png', '00004421_000.png', '00002791_000.png', '00020390_002.png', '00001567_001.png', '00001593_000.png', '00001637_003.png', '00006024_003.png', '00000287_000.png', '00003880_001.png', '00006865_000.png', '00006084_000.png', '00006214_007.png', '00014208_005.png', '00004974_004.png', '00004576_001.png', '00007131_001.png', '00001420_000.png', '00007979_001.png', '00007004_000.png', '00005502_014.png', '00005524_002.png', '00005766_004.png', '00004703_000.png', '00002720_004.png', '00005502_002.png', '00006215_000.png', '00004465_000.png', '00004358_000.png', '00030323_019.png', '00004882_001.png', '00006843_000.png', '00001206_007.png', '00005487_000.png', '00004383_000.png', '00005723_003.png', '00007076_002.png', '00004771_000.png', '00023570_000.png', '00008297_005.png', '00007040_001.png', '00000766_000.png', '00004519_009.png', '00000123_000.png', '00007165_000.png', '00001054_002.png', '00006709_000.png', '00006671_000.png', '00010808_008.png', '00005579_000.png', '00000151_000.png', '00000141_000.png', '00001416_001.png', '00005512_003.png', '00011723_039.png', '00000107_000.png', '00007034_037.png', '00006523_000.png', '00018317_003.png', '00006989_000.png', '00005447_000.png', '00004517_005.png', '00006275_003.png', '00005788_000.png', '00023604_003.png', '00015831_012.png', '00011702_034.png', '00005510_001.png', '00007245_000.png', '00006230_004.png', '00005435_000.png', '00006627_000.png', '00004602_000.png', '00024210_000.png', '00002226_000.png', '00004612_000.png', '00010352_002.png', '00020434_009.png', '00006439_000.png', '00003383_000.png', '00006160_013.png', '00006147_000.png', '00005682_001.png', '00005023_000.png', '00006243_000.png', '00000318_004.png', '00006760_000.png', '00004694_000.png', '00006000_001.png', '00024879_000.png', '00002639_003.png', '00005995_001.png', '00002629_001.png', '00000059_001.png', '00005519_001.png', '00006823_000.png', '00005460_004.png', '00005798_003.png', '00000004_000.png', '00003206_000.png', '00000076_000.png', '00004477_000.png', '00006019_000.png', '00014397_003.png', '00005935_000.png', '00005935_001.png', '00005913_003.png', '00003027_000.png', '00009034_004.png', '00006990_001.png', '00014397_002.png', '00004477_001.png', '00005622_001.png', '00005896_001.png', '00009232_002.png', '00005224_000.png', '00006499_001.png', '00005717_000.png', '00001951_011.png', '00001306_000.png', '00001316_000.png', '00023336_000.png', '00014174_004.png', '00000536_000.png', '00007335_000.png', '00013360_000.png', '00006757_000.png', '00003217_000.png', '00029585_000.png', '00016987_017.png', '00015449_003.png', '00007497_002.png', '00003281_001.png', '00005537_000.png', '00017735_002.png', '00010352_004.png', '00023344_000.png', '00010352_010.png', '00006981_001.png', '00004940_000.png', '00005935_004.png', '00003916_000.png', '00010352_039.png', '00004360_008.png', '00000083_000.png', '00002052_001.png', '00002857_000.png', '00002227_002.png', '00001109_000.png', '00005970_003.png', '00000058_000.png', '00006280_000.png', '00030408_001.png', '00014174_005.png', '00010829_000.png', '00014545_001.png', '00002813_000.png', '00011978_000.png', '00005756_008.png', '00006522_000.png', '00002578_000.png', '00004709_000.png', '00002255_000.png', '00004719_000.png', '00004060_002.png', '00004094_003.png', '00000832_008.png', '00005934_003.png', '00006305_000.png', '00005693_000.png', '00001433_001.png', '00000139_001.png', '00001282_000.png', '00005935_006.png', '00005479_001.png', '00001755_001.png', '00010352_007.png', '00010352_006.png', '00007209_000.png', '00005501_000.png', '00005479_000.png', '00004853_000.png', '00002846_012.png', '00004695_000.png', '00003611_003.png', '00012314_003.png', '00005960_000.png', '00006697_007.png', '00005555_002.png', '00005721_004.png', '00007313_000.png', '00006102_002.png', '00001410_002.png', '00005027_000.png', '00000929_001.png', '00026725_006.png', '00005746_010.png', '00016987_018.png', '00002843_012.png', '00005907_000.png', '00013993_015.png', '00001561_001.png', '00019407_002.png', '00010530_024.png', '00002589_000.png', '00015530_141.png', '00004360_006.png', '00001369_000.png', '00004664_000.png', '00012139_000.png', '00004502_000.png', '00004512_000.png', '00007145_000.png', '00013993_014.png', '00003738_000.png', '00013539_000.png', '00006897_000.png', '00005746_011.png', '00030374_001.png', '00004973_000.png', '00001287_000.png', '00029025_000.png', '00000298_000.png', '00029745_001.png', '00014549_000.png', '00013993_016.png', '00029222_003.png', '00005636_000.png', '00007056_000.png', '00006117_000.png', '00007258_000.png', '00007233_003.png', '00005465_001.png', '00004395_000.png', '00002905_000.png', '00002983_001.png', '00007588_002.png', '00007684_004.png', '00006855_000.png', '00001776_000.png', '00006984_000.png', '00000429_000.png', '00010625_023.png', '00002057_000.png', '00012403_000.png', '00000086_001.png', '00003344_000.png', '00005794_001.png', '00007078_000.png', '00016786_010.png', '00006180_000.png', '00003752_001.png', '00008645_002.png', '00004750_003.png', '00002101_000.png', '00004132_010.png', '00006015_002.png', '00006189_002.png', '00006015_003.png', '00005480_000.png', '00007951_002.png', '00004132_011.png', '00014769_000.png', '00014939_001.png', '00004776_000.png', '00005655_000.png', '00006138_004.png', '00003354_001.png', '00014989_000.png', '00004454_000.png', '00014716_009.png', '00002320_002.png', '00018802_006.png', '00008072_001.png', '00013615_051.png', '00002543_000.png', '00005577_000.png', '00001140_002.png', '00006246_000.png', '00008499_002.png', '00000917_000.png', '00006968_000.png', '00006015_001.png', '00020434_010.png', '00006033_002.png', '00002404_000.png', '00014712_000.png', '00002807_000.png', '00008470_009.png', '00006138_007.png', '00007684_002.png', '00006212_003.png', '00011322_006.png', '00003372_000.png', '00000206_000.png', '00005416_002.png', '00001255_006.png', '00006296_000.png', '00000806_000.png', '00004934_000.png', '00001622_000.png', '00006214_009.png', '00017123_004.png', '00002608_002.png', '00002990_000.png', '00006699_002.png', '00002072_003.png', '00000095_000.png', '00003400_003.png', '00004518_000.png', '00006271_060.png', '00003263_000.png', '00006948_020.png', '00000317_000.png', '00014380_003.png', '00004808_003.png', '00026982_004.png', '00004873_000.png', '00005598_000.png', '00005895_008.png', '00018224_010.png', '00000773_001.png', '00004925_004.png', '00017123_005.png', '00006149_001.png', '00020852_022.png', '00006208_006.png', '00022295_001.png', '00019576_063.png', '00005853_003.png', '00000660_000.png', '00003002_009.png', '00004693_000.png', '00000292_000.png', '00001206_008.png', '00019492_003.png', '00000967_000.png', '00017325_001.png', '00000398_000.png', '00010698_049.png', '00004720_000.png', '00010775_000.png', '00004730_000.png', '00001260_000.png', '00005719_000.png', '00003255_000.png', '00010640_000.png', '00002221_000.png', '00023329_000.png', '00001676_000.png', '00000214_000.png', '00005888_000.png', '00000727_000.png', '00000100_000.png', '00007156_000.png', '00019373_056.png', '00002253_000.png', '00004677_000.png', '00005977_010.png', '00005591_000.png', '00002382_000.png', '00019521_002.png', '00007442_013.png', '00005388_004.png', '00007034_063.png', '00004826_000.png', '00015530_044.png', '00015530_050.png', '00000888_001.png', '00005528_004.png', '00001720_000.png', '00030079_066.png', '00029654_001.png', '00000603_000.png', '00006080_000.png', '00006861_000.png', '00010531_044.png', '00006074_000.png', '00023328_000.png', '00003426_006.png', '00000976_001.png', '00030805_000.png', '00004985_001.png', '00017138_111.png', '00007583_002.png', '00014223_011.png', '00004640_000.png', '00002431_000.png', '00007034_064.png', '00005839_001.png', '00000084_000.png', '00015572_000.png', '00012524_000.png', '00004872_001.png', '00004632_000.png', '00002072_012.png', '00015844_001.png', '00006904_009.png', '00015530_126.png', '00001396_000.png', '00002184_000.png', '00003262_000.png', '00006211_000.png', '00004519_000.png', '00002840_001.png', '00005365_000.png', '00006177_000.png', '00014223_006.png', '00014223_012.png', '00006691_000.png', '00007217_001.png', '00006825_000.png']\n"
     ]
    }
   ],
   "source": [
    "from PIL import Image\n",
    "\n",
    "# specify your dataset directory\n",
    "data_directory = data_root/\"images\"/\"set_full\"\n",
    "\n",
    "# list to store the names of the images to be removed\n",
    "images_to_remove = []\n",
    "\n",
    "# iterate over all files in the dataset directory\n",
    "for filename in os.listdir(data_directory):\n",
    "    if filename.endswith(\".png\"):  # make sure it's a png file\n",
    "        file_path = os.path.join(data_directory, filename)\n",
    "        image = Image.open(file_path)  # load the image with Pillow\n",
    "\n",
    "        # convert the image to a numpy array to check its shape\n",
    "        image_array = np.array(image)\n",
    "\n",
    "        # check the shape of the image\n",
    "        if image_array.shape == (256, 256, 4):\n",
    "            images_to_remove.append(filename)  # add the filename to the list if it's to be removed\n",
    "\n",
    "# print the names of the images to be removed\n",
<<<<<<< HEAD
    "print(\"Images to be removed: \", images_to_remove)\n",
    "\n",
    "# uncomment the following lines if you're sure about the images to be removed\n",
    "for filename in images_to_remove:\n",
    "    os.remove(os.path.join(data_directory, filename))\n"
=======
    "print(\"Images to be removed: \", images_to_remove)\n"
>>>>>>> master
   ]
  },
  {
   "cell_type": "code",
<<<<<<< HEAD
   "execution_count": 180,
   "id": "846ba9cb",
   "metadata": {},
=======
   "execution_count": 12,
   "id": "846ba9cb",
   "metadata": {
    "ExecuteTime": {
     "end_time": "2024-06-10T18:16:45.830697Z",
     "start_time": "2024-06-10T18:16:45.754491Z"
    },
    "collapsed": true
   },
>>>>>>> master
   "outputs": [
    {
     "name": "stdout",
     "output_type": "stream",
     "text": [
<<<<<<< HEAD
      "The file does not exist\n",
      "The file does not exist\n",
      "The file does not exist\n",
      "The file does not exist\n",
      "The file does not exist\n",
      "The file does not exist\n",
      "The file does not exist\n",
      "The file does not exist\n",
      "The file does not exist\n",
      "The file does not exist\n",
      "The file does not exist\n",
      "The file does not exist\n",
      "The file does not exist\n",
      "The file does not exist\n",
      "The file does not exist\n",
      "The file does not exist\n",
      "The file does not exist\n",
      "The file does not exist\n",
      "The file does not exist\n",
      "The file does not exist\n",
      "The file does not exist\n",
      "The file does not exist\n",
      "The file does not exist\n",
      "The file does not exist\n",
      "The file does not exist\n",
      "The file does not exist\n",
      "The file does not exist\n",
      "The file does not exist\n",
      "The file does not exist\n",
      "The file does not exist\n",
      "The file does not exist\n",
      "The file does not exist\n",
      "The file does not exist\n",
      "The file does not exist\n",
      "The file does not exist\n",
      "The file does not exist\n",
      "The file does not exist\n",
      "The file does not exist\n",
      "The file does not exist\n",
      "The file does not exist\n",
      "The file does not exist\n",
      "The file does not exist\n",
      "The file does not exist\n",
      "The file does not exist\n",
      "The file does not exist\n",
      "The file does not exist\n",
      "The file does not exist\n",
      "The file does not exist\n",
      "The file does not exist\n",
      "The file does not exist\n",
      "The file does not exist\n",
      "The file does not exist\n",
      "The file does not exist\n",
      "The file does not exist\n",
      "The file does not exist\n",
      "The file does not exist\n",
      "The file does not exist\n",
      "The file does not exist\n",
      "The file does not exist\n",
      "The file does not exist\n",
      "The file does not exist\n",
      "The file does not exist\n",
      "The file does not exist\n",
      "The file does not exist\n",
      "The file does not exist\n",
      "The file does not exist\n",
      "The file does not exist\n",
      "The file does not exist\n",
      "The file does not exist\n",
      "The file does not exist\n",
      "The file does not exist\n",
      "The file does not exist\n",
      "The file does not exist\n",
      "The file does not exist\n",
      "The file does not exist\n",
      "The file does not exist\n",
      "The file does not exist\n",
      "The file does not exist\n",
      "The file does not exist\n",
      "The file does not exist\n",
      "The file does not exist\n",
      "The file does not exist\n",
      "The file does not exist\n",
      "The file does not exist\n",
      "The file does not exist\n",
      "The file does not exist\n",
      "The file does not exist\n",
      "The file does not exist\n",
      "The file does not exist\n",
      "The file does not exist\n",
      "The file does not exist\n",
      "The file does not exist\n",
      "The file does not exist\n",
      "The file does not exist\n",
      "The file does not exist\n",
      "The file does not exist\n",
      "The file does not exist\n",
      "The file does not exist\n",
      "The file does not exist\n",
      "The file does not exist\n",
      "The file does not exist\n",
      "The file does not exist\n",
      "The file does not exist\n",
      "The file does not exist\n",
      "The file does not exist\n",
      "The file does not exist\n",
      "The file does not exist\n",
      "The file does not exist\n",
      "The file does not exist\n",
      "The file does not exist\n",
      "The file does not exist\n",
      "The file does not exist\n",
      "The file does not exist\n",
      "The file does not exist\n",
      "The file does not exist\n",
      "The file does not exist\n",
      "The file does not exist\n",
      "The file does not exist\n",
      "The file does not exist\n",
      "The file does not exist\n",
      "The file does not exist\n",
      "The file does not exist\n",
      "The file does not exist\n",
      "The file does not exist\n",
      "The file does not exist\n",
      "The file does not exist\n",
      "The file does not exist\n",
      "The file does not exist\n",
      "The file does not exist\n",
      "The file does not exist\n",
      "The file does not exist\n",
      "The file does not exist\n",
      "The file does not exist\n",
      "The file does not exist\n",
      "The file does not exist\n",
      "The file does not exist\n",
      "The file does not exist\n",
      "The file does not exist\n",
      "The file does not exist\n",
      "The file does not exist\n",
      "The file does not exist\n",
      "The file does not exist\n",
      "The file does not exist\n",
      "The file does not exist\n",
      "The file does not exist\n",
      "The file does not exist\n",
      "The file does not exist\n",
      "The file does not exist\n",
      "The file does not exist\n",
      "The file does not exist\n",
      "The file does not exist\n",
      "The file does not exist\n",
      "The file does not exist\n",
      "The file does not exist\n",
      "The file does not exist\n",
      "The file does not exist\n",
      "The file does not exist\n",
      "The file does not exist\n",
      "The file does not exist\n",
      "The file does not exist\n",
      "The file does not exist\n",
      "The file does not exist\n",
      "The file does not exist\n",
      "The file does not exist\n",
      "The file does not exist\n",
      "The file does not exist\n",
      "The file does not exist\n",
      "The file does not exist\n",
      "The file does not exist\n",
      "The file does not exist\n",
      "The file does not exist\n",
      "The file does not exist\n",
      "The file does not exist\n",
      "The file does not exist\n",
      "The file does not exist\n",
      "The file does not exist\n",
      "The file does not exist\n",
      "The file does not exist\n",
      "The file does not exist\n",
      "The file does not exist\n",
      "The file does not exist\n",
      "The file does not exist\n",
      "The file does not exist\n",
      "The file does not exist\n",
      "The file does not exist\n",
      "The file does not exist\n",
      "The file does not exist\n",
      "The file does not exist\n",
      "The file does not exist\n",
      "The file does not exist\n",
      "The file does not exist\n",
      "The file does not exist\n",
      "The file does not exist\n",
      "The file does not exist\n",
      "The file does not exist\n",
      "The file does not exist\n",
      "The file does not exist\n",
      "The file does not exist\n",
      "The file does not exist\n",
      "The file does not exist\n",
      "The file does not exist\n",
      "The file does not exist\n",
      "The file does not exist\n",
      "The file does not exist\n",
      "The file does not exist\n",
      "The file does not exist\n",
      "The file does not exist\n",
      "The file does not exist\n",
      "The file does not exist\n",
      "The file does not exist\n",
      "The file does not exist\n",
      "The file does not exist\n",
      "The file does not exist\n",
      "The file does not exist\n",
      "The file does not exist\n",
      "The file does not exist\n",
      "The file does not exist\n",
      "The file does not exist\n",
      "The file does not exist\n",
      "The file does not exist\n",
      "The file does not exist\n",
      "The file does not exist\n",
      "The file does not exist\n",
      "The file does not exist\n",
      "The file does not exist\n",
      "The file does not exist\n",
      "The file does not exist\n",
      "The file does not exist\n",
      "The file does not exist\n",
      "The file does not exist\n",
      "The file does not exist\n",
      "The file does not exist\n",
      "The file does not exist\n",
      "The file does not exist\n",
      "The file does not exist\n",
      "The file does not exist\n",
      "The file does not exist\n",
      "The file does not exist\n",
      "The file does not exist\n",
      "The file does not exist\n",
      "The file does not exist\n",
      "The file does not exist\n",
      "The file does not exist\n",
      "The file does not exist\n",
      "The file does not exist\n",
      "The file does not exist\n",
      "The file does not exist\n",
      "The file does not exist\n",
      "The file does not exist\n",
      "The file does not exist\n",
      "The file does not exist\n",
      "The file does not exist\n",
      "The file does not exist\n",
      "The file does not exist\n",
      "The file does not exist\n",
      "The file does not exist\n",
      "The file does not exist\n",
      "The file does not exist\n",
      "The file does not exist\n",
      "The file does not exist\n",
      "The file does not exist\n",
      "The file does not exist\n",
      "The file does not exist\n",
      "The file does not exist\n",
      "The file does not exist\n",
      "The file does not exist\n",
      "The file does not exist\n",
      "The file does not exist\n",
      "The file does not exist\n",
      "The file does not exist\n",
      "The file does not exist\n",
      "The file does not exist\n",
      "The file does not exist\n",
      "The file does not exist\n",
      "The file does not exist\n",
      "The file does not exist\n",
      "The file does not exist\n",
      "The file does not exist\n",
      "The file does not exist\n",
      "The file does not exist\n",
      "The file does not exist\n",
      "The file does not exist\n",
      "The file does not exist\n",
      "The file does not exist\n",
      "The file does not exist\n",
      "The file does not exist\n",
      "The file does not exist\n",
      "The file does not exist\n",
      "The file does not exist\n",
      "The file does not exist\n",
      "The file does not exist\n",
      "The file does not exist\n",
      "The file does not exist\n",
      "The file does not exist\n",
      "The file does not exist\n",
      "The file does not exist\n",
      "The file does not exist\n",
      "The file does not exist\n",
      "The file does not exist\n",
      "The file does not exist\n",
      "The file does not exist\n",
      "The file does not exist\n",
      "The file does not exist\n",
      "The file does not exist\n",
      "The file does not exist\n",
      "The file does not exist\n",
      "The file does not exist\n",
      "The file does not exist\n",
      "The file does not exist\n",
      "The file does not exist\n",
      "The file does not exist\n",
      "The file does not exist\n",
      "The file does not exist\n",
      "The file does not exist\n",
      "The file does not exist\n",
      "The file does not exist\n",
      "The file does not exist\n",
      "The file does not exist\n",
      "The file does not exist\n",
      "The file does not exist\n",
      "The file does not exist\n",
      "The file does not exist\n",
      "The file does not exist\n",
      "The file does not exist\n",
      "The file does not exist\n",
      "The file does not exist\n",
      "The file does not exist\n",
      "The file does not exist\n",
      "The file does not exist\n",
      "The file does not exist\n",
      "The file does not exist\n",
      "The file does not exist\n",
      "The file does not exist\n",
      "The file does not exist\n",
      "The file does not exist\n",
      "The file does not exist\n",
      "The file does not exist\n",
      "The file does not exist\n",
      "The file does not exist\n",
      "The file does not exist\n",
      "The file does not exist\n",
      "The file does not exist\n",
      "The file does not exist\n",
      "The file does not exist\n",
      "The file does not exist\n",
      "The file does not exist\n",
      "The file does not exist\n",
      "The file does not exist\n",
      "The file does not exist\n",
      "The file does not exist\n",
      "The file does not exist\n",
      "The file does not exist\n",
      "The file does not exist\n",
      "The file does not exist\n",
      "The file does not exist\n",
      "The file does not exist\n",
      "The file does not exist\n",
      "The file does not exist\n",
      "The file does not exist\n",
      "The file does not exist\n",
      "The file does not exist\n",
      "The file does not exist\n",
      "The file does not exist\n",
      "The file does not exist\n",
      "The file does not exist\n",
      "The file does not exist\n",
      "The file does not exist\n",
      "The file does not exist\n",
      "The file does not exist\n",
      "The file does not exist\n",
      "The file does not exist\n",
      "The file does not exist\n",
      "The file does not exist\n",
      "The file does not exist\n",
      "The file does not exist\n",
      "The file does not exist\n",
      "The file does not exist\n",
      "The file does not exist\n",
      "The file does not exist\n",
      "The file does not exist\n",
      "The file does not exist\n",
      "The file does not exist\n",
      "The file does not exist\n",
      "The file does not exist\n",
      "The file does not exist\n",
      "The file does not exist\n",
      "The file does not exist\n",
      "The file does not exist\n",
      "The file does not exist\n",
      "The file does not exist\n",
      "The file does not exist\n",
      "The file does not exist\n",
      "The file does not exist\n",
      "The file does not exist\n",
      "The file does not exist\n",
      "The file does not exist\n",
      "The file does not exist\n",
      "The file does not exist\n",
      "The file does not exist\n",
      "The file does not exist\n",
      "The file does not exist\n",
      "The file does not exist\n",
      "The file does not exist\n",
      "The file does not exist\n",
      "The file does not exist\n",
      "The file does not exist\n",
      "The file does not exist\n",
      "The file does not exist\n",
      "The file does not exist\n",
      "The file does not exist\n",
      "The file does not exist\n",
      "The file does not exist\n",
      "The file does not exist\n",
      "The file does not exist\n",
      "The file does not exist\n",
      "The file does not exist\n",
      "The file does not exist\n",
      "The file does not exist\n",
      "The file does not exist\n",
      "The file does not exist\n",
      "The file does not exist\n",
      "The file does not exist\n",
      "The file does not exist\n",
      "The file does not exist\n",
      "The file does not exist\n",
      "The file does not exist\n",
      "The file does not exist\n",
      "The file does not exist\n",
      "The file does not exist\n",
      "The file does not exist\n",
      "The file does not exist\n",
      "The file does not exist\n",
      "The file does not exist\n",
      "The file does not exist\n",
      "The file does not exist\n",
      "The file does not exist\n",
      "The file does not exist\n",
      "The file does not exist\n",
      "The file does not exist\n",
      "The file does not exist\n",
      "The file does not exist\n",
      "The file does not exist\n",
      "The file does not exist\n",
      "The file does not exist\n",
      "The file does not exist\n",
      "The file does not exist\n",
      "The file does not exist\n",
      "The file does not exist\n",
      "The file does not exist\n",
      "The file does not exist\n",
      "The file does not exist\n",
      "The file does not exist\n",
      "The file does not exist\n",
      "The file does not exist\n",
      "The file does not exist\n",
      "The file does not exist\n",
      "The file does not exist\n",
      "The file does not exist\n",
      "The file does not exist\n",
      "The file does not exist\n",
      "The file does not exist\n",
      "The file does not exist\n",
      "The file does not exist\n",
      "The file does not exist\n",
      "The file does not exist\n",
      "The file does not exist\n",
      "The file does not exist\n",
      "The file does not exist\n",
      "The file does not exist\n",
      "The file does not exist\n",
      "The file does not exist\n",
      "The file does not exist\n",
      "The file does not exist\n",
      "The file does not exist\n",
      "The file does not exist\n",
      "The file does not exist\n",
      "The file does not exist\n",
      "The file does not exist\n",
      "The file does not exist\n",
      "The file does not exist\n",
      "The file does not exist\n",
      "The file does not exist\n",
      "The file does not exist\n",
      "The file does not exist\n",
      "The file does not exist\n",
      "The file does not exist\n",
      "The file does not exist\n",
      "The file does not exist\n",
      "The file does not exist\n",
      "The file does not exist\n",
      "The file does not exist\n",
      "The file does not exist\n",
      "The file does not exist\n",
      "The file does not exist\n",
      "The file does not exist\n",
      "The file does not exist\n",
      "The file does not exist\n",
      "The file does not exist\n",
      "The file does not exist\n",
      "The file does not exist\n",
      "The file does not exist\n",
      "The file does not exist\n",
      "The file does not exist\n",
      "The file does not exist\n",
      "The file does not exist\n",
      "The file does not exist\n",
      "The file does not exist\n",
      "The file does not exist\n",
      "The file does not exist\n",
      "The file does not exist\n",
      "The file does not exist\n",
      "The file does not exist\n",
      "The file does not exist\n",
      "The file does not exist\n",
      "The file does not exist\n",
      "The file does not exist\n",
      "The file does not exist\n",
      "The file does not exist\n",
      "The file does not exist\n"
=======
      "00027784_006.png deleted\n",
      "00000497_000.png deleted\n",
      "00030323_020.png deleted\n",
      "00007188_006.png deleted\n",
      "00006993_000.png deleted\n",
      "00004438_004.png deleted\n",
      "00001280_003.png deleted\n",
      "00006214_000.png deleted\n",
      "00004281_003.png deleted\n",
      "00007041_000.png deleted\n",
      "00003215_000.png deleted\n",
      "00004770_000.png deleted\n",
      "00005496_000.png deleted\n",
      "00001882_001.png deleted\n",
      "00007174_001.png deleted\n",
      "00028661_000.png deleted\n",
      "00000122_000.png deleted\n",
      "00001305_000.png deleted\n",
      "00005722_002.png deleted\n",
      "00000218_004.png deleted\n",
      "00000579_000.png deleted\n",
      "00007471_002.png deleted\n",
      "00001055_002.png deleted\n",
      "00014486_003.png deleted\n",
      "00006763_003.png deleted\n",
      "00004784_000.png deleted\n",
      "00014419_001.png deleted\n",
      "00003976_000.png deleted\n",
      "00030798_000.png deleted\n",
      "00001252_001.png deleted\n",
      "00005813_000.png deleted\n",
      "00000918_000.png deleted\n",
      "00005394_000.png deleted\n",
      "00021131_005.png deleted\n",
      "00004072_000.png deleted\n",
      "00003821_001.png deleted\n",
      "00005568_000.png deleted\n",
      "00004877_001.png deleted\n",
      "00014426_000.png deleted\n",
      "00005123_000.png deleted\n",
      "00011963_001.png deleted\n",
      "00000955_001.png deleted\n",
      "00001532_000.png deleted\n",
      "00003923_007.png deleted\n",
      "00003923_005.png deleted\n",
      "00007048_000.png deleted\n",
      "00000210_000.png deleted\n",
      "00001558_010.png deleted\n",
      "00006109_000.png deleted\n",
      "00014223_008.png deleted\n",
      "00007780_004.png deleted\n",
      "00001280_000.png deleted\n",
      "00002863_000.png deleted\n",
      "00006214_003.png deleted\n",
      "00025277_001.png deleted\n",
      "00000856_000.png deleted\n",
      "00001230_003.png deleted\n",
      "00018739_023.png deleted\n",
      "00020933_002.png deleted\n",
      "00005176_005.png deleted\n",
      "00007234_000.png deleted\n",
      "00002072_008.png deleted\n",
      "00005722_001.png deleted\n",
      "00014211_003.png deleted\n",
      "00000347_000.png deleted\n",
      "00003145_000.png deleted\n",
      "00003678_000.png deleted\n",
      "00004548_000.png deleted\n",
      "00000273_004.png deleted\n",
      "00012241_002.png deleted\n",
      "00006467_000.png deleted\n",
      "00005966_008.png deleted\n",
      "00005158_000.png deleted\n",
      "00001274_000.png deleted\n",
      "00006232_000.png deleted\n",
      "00002310_000.png deleted\n",
      "00014223_009.png deleted\n",
      "00003137_000.png deleted\n",
      "00004974_001.png deleted\n",
      "00006109_001.png deleted\n",
      "00030323_022.png deleted\n",
      "00017835_031.png deleted\n",
      "00007765_001.png deleted\n",
      "00000955_002.png deleted\n",
      "00005395_002.png deleted\n",
      "00011074_001.png deleted\n",
      "00007049_000.png deleted\n",
      "00004582_001.png deleted\n",
      "00004566_000.png deleted\n",
      "00006891_000.png deleted\n",
      "00015626_000.png deleted\n",
      "00007247_000.png deleted\n",
      "00000201_000.png deleted\n",
      "00004644_002.png deleted\n",
      "00005445_000.png deleted\n",
      "00003634_000.png deleted\n",
      "00001054_000.png deleted\n",
      "00005210_000.png deleted\n",
      "00006002_000.png deleted\n",
      "00000115_000.png deleted\n",
      "00000900_001.png deleted\n",
      "00000825_000.png deleted\n",
      "00019664_000.png deleted\n",
      "00000370_003.png deleted\n",
      "00002510_002.png deleted\n",
      "00006127_000.png deleted\n",
      "00006391_005.png deleted\n",
      "00006277_002.png deleted\n",
      "00004421_000.png deleted\n",
      "00002791_000.png deleted\n",
      "00020390_002.png deleted\n",
      "00001567_001.png deleted\n",
      "00001593_000.png deleted\n",
      "00001637_003.png deleted\n",
      "00006024_003.png deleted\n",
      "00000287_000.png deleted\n",
      "00003880_001.png deleted\n",
      "00006865_000.png deleted\n",
      "00006084_000.png deleted\n",
      "00006214_007.png deleted\n",
      "00014208_005.png deleted\n",
      "00004974_004.png deleted\n",
      "00004576_001.png deleted\n",
      "00007131_001.png deleted\n",
      "00001420_000.png deleted\n",
      "00007979_001.png deleted\n",
      "00007004_000.png deleted\n",
      "00005502_014.png deleted\n",
      "00005524_002.png deleted\n",
      "00005766_004.png deleted\n",
      "00004703_000.png deleted\n",
      "00002720_004.png deleted\n",
      "00005502_002.png deleted\n",
      "00006215_000.png deleted\n",
      "00004465_000.png deleted\n",
      "00004358_000.png deleted\n",
      "00030323_019.png deleted\n",
      "00004882_001.png deleted\n",
      "00006843_000.png deleted\n",
      "00001206_007.png deleted\n",
      "00005487_000.png deleted\n",
      "00004383_000.png deleted\n",
      "00005723_003.png deleted\n",
      "00007076_002.png deleted\n",
      "00004771_000.png deleted\n",
      "00023570_000.png deleted\n",
      "00008297_005.png deleted\n",
      "00007040_001.png deleted\n",
      "00000766_000.png deleted\n",
      "00004519_009.png deleted\n",
      "00000123_000.png deleted\n",
      "00007165_000.png deleted\n",
      "00001054_002.png deleted\n",
      "00006709_000.png deleted\n",
      "00006671_000.png deleted\n",
      "00010808_008.png deleted\n",
      "00005579_000.png deleted\n",
      "00000151_000.png deleted\n",
      "00000141_000.png deleted\n",
      "00001416_001.png deleted\n",
      "00005512_003.png deleted\n",
      "00011723_039.png deleted\n",
      "00000107_000.png deleted\n",
      "00007034_037.png deleted\n",
      "00006523_000.png deleted\n",
      "00018317_003.png deleted\n",
      "00006989_000.png deleted\n",
      "00005447_000.png deleted\n",
      "00004517_005.png deleted\n",
      "00006275_003.png deleted\n",
      "00005788_000.png deleted\n",
      "00023604_003.png deleted\n",
      "00015831_012.png deleted\n",
      "00011702_034.png deleted\n",
      "00005510_001.png deleted\n",
      "00007245_000.png deleted\n",
      "00006230_004.png deleted\n",
      "00005435_000.png deleted\n",
      "00006627_000.png deleted\n",
      "00004602_000.png deleted\n",
      "00024210_000.png deleted\n",
      "00002226_000.png deleted\n",
      "00004612_000.png deleted\n",
      "00010352_002.png deleted\n",
      "00020434_009.png deleted\n",
      "00006439_000.png deleted\n",
      "00003383_000.png deleted\n",
      "00006160_013.png deleted\n",
      "00006147_000.png deleted\n",
      "00005682_001.png deleted\n",
      "00005023_000.png deleted\n",
      "00006243_000.png deleted\n",
      "00000318_004.png deleted\n",
      "00006760_000.png deleted\n",
      "00004694_000.png deleted\n",
      "00006000_001.png deleted\n",
      "00024879_000.png deleted\n",
      "00002639_003.png deleted\n",
      "00005995_001.png deleted\n",
      "00002629_001.png deleted\n",
      "00000059_001.png deleted\n",
      "00005519_001.png deleted\n",
      "00006823_000.png deleted\n",
      "00005460_004.png deleted\n",
      "00005798_003.png deleted\n",
      "00000004_000.png deleted\n",
      "00003206_000.png deleted\n",
      "00000076_000.png deleted\n",
      "00004477_000.png deleted\n",
      "00006019_000.png deleted\n",
      "00014397_003.png deleted\n",
      "00005935_000.png deleted\n",
      "00005935_001.png deleted\n",
      "00005913_003.png deleted\n",
      "00003027_000.png deleted\n",
      "00009034_004.png deleted\n",
      "00006990_001.png deleted\n",
      "00014397_002.png deleted\n",
      "00004477_001.png deleted\n",
      "00005622_001.png deleted\n",
      "00005896_001.png deleted\n",
      "00009232_002.png deleted\n",
      "00005224_000.png deleted\n",
      "00006499_001.png deleted\n",
      "00005717_000.png deleted\n",
      "00001951_011.png deleted\n",
      "00001306_000.png deleted\n",
      "00001316_000.png deleted\n",
      "00023336_000.png deleted\n",
      "00014174_004.png deleted\n",
      "00000536_000.png deleted\n",
      "00007335_000.png deleted\n",
      "00013360_000.png deleted\n",
      "00006757_000.png deleted\n",
      "00003217_000.png deleted\n",
      "00029585_000.png deleted\n",
      "00016987_017.png deleted\n",
      "00015449_003.png deleted\n",
      "00007497_002.png deleted\n",
      "00003281_001.png deleted\n",
      "00005537_000.png deleted\n",
      "00017735_002.png deleted\n",
      "00010352_004.png deleted\n",
      "00023344_000.png deleted\n",
      "00010352_010.png deleted\n",
      "00006981_001.png deleted\n",
      "00004940_000.png deleted\n",
      "00005935_004.png deleted\n",
      "00003916_000.png deleted\n",
      "00010352_039.png deleted\n",
      "00004360_008.png deleted\n",
      "00000083_000.png deleted\n",
      "00002052_001.png deleted\n",
      "00002857_000.png deleted\n",
      "00002227_002.png deleted\n",
      "00001109_000.png deleted\n",
      "00005970_003.png deleted\n",
      "00000058_000.png deleted\n",
      "00006280_000.png deleted\n",
      "00030408_001.png deleted\n",
      "00014174_005.png deleted\n",
      "00010829_000.png deleted\n",
      "00014545_001.png deleted\n",
      "00002813_000.png deleted\n",
      "00011978_000.png deleted\n",
      "00005756_008.png deleted\n",
      "00006522_000.png deleted\n",
      "00002578_000.png deleted\n",
      "00004709_000.png deleted\n",
      "00002255_000.png deleted\n",
      "00004719_000.png deleted\n",
      "00004060_002.png deleted\n",
      "00004094_003.png deleted\n",
      "00000832_008.png deleted\n",
      "00005934_003.png deleted\n",
      "00006305_000.png deleted\n",
      "00005693_000.png deleted\n",
      "00001433_001.png deleted\n",
      "00000139_001.png deleted\n",
      "00001282_000.png deleted\n",
      "00005935_006.png deleted\n",
      "00005479_001.png deleted\n",
      "00001755_001.png deleted\n",
      "00010352_007.png deleted\n",
      "00010352_006.png deleted\n",
      "00007209_000.png deleted\n",
      "00005501_000.png deleted\n",
      "00005479_000.png deleted\n",
      "00004853_000.png deleted\n",
      "00002846_012.png deleted\n",
      "00004695_000.png deleted\n",
      "00003611_003.png deleted\n",
      "00012314_003.png deleted\n",
      "00005960_000.png deleted\n",
      "00006697_007.png deleted\n",
      "00005555_002.png deleted\n",
      "00005721_004.png deleted\n",
      "00007313_000.png deleted\n",
      "00006102_002.png deleted\n",
      "00001410_002.png deleted\n",
      "00005027_000.png deleted\n",
      "00000929_001.png deleted\n",
      "00026725_006.png deleted\n",
      "00005746_010.png deleted\n",
      "00016987_018.png deleted\n",
      "00002843_012.png deleted\n",
      "00005907_000.png deleted\n",
      "00013993_015.png deleted\n",
      "00001561_001.png deleted\n",
      "00019407_002.png deleted\n",
      "00010530_024.png deleted\n",
      "00002589_000.png deleted\n",
      "00015530_141.png deleted\n",
      "00004360_006.png deleted\n",
      "00001369_000.png deleted\n",
      "00004664_000.png deleted\n",
      "00012139_000.png deleted\n",
      "00004502_000.png deleted\n",
      "00004512_000.png deleted\n",
      "00007145_000.png deleted\n",
      "00013993_014.png deleted\n",
      "00003738_000.png deleted\n",
      "00013539_000.png deleted\n",
      "00006897_000.png deleted\n",
      "00005746_011.png deleted\n",
      "00030374_001.png deleted\n",
      "00004973_000.png deleted\n",
      "00001287_000.png deleted\n",
      "00029025_000.png deleted\n",
      "00000298_000.png deleted\n",
      "00029745_001.png deleted\n",
      "00014549_000.png deleted\n",
      "00013993_016.png deleted\n",
      "00029222_003.png deleted\n",
      "00005636_000.png deleted\n",
      "00007056_000.png deleted\n",
      "00006117_000.png deleted\n",
      "00007258_000.png deleted\n",
      "00007233_003.png deleted\n",
      "00005465_001.png deleted\n",
      "00004395_000.png deleted\n",
      "00002905_000.png deleted\n",
      "00002983_001.png deleted\n",
      "00007588_002.png deleted\n",
      "00007684_004.png deleted\n",
      "00006855_000.png deleted\n",
      "00001776_000.png deleted\n",
      "00006984_000.png deleted\n",
      "00000429_000.png deleted\n",
      "00010625_023.png deleted\n",
      "00002057_000.png deleted\n",
      "00012403_000.png deleted\n",
      "00000086_001.png deleted\n",
      "00003344_000.png deleted\n",
      "00005794_001.png deleted\n",
      "00007078_000.png deleted\n",
      "00016786_010.png deleted\n",
      "00006180_000.png deleted\n",
      "00003752_001.png deleted\n",
      "00008645_002.png deleted\n",
      "00004750_003.png deleted\n",
      "00002101_000.png deleted\n",
      "00004132_010.png deleted\n",
      "00006015_002.png deleted\n",
      "00006189_002.png deleted\n",
      "00006015_003.png deleted\n",
      "00005480_000.png deleted\n",
      "00007951_002.png deleted\n",
      "00004132_011.png deleted\n",
      "00014769_000.png deleted\n",
      "00014939_001.png deleted\n",
      "00004776_000.png deleted\n",
      "00005655_000.png deleted\n",
      "00006138_004.png deleted\n",
      "00003354_001.png deleted\n",
      "00014989_000.png deleted\n",
      "00004454_000.png deleted\n",
      "00014716_009.png deleted\n",
      "00002320_002.png deleted\n",
      "00018802_006.png deleted\n",
      "00008072_001.png deleted\n",
      "00013615_051.png deleted\n",
      "00002543_000.png deleted\n",
      "00005577_000.png deleted\n",
      "00001140_002.png deleted\n",
      "00006246_000.png deleted\n",
      "00008499_002.png deleted\n",
      "00000917_000.png deleted\n",
      "00006968_000.png deleted\n",
      "00006015_001.png deleted\n",
      "00020434_010.png deleted\n",
      "00006033_002.png deleted\n",
      "00002404_000.png deleted\n",
      "00014712_000.png deleted\n",
      "00002807_000.png deleted\n",
      "00008470_009.png deleted\n",
      "00006138_007.png deleted\n",
      "00007684_002.png deleted\n",
      "00006212_003.png deleted\n",
      "00011322_006.png deleted\n",
      "00003372_000.png deleted\n",
      "00000206_000.png deleted\n",
      "00005416_002.png deleted\n",
      "00001255_006.png deleted\n",
      "00006296_000.png deleted\n",
      "00000806_000.png deleted\n",
      "00004934_000.png deleted\n",
      "00001622_000.png deleted\n",
      "00006214_009.png deleted\n",
      "00017123_004.png deleted\n",
      "00002608_002.png deleted\n",
      "00002990_000.png deleted\n",
      "00006699_002.png deleted\n",
      "00002072_003.png deleted\n",
      "00000095_000.png deleted\n",
      "00003400_003.png deleted\n",
      "00004518_000.png deleted\n",
      "00006271_060.png deleted\n",
      "00003263_000.png deleted\n",
      "00006948_020.png deleted\n",
      "00000317_000.png deleted\n",
      "00014380_003.png deleted\n",
      "00004808_003.png deleted\n",
      "00026982_004.png deleted\n",
      "00004873_000.png deleted\n",
      "00005598_000.png deleted\n",
      "00005895_008.png deleted\n",
      "00018224_010.png deleted\n",
      "00000773_001.png deleted\n",
      "00004925_004.png deleted\n",
      "00017123_005.png deleted\n",
      "00006149_001.png deleted\n",
      "00020852_022.png deleted\n",
      "00006208_006.png deleted\n",
      "00022295_001.png deleted\n",
      "00019576_063.png deleted\n",
      "00005853_003.png deleted\n",
      "00000660_000.png deleted\n",
      "00003002_009.png deleted\n",
      "00004693_000.png deleted\n",
      "00000292_000.png deleted\n",
      "00001206_008.png deleted\n",
      "00019492_003.png deleted\n",
      "00000967_000.png deleted\n",
      "00017325_001.png deleted\n",
      "00000398_000.png deleted\n",
      "00010698_049.png deleted\n",
      "00004720_000.png deleted\n",
      "00010775_000.png deleted\n",
      "00004730_000.png deleted\n",
      "00001260_000.png deleted\n",
      "00005719_000.png deleted\n",
      "00003255_000.png deleted\n",
      "00010640_000.png deleted\n",
      "00002221_000.png deleted\n",
      "00023329_000.png deleted\n",
      "00001676_000.png deleted\n",
      "00000214_000.png deleted\n",
      "00005888_000.png deleted\n",
      "00000727_000.png deleted\n",
      "00000100_000.png deleted\n",
      "00007156_000.png deleted\n",
      "00019373_056.png deleted\n",
      "00002253_000.png deleted\n",
      "00004677_000.png deleted\n",
      "00005977_010.png deleted\n",
      "00005591_000.png deleted\n",
      "00002382_000.png deleted\n",
      "00019521_002.png deleted\n",
      "00007442_013.png deleted\n",
      "00005388_004.png deleted\n",
      "00007034_063.png deleted\n",
      "00004826_000.png deleted\n",
      "00015530_044.png deleted\n",
      "00015530_050.png deleted\n",
      "00000888_001.png deleted\n",
      "00005528_004.png deleted\n",
      "00001720_000.png deleted\n",
      "00030079_066.png deleted\n",
      "00029654_001.png deleted\n",
      "00000603_000.png deleted\n",
      "00006080_000.png deleted\n",
      "00006861_000.png deleted\n",
      "00010531_044.png deleted\n",
      "00006074_000.png deleted\n",
      "00023328_000.png deleted\n",
      "00003426_006.png deleted\n",
      "00000976_001.png deleted\n",
      "00030805_000.png deleted\n",
      "00004985_001.png deleted\n",
      "00017138_111.png deleted\n",
      "00007583_002.png deleted\n",
      "00014223_011.png deleted\n",
      "00004640_000.png deleted\n",
      "00002431_000.png deleted\n",
      "00007034_064.png deleted\n",
      "00005839_001.png deleted\n",
      "00000084_000.png deleted\n",
      "00015572_000.png deleted\n",
      "00012524_000.png deleted\n",
      "00004872_001.png deleted\n",
      "00004632_000.png deleted\n",
      "00002072_012.png deleted\n",
      "00015844_001.png deleted\n",
      "00006904_009.png deleted\n",
      "00015530_126.png deleted\n",
      "00001396_000.png deleted\n",
      "00002184_000.png deleted\n",
      "00003262_000.png deleted\n",
      "00006211_000.png deleted\n",
      "00004519_000.png deleted\n",
      "00002840_001.png deleted\n",
      "00005365_000.png deleted\n",
      "00006177_000.png deleted\n",
      "00014223_006.png deleted\n",
      "00014223_012.png deleted\n",
      "00006691_000.png deleted\n",
      "00007217_001.png deleted\n",
      "00006825_000.png deleted\n"
>>>>>>> master
     ]
    }
   ],
   "source": [
    "for filename in images_to_remove:\n",
    "    file_path = os.path.join(data_directory, filename)\n",
    "    if os.path.exists(file_path):\n",
    "        os.remove(file_path)\n",
    "        print(f\"{filename} deleted\")\n",
    "    else:\n",
    "        print(\"The file does not exist\")\n"
   ]
  },
  {
   "cell_type": "code",
<<<<<<< HEAD
   "execution_count": 181,
   "id": "1755b67a",
   "metadata": {
    "ExecuteTime": {
     "end_time": "2024-06-10T08:09:04.289286Z",
     "start_time": "2024-06-10T08:09:04.288028Z"
    }
   },
   "outputs": [
    {
     "name": "stdout",
     "output_type": "stream",
     "text": [
      "['00027784_006.png', '00000497_000.png', '00030323_020.png', '00007188_006.png', '00006993_000.png', '00004438_004.png', '00001280_003.png', '00006214_000.png', '00004281_003.png', '00007041_000.png', '00003215_000.png', '00004770_000.png', '00005496_000.png', '00001882_001.png', '00007174_001.png', '00028661_000.png', '00000122_000.png', '00001305_000.png', '00005722_002.png', '00000218_004.png', '00000579_000.png', '00007471_002.png', '00001055_002.png', '00014486_003.png', '00006763_003.png', '00004784_000.png', '00014419_001.png', '00003976_000.png', '00030798_000.png', '00001252_001.png', '00005813_000.png', '00000918_000.png', '00005394_000.png', '00021131_005.png', '00004072_000.png', '00003821_001.png', '00005568_000.png', '00004877_001.png', '00014426_000.png', '00005123_000.png', '00011963_001.png', '00000955_001.png', '00001532_000.png', '00003923_007.png', '00003923_005.png', '00007048_000.png', '00000210_000.png', '00001558_010.png', '00006109_000.png', '00014223_008.png', '00007780_004.png', '00001280_000.png', '00002863_000.png', '00006214_003.png', '00025277_001.png', '00000856_000.png', '00001230_003.png', '00018739_023.png', '00020933_002.png', '00005176_005.png', '00007234_000.png', '00002072_008.png', '00005722_001.png', '00014211_003.png', '00000347_000.png', '00003145_000.png', '00003678_000.png', '00004548_000.png', '00000273_004.png', '00012241_002.png', '00006467_000.png', '00005966_008.png', '00005158_000.png', '00001274_000.png', '00006232_000.png', '00002310_000.png', '00014223_009.png', '00003137_000.png', '00004974_001.png', '00006109_001.png', '00030323_022.png', '00017835_031.png', '00007765_001.png', '00000955_002.png', '00005395_002.png', '00011074_001.png', '00007049_000.png', '00004582_001.png', '00004566_000.png', '00006891_000.png', '00015626_000.png', '00007247_000.png', '00000201_000.png', '00004644_002.png', '00005445_000.png', '00003634_000.png', '00001054_000.png', '00005210_000.png', '00006002_000.png', '00000115_000.png', '00000900_001.png', '00000825_000.png', '00019664_000.png', '00000370_003.png', '00002510_002.png', '00006127_000.png', '00006391_005.png', '00006277_002.png', '00004421_000.png', '00002791_000.png', '00020390_002.png', '00001567_001.png', '00001593_000.png', '00001637_003.png', '00006024_003.png', '00000287_000.png', '00003880_001.png', '00006865_000.png', '00006084_000.png', '00006214_007.png', '00014208_005.png', '00004974_004.png', '00004576_001.png', '00007131_001.png', '00001420_000.png', '00007979_001.png', '00007004_000.png', '00005502_014.png', '00005524_002.png', '00005766_004.png', '00004703_000.png', '00002720_004.png', '00005502_002.png', '00006215_000.png', '00004465_000.png', '00004358_000.png', '00030323_019.png', '00004882_001.png', '00006843_000.png', '00001206_007.png', '00005487_000.png', '00004383_000.png', '00005723_003.png', '00007076_002.png', '00004771_000.png', '00023570_000.png', '00008297_005.png', '00007040_001.png', '00000766_000.png', '00004519_009.png', '00000123_000.png', '00007165_000.png', '00001054_002.png', '00006709_000.png', '00006671_000.png', '00010808_008.png', '00005579_000.png', '00000151_000.png', '00000141_000.png', '00001416_001.png', '00005512_003.png', '00011723_039.png', '00000107_000.png', '00007034_037.png', '00006523_000.png', '00018317_003.png', '00006989_000.png', '00005447_000.png', '00004517_005.png', '00006275_003.png', '00005788_000.png', '00023604_003.png', '00015831_012.png', '00011702_034.png', '00005510_001.png', '00007245_000.png', '00006230_004.png', '00005435_000.png', '00006627_000.png', '00004602_000.png', '00024210_000.png', '00002226_000.png', '00004612_000.png', '00010352_002.png', '00020434_009.png', '00006439_000.png', '00003383_000.png', '00006160_013.png', '00006147_000.png', '00005682_001.png', '00005023_000.png', '00006243_000.png', '00000318_004.png', '00006760_000.png', '00004694_000.png', '00006000_001.png', '00024879_000.png', '00002639_003.png', '00005995_001.png', '00002629_001.png', '00000059_001.png', '00005519_001.png', '00006823_000.png', '00005460_004.png', '00005798_003.png', '00000004_000.png', '00003206_000.png', '00000076_000.png', '00004477_000.png', '00006019_000.png', '00014397_003.png', '00005935_000.png', '00005935_001.png', '00005913_003.png', '00003027_000.png', '00009034_004.png', '00006990_001.png', '00014397_002.png', '00004477_001.png', '00005622_001.png', '00005896_001.png', '00009232_002.png', '00005224_000.png', '00006499_001.png', '00005717_000.png', '00001951_011.png', '00001306_000.png', '00001316_000.png', '00023336_000.png', '00014174_004.png', '00000536_000.png', '00007335_000.png', '00013360_000.png', '00006757_000.png', '00003217_000.png', '00029585_000.png', '00016987_017.png', '00015449_003.png', '00007497_002.png', '00003281_001.png', '00005537_000.png', '00017735_002.png', '00010352_004.png', '00023344_000.png', '00010352_010.png', '00006981_001.png', '00004940_000.png', '00005935_004.png', '00003916_000.png', '00010352_039.png', '00004360_008.png', '00000083_000.png', '00002052_001.png', '00002857_000.png', '00002227_002.png', '00001109_000.png', '00005970_003.png', '00000058_000.png', '00006280_000.png', '00030408_001.png', '00014174_005.png', '00010829_000.png', '00014545_001.png', '00002813_000.png', '00011978_000.png', '00005756_008.png', '00006522_000.png', '00002578_000.png', '00004709_000.png', '00002255_000.png', '00004719_000.png', '00004060_002.png', '00004094_003.png', '00000832_008.png', '00005934_003.png', '00006305_000.png', '00005693_000.png', '00001433_001.png', '00000139_001.png', '00001282_000.png', '00005935_006.png', '00005479_001.png', '00001755_001.png', '00010352_007.png', '00010352_006.png', '00007209_000.png', '00005501_000.png', '00005479_000.png', '00004853_000.png', '00002846_012.png', '00004695_000.png', '00003611_003.png', '00012314_003.png', '00005960_000.png', '00006697_007.png', '00005555_002.png', '00005721_004.png', '00007313_000.png', '00006102_002.png', '00001410_002.png', '00005027_000.png', '00000929_001.png', '00026725_006.png', '00005746_010.png', '00016987_018.png', '00002843_012.png', '00005907_000.png', '00013993_015.png', '00001561_001.png', '00019407_002.png', '00010530_024.png', '00002589_000.png', '00015530_141.png', '00004360_006.png', '00001369_000.png', '00004664_000.png', '00012139_000.png', '00004502_000.png', '00004512_000.png', '00007145_000.png', '00013993_014.png', '00003738_000.png', '00013539_000.png', '00006897_000.png', '00005746_011.png', '00030374_001.png', '00004973_000.png', '00001287_000.png', '00029025_000.png', '00000298_000.png', '00029745_001.png', '00014549_000.png', '00013993_016.png', '00029222_003.png', '00005636_000.png', '00007056_000.png', '00006117_000.png', '00007258_000.png', '00007233_003.png', '00005465_001.png', '00004395_000.png', '00002905_000.png', '00002983_001.png', '00007588_002.png', '00007684_004.png', '00006855_000.png', '00001776_000.png', '00006984_000.png', '00000429_000.png', '00010625_023.png', '00002057_000.png', '00012403_000.png', '00000086_001.png', '00003344_000.png', '00005794_001.png', '00007078_000.png', '00016786_010.png', '00006180_000.png', '00003752_001.png', '00008645_002.png', '00004750_003.png', '00002101_000.png', '00004132_010.png', '00006015_002.png', '00006189_002.png', '00006015_003.png', '00005480_000.png', '00007951_002.png', '00004132_011.png', '00014769_000.png', '00014939_001.png', '00004776_000.png', '00005655_000.png', '00006138_004.png', '00003354_001.png', '00014989_000.png', '00004454_000.png', '00014716_009.png', '00002320_002.png', '00018802_006.png', '00008072_001.png', '00013615_051.png', '00002543_000.png', '00005577_000.png', '00001140_002.png', '00006246_000.png', '00008499_002.png', '00000917_000.png', '00006968_000.png', '00006015_001.png', '00020434_010.png', '00006033_002.png', '00002404_000.png', '00014712_000.png', '00002807_000.png', '00008470_009.png', '00006138_007.png', '00007684_002.png', '00006212_003.png', '00011322_006.png', '00003372_000.png', '00000206_000.png', '00005416_002.png', '00001255_006.png', '00006296_000.png', '00000806_000.png', '00004934_000.png', '00001622_000.png', '00006214_009.png', '00017123_004.png', '00002608_002.png', '00002990_000.png', '00006699_002.png', '00002072_003.png', '00000095_000.png', '00003400_003.png', '00004518_000.png', '00006271_060.png', '00003263_000.png', '00006948_020.png', '00000317_000.png', '00014380_003.png', '00004808_003.png', '00026982_004.png', '00004873_000.png', '00005598_000.png', '00005895_008.png', '00018224_010.png', '00000773_001.png', '00004925_004.png', '00017123_005.png', '00006149_001.png', '00020852_022.png', '00006208_006.png', '00022295_001.png', '00019576_063.png', '00005853_003.png', '00000660_000.png', '00003002_009.png', '00004693_000.png', '00000292_000.png', '00001206_008.png', '00019492_003.png', '00000967_000.png', '00017325_001.png', '00000398_000.png', '00010698_049.png', '00004720_000.png', '00010775_000.png', '00004730_000.png', '00001260_000.png', '00005719_000.png', '00003255_000.png', '00010640_000.png', '00002221_000.png', '00023329_000.png', '00001676_000.png', '00000214_000.png', '00005888_000.png', '00000727_000.png', '00000100_000.png', '00007156_000.png', '00019373_056.png', '00002253_000.png', '00004677_000.png', '00005977_010.png', '00005591_000.png', '00002382_000.png', '00019521_002.png', '00007442_013.png', '00005388_004.png', '00007034_063.png', '00004826_000.png', '00015530_044.png', '00015530_050.png', '00000888_001.png', '00005528_004.png', '00001720_000.png', '00030079_066.png', '00029654_001.png', '00000603_000.png', '00006080_000.png', '00006861_000.png', '00010531_044.png', '00006074_000.png', '00023328_000.png', '00003426_006.png', '00000976_001.png', '00030805_000.png', '00004985_001.png', '00017138_111.png', '00007583_002.png', '00014223_011.png', '00004640_000.png', '00002431_000.png', '00007034_064.png', '00005839_001.png', '00000084_000.png', '00015572_000.png', '00012524_000.png', '00004872_001.png', '00004632_000.png', '00002072_012.png', '00015844_001.png', '00006904_009.png', '00015530_126.png', '00001396_000.png', '00002184_000.png', '00003262_000.png', '00006211_000.png', '00004519_000.png', '00002840_001.png', '00005365_000.png', '00006177_000.png', '00014223_006.png', '00014223_012.png', '00006691_000.png', '00007217_001.png', '00006825_000.png']\n"
     ]
    }
   ],
   "source": [
    "print(images_to_remove)"
   ]
  },
  {
   "cell_type": "code",
   "execution_count": 182,
   "id": "899e6792",
   "metadata": {
    "ExecuteTime": {
     "end_time": "2024-06-10T08:09:04.291383Z",
     "start_time": "2024-06-10T08:09:04.289992Z"
=======
   "execution_count": 10,
   "id": "899e6792",
   "metadata": {
    "ExecuteTime": {
     "end_time": "2024-06-10T18:15:32.118802Z",
     "start_time": "2024-06-10T18:15:32.116446Z"
>>>>>>> master
    }
   },
   "outputs": [
    {
     "data": {
      "text/plain": [
<<<<<<< HEAD
       "PosixPath('/Users/sachamagier/code/sachamagier/chest-predictor/raw_data/resized_dataset/images/set_full/00006825_000.png')"
      ]
     },
     "execution_count": 182,
=======
       "PosixPath('/Users/arnodebelle/code/sachamagier/chest-predictor/raw_data/resized_dataset/images/set_full/00012908_000.png')"
      ]
     },
     "execution_count": 10,
>>>>>>> master
     "metadata": {},
     "output_type": "execute_result"
    }
   ],
   "source": [
    "Path(os.path.join(data_directory, filename))"
   ]
  },
  {
   "cell_type": "code",
<<<<<<< HEAD
   "execution_count": 183,
=======
   "execution_count": null,
>>>>>>> master
   "id": "736ed4ff",
   "metadata": {
    "ExecuteTime": {
     "end_time": "2024-06-10T08:09:04.293315Z",
     "start_time": "2024-06-10T08:09:04.292046Z"
    }
   },
<<<<<<< HEAD
   "outputs": [
    {
     "name": "stdout",
     "output_type": "stream",
     "text": [
      "The file does not exist\n",
      "The file does not exist\n",
      "The file does not exist\n",
      "The file does not exist\n",
      "The file does not exist\n",
      "The file does not exist\n",
      "The file does not exist\n",
      "The file does not exist\n",
      "The file does not exist\n",
      "The file does not exist\n",
      "The file does not exist\n",
      "The file does not exist\n",
      "The file does not exist\n",
      "The file does not exist\n",
      "The file does not exist\n",
      "The file does not exist\n",
      "The file does not exist\n",
      "The file does not exist\n",
      "The file does not exist\n",
      "The file does not exist\n",
      "The file does not exist\n",
      "The file does not exist\n",
      "The file does not exist\n",
      "The file does not exist\n",
      "The file does not exist\n",
      "The file does not exist\n",
      "The file does not exist\n",
      "The file does not exist\n",
      "The file does not exist\n",
      "The file does not exist\n",
      "The file does not exist\n",
      "The file does not exist\n",
      "The file does not exist\n",
      "The file does not exist\n",
      "The file does not exist\n",
      "The file does not exist\n",
      "The file does not exist\n",
      "The file does not exist\n",
      "The file does not exist\n",
      "The file does not exist\n",
      "The file does not exist\n",
      "The file does not exist\n",
      "The file does not exist\n",
      "The file does not exist\n",
      "The file does not exist\n",
      "The file does not exist\n",
      "The file does not exist\n",
      "The file does not exist\n",
      "The file does not exist\n",
      "The file does not exist\n",
      "The file does not exist\n",
      "The file does not exist\n",
      "The file does not exist\n",
      "The file does not exist\n",
      "The file does not exist\n",
      "The file does not exist\n",
      "The file does not exist\n",
      "The file does not exist\n",
      "The file does not exist\n",
      "The file does not exist\n",
      "The file does not exist\n",
      "The file does not exist\n",
      "The file does not exist\n",
      "The file does not exist\n",
      "The file does not exist\n",
      "The file does not exist\n",
      "The file does not exist\n",
      "The file does not exist\n",
      "The file does not exist\n",
      "The file does not exist\n",
      "The file does not exist\n",
      "The file does not exist\n",
      "The file does not exist\n",
      "The file does not exist\n",
      "The file does not exist\n",
      "The file does not exist\n",
      "The file does not exist\n",
      "The file does not exist\n",
      "The file does not exist\n",
      "The file does not exist\n",
      "The file does not exist\n",
      "The file does not exist\n",
      "The file does not exist\n",
      "The file does not exist\n",
      "The file does not exist\n",
      "The file does not exist\n",
      "The file does not exist\n",
      "The file does not exist\n",
      "The file does not exist\n",
      "The file does not exist\n",
      "The file does not exist\n",
      "The file does not exist\n",
      "The file does not exist\n",
      "The file does not exist\n",
      "The file does not exist\n",
      "The file does not exist\n",
      "The file does not exist\n",
      "The file does not exist\n",
      "The file does not exist\n",
      "The file does not exist\n",
      "The file does not exist\n",
      "The file does not exist\n",
      "The file does not exist\n",
      "The file does not exist\n",
      "The file does not exist\n",
      "The file does not exist\n",
      "The file does not exist\n",
      "The file does not exist\n",
      "The file does not exist\n",
      "The file does not exist\n",
      "The file does not exist\n",
      "The file does not exist\n",
      "The file does not exist\n",
      "The file does not exist\n",
      "The file does not exist\n",
      "The file does not exist\n",
      "The file does not exist\n",
      "The file does not exist\n",
      "The file does not exist\n",
      "The file does not exist\n",
      "The file does not exist\n",
      "The file does not exist\n",
      "The file does not exist\n",
      "The file does not exist\n",
      "The file does not exist\n",
      "The file does not exist\n",
      "The file does not exist\n",
      "The file does not exist\n",
      "The file does not exist\n",
      "The file does not exist\n",
      "The file does not exist\n",
      "The file does not exist\n",
      "The file does not exist\n",
      "The file does not exist\n",
      "The file does not exist\n",
      "The file does not exist\n",
      "The file does not exist\n",
      "The file does not exist\n",
      "The file does not exist\n",
      "The file does not exist\n",
      "The file does not exist\n",
      "The file does not exist\n",
      "The file does not exist\n",
      "The file does not exist\n",
      "The file does not exist\n",
      "The file does not exist\n",
      "The file does not exist\n",
      "The file does not exist\n",
      "The file does not exist\n",
      "The file does not exist\n",
      "The file does not exist\n",
      "The file does not exist\n",
      "The file does not exist\n",
      "The file does not exist\n",
      "The file does not exist\n",
      "The file does not exist\n",
      "The file does not exist\n",
      "The file does not exist\n",
      "The file does not exist\n",
      "The file does not exist\n",
      "The file does not exist\n",
      "The file does not exist\n",
      "The file does not exist\n",
      "The file does not exist\n",
      "The file does not exist\n",
      "The file does not exist\n",
      "The file does not exist\n",
      "The file does not exist\n",
      "The file does not exist\n",
      "The file does not exist\n",
      "The file does not exist\n",
      "The file does not exist\n",
      "The file does not exist\n",
      "The file does not exist\n",
      "The file does not exist\n",
      "The file does not exist\n",
      "The file does not exist\n",
      "The file does not exist\n",
      "The file does not exist\n",
      "The file does not exist\n",
      "The file does not exist\n",
      "The file does not exist\n",
      "The file does not exist\n",
      "The file does not exist\n",
      "The file does not exist\n",
      "The file does not exist\n",
      "The file does not exist\n",
      "The file does not exist\n",
      "The file does not exist\n",
      "The file does not exist\n",
      "The file does not exist\n",
      "The file does not exist\n",
      "The file does not exist\n",
      "The file does not exist\n",
      "The file does not exist\n",
      "The file does not exist\n",
      "The file does not exist\n",
      "The file does not exist\n",
      "The file does not exist\n",
      "The file does not exist\n",
      "The file does not exist\n",
      "The file does not exist\n",
      "The file does not exist\n",
      "The file does not exist\n",
      "The file does not exist\n",
      "The file does not exist\n",
      "The file does not exist\n",
      "The file does not exist\n",
      "The file does not exist\n",
      "The file does not exist\n",
      "The file does not exist\n",
      "The file does not exist\n",
      "The file does not exist\n",
      "The file does not exist\n",
      "The file does not exist\n",
      "The file does not exist\n",
      "The file does not exist\n",
      "The file does not exist\n",
      "The file does not exist\n",
      "The file does not exist\n",
      "The file does not exist\n",
      "The file does not exist\n",
      "The file does not exist\n",
      "The file does not exist\n",
      "The file does not exist\n",
      "The file does not exist\n",
      "The file does not exist\n",
      "The file does not exist\n",
      "The file does not exist\n",
      "The file does not exist\n",
      "The file does not exist\n",
      "The file does not exist\n",
      "The file does not exist\n",
      "The file does not exist\n",
      "The file does not exist\n",
      "The file does not exist\n",
      "The file does not exist\n",
      "The file does not exist\n",
      "The file does not exist\n",
      "The file does not exist\n",
      "The file does not exist\n",
      "The file does not exist\n",
      "The file does not exist\n",
      "The file does not exist\n",
      "The file does not exist\n",
      "The file does not exist\n",
      "The file does not exist\n",
      "The file does not exist\n",
      "The file does not exist\n",
      "The file does not exist\n",
      "The file does not exist\n",
      "The file does not exist\n",
      "The file does not exist\n",
      "The file does not exist\n",
      "The file does not exist\n",
      "The file does not exist\n",
      "The file does not exist\n",
      "The file does not exist\n",
      "The file does not exist\n",
      "The file does not exist\n",
      "The file does not exist\n",
      "The file does not exist\n",
      "The file does not exist\n",
      "The file does not exist\n",
      "The file does not exist\n",
      "The file does not exist\n",
      "The file does not exist\n",
      "The file does not exist\n",
      "The file does not exist\n",
      "The file does not exist\n",
      "The file does not exist\n",
      "The file does not exist\n",
      "The file does not exist\n",
      "The file does not exist\n",
      "The file does not exist\n",
      "The file does not exist\n",
      "The file does not exist\n",
      "The file does not exist\n",
      "The file does not exist\n",
      "The file does not exist\n",
      "The file does not exist\n",
      "The file does not exist\n",
      "The file does not exist\n",
      "The file does not exist\n",
      "The file does not exist\n",
      "The file does not exist\n",
      "The file does not exist\n",
      "The file does not exist\n",
      "The file does not exist\n",
      "The file does not exist\n",
      "The file does not exist\n",
      "The file does not exist\n",
      "The file does not exist\n",
      "The file does not exist\n",
      "The file does not exist\n",
      "The file does not exist\n",
      "The file does not exist\n",
      "The file does not exist\n",
      "The file does not exist\n",
      "The file does not exist\n",
      "The file does not exist\n",
      "The file does not exist\n",
      "The file does not exist\n",
      "The file does not exist\n",
      "The file does not exist\n",
      "The file does not exist\n",
      "The file does not exist\n",
      "The file does not exist\n",
      "The file does not exist\n",
      "The file does not exist\n",
      "The file does not exist\n",
      "The file does not exist\n",
      "The file does not exist\n",
      "The file does not exist\n",
      "The file does not exist\n",
      "The file does not exist\n",
      "The file does not exist\n",
      "The file does not exist\n",
      "The file does not exist\n",
      "The file does not exist\n",
      "The file does not exist\n",
      "The file does not exist\n",
      "The file does not exist\n",
      "The file does not exist\n",
      "The file does not exist\n",
      "The file does not exist\n",
      "The file does not exist\n",
      "The file does not exist\n",
      "The file does not exist\n",
      "The file does not exist\n",
      "The file does not exist\n",
      "The file does not exist\n",
      "The file does not exist\n",
      "The file does not exist\n",
      "The file does not exist\n",
      "The file does not exist\n",
      "The file does not exist\n",
      "The file does not exist\n",
      "The file does not exist\n",
      "The file does not exist\n",
      "The file does not exist\n",
      "The file does not exist\n",
      "The file does not exist\n",
      "The file does not exist\n",
      "The file does not exist\n",
      "The file does not exist\n",
      "The file does not exist\n",
      "The file does not exist\n",
      "The file does not exist\n",
      "The file does not exist\n",
      "The file does not exist\n",
      "The file does not exist\n",
      "The file does not exist\n",
      "The file does not exist\n",
      "The file does not exist\n",
      "The file does not exist\n",
      "The file does not exist\n",
      "The file does not exist\n",
      "The file does not exist\n",
      "The file does not exist\n",
      "The file does not exist\n",
      "The file does not exist\n",
      "The file does not exist\n",
      "The file does not exist\n",
      "The file does not exist\n",
      "The file does not exist\n",
      "The file does not exist\n",
      "The file does not exist\n",
      "The file does not exist\n",
      "The file does not exist\n",
      "The file does not exist\n",
      "The file does not exist\n",
      "The file does not exist\n",
      "The file does not exist\n",
      "The file does not exist\n",
      "The file does not exist\n",
      "The file does not exist\n",
      "The file does not exist\n",
      "The file does not exist\n",
      "The file does not exist\n",
      "The file does not exist\n",
      "The file does not exist\n",
      "The file does not exist\n",
      "The file does not exist\n",
      "The file does not exist\n",
      "The file does not exist\n",
      "The file does not exist\n",
      "The file does not exist\n",
      "The file does not exist\n",
      "The file does not exist\n",
      "The file does not exist\n",
      "The file does not exist\n",
      "The file does not exist\n",
      "The file does not exist\n",
      "The file does not exist\n",
      "The file does not exist\n",
      "The file does not exist\n",
      "The file does not exist\n",
      "The file does not exist\n",
      "The file does not exist\n",
      "The file does not exist\n",
      "The file does not exist\n",
      "The file does not exist\n",
      "The file does not exist\n",
      "The file does not exist\n",
      "The file does not exist\n",
      "The file does not exist\n",
      "The file does not exist\n",
      "The file does not exist\n",
      "The file does not exist\n",
      "The file does not exist\n",
      "The file does not exist\n",
      "The file does not exist\n",
      "The file does not exist\n",
      "The file does not exist\n",
      "The file does not exist\n",
      "The file does not exist\n",
      "The file does not exist\n",
      "The file does not exist\n",
      "The file does not exist\n",
      "The file does not exist\n",
      "The file does not exist\n",
      "The file does not exist\n",
      "The file does not exist\n",
      "The file does not exist\n",
      "The file does not exist\n",
      "The file does not exist\n",
      "The file does not exist\n",
      "The file does not exist\n",
      "The file does not exist\n",
      "The file does not exist\n",
      "The file does not exist\n",
      "The file does not exist\n",
      "The file does not exist\n",
      "The file does not exist\n",
      "The file does not exist\n",
      "The file does not exist\n",
      "The file does not exist\n",
      "The file does not exist\n",
      "The file does not exist\n",
      "The file does not exist\n",
      "The file does not exist\n",
      "The file does not exist\n",
      "The file does not exist\n",
      "The file does not exist\n",
      "The file does not exist\n",
      "The file does not exist\n",
      "The file does not exist\n",
      "The file does not exist\n",
      "The file does not exist\n",
      "The file does not exist\n",
      "The file does not exist\n",
      "The file does not exist\n",
      "The file does not exist\n",
      "The file does not exist\n",
      "The file does not exist\n",
      "The file does not exist\n",
      "The file does not exist\n",
      "The file does not exist\n",
      "The file does not exist\n",
      "The file does not exist\n",
      "The file does not exist\n",
      "The file does not exist\n",
      "The file does not exist\n",
      "The file does not exist\n",
      "The file does not exist\n",
      "The file does not exist\n",
      "The file does not exist\n",
      "The file does not exist\n",
      "The file does not exist\n",
      "The file does not exist\n",
      "The file does not exist\n",
      "The file does not exist\n",
      "The file does not exist\n",
      "The file does not exist\n",
      "The file does not exist\n",
      "The file does not exist\n",
      "The file does not exist\n",
      "The file does not exist\n",
      "The file does not exist\n",
      "The file does not exist\n",
      "The file does not exist\n",
      "The file does not exist\n",
      "The file does not exist\n",
      "The file does not exist\n",
      "The file does not exist\n",
      "The file does not exist\n",
      "The file does not exist\n",
      "The file does not exist\n",
      "The file does not exist\n",
      "The file does not exist\n",
      "The file does not exist\n",
      "The file does not exist\n",
      "The file does not exist\n",
      "The file does not exist\n",
      "The file does not exist\n",
      "The file does not exist\n",
      "The file does not exist\n",
      "The file does not exist\n",
      "The file does not exist\n",
      "The file does not exist\n",
      "The file does not exist\n",
      "The file does not exist\n",
      "The file does not exist\n",
      "The file does not exist\n",
      "The file does not exist\n",
      "The file does not exist\n",
      "The file does not exist\n",
      "The file does not exist\n",
      "The file does not exist\n",
      "The file does not exist\n",
      "The file does not exist\n",
      "The file does not exist\n",
      "The file does not exist\n",
      "The file does not exist\n",
      "The file does not exist\n",
      "The file does not exist\n",
      "The file does not exist\n",
      "The file does not exist\n"
     ]
    }
   ],
=======
   "outputs": [],
>>>>>>> master
   "source": [
    "for filename in images_to_remove:\n",
    "    if os.path.exists(os.path.join(data_directory, filename)):\n",
    "        os.remove(os.path.join(data_directory, filename))\n",
    "        print(f\"{filename} deleted\")\n",
    "    else:\n",
    "        print(\"The file does not exist\")"
   ]
  },
  {
   "cell_type": "code",
<<<<<<< HEAD
   "execution_count": 184,
   "id": "e55878a3",
   "metadata": {},
=======
   "execution_count": 13,
   "id": "e55878a3",
   "metadata": {
    "ExecuteTime": {
     "end_time": "2024-06-10T18:16:53.697150Z",
     "start_time": "2024-06-10T18:16:53.196929Z"
    }
   },
>>>>>>> master
   "outputs": [],
   "source": [
    "#remove the images from the list in all image paths\n",
    "all_image_paths = [path for path in all_image_paths if path.split(\"/\")[-1] not in images_to_remove]"
   ]
  },
  {
   "cell_type": "code",
<<<<<<< HEAD
   "execution_count": 185,
   "id": "6ba8035e",
   "metadata": {
    "ExecuteTime": {
     "end_time": "2024-06-10T08:09:04.295320Z",
     "start_time": "2024-06-10T08:09:04.293942Z"
=======
   "execution_count": 14,
   "id": "6ba8035e",
   "metadata": {
    "ExecuteTime": {
     "end_time": "2024-06-10T18:16:54.257291Z",
     "start_time": "2024-06-10T18:16:54.252822Z"
>>>>>>> master
    }
   },
   "outputs": [
    {
     "data": {
      "text/plain": [
       "111601"
      ]
     },
<<<<<<< HEAD
     "execution_count": 185,
=======
     "execution_count": 14,
>>>>>>> master
     "metadata": {},
     "output_type": "execute_result"
    }
   ],
   "source": [
    "image_count = len(all_image_paths)\n",
    "image_count"
   ]
  },
  {
   "cell_type": "code",
<<<<<<< HEAD
   "execution_count": 186,
   "id": "88016e77",
   "metadata": {
    "ExecuteTime": {
     "end_time": "2024-06-10T08:09:04.298864Z",
     "start_time": "2024-06-10T08:09:04.296045Z"
=======
   "execution_count": 15,
   "id": "88016e77",
   "metadata": {
    "ExecuteTime": {
     "end_time": "2024-06-10T18:16:55.482363Z",
     "start_time": "2024-06-10T18:16:55.477676Z"
>>>>>>> master
    }
   },
   "outputs": [
    {
     "data": {
      "text/plain": [
<<<<<<< HEAD
       "['/Users/sachamagier/code/sachamagier/chest-predictor/raw_data/resized_dataset/images/set_full/00018805_001.png',\n",
       " '/Users/sachamagier/code/sachamagier/chest-predictor/raw_data/resized_dataset/images/set_full/00005868_002.png',\n",
       " '/Users/sachamagier/code/sachamagier/chest-predictor/raw_data/resized_dataset/images/set_full/00009663_000.png',\n",
       " '/Users/sachamagier/code/sachamagier/chest-predictor/raw_data/resized_dataset/images/set_full/00022156_007.png',\n",
       " '/Users/sachamagier/code/sachamagier/chest-predictor/raw_data/resized_dataset/images/set_full/00005395_004.png',\n",
       " '/Users/sachamagier/code/sachamagier/chest-predictor/raw_data/resized_dataset/images/set_full/00006966_004.png',\n",
       " '/Users/sachamagier/code/sachamagier/chest-predictor/raw_data/resized_dataset/images/set_full/00000324_013.png',\n",
       " '/Users/sachamagier/code/sachamagier/chest-predictor/raw_data/resized_dataset/images/set_full/00007442_018.png',\n",
       " '/Users/sachamagier/code/sachamagier/chest-predictor/raw_data/resized_dataset/images/set_full/00003923_012.png',\n",
       " '/Users/sachamagier/code/sachamagier/chest-predictor/raw_data/resized_dataset/images/set_full/00028483_007.png']"
      ]
     },
     "execution_count": 186,
=======
       "['/Users/arnodebelle/code/sachamagier/chest-predictor/raw_data/resized_dataset/images/set_full/00018805_001.png',\n",
       " '/Users/arnodebelle/code/sachamagier/chest-predictor/raw_data/resized_dataset/images/set_full/00005868_002.png',\n",
       " '/Users/arnodebelle/code/sachamagier/chest-predictor/raw_data/resized_dataset/images/set_full/00009663_000.png',\n",
       " '/Users/arnodebelle/code/sachamagier/chest-predictor/raw_data/resized_dataset/images/set_full/00022156_007.png',\n",
       " '/Users/arnodebelle/code/sachamagier/chest-predictor/raw_data/resized_dataset/images/set_full/00005395_004.png',\n",
       " '/Users/arnodebelle/code/sachamagier/chest-predictor/raw_data/resized_dataset/images/set_full/00006966_004.png',\n",
       " '/Users/arnodebelle/code/sachamagier/chest-predictor/raw_data/resized_dataset/images/set_full/00000324_013.png',\n",
       " '/Users/arnodebelle/code/sachamagier/chest-predictor/raw_data/resized_dataset/images/set_full/00007442_018.png',\n",
       " '/Users/arnodebelle/code/sachamagier/chest-predictor/raw_data/resized_dataset/images/set_full/00003923_012.png',\n",
       " '/Users/arnodebelle/code/sachamagier/chest-predictor/raw_data/resized_dataset/images/set_full/00028483_007.png']"
      ]
     },
     "execution_count": 15,
>>>>>>> master
     "metadata": {},
     "output_type": "execute_result"
    }
   ],
   "source": [
    "all_image_paths[:10]"
   ]
  },
  {
   "cell_type": "markdown",
   "id": "bdb27361",
   "metadata": {},
   "source": [
    "### Inspect the images\n",
    "Now let's have a quick look at a couple of the images, so you know what you're dealing with:"
   ]
  },
  {
   "cell_type": "code",
<<<<<<< HEAD
   "execution_count": 187,
   "id": "7f496da1",
   "metadata": {
    "ExecuteTime": {
     "end_time": "2024-06-10T08:09:04.307476Z",
     "start_time": "2024-06-10T08:09:04.299587Z"
=======
   "execution_count": 16,
   "id": "7f496da1",
   "metadata": {
    "ExecuteTime": {
     "end_time": "2024-06-10T18:17:09.873061Z",
     "start_time": "2024-06-10T18:17:09.857348Z"
>>>>>>> master
    }
   },
   "outputs": [
    {
     "data": {
<<<<<<< HEAD
      "image/png": "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",
=======
      "image/png": "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",
>>>>>>> master
      "text/plain": [
       "<IPython.core.display.Image object>"
      ]
     },
     "metadata": {},
     "output_type": "display_data"
    },
    {
     "name": "stdout",
     "output_type": "stream",
     "text": [
<<<<<<< HEAD
      "00000468_014.png\n",
=======
      "00018725_001.png\n",
>>>>>>> master
      "\n"
     ]
    },
    {
     "data": {
<<<<<<< HEAD
      "image/png": "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",
=======
      "image/png": "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",
>>>>>>> master
      "text/plain": [
       "<IPython.core.display.Image object>"
      ]
     },
     "metadata": {},
     "output_type": "display_data"
    },
    {
     "name": "stdout",
     "output_type": "stream",
     "text": [
<<<<<<< HEAD
      "00009889_011.png\n",
=======
      "00011755_000.png\n",
>>>>>>> master
      "\n"
     ]
    },
    {
     "data": {
<<<<<<< HEAD
      "image/png": "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",
=======
      "image/png": "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",
>>>>>>> master
      "text/plain": [
       "<IPython.core.display.Image object>"
      ]
     },
     "metadata": {},
     "output_type": "display_data"
    },
    {
     "name": "stdout",
     "output_type": "stream",
     "text": [
<<<<<<< HEAD
      "00025372_000.png\n",
=======
      "00014207_007.png\n",
>>>>>>> master
      "\n"
     ]
    }
   ],
   "source": [
    "import IPython.display as display\n",
    "import random\n",
    "\n",
    "for n in range(3):\n",
    "    image_path = random.choice(all_image_paths)\n",
    "    display.display(display.Image(image_path))\n",
    "    print(os.path.basename(image_path))\n",
    "    print()"
   ]
  },
  {
   "cell_type": "markdown",
   "id": "9571b258",
   "metadata": {},
   "source": [
    "### Determine the label for each image"
   ]
  },
  {
   "cell_type": "markdown",
   "id": "065a1786",
   "metadata": {},
   "source": [
    "Extracting the labels from the CSV"
   ]
  },
  {
   "cell_type": "code",
<<<<<<< HEAD
   "execution_count": 188,
   "id": "a8eb9faf",
   "metadata": {
    "ExecuteTime": {
     "end_time": "2024-06-10T08:09:04.377815Z",
     "start_time": "2024-06-10T08:09:04.308389Z"
=======
   "execution_count": 17,
   "id": "a8eb9faf",
   "metadata": {
    "ExecuteTime": {
     "end_time": "2024-06-10T18:17:14.203612Z",
     "start_time": "2024-06-10T18:17:14.085928Z"
>>>>>>> master
    }
   },
   "outputs": [],
   "source": [
    "import pandas as pd\n",
    "# Load labels\n",
    "labels_df = pd.read_csv(data_root/\"Data_Entry_2017.csv\")\n",
    "labels_df.set_index('Image Index', inplace=True)"
   ]
  },
  {
   "cell_type": "code",
<<<<<<< HEAD
   "execution_count": 214,
   "id": "456bd835",
   "metadata": {
    "ExecuteTime": {
     "end_time": "2024-06-10T08:09:04.383581Z",
     "start_time": "2024-06-10T08:09:04.378842Z"
=======
   "execution_count": 18,
   "id": "456bd835",
   "metadata": {
    "ExecuteTime": {
     "end_time": "2024-06-10T18:17:14.420781Z",
     "start_time": "2024-06-10T18:17:14.405091Z"
>>>>>>> master
    }
   },
   "outputs": [
    {
     "data": {
      "text/html": [
       "<div>\n",
       "<style scoped>\n",
       "    .dataframe tbody tr th:only-of-type {\n",
       "        vertical-align: middle;\n",
       "    }\n",
       "\n",
       "    .dataframe tbody tr th {\n",
       "        vertical-align: top;\n",
       "    }\n",
       "\n",
       "    .dataframe thead th {\n",
       "        text-align: right;\n",
       "    }\n",
       "</style>\n",
       "<table border=\"1\" class=\"dataframe\">\n",
       "  <thead>\n",
       "    <tr style=\"text-align: right;\">\n",
       "      <th></th>\n",
       "      <th>Finding Labels</th>\n",
       "      <th>Follow-up #</th>\n",
       "      <th>Patient ID</th>\n",
       "      <th>Patient Age</th>\n",
       "      <th>Patient Gender</th>\n",
       "      <th>View Position</th>\n",
       "      <th>OriginalImage[Width</th>\n",
       "      <th>Height]</th>\n",
       "      <th>OriginalImagePixelSpacing[x</th>\n",
       "      <th>y]</th>\n",
       "      <th>Unnamed: 11</th>\n",
       "    </tr>\n",
       "    <tr>\n",
       "      <th>Image Index</th>\n",
       "      <th></th>\n",
       "      <th></th>\n",
       "      <th></th>\n",
       "      <th></th>\n",
       "      <th></th>\n",
       "      <th></th>\n",
       "      <th></th>\n",
       "      <th></th>\n",
       "      <th></th>\n",
       "      <th></th>\n",
       "      <th></th>\n",
       "    </tr>\n",
       "  </thead>\n",
       "  <tbody>\n",
       "    <tr>\n",
       "      <th>00000001_000.png</th>\n",
       "      <td>Cardiomegaly</td>\n",
       "      <td>0</td>\n",
       "      <td>1</td>\n",
       "      <td>58</td>\n",
       "      <td>M</td>\n",
       "      <td>PA</td>\n",
       "      <td>2682</td>\n",
       "      <td>2749</td>\n",
       "      <td>0.143</td>\n",
       "      <td>0.143</td>\n",
       "      <td>NaN</td>\n",
       "    </tr>\n",
       "    <tr>\n",
       "      <th>00000001_001.png</th>\n",
       "      <td>Cardiomegaly|Emphysema</td>\n",
       "      <td>1</td>\n",
       "      <td>1</td>\n",
       "      <td>58</td>\n",
       "      <td>M</td>\n",
       "      <td>PA</td>\n",
       "      <td>2894</td>\n",
       "      <td>2729</td>\n",
       "      <td>0.143</td>\n",
       "      <td>0.143</td>\n",
       "      <td>NaN</td>\n",
       "    </tr>\n",
       "    <tr>\n",
       "      <th>00000001_002.png</th>\n",
       "      <td>Cardiomegaly|Effusion</td>\n",
       "      <td>2</td>\n",
       "      <td>1</td>\n",
       "      <td>58</td>\n",
       "      <td>M</td>\n",
       "      <td>PA</td>\n",
       "      <td>2500</td>\n",
       "      <td>2048</td>\n",
       "      <td>0.168</td>\n",
       "      <td>0.168</td>\n",
       "      <td>NaN</td>\n",
       "    </tr>\n",
       "    <tr>\n",
       "      <th>00000002_000.png</th>\n",
       "      <td>No Finding</td>\n",
       "      <td>0</td>\n",
       "      <td>2</td>\n",
       "      <td>81</td>\n",
       "      <td>M</td>\n",
       "      <td>PA</td>\n",
       "      <td>2500</td>\n",
       "      <td>2048</td>\n",
       "      <td>0.171</td>\n",
       "      <td>0.171</td>\n",
       "      <td>NaN</td>\n",
       "    </tr>\n",
       "    <tr>\n",
       "      <th>00000003_000.png</th>\n",
       "      <td>Hernia</td>\n",
       "      <td>0</td>\n",
       "      <td>3</td>\n",
       "      <td>81</td>\n",
       "      <td>F</td>\n",
       "      <td>PA</td>\n",
       "      <td>2582</td>\n",
       "      <td>2991</td>\n",
       "      <td>0.143</td>\n",
       "      <td>0.143</td>\n",
       "      <td>NaN</td>\n",
       "    </tr>\n",
       "    <tr>\n",
       "      <th>00000003_001.png</th>\n",
       "      <td>Hernia</td>\n",
       "      <td>1</td>\n",
       "      <td>3</td>\n",
       "      <td>74</td>\n",
       "      <td>F</td>\n",
       "      <td>PA</td>\n",
       "      <td>2500</td>\n",
       "      <td>2048</td>\n",
       "      <td>0.168</td>\n",
       "      <td>0.168</td>\n",
       "      <td>NaN</td>\n",
       "    </tr>\n",
       "    <tr>\n",
       "      <th>00000003_002.png</th>\n",
       "      <td>Hernia</td>\n",
       "      <td>2</td>\n",
       "      <td>3</td>\n",
       "      <td>75</td>\n",
       "      <td>F</td>\n",
       "      <td>PA</td>\n",
       "      <td>2048</td>\n",
       "      <td>2500</td>\n",
       "      <td>0.168</td>\n",
       "      <td>0.168</td>\n",
       "      <td>NaN</td>\n",
       "    </tr>\n",
       "    <tr>\n",
       "      <th>00000003_003.png</th>\n",
       "      <td>Hernia|Infiltration</td>\n",
       "      <td>3</td>\n",
       "      <td>3</td>\n",
       "      <td>76</td>\n",
       "      <td>F</td>\n",
       "      <td>PA</td>\n",
       "      <td>2698</td>\n",
       "      <td>2991</td>\n",
       "      <td>0.143</td>\n",
       "      <td>0.143</td>\n",
       "      <td>NaN</td>\n",
       "    </tr>\n",
       "    <tr>\n",
       "      <th>00000003_004.png</th>\n",
       "      <td>Hernia</td>\n",
       "      <td>4</td>\n",
       "      <td>3</td>\n",
       "      <td>77</td>\n",
       "      <td>F</td>\n",
       "      <td>PA</td>\n",
       "      <td>2500</td>\n",
       "      <td>2048</td>\n",
       "      <td>0.168</td>\n",
       "      <td>0.168</td>\n",
       "      <td>NaN</td>\n",
       "    </tr>\n",
       "    <tr>\n",
       "      <th>00000003_005.png</th>\n",
       "      <td>Hernia</td>\n",
       "      <td>5</td>\n",
       "      <td>3</td>\n",
       "      <td>78</td>\n",
       "      <td>F</td>\n",
       "      <td>PA</td>\n",
       "      <td>2686</td>\n",
       "      <td>2991</td>\n",
       "      <td>0.143</td>\n",
       "      <td>0.143</td>\n",
       "      <td>NaN</td>\n",
       "    </tr>\n",
       "    <tr>\n",
       "      <th>00000003_006.png</th>\n",
       "      <td>Hernia</td>\n",
       "      <td>6</td>\n",
       "      <td>3</td>\n",
       "      <td>79</td>\n",
       "      <td>F</td>\n",
       "      <td>PA</td>\n",
       "      <td>2992</td>\n",
       "      <td>2991</td>\n",
       "      <td>0.143</td>\n",
       "      <td>0.143</td>\n",
       "      <td>NaN</td>\n",
       "    </tr>\n",
       "    <tr>\n",
       "      <th>00000003_007.png</th>\n",
       "      <td>Hernia</td>\n",
       "      <td>7</td>\n",
       "      <td>3</td>\n",
       "      <td>80</td>\n",
       "      <td>F</td>\n",
       "      <td>PA</td>\n",
       "      <td>2582</td>\n",
       "      <td>2905</td>\n",
       "      <td>0.143</td>\n",
       "      <td>0.143</td>\n",
       "      <td>NaN</td>\n",
       "    </tr>\n",
       "    <tr>\n",
       "      <th>00000004_000.png</th>\n",
       "      <td>Mass|Nodule</td>\n",
       "      <td>0</td>\n",
       "      <td>4</td>\n",
       "      <td>82</td>\n",
       "      <td>M</td>\n",
       "      <td>AP</td>\n",
       "      <td>2500</td>\n",
       "      <td>2048</td>\n",
       "      <td>0.168</td>\n",
       "      <td>0.168</td>\n",
       "      <td>NaN</td>\n",
       "    </tr>\n",
       "    <tr>\n",
       "      <th>00000005_000.png</th>\n",
       "      <td>No Finding</td>\n",
       "      <td>0</td>\n",
       "      <td>5</td>\n",
       "      <td>69</td>\n",
       "      <td>F</td>\n",
       "      <td>PA</td>\n",
       "      <td>2048</td>\n",
       "      <td>2500</td>\n",
       "      <td>0.168</td>\n",
       "      <td>0.168</td>\n",
       "      <td>NaN</td>\n",
       "    </tr>\n",
       "    <tr>\n",
       "      <th>00000005_001.png</th>\n",
       "      <td>No Finding</td>\n",
       "      <td>1</td>\n",
       "      <td>5</td>\n",
       "      <td>69</td>\n",
       "      <td>F</td>\n",
       "      <td>AP</td>\n",
       "      <td>2500</td>\n",
       "      <td>2048</td>\n",
       "      <td>0.168</td>\n",
       "      <td>0.168</td>\n",
       "      <td>NaN</td>\n",
       "    </tr>\n",
       "    <tr>\n",
       "      <th>00000005_002.png</th>\n",
       "      <td>No Finding</td>\n",
       "      <td>2</td>\n",
       "      <td>5</td>\n",
       "      <td>69</td>\n",
       "      <td>F</td>\n",
       "      <td>AP</td>\n",
       "      <td>2500</td>\n",
       "      <td>2048</td>\n",
       "      <td>0.168</td>\n",
       "      <td>0.168</td>\n",
       "      <td>NaN</td>\n",
       "    </tr>\n",
       "    <tr>\n",
       "      <th>00000005_003.png</th>\n",
       "      <td>No Finding</td>\n",
       "      <td>3</td>\n",
       "      <td>5</td>\n",
       "      <td>69</td>\n",
       "      <td>F</td>\n",
       "      <td>PA</td>\n",
       "      <td>2992</td>\n",
       "      <td>2991</td>\n",
       "      <td>0.143</td>\n",
       "      <td>0.143</td>\n",
       "      <td>NaN</td>\n",
       "    </tr>\n",
       "    <tr>\n",
       "      <th>00000005_004.png</th>\n",
       "      <td>No Finding</td>\n",
       "      <td>4</td>\n",
       "      <td>5</td>\n",
       "      <td>70</td>\n",
       "      <td>F</td>\n",
       "      <td>PA</td>\n",
       "      <td>2986</td>\n",
       "      <td>2991</td>\n",
       "      <td>0.143</td>\n",
       "      <td>0.143</td>\n",
       "      <td>NaN</td>\n",
       "    </tr>\n",
       "    <tr>\n",
       "      <th>00000005_005.png</th>\n",
       "      <td>No Finding</td>\n",
       "      <td>5</td>\n",
       "      <td>5</td>\n",
       "      <td>70</td>\n",
       "      <td>F</td>\n",
       "      <td>PA</td>\n",
       "      <td>2514</td>\n",
       "      <td>2991</td>\n",
       "      <td>0.143</td>\n",
       "      <td>0.143</td>\n",
       "      <td>NaN</td>\n",
       "    </tr>\n",
       "    <tr>\n",
       "      <th>00000005_006.png</th>\n",
       "      <td>Infiltration</td>\n",
       "      <td>6</td>\n",
       "      <td>5</td>\n",
       "      <td>70</td>\n",
       "      <td>F</td>\n",
       "      <td>PA</td>\n",
       "      <td>2992</td>\n",
       "      <td>2991</td>\n",
       "      <td>0.143</td>\n",
       "      <td>0.143</td>\n",
       "      <td>NaN</td>\n",
       "    </tr>\n",
       "  </tbody>\n",
       "</table>\n",
       "</div>"
      ],
      "text/plain": [
       "                          Finding Labels  Follow-up #  Patient ID  \\\n",
       "Image Index                                                         \n",
       "00000001_000.png            Cardiomegaly            0           1   \n",
       "00000001_001.png  Cardiomegaly|Emphysema            1           1   \n",
       "00000001_002.png   Cardiomegaly|Effusion            2           1   \n",
       "00000002_000.png              No Finding            0           2   \n",
       "00000003_000.png                  Hernia            0           3   \n",
       "00000003_001.png                  Hernia            1           3   \n",
       "00000003_002.png                  Hernia            2           3   \n",
       "00000003_003.png     Hernia|Infiltration            3           3   \n",
       "00000003_004.png                  Hernia            4           3   \n",
       "00000003_005.png                  Hernia            5           3   \n",
       "00000003_006.png                  Hernia            6           3   \n",
       "00000003_007.png                  Hernia            7           3   \n",
       "00000004_000.png             Mass|Nodule            0           4   \n",
       "00000005_000.png              No Finding            0           5   \n",
       "00000005_001.png              No Finding            1           5   \n",
       "00000005_002.png              No Finding            2           5   \n",
       "00000005_003.png              No Finding            3           5   \n",
       "00000005_004.png              No Finding            4           5   \n",
       "00000005_005.png              No Finding            5           5   \n",
       "00000005_006.png            Infiltration            6           5   \n",
       "\n",
       "                  Patient Age Patient Gender View Position  \\\n",
       "Image Index                                                  \n",
       "00000001_000.png           58              M            PA   \n",
       "00000001_001.png           58              M            PA   \n",
       "00000001_002.png           58              M            PA   \n",
       "00000002_000.png           81              M            PA   \n",
       "00000003_000.png           81              F            PA   \n",
       "00000003_001.png           74              F            PA   \n",
       "00000003_002.png           75              F            PA   \n",
       "00000003_003.png           76              F            PA   \n",
       "00000003_004.png           77              F            PA   \n",
       "00000003_005.png           78              F            PA   \n",
       "00000003_006.png           79              F            PA   \n",
       "00000003_007.png           80              F            PA   \n",
       "00000004_000.png           82              M            AP   \n",
       "00000005_000.png           69              F            PA   \n",
       "00000005_001.png           69              F            AP   \n",
       "00000005_002.png           69              F            AP   \n",
       "00000005_003.png           69              F            PA   \n",
       "00000005_004.png           70              F            PA   \n",
       "00000005_005.png           70              F            PA   \n",
       "00000005_006.png           70              F            PA   \n",
       "\n",
       "                  OriginalImage[Width  Height]  OriginalImagePixelSpacing[x  \\\n",
       "Image Index                                                                   \n",
       "00000001_000.png                 2682     2749                        0.143   \n",
       "00000001_001.png                 2894     2729                        0.143   \n",
       "00000001_002.png                 2500     2048                        0.168   \n",
       "00000002_000.png                 2500     2048                        0.171   \n",
       "00000003_000.png                 2582     2991                        0.143   \n",
       "00000003_001.png                 2500     2048                        0.168   \n",
       "00000003_002.png                 2048     2500                        0.168   \n",
       "00000003_003.png                 2698     2991                        0.143   \n",
       "00000003_004.png                 2500     2048                        0.168   \n",
       "00000003_005.png                 2686     2991                        0.143   \n",
       "00000003_006.png                 2992     2991                        0.143   \n",
       "00000003_007.png                 2582     2905                        0.143   \n",
       "00000004_000.png                 2500     2048                        0.168   \n",
       "00000005_000.png                 2048     2500                        0.168   \n",
       "00000005_001.png                 2500     2048                        0.168   \n",
       "00000005_002.png                 2500     2048                        0.168   \n",
       "00000005_003.png                 2992     2991                        0.143   \n",
       "00000005_004.png                 2986     2991                        0.143   \n",
       "00000005_005.png                 2514     2991                        0.143   \n",
       "00000005_006.png                 2992     2991                        0.143   \n",
       "\n",
       "                     y]  Unnamed: 11  \n",
       "Image Index                           \n",
       "00000001_000.png  0.143          NaN  \n",
       "00000001_001.png  0.143          NaN  \n",
       "00000001_002.png  0.168          NaN  \n",
       "00000002_000.png  0.171          NaN  \n",
       "00000003_000.png  0.143          NaN  \n",
       "00000003_001.png  0.168          NaN  \n",
       "00000003_002.png  0.168          NaN  \n",
       "00000003_003.png  0.143          NaN  \n",
       "00000003_004.png  0.168          NaN  \n",
       "00000003_005.png  0.143          NaN  \n",
       "00000003_006.png  0.143          NaN  \n",
       "00000003_007.png  0.143          NaN  \n",
       "00000004_000.png  0.168          NaN  \n",
       "00000005_000.png  0.168          NaN  \n",
       "00000005_001.png  0.168          NaN  \n",
       "00000005_002.png  0.168          NaN  \n",
       "00000005_003.png  0.143          NaN  \n",
       "00000005_004.png  0.143          NaN  \n",
       "00000005_005.png  0.143          NaN  \n",
       "00000005_006.png  0.143          NaN  "
      ]
     },
<<<<<<< HEAD
     "execution_count": 214,
=======
     "execution_count": 18,
>>>>>>> master
     "metadata": {},
     "output_type": "execute_result"
    }
   ],
   "source": [
    "labels_df.head(20)"
   ]
  },
  {
   "cell_type": "code",
<<<<<<< HEAD
   "execution_count": 190,
   "id": "50ec52c6",
   "metadata": {
    "ExecuteTime": {
     "end_time": "2024-06-10T08:09:04.458257Z",
     "start_time": "2024-06-10T08:09:04.384464Z"
=======
   "execution_count": 19,
   "id": "50ec52c6",
   "metadata": {
    "ExecuteTime": {
     "end_time": "2024-06-10T18:17:18.715712Z",
     "start_time": "2024-06-10T18:17:18.608170Z"
>>>>>>> master
    }
   },
   "outputs": [],
   "source": [
    "# Create list of all image labels\n",
    "all_image_labels = labels_df.loc[[os.path.basename(path) for path in all_image_paths], 'Finding Labels'].values"
   ]
  },
  {
   "cell_type": "code",
<<<<<<< HEAD
   "execution_count": 191,
   "id": "b4ffcf61",
   "metadata": {
    "ExecuteTime": {
     "end_time": "2024-06-10T08:09:04.461925Z",
     "start_time": "2024-06-10T08:09:04.459290Z"
=======
   "execution_count": 20,
   "id": "b4ffcf61",
   "metadata": {
    "ExecuteTime": {
     "end_time": "2024-06-10T18:17:19.300052Z",
     "start_time": "2024-06-10T18:17:19.293731Z"
>>>>>>> master
    }
   },
   "outputs": [
    {
     "data": {
      "text/plain": [
       "array(['No Finding', 'No Finding', 'No Finding', 'Pneumonia',\n",
       "       'No Finding', 'Pneumonia', 'No Finding', 'No Finding',\n",
       "       'No Finding', 'No Finding', 'No Finding',\n",
       "       'Atelectasis|Infiltration', 'Fibrosis', 'Infiltration',\n",
       "       'No Finding', 'No Finding', 'No Finding', 'No Finding',\n",
       "       'No Finding', 'Atelectasis', 'Cardiomegaly', 'Infiltration',\n",
       "       'Consolidation', 'No Finding', 'No Finding'], dtype=object)"
      ]
     },
<<<<<<< HEAD
     "execution_count": 191,
=======
     "execution_count": 20,
>>>>>>> master
     "metadata": {},
     "output_type": "execute_result"
    }
   ],
   "source": [
    "all_image_labels[:25]"
   ]
  },
  {
   "cell_type": "code",
<<<<<<< HEAD
   "execution_count": 193,
   "id": "cbb0f93d",
   "metadata": {
    "ExecuteTime": {
     "end_time": "2024-06-10T08:09:04.464587Z",
     "start_time": "2024-06-10T08:09:04.462703Z"
=======
   "execution_count": 29,
   "id": "cbb0f93d",
   "metadata": {
    "ExecuteTime": {
     "end_time": "2024-06-10T18:20:45.899280Z",
     "start_time": "2024-06-10T18:20:45.892855Z"
>>>>>>> master
    }
   },
   "outputs": [
    {
     "data": {
      "text/plain": [
       "111601"
      ]
     },
<<<<<<< HEAD
     "execution_count": 193,
=======
     "execution_count": 29,
>>>>>>> master
     "metadata": {},
     "output_type": "execute_result"
    }
   ],
   "source": [
    "len(all_image_labels)"
   ]
  },
  {
<<<<<<< HEAD
=======
   "cell_type": "code",
   "execution_count": 31,
   "id": "3ba9d07e",
   "metadata": {
    "ExecuteTime": {
     "end_time": "2024-06-10T18:22:10.509802Z",
     "start_time": "2024-06-10T18:22:10.495980Z"
    }
   },
   "outputs": [
    {
     "data": {
      "text/plain": [
       "array(['Pneumonia', 'Pneumonia', 'Atelectasis|Infiltration', ...,\n",
       "       'Infiltration|Pneumothorax', 'Infiltration', 'Infiltration'],\n",
       "      dtype=object)"
      ]
     },
     "execution_count": 31,
     "metadata": {},
     "output_type": "execute_result"
    }
   ],
   "source": [
    "# Create a boolean mask for the elements that are not 'No Finding'\n",
    "mask = all_image_labels != 'No Finding'\n",
    "\n",
    "# Use the boolean mask to index the original array and get a new array without the 'No Finding' elements\n",
    "new_image_labels = all_image_labels[mask]\n",
    "new_image_labels"
   ]
  },
  {
>>>>>>> master
   "cell_type": "markdown",
   "id": "35caabd2",
   "metadata": {},
   "source": [
    "#### Encoding the labels"
   ]
  },
  {
   "cell_type": "markdown",
   "id": "76868981",
   "metadata": {},
   "source": [
    "Encoding the labels using *StringLookup*"
   ]
  },
  {
   "cell_type": "code",
<<<<<<< HEAD
   "execution_count": 194,
   "id": "f7832fe9",
   "metadata": {},
=======
   "execution_count": 22,
   "id": "f7832fe9",
   "metadata": {
    "ExecuteTime": {
     "end_time": "2024-06-10T18:17:28.075404Z",
     "start_time": "2024-06-10T18:17:28.060669Z"
    }
   },
>>>>>>> master
   "outputs": [
    {
     "data": {
      "text/plain": [
       "60016"
      ]
     },
<<<<<<< HEAD
     "execution_count": 194,
=======
     "execution_count": 22,
>>>>>>> master
     "metadata": {},
     "output_type": "execute_result"
    }
   ],
   "source": [
    "#len of no finding\n",
    "len([label for label in all_image_labels if label == 'No Finding'])"
   ]
  },
  {
   "cell_type": "code",
<<<<<<< HEAD
   "execution_count": 221,
   "id": "8585bbeb",
   "metadata": {},
=======
   "execution_count": 23,
   "id": "8585bbeb",
   "metadata": {
    "ExecuteTime": {
     "end_time": "2024-06-10T18:17:42.598844Z",
     "start_time": "2024-06-10T18:17:42.041376Z"
    }
   },
>>>>>>> master
   "outputs": [
    {
     "data": {
      "text/plain": [
       "['00018805_001.png',\n",
       " '00005868_002.png',\n",
       " '00009663_000.png',\n",
       " '00005395_004.png',\n",
       " '00000324_013.png',\n",
       " '00007442_018.png',\n",
       " '00003923_012.png',\n",
       " '00028483_007.png',\n",
       " '00024175_003.png',\n",
       " '00026987_001.png',\n",
       " '00025374_001.png',\n",
       " '00025380_000.png',\n",
       " '00002143_003.png',\n",
       " '00029676_004.png',\n",
       " '00015530_077.png',\n",
       " '00008745_019.png',\n",
       " '00027618_013.png',\n",
       " '00006590_000.png',\n",
       " '00007765_003.png',\n",
       " '00007791_002.png',\n",
       " '00010920_006.png',\n",
       " '00018168_000.png',\n",
       " '00030753_001.png',\n",
       " '00028613_000.png',\n",
       " '00025110_007.png',\n",
       " '00013648_003.png',\n",
       " '00016765_001.png',\n",
       " '00016791_000.png',\n",
       " '00007903_000.png',\n",
       " '00019860_005.png',\n",
       " '00011945_002.png',\n",
       " '00027514_001.png',\n",
       " '00014868_000.png',\n",
       " '00009805_003.png',\n",
       " '00006700_007.png',\n",
       " '00015160_005.png',\n",
       " '00019462_000.png',\n",
       " '00029319_000.png',\n",
       " '00010447_020.png',\n",
       " '00029666_010.png',\n",
       " '00016490_025.png',\n",
       " '00005910_002.png',\n",
       " '00021120_001.png',\n",
       " '00018989_000.png',\n",
       " '00015288_002.png',\n",
       " '00008211_000.png',\n",
       " '00015981_005.png',\n",
       " '00013956_000.png',\n",
       " '00001756_013.png',\n",
       " '00007034_054.png',\n",
       " '00003459_017.png',\n",
       " '00005512_007.png',\n",
       " '00002337_011.png',\n",
       " '00026166_001.png',\n",
       " '00026192_000.png',\n",
       " '00004288_000.png',\n",
       " '00004975_006.png',\n",
       " '00000150_001.png',\n",
       " '00004583_002.png',\n",
       " '00029261_000.png',\n",
       " '00026699_002.png',\n",
       " '00005782_000.png',\n",
       " '00014910_000.png',\n",
       " '00014253_052.png',\n",
       " '00001930_004.png',\n",
       " '00016775_001.png',\n",
       " '00007913_000.png',\n",
       " '00005089_016.png',\n",
       " '00018178_000.png',\n",
       " '00002673_008.png',\n",
       " '00022322_001.png',\n",
       " '00028603_000.png',\n",
       " '00015170_005.png',\n",
       " '00015018_011.png',\n",
       " '00014878_000.png',\n",
       " '00009815_003.png',\n",
       " '00022429_003.png',\n",
       " '00026963_000.png',\n",
       " '00025390_000.png',\n",
       " '00020249_003.png',\n",
       " '00017710_005.png',\n",
       " '00021048_001.png',\n",
       " '00018815_001.png',\n",
       " '00011733_001.png',\n",
       " '00003352_001.png',\n",
       " '00000955_000.png',\n",
       " '00000013_008.png',\n",
       " '00016913_002.png',\n",
       " '00008379_000.png',\n",
       " '00020542_001.png',\n",
       " '00007781_002.png',\n",
       " '00015981_011.png',\n",
       " '00002658_001.png',\n",
       " '00001756_007.png',\n",
       " '00003459_003.png',\n",
       " '00014115_001.png',\n",
       " '00005099_002.png',\n",
       " '00018000_000.png',\n",
       " '00010007_052.png',\n",
       " '00015826_019.png',\n",
       " '00024279_005.png',\n",
       " '00025110_013.png',\n",
       " '00001855_027.png',\n",
       " '00026176_001.png',\n",
       " '00026182_000.png',\n",
       " '00019860_011.png',\n",
       " '00004965_006.png',\n",
       " '00004298_000.png',\n",
       " '00005766_001.png',\n",
       " '00005792_000.png',\n",
       " '00014900_000.png',\n",
       " '00029271_000.png',\n",
       " '00006307_003.png',\n",
       " '00011723_015.png',\n",
       " '00029676_010.png',\n",
       " '00007106_001.png',\n",
       " '00015593_000.png',\n",
       " '00019065_004.png',\n",
       " '00015530_063.png',\n",
       " '00009000_002.png',\n",
       " '00014099_000.png',\n",
       " '00006411_022.png',\n",
       " '00016362_005.png',\n",
       " '00008201_000.png',\n",
       " '00002720_001.png',\n",
       " '00013946_000.png',\n",
       " '00015953_006.png',\n",
       " '00019758_004.png',\n",
       " '00013970_002.png',\n",
       " '00025521_001.png',\n",
       " '00010377_003.png',\n",
       " '00011182_000.png',\n",
       " '00021610_022.png',\n",
       " '00009036_000.png',\n",
       " '00010488_000.png',\n",
       " '00020286_037.png',\n",
       " '00023900_000.png',\n",
       " '00015551_003.png',\n",
       " '00020307_001.png',\n",
       " '00006331_001.png',\n",
       " '00013175_017.png',\n",
       " '00002572_005.png',\n",
       " '00002586_004.png',\n",
       " '00010092_033.png',\n",
       " '00011973_014.png',\n",
       " '00000689_000.png',\n",
       " '00030106_001.png',\n",
       " '00001377_001.png',\n",
       " '00021626_008.png',\n",
       " '00002970_000.png',\n",
       " '00002984_001.png',\n",
       " '00007354_005.png',\n",
       " '00014534_007.png',\n",
       " '00009431_010.png',\n",
       " '00028853_001.png',\n",
       " '00017158_032.png',\n",
       " '00021781_000.png',\n",
       " '00016925_000.png',\n",
       " '00008846_005.png',\n",
       " '00013808_002.png',\n",
       " '00006249_001.png',\n",
       " '00022170_005.png',\n",
       " '00000963_002.png',\n",
       " '00003390_002.png',\n",
       " '00010504_001.png',\n",
       " '00002191_000.png',\n",
       " '00023878_000.png',\n",
       " '00000705_001.png',\n",
       " '00011963_000.png',\n",
       " '00011997_001.png',\n",
       " '00026963_028.png',\n",
       " '00017249_003.png',\n",
       " '00016048_001.png',\n",
       " '00026733_001.png',\n",
       " '00001504_003.png',\n",
       " '00029943_032.png',\n",
       " '00028635_002.png',\n",
       " '00003100_005.png',\n",
       " '00028628_021.png',\n",
       " '00001906_006.png',\n",
       " '00002808_000.png',\n",
       " '00016743_003.png',\n",
       " '00023115_001.png',\n",
       " '00012364_015.png',\n",
       " '00028056_000.png',\n",
       " '00000699_000.png',\n",
       " '00006653_026.png',\n",
       " '00017835_027.png',\n",
       " '00022583_000.png',\n",
       " '00004541_001.png',\n",
       " '00008043_004.png',\n",
       " '00010103_005.png',\n",
       " '00003068_005.png',\n",
       " '00024956_000.png',\n",
       " '00001393_000.png',\n",
       " '00002960_000.png',\n",
       " '00019227_000.png',\n",
       " '00016743_017.png',\n",
       " '00011192_000.png',\n",
       " '00009026_000.png',\n",
       " '00010367_003.png',\n",
       " '00010393_002.png',\n",
       " '00002706_003.png',\n",
       " '00006321_001.png',\n",
       " '00005926_000.png',\n",
       " '00017726_013.png',\n",
       " '00010498_000.png',\n",
       " '00014398_019.png',\n",
       " '00023910_000.png',\n",
       " '00007120_003.png',\n",
       " '00013175_003.png',\n",
       " '00013181_002.png',\n",
       " '00000715_001.png',\n",
       " '00011973_000.png',\n",
       " '00011987_001.png',\n",
       " '00005750_017.png',\n",
       " '00005638_003.png',\n",
       " '00029424_000.png',\n",
       " '00002818_000.png',\n",
       " '00007935_002.png',\n",
       " '00021903_002.png',\n",
       " '00011571_005.png',\n",
       " '00011598_027.png',\n",
       " '00004735_013.png',\n",
       " '00015826_025.png',\n",
       " '00015953_012.png',\n",
       " '00007753_001.png',\n",
       " '00016935_000.png',\n",
       " '00028843_001.png',\n",
       " '00021610_036.png',\n",
       " '00021765_001.png',\n",
       " '00002181_000.png',\n",
       " '00025342_003.png',\n",
       " '00013572_013.png',\n",
       " '00023868_000.png',\n",
       " '00008454_000.png',\n",
       " '00010563_024.png',\n",
       " '00013484_000.png',\n",
       " '00001011_001.png',\n",
       " '00027027_001.png',\n",
       " '00016256_001.png',\n",
       " '00030294_000.png',\n",
       " '00028320_000.png',\n",
       " '00004358_005.png',\n",
       " '00020095_000.png',\n",
       " '00007256_003.png',\n",
       " '00004851_002.png',\n",
       " '00021260_003.png',\n",
       " '00014436_001.png',\n",
       " '00013077_011.png',\n",
       " '00008151_002.png',\n",
       " '00009350_000.png',\n",
       " '00014320_020.png',\n",
       " '00017852_016.png',\n",
       " '00012817_000.png',\n",
       " '00023320_008.png',\n",
       " '00000861_004.png',\n",
       " '00006842_000.png',\n",
       " '00007157_026.png',\n",
       " '00020874_000.png',\n",
       " '00020880_001.png',\n",
       " '00026236_017.png',\n",
       " '00010406_007.png',\n",
       " '00001169_001.png',\n",
       " '00029752_000.png',\n",
       " '00018523_000.png',\n",
       " '00028258_000.png',\n",
       " '00000463_001.png',\n",
       " '00015929_000.png',\n",
       " '00000090_010.png',\n",
       " '00027832_000.png',\n",
       " '00013849_019.png',\n",
       " '00008722_000.png',\n",
       " '00001804_000.png',\n",
       " '00010696_000.png',\n",
       " '00013798_006.png',\n",
       " '00014245_003.png',\n",
       " '00013523_008.png',\n",
       " '00009228_000.png',\n",
       " '00003709_001.png',\n",
       " '00008029_002.png',\n",
       " '00007425_001.png',\n",
       " '00003002_017.png',\n",
       " '00018124_004.png',\n",
       " '00017528_007.png',\n",
       " '00020085_000.png',\n",
       " '00001998_001.png',\n",
       " '00009340_000.png',\n",
       " '00012807_000.png',\n",
       " '00003661_001.png',\n",
       " '00003695_000.png',\n",
       " '00025657_001.png',\n",
       " '00003292_010.png',\n",
       " '00015443_005.png',\n",
       " '00010406_013.png',\n",
       " '00026236_003.png',\n",
       " '00013494_000.png',\n",
       " '00013896_005.png',\n",
       " '00015841_000.png',\n",
       " '00004627_001.png',\n",
       " '00020482_010.png',\n",
       " '00020109_001.png',\n",
       " '00029526_006.png',\n",
       " '00027822_000.png',\n",
       " '00010179_003.png',\n",
       " '00002505_020.png',\n",
       " '00020602_003.png',\n",
       " '00006634_003.png',\n",
       " '00009238_000.png',\n",
       " '00017852_002.png',\n",
       " '00011885_007.png',\n",
       " '00011378_001.png',\n",
       " '00012087_048.png',\n",
       " '00013518_001.png',\n",
       " '00001179_001.png',\n",
       " '00029742_000.png',\n",
       " '00003276_005.png',\n",
       " '00012719_003.png',\n",
       " '00006852_000.png',\n",
       " '00017634_001.png',\n",
       " '00027809_009.png',\n",
       " '00015939_000.png',\n",
       " '00006450_005.png',\n",
       " '00006492_006.png',\n",
       " '00021651_005.png',\n",
       " '00027672_001.png',\n",
       " '00027686_000.png',\n",
       " '00012834_153.png',\n",
       " '00010822_000.png',\n",
       " '00020450_007.png',\n",
       " '00019704_000.png',\n",
       " '00016308_003.png',\n",
       " '00008996_000.png',\n",
       " '00003949_000.png',\n",
       " '00009609_012.png',\n",
       " '00018366_014.png',\n",
       " '00012087_060.png',\n",
       " '00007185_025.png',\n",
       " '00025303_030.png',\n",
       " '00014125_052.png',\n",
       " '00010563_018.png',\n",
       " '00014297_000.png',\n",
       " '00027416_007.png',\n",
       " '00029912_001.png',\n",
       " '00020634_001.png',\n",
       " '00003996_008.png',\n",
       " '00000391_009.png',\n",
       " '00003024_001.png',\n",
       " '00009505_000.png',\n",
       " '00007308_001.png',\n",
       " '00019962_003.png',\n",
       " '00019996_002.png',\n",
       " '00002225_003.png',\n",
       " '00007683_010.png',\n",
       " '00019688_001.png',\n",
       " '00017085_000.png',\n",
       " '00005410_001.png',\n",
       " '00025807_000.png',\n",
       " '00003831_000.png',\n",
       " '00014674_005.png',\n",
       " '00006215_005.png',\n",
       " '00018382_001.png',\n",
       " '00015072_017.png',\n",
       " '00008177_000.png',\n",
       " '00008183_001.png',\n",
       " '00016014_005.png',\n",
       " '00024494_000.png',\n",
       " '00004877_000.png',\n",
       " '00004883_001.png',\n",
       " '00007284_000.png',\n",
       " '00001253_005.png',\n",
       " '00001558_013.png',\n",
       " '00029902_001.png',\n",
       " '00016014_011.png',\n",
       " '00016009_032.png',\n",
       " '00017874_000.png',\n",
       " '00006612_001.png',\n",
       " '00014273_001.png',\n",
       " '00011857_004.png',\n",
       " '00000631_005.png',\n",
       " '00003029_022.png',\n",
       " '00009515_000.png',\n",
       " '00010832_000.png',\n",
       " '00026497_002.png',\n",
       " '00019714_000.png',\n",
       " '00008972_001.png',\n",
       " '00008570_004.png',\n",
       " '00005532_040.png',\n",
       " '00028565_000.png',\n",
       " '00003959_000.png',\n",
       " '00006874_002.png',\n",
       " '00009798_024.png',\n",
       " '00027416_013.png',\n",
       " '00000621_011.png',\n",
       " '00024484_000.png',\n",
       " '00003647_003.png',\n",
       " '00029387_007.png',\n",
       " '00007576_020.png',\n",
       " '00008167_000.png',\n",
       " '00019647_009.png',\n",
       " '00000042_007.png',\n",
       " '00018102_006.png',\n",
       " '00022851_000.png',\n",
       " '00004893_001.png',\n",
       " '00007294_000.png',\n",
       " '00029478_004.png',\n",
       " '00013844_006.png',\n",
       " '00029117_000.png',\n",
       " '00003821_000.png',\n",
       " '00027011_003.png',\n",
       " '00004526_018.png',\n",
       " '00005066_059.png',\n",
       " '00013446_003.png',\n",
       " '00014320_008.png',\n",
       " '00025817_000.png',\n",
       " '00002129_005.png',\n",
       " '00010548_005.png',\n",
       " '00014125_046.png',\n",
       " '00013152_004.png',\n",
       " '00006679_016.png',\n",
       " '00009281_014.png',\n",
       " '00021526_000.png',\n",
       " '00008617_001.png',\n",
       " '00001931_001.png',\n",
       " '00002336_000.png',\n",
       " '00026167_010.png',\n",
       " '00024300_000.png',\n",
       " '00018011_011.png',\n",
       " '00010350_010.png',\n",
       " '00026560_000.png',\n",
       " '00010931_003.png',\n",
       " '00002659_004.png',\n",
       " '00007780_007.png',\n",
       " '00006575_004.png',\n",
       " '00028864_006.png',\n",
       " '00028399_000.png',\n",
       " '00012137_000.png',\n",
       " '00020248_006.png',\n",
       " '00008473_007.png',\n",
       " '00002152_006.png',\n",
       " '00025391_005.png',\n",
       " '00009336_008.png',\n",
       " '00003353_004.png',\n",
       " '00006983_000.png',\n",
       " '00005370_000.png',\n",
       " '00005384_001.png',\n",
       " '00022147_002.png',\n",
       " '00017711_000.png',\n",
       " '00005218_014.png',\n",
       " '00009291_000.png',\n",
       " '00014208_002.png',\n",
       " '00011831_024.png',\n",
       " '00011325_000.png',\n",
       " '00015009_000.png',\n",
       " '00007468_000.png',\n",
       " '00024278_000.png',\n",
       " '00014503_000.png',\n",
       " '00019909_000.png',\n",
       " '00015702_002.png',\n",
       " '00020154_000.png',\n",
       " '00004990_002.png',\n",
       " '00028215_001.png',\n",
       " '00002649_010.png',\n",
       " '00026418_000.png',\n",
       " '00010340_004.png',\n",
       " '00015964_001.png',\n",
       " '00004702_000.png',\n",
       " '00016363_000.png',\n",
       " '00016397_001.png',\n",
       " '00021131_004.png',\n",
       " '00017669_000.png',\n",
       " '00005208_000.png',\n",
       " '00019090_000.png',\n",
       " '00013545_000.png',\n",
       " '00001124_000.png',\n",
       " '00018406_001.png',\n",
       " '00011034_025.png',\n",
       " '00028389_000.png',\n",
       " '00000546_000.png',\n",
       " '00012127_000.png',\n",
       " '00002649_004.png',\n",
       " '00008888_020.png',\n",
       " '00003343_004.png',\n",
       " '00017701_000.png',\n",
       " '00030536_002.png',\n",
       " '00023356_000.png',\n",
       " '00025888_002.png',\n",
       " '00025381_005.png',\n",
       " '00014389_020.png',\n",
       " '00021536_000.png',\n",
       " '00001093_008.png',\n",
       " '00017993_002.png',\n",
       " '00015161_000.png',\n",
       " '00013310_028.png',\n",
       " '00016790_005.png',\n",
       " '00001921_001.png',\n",
       " '00002326_000.png',\n",
       " '00026408_000.png',\n",
       " '00016387_001.png',\n",
       " '00008919_002.png',\n",
       " '00022724_000.png',\n",
       " '00001872_008.png',\n",
       " '00030345_000.png',\n",
       " '00017172_002.png',\n",
       " '00011151_006.png',\n",
       " '00019080_000.png',\n",
       " '00016478_002.png',\n",
       " '00025904_003.png',\n",
       " '00001134_000.png',\n",
       " '00013625_079.png',\n",
       " '00027102_000.png',\n",
       " '00005218_000.png',\n",
       " '00014777_006.png',\n",
       " '00025762_000.png',\n",
       " '00026698_007.png',\n",
       " '00004582_007.png',\n",
       " '00015019_000.png',\n",
       " '00009281_000.png',\n",
       " '00005783_005.png',\n",
       " '00012932_001.png',\n",
       " '00003754_000.png',\n",
       " '00011335_000.png',\n",
       " '00020144_000.png',\n",
       " '00019919_000.png',\n",
       " '00001859_001.png',\n",
       " '00024268_000.png',\n",
       " '00027213_031.png',\n",
       " '00014513_000.png',\n",
       " '00006172_000.png',\n",
       " '00006186_001.png',\n",
       " '00008008_040.png',\n",
       " '00000193_007.png',\n",
       " '00011408_000.png',\n",
       " '00021373_000.png',\n",
       " '00006144_002.png',\n",
       " '00022974_001.png',\n",
       " '00022980_000.png',\n",
       " '00015724_000.png',\n",
       " '00007345_000.png',\n",
       " '00010609_002.png',\n",
       " '00013625_051.png',\n",
       " '00014346_014.png',\n",
       " '00011303_002.png',\n",
       " '00024555_000.png',\n",
       " '00012904_003.png',\n",
       " '00019271_067.png',\n",
       " '00002563_000.png',\n",
       " '00002597_001.png',\n",
       " '00025754_002.png',\n",
       " '00010102_000.png',\n",
       " '00008042_001.png',\n",
       " '00020679_000.png',\n",
       " '00007526_016.png',\n",
       " '00012796_001.png',\n",
       " '00009644_013.png',\n",
       " '00030478_000.png',\n",
       " '00026335_000.png',\n",
       " '00017144_000.png',\n",
       " '00005525_000.png',\n",
       " '00011167_004.png',\n",
       " '00011193_005.png',\n",
       " '00013268_000.png',\n",
       " '00001609_000.png',\n",
       " '00023513_000.png',\n",
       " '00004724_002.png',\n",
       " '00015942_003.png',\n",
       " '00019857_002.png',\n",
       " '00013662_027.png',\n",
       " '00010771_002.png',\n",
       " '00025127_000.png',\n",
       " '00017017_009.png',\n",
       " '00011702_080.png',\n",
       " '00008888_008.png',\n",
       " '00003111_000.png',\n",
       " '00011570_000.png',\n",
       " '00011584_001.png',\n",
       " '00018037_013.png',\n",
       " '00009430_001.png',\n",
       " '00001437_053.png',\n",
       " '00029827_000.png',\n",
       " '00000250_009.png',\n",
       " '00014356_000.png',\n",
       " '00006737_000.png',\n",
       " '00021500_002.png',\n",
       " '00012381_005.png',\n",
       " '00011831_018.png',\n",
       " '00020967_003.png',\n",
       " '00016536_000.png',\n",
       " '00004157_000.png',\n",
       " '00003888_000.png',\n",
       " '00006330_010.png',\n",
       " '00005356_002.png',\n",
       " '00030500_000.png',\n",
       " '00017737_002.png',\n",
       " '00006951_003.png',\n",
       " '00001771_000.png',\n",
       " '00026546_002.png',\n",
       " '00013310_000.png',\n",
       " '00016934_005.png',\n",
       " '00016220_021.png',\n",
       " '00027747_000.png',\n",
       " '00020967_017.png',\n",
       " '00007131_006.png',\n",
       " '00026325_000.png',\n",
       " '00025922_001.png',\n",
       " '00006674_009.png',\n",
       " '00011688_007.png',\n",
       " '00003914_001.png',\n",
       " '00012772_000.png',\n",
       " '00018253_001.png',\n",
       " '00030468_000.png',\n",
       " '00006330_004.png',\n",
       " '00001619_000.png',\n",
       " '00023503_000.png',\n",
       " '00004734_002.png',\n",
       " '00008922_023.png',\n",
       " '00005535_000.png',\n",
       " '00022702_002.png',\n",
       " '00017154_000.png',\n",
       " '00012079_002.png',\n",
       " '00000418_002.png',\n",
       " '00011034_019.png',\n",
       " '00026141_006.png',\n",
       " '00001376_004.png',\n",
       " '00003079_000.png',\n",
       " '00011418_000.png',\n",
       " '00018037_007.png',\n",
       " '00021363_000.png',\n",
       " '00022990_000.png',\n",
       " '00010112_000.png',\n",
       " '00002573_000.png',\n",
       " '00002587_001.png',\n",
       " '00013993_080.png',\n",
       " '00020669_000.png',\n",
       " '00017839_001.png',\n",
       " '00014356_014.png',\n",
       " '00006642_023.png',\n",
       " '00024545_000.png',\n",
       " '00011313_002.png',\n",
       " '00003898_000.png',\n",
       " '00030510_000.png',\n",
       " '00022185_001.png',\n",
       " '00009644_007.png',\n",
       " '00020983_002.png',\n",
       " '00004147_000.png',\n",
       " '00009995_018.png',\n",
       " '00010505_004.png',\n",
       " '00027757_000.png',\n",
       " '00011167_010.png',\n",
       " '00013300_000.png',\n",
       " '00001761_000.png',\n",
       " '00021035_047.png',\n",
       " '00019621_001.png',\n",
       " '00008847_000.png',\n",
       " '00000193_013.png',\n",
       " '00008008_054.png',\n",
       " '00011560_000.png',\n",
       " '00003101_000.png',\n",
       " '00010350_038.png',\n",
       " '00002300_002.png',\n",
       " '00017941_001.png',\n",
       " '00014346_000.png',\n",
       " '00013625_045.png',\n",
       " '00027533_006.png',\n",
       " '00029837_000.png',\n",
       " '00004428_004.png',\n",
       " '00003847_008.png',\n",
       " '00020711_000.png',\n",
       " '00007526_002.png',\n",
       " '00008042_015.png',\n",
       " '00019373_061.png',\n",
       " '00007008_009.png',\n",
       " '00009229_011.png',\n",
       " '00017222_000.png',\n",
       " '00005643_000.png',\n",
       " '00014825_001.png',\n",
       " '00017138_094.png',\n",
       " '00023675_000.png',\n",
       " '00004442_002.png',\n",
       " '00016023_002.png',\n",
       " '00025656_004.png',\n",
       " '00014427_004.png',\n",
       " '00021285_007.png',\n",
       " '00000065_000.png',\n",
       " '00012404_000.png',\n",
       " '00002863_003.png',\n",
       " '00026053_000.png',\n",
       " '00010697_011.png',\n",
       " '00004349_000.png',\n",
       " '00016728_000.png',\n",
       " '00024633_000.png',\n",
       " '00026078_009.png',\n",
       " '00006529_000.png',\n",
       " '00014148_000.png',\n",
       " '00007728_002.png',\n",
       " '00001697_013.png',\n",
       " '00002605_000.png',\n",
       " '00010264_000.png',\n",
       " '00010290_001.png',\n",
       " '00013897_000.png',\n",
       " '00021015_000.png',\n",
       " '00018848_000.png',\n",
       " '00022106_025.png',\n",
       " '00000908_001.png',\n",
       " '00025339_000.png',\n",
       " '00013495_005.png',\n",
       " '00007023_000.png',\n",
       " '00019557_001.png',\n",
       " '00001417_000.png',\n",
       " '00026620_002.png',\n",
       " '00013076_000.png',\n",
       " '00011211_010.png',\n",
       " '00011870_003.png',\n",
       " '00011884_002.png',\n",
       " '00012277_002.png',\n",
       " '00009239_005.png',\n",
       " '00006635_006.png',\n",
       " '00002212_004.png',\n",
       " '00013615_016.png',\n",
       " '00004231_000.png',\n",
       " '00007836_001.png',\n",
       " '00020108_004.png',\n",
       " '00020060_010.png',\n",
       " '00007322_025.png',\n",
       " '00002756_009.png',\n",
       " '00017524_035.png',\n",
       " '00022207_000.png',\n",
       " '00030666_000.png',\n",
       " '00003013_006.png',\n",
       " '00011683_049.png',\n",
       " '00020467_000.png',\n",
       " '00001673_006.png',\n",
       " '00006451_000.png',\n",
       " '00021666_002.png',\n",
       " '00010417_002.png',\n",
       " '00025241_000.png',\n",
       " '00013471_010.png',\n",
       " '00019038_005.png',\n",
       " '00023296_005.png',\n",
       " '00019150_011.png',\n",
       " '00005254_004.png',\n",
       " '00011616_000.png',\n",
       " '00000884_000.png',\n",
       " '00001673_012.png',\n",
       " '00010815_013.png',\n",
       " '00010274_000.png',\n",
       " '00002615_000.png',\n",
       " '00024623_000.png',\n",
       " '00008468_061.png',\n",
       " '00020326_057.png',\n",
       " '00030079_069.png',\n",
       " '00014158_000.png',\n",
       " '00006539_000.png',\n",
       " '00025329_000.png',\n",
       " '00020204_002.png',\n",
       " '00015452_000.png',\n",
       " '00005835_003.png',\n",
       " '00021005_000.png',\n",
       " '00005254_010.png',\n",
       " '00023665_000.png',\n",
       " '00010010_006.png',\n",
       " '00026748_002.png',\n",
       " '00027549_000.png',\n",
       " '00007018_009.png',\n",
       " '00011211_004.png',\n",
       " '00003670_004.png',\n",
       " '00012816_005.png',\n",
       " '00009239_011.png',\n",
       " '00017232_000.png',\n",
       " '00013615_002.png',\n",
       " '00020060_004.png',\n",
       " '00016738_000.png',\n",
       " '00004359_000.png',\n",
       " '00000459_019.png',\n",
       " '00022892_006.png',\n",
       " '00012414_000.png',\n",
       " '00020524_009.png',\n",
       " '00003013_012.png',\n",
       " '00014020_000.png',\n",
       " '00007728_016.png',\n",
       " '00007640_002.png',\n",
       " '00017625_004.png',\n",
       " '00018920_000.png',\n",
       " '00029217_008.png',\n",
       " '00011606_000.png',\n",
       " '00003267_000.png',\n",
       " '00000860_001.png',\n",
       " '00000894_000.png',\n",
       " '00002066_002.png',\n",
       " '00015442_014.png',\n",
       " '00011894_002.png',\n",
       " '00012267_002.png',\n",
       " '00017138_080.png',\n",
       " '00009229_005.png',\n",
       " '00015045_004.png',\n",
       " '00002509_006.png',\n",
       " '00013066_000.png',\n",
       " '00001407_000.png',\n",
       " '00030676_000.png',\n",
       " '00030682_001.png',\n",
       " '00022217_000.png',\n",
       " '00005020_002.png',\n",
       " '00014427_010.png',\n",
       " '00013799_003.png',\n",
       " '00004221_000.png',\n",
       " '00016640_000.png',\n",
       " '00001946_030.png',\n",
       " '00007810_003.png',\n",
       " '00023020_000.png',\n",
       " '00017477_000.png',\n",
       " '00017483_001.png',\n",
       " '00003028_027.png',\n",
       " '00002457_010.png',\n",
       " '00012251_000.png',\n",
       " '00000630_000.png',\n",
       " '00011237_012.png',\n",
       " '00009916_000.png',\n",
       " '00009863_037.png',\n",
       " '00018770_001.png',\n",
       " '00018784_000.png',\n",
       " '00017881_004.png',\n",
       " '00010431_000.png',\n",
       " '00002050_000.png',\n",
       " '00014675_014.png',\n",
       " '00024066_000.png',\n",
       " '00007676_000.png',\n",
       " '00015217_000.png',\n",
       " '00025598_001.png',\n",
       " '00006477_002.png',\n",
       " '00018103_003.png',\n",
       " '00024887_000.png',\n",
       " '00012422_002.png',\n",
       " '00030079_041.png',\n",
       " '00013623_000.png',\n",
       " '00001242_000.png',\n",
       " '00026081_003.png',\n",
       " '00029479_001.png',\n",
       " '00028173_001.png',\n",
       " '00000748_000.png',\n",
       " '00012329_000.png',\n",
       " '00030033_000.png',\n",
       " '00022452_000.png',\n",
       " '00018615_022.png',\n",
       " '00004490_001.png',\n",
       " '00016005_000.png',\n",
       " '00013128_002.png',\n",
       " '00001549_002.png',\n",
       " '00017603_012.png',\n",
       " '00006204_000.png',\n",
       " '00014665_000.png',\n",
       " '00014691_001.png',\n",
       " '00012646_004.png',\n",
       " '00003329_002.png',\n",
       " '00002128_000.png',\n",
       " '00010549_000.png',\n",
       " '00013447_006.png',\n",
       " '00007018_021.png',\n",
       " '00008561_015.png',\n",
       " '00011379_038.png',\n",
       " '00020232_000.png',\n",
       " '00003422_000.png',\n",
       " '00005401_004.png',\n",
       " '00014203_058.png',\n",
       " '00009103_001.png',\n",
       " '00014006_016.png',\n",
       " '00016968_001.png',\n",
       " '00020524_021.png',\n",
       " '00016800_015.png',\n",
       " '00025414_000.png',\n",
       " '00002623_002.png',\n",
       " '00012646_010.png',\n",
       " '00002040_000.png',\n",
       " '00010421_000.png',\n",
       " '00007018_035.png',\n",
       " '00008561_001.png',\n",
       " '00008595_000.png',\n",
       " '00028976_000.png',\n",
       " '00000459_025.png',\n",
       " '00021650_000.png',\n",
       " '00006467_002.png',\n",
       " '00014006_002.png',\n",
       " '00015207_000.png',\n",
       " '00007666_000.png',\n",
       " '00005006_000.png',\n",
       " '00023030_000.png',\n",
       " '00012241_000.png',\n",
       " '00014296_005.png',\n",
       " '00018615_036.png',\n",
       " '00009906_000.png',\n",
       " '00018794_000.png',\n",
       " '00018608_015.png',\n",
       " '00016199_001.png',\n",
       " '00026616_000.png',\n",
       " '00013128_016.png',\n",
       " '00026201_004.png',\n",
       " '00010559_000.png',\n",
       " '00002138_000.png',\n",
       " '00019373_049.png',\n",
       " '00008419_001.png',\n",
       " '00006875_013.png',\n",
       " '00021023_002.png',\n",
       " '00012656_004.png',\n",
       " '00016285_007.png',\n",
       " '00008312_003.png',\n",
       " '00025404_000.png',\n",
       " '00002633_002.png',\n",
       " '00003432_000.png',\n",
       " '00011053_000.png',\n",
       " '00021728_000.png',\n",
       " '00009113_001.png',\n",
       " '00030247_006.png',\n",
       " '00017070_004.png',\n",
       " '00018488_006.png',\n",
       " '00001833_013.png',\n",
       " '00001252_000.png',\n",
       " '00013633_000.png',\n",
       " '00023148_000.png',\n",
       " '00006070_006.png',\n",
       " '00003028_033.png',\n",
       " '00007735_009.png',\n",
       " '00024897_000.png',\n",
       " '00016015_000.png',\n",
       " '00004474_000.png',\n",
       " '00004480_001.png',\n",
       " '00019419_003.png',\n",
       " '00013138_002.png',\n",
       " '00029903_010.png',\n",
       " '00028197_000.png',\n",
       " '00000758_000.png',\n",
       " '00009863_023.png',\n",
       " '00010453_000.png',\n",
       " '00018739_008.png',\n",
       " '00002032_000.png',\n",
       " '00008513_001.png',\n",
       " '00005919_001.png',\n",
       " '00016134_009.png',\n",
       " '00024004_000.png',\n",
       " '00003233_002.png',\n",
       " '00016213_012.png',\n",
       " '00015814_013.png',\n",
       " '00016886_000.png',\n",
       " '00018237_044.png',\n",
       " '00002739_002.png',\n",
       " '00012057_006.png',\n",
       " '00014080_003.png',\n",
       " '00029597_000.png',\n",
       " '00001358_000.png',\n",
       " '00013739_000.png',\n",
       " '00002256_006.png',\n",
       " '00019218_001.png',\n",
       " '00007886_002.png',\n",
       " '00023042_000.png',\n",
       " '00005074_000.png',\n",
       " '00017415_000.png',\n",
       " '00018019_003.png',\n",
       " '00012233_000.png',\n",
       " '00000652_000.png',\n",
       " '00009974_000.png',\n",
       " '00022548_000.png',\n",
       " '00030129_000.png',\n",
       " '00006266_000.png',\n",
       " '00005200_012.png',\n",
       " '00017714_025.png',\n",
       " '00024188_001.png',\n",
       " '00020250_000.png',\n",
       " '00007093_003.png',\n",
       " '00004169_004.png',\n",
       " '00011021_000.png',\n",
       " '00023111_009.png',\n",
       " '00009195_000.png',\n",
       " '00005497_005.png',\n",
       " '00008394_002.png',\n",
       " '00025476_000.png',\n",
       " '00025482_001.png',\n",
       " '00029174_005.png',\n",
       " '00017599_001.png',\n",
       " '00027216_000.png',\n",
       " '00002827_001.png',\n",
       " '00025085_011.png',\n",
       " '00016798_003.png',\n",
       " '00019360_001.png',\n",
       " '00019394_000.png',\n",
       " '00014368_004.png',\n",
       " '00014895_002.png',\n",
       " '00030051_000.png',\n",
       " '00022430_000.png',\n",
       " '00005607_002.png',\n",
       " '00004406_000.png',\n",
       " '00016067_000.png',\n",
       " '00002425_004.png',\n",
       " '00005079_023.png',\n",
       " '00012528_002.png',\n",
       " '00025085_005.png',\n",
       " '00013729_000.png',\n",
       " '00001348_000.png',\n",
       " '00007896_002.png',\n",
       " '00023052_000.png',\n",
       " '00004291_003.png',\n",
       " '00012223_000.png',\n",
       " '00028079_001.png',\n",
       " ...]"
      ]
     },
<<<<<<< HEAD
     "execution_count": 221,
=======
     "execution_count": 23,
>>>>>>> master
     "metadata": {},
     "output_type": "execute_result"
    }
   ],
   "source": [
    "no_finding_images = [os.path.basename(path) for path in all_image_paths if labels_df.loc[os.path.basename(path), 'Finding Labels'] == 'No Finding']\n",
    "\n",
    "no_finding_images"
   ]
  },
  {
   "cell_type": "code",
<<<<<<< HEAD
   "execution_count": 222,
   "id": "42b94189",
   "metadata": {},
=======
   "execution_count": 24,
   "id": "42b94189",
   "metadata": {
    "ExecuteTime": {
     "end_time": "2024-06-10T18:18:24.742055Z",
     "start_time": "2024-06-10T18:17:48.219529Z"
    }
   },
>>>>>>> master
   "outputs": [
    {
     "data": {
      "text/plain": [
       "51585"
      ]
     },
<<<<<<< HEAD
     "execution_count": 222,
=======
     "execution_count": 24,
>>>>>>> master
     "metadata": {},
     "output_type": "execute_result"
    }
   ],
   "source": [
    "all_image_paths = [path for path in all_image_paths if os.path.basename(path) not in no_finding_images]\n",
    "\n",
    "len(all_image_paths)"
   ]
<<<<<<< HEAD
=======
  },
  {
   "cell_type": "code",
   "execution_count": 25,
   "id": "0bac6fe5",
   "metadata": {
    "ExecuteTime": {
     "end_time": "2024-06-10T18:18:45.365376Z",
     "start_time": "2024-06-10T18:18:45.359762Z"
    }
   },
   "outputs": [],
   "source": [
    "#Creating a list of the 14 different labels\n",
    "label_names = ['Atelectasis', 'Consolidation', 'Infiltration', 'Pneumothorax', 'Edema', 'Emphysema', 'Fibrosis', 'Effusion', 'Pneumonia', 'Pleural_Thickening', 'Cardiomegaly', 'Nodule', 'Mass', 'Hernia']"
   ]
  },
  {
   "cell_type": "code",
   "execution_count": 26,
   "id": "e1cf208d",
   "metadata": {
    "ExecuteTime": {
     "end_time": "2024-06-10T18:19:00.421354Z",
     "start_time": "2024-06-10T18:19:00.359983Z"
    }
   },
   "outputs": [],
   "source": [
    "string_lookup = tf.keras.layers.StringLookup(vocabulary=label_names, num_oov_indices=0)"
   ]
  },
  {
   "cell_type": "code",
   "execution_count": 27,
   "id": "4cad3a98",
   "metadata": {
    "ExecuteTime": {
     "end_time": "2024-06-10T18:19:19.531521Z",
     "start_time": "2024-06-10T18:19:19.525200Z"
    }
   },
   "outputs": [],
   "source": [
    "# Vectorized encoding of labels\n",
    "def encode_labels(labels):\n",
    "    split_labels = tf.strings.split(labels, '|')\n",
    "    encoded_labels = string_lookup(split_labels)\n",
    "    one_hot_encoded = tf.reduce_sum(tf.one_hot(encoded_labels, depth=len(label_names)), axis=0)\n",
    "    return one_hot_encoded"
   ]
  },
  {
   "cell_type": "code",
   "execution_count": 32,
   "id": "9a0cef98",
   "metadata": {
    "ExecuteTime": {
     "end_time": "2024-06-10T18:23:38.944676Z",
     "start_time": "2024-06-10T18:22:43.891269Z"
    }
   },
   "outputs": [],
   "source": [
    "## Apply encoding to all labels in a vectorized manner\n",
    "#encoded_values = tf.stack([encode_labels(labels) for labels in new_image_labels])"
   ]
  },
  {
   "cell_type": "code",
   "execution_count": 33,
   "id": "fad0f8bb",
   "metadata": {
    "ExecuteTime": {
     "end_time": "2024-06-10T18:23:51.471307Z",
     "start_time": "2024-06-10T18:23:51.466352Z"
    }
   },
   "outputs": [],
   "source": [
    "#labels_np = encoded_values.numpy()"
   ]
  },
  {
   "cell_type": "code",
   "execution_count": 34,
   "id": "85a9b7fa",
   "metadata": {
    "ExecuteTime": {
     "end_time": "2024-06-10T18:23:52.417120Z",
     "start_time": "2024-06-10T18:23:52.408291Z"
    }
   },
   "outputs": [
    {
     "data": {
      "text/plain": [
       "array([[0., 0., 0., 0., 0., 0., 0., 0., 1., 0., 0., 0., 0., 0.],\n",
       "       [0., 0., 0., 0., 0., 0., 0., 0., 1., 0., 0., 0., 0., 0.],\n",
       "       [1., 0., 1., 0., 0., 0., 0., 0., 0., 0., 0., 0., 0., 0.],\n",
       "       [0., 0., 0., 0., 0., 0., 1., 0., 0., 0., 0., 0., 0., 0.],\n",
       "       [0., 0., 1., 0., 0., 0., 0., 0., 0., 0., 0., 0., 0., 0.],\n",
       "       [1., 0., 0., 0., 0., 0., 0., 0., 0., 0., 0., 0., 0., 0.],\n",
       "       [0., 0., 0., 0., 0., 0., 0., 0., 0., 0., 1., 0., 0., 0.],\n",
       "       [0., 0., 1., 0., 0., 0., 0., 0., 0., 0., 0., 0., 0., 0.],\n",
       "       [0., 1., 0., 0., 0., 0., 0., 0., 0., 0., 0., 0., 0., 0.],\n",
       "       [0., 0., 0., 0., 0., 0., 0., 0., 0., 0., 0., 0., 1., 0.]],\n",
       "      dtype=float32)"
      ]
     },
     "execution_count": 34,
     "metadata": {},
     "output_type": "execute_result"
    }
   ],
   "source": [
    "#labels_np[:10]"
   ]
  },
  {
   "cell_type": "code",
   "execution_count": 35,
   "id": "12e2ee95",
   "metadata": {
    "ExecuteTime": {
     "end_time": "2024-06-10T18:24:04.960119Z",
     "start_time": "2024-06-10T18:24:04.779740Z"
    }
   },
   "outputs": [],
   "source": [
    "#labels_df = pd.DataFrame(labels_np) #convert to a dataframe\n",
    "#labels_df.to_csv(\"../raw_data/only_disease_encoded_labels.csv\",index=False) #save to file"
   ]
  },
  {
   "cell_type": "code",
   "execution_count": null,
   "id": "c9ec8d01",
   "metadata": {},
   "outputs": [],
   "source": [
    "df_labels = pd.read_csv(\"../raw_data/only_disease_encoded_labels.csv\")"
   ]
  },
  {
   "cell_type": "code",
   "execution_count": null,
   "id": "c96ff4ea",
   "metadata": {},
   "outputs": [],
   "source": [
    "new_encoded_values = tf.convert_to_tensor(df_labels.values, dtype=tf.float32)"
   ]
  },
  {
   "cell_type": "code",
   "execution_count": null,
   "id": "6a6d35eb",
   "metadata": {},
   "outputs": [],
   "source": [
    "encoded_values = new_encoded_values"
   ]
  },
  {
   "cell_type": "code",
   "execution_count": 36,
   "id": "15a346e0",
   "metadata": {
    "ExecuteTime": {
     "end_time": "2024-06-10T18:25:16.577536Z",
     "start_time": "2024-06-10T18:25:16.572454Z"
    }
   },
   "outputs": [],
   "source": [
    "encoded_values_np = encoded_values.numpy()"
   ]
  },
  {
   "cell_type": "code",
   "execution_count": 37,
   "id": "4cef27c8",
   "metadata": {
    "ExecuteTime": {
     "end_time": "2024-06-10T18:25:23.793436Z",
     "start_time": "2024-06-10T18:25:23.785517Z"
    }
   },
   "outputs": [
    {
     "name": "stdout",
     "output_type": "stream",
     "text": [
      "Encoded values:\n",
      "[[0. 0. 0. 0. 0. 0. 0. 0. 1. 0. 0. 0. 0. 0.]\n",
      " [0. 0. 0. 0. 0. 0. 0. 0. 1. 0. 0. 0. 0. 0.]\n",
      " [1. 0. 1. 0. 0. 0. 0. 0. 0. 0. 0. 0. 0. 0.]\n",
      " [0. 0. 0. 0. 0. 0. 1. 0. 0. 0. 0. 0. 0. 0.]\n",
      " [0. 0. 1. 0. 0. 0. 0. 0. 0. 0. 0. 0. 0. 0.]\n",
      " [1. 0. 0. 0. 0. 0. 0. 0. 0. 0. 0. 0. 0. 0.]\n",
      " [0. 0. 0. 0. 0. 0. 0. 0. 0. 0. 1. 0. 0. 0.]\n",
      " [0. 0. 1. 0. 0. 0. 0. 0. 0. 0. 0. 0. 0. 0.]\n",
      " [0. 1. 0. 0. 0. 0. 0. 0. 0. 0. 0. 0. 0. 0.]\n",
      " [0. 0. 0. 0. 0. 0. 0. 0. 0. 0. 0. 0. 1. 0.]]\n"
     ]
    }
   ],
   "source": [
    "print(\"Encoded values:\")\n",
    "print(encoded_values_np[:10])"
   ]
  },
  {
   "cell_type": "code",
   "execution_count": 38,
   "id": "54ab5c87",
   "metadata": {
    "ExecuteTime": {
     "end_time": "2024-06-10T18:25:31.554896Z",
     "start_time": "2024-06-10T18:25:31.549337Z"
    }
   },
   "outputs": [
    {
     "data": {
      "text/plain": [
       "51585"
      ]
     },
     "execution_count": 38,
     "metadata": {},
     "output_type": "execute_result"
    }
   ],
   "source": [
    "#Checking the lenght\n",
    "len(encoded_values_np)"
   ]
  },
  {
   "cell_type": "code",
   "execution_count": 39,
   "id": "566bf598",
   "metadata": {
    "ExecuteTime": {
     "end_time": "2024-06-10T18:26:05.973323Z",
     "start_time": "2024-06-10T18:26:05.965434Z"
    }
   },
   "outputs": [
    {
     "name": "stdout",
     "output_type": "stream",
     "text": [
      "Index 0: Atelectasis\n",
      "Index 1: Consolidation\n",
      "Index 2: Infiltration\n",
      "Index 3: Pneumothorax\n",
      "Index 4: Edema\n",
      "Index 5: Emphysema\n",
      "Index 6: Fibrosis\n",
      "Index 7: Effusion\n",
      "Index 8: Pneumonia\n",
      "Index 9: Pleural_Thickening\n",
      "Index 10: Cardiomegaly\n",
      "Index 11: Nodule\n",
      "Index 12: Mass\n",
      "Index 13: Hernia\n"
     ]
    }
   ],
   "source": [
    "vocab = string_lookup.get_vocabulary()\n",
    "\n",
    "# Display the vocabulary and their corresponding indices\n",
    "for i, label in enumerate(vocab):\n",
    "    print(f\"Index {i}: {label}\")"
   ]
  },
  {
   "cell_type": "code",
   "execution_count": 40,
   "id": "6d4517c4",
   "metadata": {
    "ExecuteTime": {
     "end_time": "2024-06-10T18:26:20.878088Z",
     "start_time": "2024-06-10T18:26:20.871311Z"
    }
   },
   "outputs": [],
   "source": [
    "# Convert encoded values to tensor slices for the dataset\n",
    "label_ds = tf.data.Dataset.from_tensor_slices(encoded_values)"
   ]
  },
  {
   "cell_type": "code",
   "execution_count": 41,
   "id": "c8a62d97",
   "metadata": {
    "ExecuteTime": {
     "end_time": "2024-06-10T18:26:28.205941Z",
     "start_time": "2024-06-10T18:26:28.198212Z"
    }
   },
   "outputs": [
    {
     "data": {
      "text/plain": [
       "<_TensorSliceDataset element_spec=TensorSpec(shape=(14,), dtype=tf.float32, name=None)>"
      ]
     },
     "execution_count": 41,
     "metadata": {},
     "output_type": "execute_result"
    }
   ],
   "source": [
    "label_ds"
   ]
  },
  {
   "cell_type": "code",
   "execution_count": 42,
   "id": "04d5b379",
   "metadata": {
    "ExecuteTime": {
     "end_time": "2024-06-10T18:26:55.993255Z",
     "start_time": "2024-06-10T18:26:55.987788Z"
    }
   },
   "outputs": [],
   "source": [
    "def preprocess_image(image):\n",
    "    # convert it to rgb => VGG16 takes RGB image only\n",
    "    image = tf.image.grayscale_to_rgb(image)\n",
    "\n",
    "    # Resize the image to a width and a height of 256 pixels\n",
    "    image = tf.image.resize(image, [224, 224], method='nearest')\n",
    "    # Normalize the pixel values of the image to the range of [0, 1] => WE DON'T NEED FOR VGG16 (but we finally use another one...)\n",
    "    image /= 255\n",
    "\n",
    "    return image"
   ]
  },
  {
   "cell_type": "code",
   "execution_count": 43,
   "id": "81555d57",
   "metadata": {
    "ExecuteTime": {
     "end_time": "2024-06-10T18:27:03.000197Z",
     "start_time": "2024-06-10T18:27:02.993177Z"
    }
   },
   "outputs": [],
   "source": [
    "def load_and_preprocess_image(path):\n",
    "    image = tf.io.read_file(path)\n",
    "    # Decode the image contents\n",
    "    img_tensor = tf.image.decode_png(image)[:,:,0:1]\n",
    "    # return img_tensor\n",
    "    return preprocess_image(img_tensor)"
   ]
  },
  {
   "cell_type": "code",
   "execution_count": 44,
   "id": "998da00b",
   "metadata": {
    "ExecuteTime": {
     "end_time": "2024-06-10T18:27:19.530702Z",
     "start_time": "2024-06-10T18:27:19.422512Z"
    }
   },
   "outputs": [],
   "source": [
    "path_ds = tf.data.Dataset.from_tensor_slices(all_image_paths)"
   ]
  },
  {
   "cell_type": "code",
   "execution_count": 45,
   "id": "ee16e786",
   "metadata": {
    "ExecuteTime": {
     "end_time": "2024-06-10T18:27:27.051232Z",
     "start_time": "2024-06-10T18:27:27.043399Z"
    }
   },
   "outputs": [
    {
     "data": {
      "text/plain": [
       "<_TensorSliceDataset element_spec=TensorSpec(shape=(), dtype=tf.string, name=None)>"
      ]
     },
     "execution_count": 45,
     "metadata": {},
     "output_type": "execute_result"
    }
   ],
   "source": [
    "path_ds"
   ]
  },
  {
   "cell_type": "code",
   "execution_count": 46,
   "id": "4c199658",
   "metadata": {
    "ExecuteTime": {
     "end_time": "2024-06-10T18:27:39.334497Z",
     "start_time": "2024-06-10T18:27:39.253410Z"
    }
   },
   "outputs": [],
   "source": [
    "image_ds = path_ds.map(load_and_preprocess_image, num_parallel_calls=AUTOTUNE)"
   ]
  },
  {
   "cell_type": "code",
   "execution_count": 47,
   "id": "22bb3bfa",
   "metadata": {
    "ExecuteTime": {
     "end_time": "2024-06-10T18:28:00.084998Z",
     "start_time": "2024-06-10T18:27:59.956865Z"
    }
   },
   "outputs": [
    {
     "data": {
      "text/plain": [
       "<_MapDataset element_spec=(TensorSpec(shape=(224, 224, 3), dtype=tf.float32, name=None), TensorSpec(shape=(14,), dtype=tf.float32, name=None))>"
      ]
     },
     "execution_count": 47,
     "metadata": {},
     "output_type": "execute_result"
    }
   ],
   "source": [
    "path_label_ds = tf.data.Dataset.from_tensor_slices((all_image_paths, encoded_values))\n",
    "\n",
    "# The tuples are unpacked into the positional arguments of the mapped function\n",
    "def load_and_preprocess_from_path_label(path, label):\n",
    "    return load_and_preprocess_image(path), label\n",
    "\n",
    "image_label_ds = path_label_ds.map(load_and_preprocess_from_path_label)\n",
    "image_label_ds"
   ]
  },
  {
   "cell_type": "code",
   "execution_count": 48,
   "id": "a7a58b27",
   "metadata": {
    "ExecuteTime": {
     "end_time": "2024-06-10T18:28:14.710794Z",
     "start_time": "2024-06-10T18:28:14.706613Z"
    }
   },
   "outputs": [],
   "source": [
    "train_size = int(0.6 * len(all_image_paths))\n",
    "val_size = int(0.2 * len(all_image_paths))\n",
    "test_size = int(0.2 * len(all_image_paths))"
   ]
  },
  {
   "cell_type": "code",
   "execution_count": 49,
   "id": "4be0795b",
   "metadata": {
    "ExecuteTime": {
     "end_time": "2024-06-10T18:28:22.822259Z",
     "start_time": "2024-06-10T18:28:22.811227Z"
    }
   },
   "outputs": [],
   "source": [
    "train_ds = image_label_ds.take(train_size)"
   ]
  },
  {
   "cell_type": "code",
   "execution_count": 50,
   "id": "b87035f9",
   "metadata": {
    "ExecuteTime": {
     "end_time": "2024-06-10T18:28:34.126322Z",
     "start_time": "2024-06-10T18:28:34.116115Z"
    }
   },
   "outputs": [],
   "source": [
    "val_ds = image_label_ds.skip(train_size).take(val_size)"
   ]
  },
  {
   "cell_type": "code",
   "execution_count": 51,
   "id": "d9b877ad",
   "metadata": {
    "ExecuteTime": {
     "end_time": "2024-06-10T18:28:41.884154Z",
     "start_time": "2024-06-10T18:28:41.875012Z"
    }
   },
   "outputs": [],
   "source": [
    "test_ds = image_label_ds.skip(train_size + val_size).take(test_size)"
   ]
  },
  {
   "cell_type": "code",
   "execution_count": 52,
   "id": "e7708b94",
   "metadata": {
    "ExecuteTime": {
     "end_time": "2024-06-10T18:28:50.247289Z",
     "start_time": "2024-06-10T18:28:50.242142Z"
    }
   },
   "outputs": [],
   "source": [
    "BATCH_SIZE = 32\n",
    "\n",
    "def creating_batch_dataset(dataset, BATCH_SIZE, AUTOTUNE):\n",
    "    ds = dataset.repeat()\n",
    "    ds = ds.batch(BATCH_SIZE)\n",
    "    ds = ds.prefetch(buffer_size=AUTOTUNE)\n",
    "    return ds"
   ]
  },
  {
   "cell_type": "code",
   "execution_count": 53,
   "id": "3dd01424",
   "metadata": {
    "ExecuteTime": {
     "end_time": "2024-06-10T18:28:57.902939Z",
     "start_time": "2024-06-10T18:28:57.881719Z"
    }
   },
   "outputs": [],
   "source": [
    "ds = creating_batch_dataset(image_label_ds, BATCH_SIZE, AUTOTUNE)\n",
    "train_ds = creating_batch_dataset(train_ds, BATCH_SIZE, AUTOTUNE)\n",
    "val_ds = creating_batch_dataset(val_ds, BATCH_SIZE, AUTOTUNE)\n",
    "test_ds = creating_batch_dataset(test_ds, BATCH_SIZE, AUTOTUNE)"
   ]
  },
  {
   "cell_type": "code",
   "execution_count": 54,
   "id": "d22e2ae0",
   "metadata": {
    "ExecuteTime": {
     "end_time": "2024-06-10T18:29:06.085665Z",
     "start_time": "2024-06-10T18:29:06.047942Z"
    }
   },
   "outputs": [],
   "source": [
    "# rearrange to -1 to 1\n",
    "def change_range(image,label):\n",
    "  return 2*image-1, label\n",
    "\n",
    "keras_ds = ds.map(change_range)"
   ]
  },
  {
   "cell_type": "code",
   "execution_count": 55,
   "id": "27d89498",
   "metadata": {
    "ExecuteTime": {
     "end_time": "2024-06-10T18:29:20.330830Z",
     "start_time": "2024-06-10T18:29:20.276674Z"
    }
   },
   "outputs": [],
   "source": [
    "full_ds = ds.map(change_range)\n",
    "train_converted_ds = train_ds.map(change_range)\n",
    "val_converted_ds = val_ds.map(change_range)\n",
    "test_converted_ds = test_ds.map(change_range)"
   ]
  },
  {
   "cell_type": "code",
   "execution_count": 56,
   "id": "3cf034fc",
   "metadata": {
    "ExecuteTime": {
     "end_time": "2024-06-10T18:29:27.691658Z",
     "start_time": "2024-06-10T18:29:27.679990Z"
    }
   },
   "outputs": [],
   "source": [
    "AUC = tf.keras.metrics.AUC(multi_label=True)"
   ]
  },
  {
   "cell_type": "code",
   "execution_count": 57,
   "id": "b4a425a5",
   "metadata": {
    "ExecuteTime": {
     "end_time": "2024-06-10T18:29:36.281908Z",
     "start_time": "2024-06-10T18:29:35.854594Z"
    }
   },
   "outputs": [],
   "source": [
    "mobile_net = tf.keras.applications.MobileNetV2(input_shape=(224, 224, 3), include_top=False)\n",
    "mobile_net.trainable=False"
   ]
  },
  {
   "cell_type": "code",
   "execution_count": 58,
   "id": "79adcab0",
   "metadata": {
    "ExecuteTime": {
     "end_time": "2024-06-10T18:29:49.598089Z",
     "start_time": "2024-06-10T18:29:49.437438Z"
    }
   },
   "outputs": [],
   "source": [
    "model = tf.keras.Sequential([\n",
    "  mobile_net,\n",
    "  tf.keras.layers.GlobalAveragePooling2D(),\n",
    "  tf.keras.layers.Dense(len(label_names), activation = 'sigmoid')])"
   ]
  },
  {
   "cell_type": "code",
   "execution_count": 61,
   "id": "07d71f03",
   "metadata": {
    "ExecuteTime": {
     "end_time": "2024-06-10T18:30:15.369870Z",
     "start_time": "2024-06-10T18:30:15.347766Z"
    }
   },
   "outputs": [],
   "source": [
    "from tensorflow.keras import optimizers\n",
    "model.compile(optimizer=optimizers.legacy.Adam(),\n",
    "              loss='binary_crossentropy',\n",
    "              metrics=[\"accuracy\", AUC])"
   ]
  },
  {
   "cell_type": "code",
   "execution_count": 62,
   "id": "833a968e",
   "metadata": {
    "ExecuteTime": {
     "end_time": "2024-06-10T18:30:24.680347Z",
     "start_time": "2024-06-10T18:30:24.652901Z"
    }
   },
   "outputs": [
    {
     "name": "stdout",
     "output_type": "stream",
     "text": [
      "Model: \"sequential\"\n",
      "_________________________________________________________________\n",
      " Layer (type)                Output Shape              Param #   \n",
      "=================================================================\n",
      " mobilenetv2_1.00_224 (Func  (None, 7, 7, 1280)        2257984   \n",
      " tional)                                                         \n",
      "                                                                 \n",
      " global_average_pooling2d (  (None, 1280)              0         \n",
      " GlobalAveragePooling2D)                                         \n",
      "                                                                 \n",
      " dense (Dense)               (None, 14)                17934     \n",
      "                                                                 \n",
      "=================================================================\n",
      "Total params: 2275918 (8.68 MB)\n",
      "Trainable params: 17934 (70.05 KB)\n",
      "Non-trainable params: 2257984 (8.61 MB)\n",
      "_________________________________________________________________\n"
     ]
    }
   ],
   "source": [
    "model.summary()"
   ]
  },
  {
   "cell_type": "code",
   "execution_count": 63,
   "id": "8b4b6f15",
   "metadata": {
    "ExecuteTime": {
     "end_time": "2024-06-10T18:31:03.401717Z",
     "start_time": "2024-06-10T18:31:03.391381Z"
    }
   },
   "outputs": [
    {
     "data": {
      "text/plain": [
       "968.0"
      ]
     },
     "execution_count": 63,
     "metadata": {},
     "output_type": "execute_result"
    }
   ],
   "source": [
    "STEPS_PER_EPOCH=tf.math.ceil(train_size/BATCH_SIZE).numpy() #alternative = len(all_image_paths)\n",
    "STEPS_PER_EPOCH"
   ]
  },
  {
   "cell_type": "code",
   "execution_count": 65,
   "id": "b23df2e5",
   "metadata": {
    "ExecuteTime": {
     "end_time": "2024-06-10T18:32:20.741267Z",
     "start_time": "2024-06-10T18:32:20.733435Z"
    }
   },
   "outputs": [
    {
     "data": {
      "text/plain": [
       "323.0"
      ]
     },
     "execution_count": 65,
     "metadata": {},
     "output_type": "execute_result"
    }
   ],
   "source": [
    "STEPS_PER_EPOCH_VAL=tf.math.ceil(val_size/BATCH_SIZE).numpy() #alternative = len(all_image_paths)\n",
    "STEPS_PER_EPOCH_VAL"
   ]
  },
  {
   "cell_type": "code",
   "execution_count": 68,
   "id": "d597359f",
   "metadata": {
    "ExecuteTime": {
     "end_time": "2024-06-10T18:39:47.161466Z",
     "start_time": "2024-06-10T18:39:47.154106Z"
    }
   },
   "outputs": [],
   "source": [
    "from tensorflow.keras.callbacks import EarlyStopping, ModelCheckpoint\n",
    "\n",
    "es = EarlyStopping(monitor='val_auc', #'val_multilabel_f1_score',  # the name of the metric will be its prefix + '_' + its function name\n",
    "                   mode='max',\n",
    "                   patience=3,\n",
    "                   verbose=1,\n",
    "                   restore_best_weights=True)\n",
    "\n",
    "model_checkpoint = ModelCheckpoint(filepath= os.path.join(data_dir, 'best_only_disease_model.keras'),\n",
    "                                   save_best_only=True,\n",
    "                                   monitor='val_auc')"
   ]
  },
  {
   "cell_type": "code",
   "execution_count": 69,
   "id": "501acb84",
   "metadata": {
    "ExecuteTime": {
     "end_time": "2024-06-10T19:04:36.307236Z",
     "start_time": "2024-06-10T18:39:48.878178Z"
    }
   },
   "outputs": [
    {
     "name": "stdout",
     "output_type": "stream",
     "text": [
      "Epoch 1/50\n",
      "968/968 [==============================] - 228s 236ms/step - loss: 0.2799 - accuracy: 0.3386 - auc: 0.7145 - val_loss: 0.2839 - val_accuracy: 0.3227 - val_auc: 0.6998\n",
      "Epoch 2/50\n",
      "968/968 [==============================] - 242s 250ms/step - loss: 0.2762 - accuracy: 0.3453 - auc: 0.7292 - val_loss: 0.2838 - val_accuracy: 0.3229 - val_auc: 0.7027\n",
      "Epoch 3/50\n",
      "968/968 [==============================] - 249s 257ms/step - loss: 0.2734 - accuracy: 0.3503 - auc: 0.7409 - val_loss: 0.2843 - val_accuracy: 0.3227 - val_auc: 0.7041\n",
      "Epoch 4/50\n",
      "968/968 [==============================] - 255s 264ms/step - loss: 0.2714 - accuracy: 0.3533 - auc: 0.7492 - val_loss: 0.2845 - val_accuracy: 0.3210 - val_auc: 0.7032\n",
      "Epoch 5/50\n",
      "968/968 [==============================] - 258s 266ms/step - loss: 0.2699 - accuracy: 0.3551 - auc: 0.7557 - val_loss: 0.2851 - val_accuracy: 0.3196 - val_auc: 0.7023\n",
      "Epoch 6/50\n",
      "968/968 [==============================] - ETA: 0s - loss: 0.2686 - accuracy: 0.3573 - auc: 0.7616Restoring model weights from the end of the best epoch: 3.\n",
      "968/968 [==============================] - 255s 263ms/step - loss: 0.2686 - accuracy: 0.3573 - auc: 0.7616 - val_loss: 0.2862 - val_accuracy: 0.3223 - val_auc: 0.7018\n",
      "Epoch 6: early stopping\n"
     ]
    }
   ],
   "source": [
    "EPOCHS = 50\n",
    "\n",
    "history = model.fit(train_converted_ds, \n",
    "                    validation_data=val_converted_ds, \n",
    "                    epochs=EPOCHS, \n",
    "                    steps_per_epoch=STEPS_PER_EPOCH, \n",
    "                    validation_steps=STEPS_PER_EPOCH_VAL,\n",
    "                    callbacks=[es, model_checkpoint])"
   ]
  },
  {
   "cell_type": "code",
   "execution_count": 70,
   "id": "ed06a721",
   "metadata": {
    "ExecuteTime": {
     "end_time": "2024-06-10T19:12:44.049227Z",
     "start_time": "2024-06-10T19:12:43.736650Z"
    }
   },
   "outputs": [],
   "source": [
    "from tensorflow.keras.models import save_model\n",
    "\n",
    "models_dir = '../models'\n",
    "\n",
    "# Ensure that the models directory exists\n",
    "os.makedirs(data_dir, exist_ok=True)\n",
    "\n",
    "\n",
    "# Save the trained model to the models directory\n",
    "save_model(model, os.path.join(data_dir, 'ADE_final_only_disease_model.keras'))"
   ]
  },
  {
   "cell_type": "code",
   "execution_count": 71,
   "id": "52abcc69",
   "metadata": {
    "ExecuteTime": {
     "end_time": "2024-06-10T19:12:45.405596Z",
     "start_time": "2024-06-10T19:12:45.397173Z"
    }
   },
   "outputs": [
    {
     "data": {
      "text/plain": [
       "323.0"
      ]
     },
     "execution_count": 71,
     "metadata": {},
     "output_type": "execute_result"
    }
   ],
   "source": [
    "STEPS_PER_EPOCH_TEST=tf.math.ceil(test_size/BATCH_SIZE).numpy() #alternative = len(all_image_paths)\n",
    "STEPS_PER_EPOCH_TEST"
   ]
  },
  {
   "cell_type": "code",
   "execution_count": 72,
   "id": "f3c30673",
   "metadata": {
    "ExecuteTime": {
     "end_time": "2024-06-10T19:13:56.962996Z",
     "start_time": "2024-06-10T19:12:46.148824Z"
    }
   },
   "outputs": [
    {
     "name": "stdout",
     "output_type": "stream",
     "text": [
      "Test AUC: 0.6927852630615234\n"
     ]
    }
   ],
   "source": [
    "results = model.evaluate(test_ds, steps=STEPS_PER_EPOCH_TEST, verbose=0)\n",
    "print(f\"Test AUC: {results[2]}\")"
   ]
  },
  {
   "cell_type": "code",
   "execution_count": 73,
   "id": "552d27bc",
   "metadata": {
    "ExecuteTime": {
     "end_time": "2024-06-10T19:13:57.035481Z",
     "start_time": "2024-06-10T19:13:57.031640Z"
    }
   },
   "outputs": [
    {
     "data": {
      "text/plain": [
       "[0.29043471813201904, 0.3114357590675354, 0.6927852630615234]"
      ]
     },
     "execution_count": 73,
     "metadata": {},
     "output_type": "execute_result"
    }
   ],
   "source": [
    "results"
   ]
  },
  {
   "cell_type": "code",
   "execution_count": null,
   "id": "203be737",
   "metadata": {},
   "outputs": [],
   "source": []
>>>>>>> master
  }
 ],
 "metadata": {
  "kernelspec": {
   "display_name": "Python 3 (ipykernel)",
   "language": "python",
   "name": "python3"
  },
  "language_info": {
   "codemirror_mode": {
    "name": "ipython",
    "version": 3
   },
   "file_extension": ".py",
   "mimetype": "text/x-python",
   "name": "python",
   "nbconvert_exporter": "python",
   "pygments_lexer": "ipython3",
   "version": "3.10.6"
  },
  "toc": {
   "base_numbering": 1,
   "nav_menu": {},
   "number_sections": true,
   "sideBar": true,
   "skip_h1_title": false,
   "title_cell": "Table of Contents",
   "title_sidebar": "Contents",
   "toc_cell": false,
   "toc_position": {
    "height": "calc(100% - 180px)",
    "left": "10px",
    "top": "150px",
    "width": "165px"
   },
   "toc_section_display": true,
   "toc_window_display": true
  },
  "varInspector": {
   "cols": {
    "lenName": 16,
    "lenType": 16,
    "lenVar": 40
   },
   "kernels_config": {
    "python": {
     "delete_cmd_postfix": "",
     "delete_cmd_prefix": "del ",
     "library": "var_list.py",
     "varRefreshCmd": "print(var_dic_list())"
    },
    "r": {
     "delete_cmd_postfix": ") ",
     "delete_cmd_prefix": "rm(",
     "library": "var_list.r",
     "varRefreshCmd": "cat(var_dic_list()) "
    }
   },
   "types_to_exclude": [
    "module",
    "function",
    "builtin_function_or_method",
    "instance",
    "_Feature"
   ],
   "window_display": false
  }
 },
 "nbformat": 4,
 "nbformat_minor": 5
}
